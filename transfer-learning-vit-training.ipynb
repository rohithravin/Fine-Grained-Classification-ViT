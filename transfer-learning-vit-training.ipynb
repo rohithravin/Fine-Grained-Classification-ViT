{
 "cells": [
  {
   "cell_type": "code",
   "execution_count": 73,
   "metadata": {},
   "outputs": [
    {
     "name": "stdout",
     "output_type": "stream",
     "text": [
      "The folder ./stanford-dog-dataset already exists.\n"
     ]
    }
   ],
   "source": [
    "import pandas as pd\n",
    "import os\n",
    "\n",
    "import warnings\n",
    "warnings.filterwarnings('ignore')\n",
    "\n",
    "import utils\n",
    "import datasets as cstm_dataset\n",
    "import config\n",
    "import trainvit\n",
    "import transferlearningvit\n",
    "\n",
    "import importlib\n",
    "importlib.reload(config)\n",
    "importlib.reload(utils)\n",
    "importlib.reload(cstm_dataset)\n",
    "importlib.reload(trainvit)\n",
    "importlib.reload(transferlearningvit)\n",
    "\n",
    "# download data\n",
    "utils.download_and_extract_tar(url = config.STANFORD_DOG_DATASET_URL, extract_to='.', rename_folder_to='stanford-dog-dataset')"
   ]
  },
  {
   "cell_type": "code",
   "execution_count": 74,
   "metadata": {},
   "outputs": [
    {
     "name": "stdout",
     "output_type": "stream",
     "text": [
      "Number of subfolders in './stanford-dog-dataset/': 120\n"
     ]
    }
   ],
   "source": [
    "def count_subfolders(root_dir):\n",
    "    count = 0\n",
    "    for root, dirs, files in os.walk(root_dir):\n",
    "        count += len(dirs)\n",
    "        break  # Only consider the immediate subfolders of the root directory\n",
    "    return count\n",
    "\n",
    "# Example usage\n",
    "root_directory = config.STANFORD_DOG_DATASET_LOCAL_PATH\n",
    "STANFORD_DOG_DATASET_NUM_CLASSES = count_subfolders(root_directory)\n",
    "DATASET = 'stanford_dog'\n",
    "print(f\"Number of subfolders in '{root_directory}': {STANFORD_DOG_DATASET_NUM_CLASSES}\")"
   ]
  },
  {
   "cell_type": "code",
   "execution_count": 78,
   "metadata": {},
   "outputs": [],
   "source": [
    "# Define model mapping\n",
    "model_mapping = {\n",
    "    \"deit_tiny_patch16_224\": \"facebook/deit-tiny-patch16-224\",\n",
    "    \"deit_small_patch16_224\": \"facebook/deit-small-patch16-224\",\n",
    "    \"deit_base_patch16_224\": \"facebook/deit-base-patch16-224\",\n",
    "    \"swin_tiny_patch4_window7_224\": \"microsoft/swin-tiny-patch4-window7-224\",\n",
    "    \"swin_small_patch4_window7_224\": \"microsoft/swin-small-patch4-window7-224\",\n",
    "    \"swin_base_patch4_window7_224\": \"microsoft/swin-base-patch4-window7-224\",\n",
    "    # \"vit_tiny_patch16_224\": \"google/vit-tiny-patch16-224\",\n",
    "    # \"vit_small_patch16_224\": \"google/vit-small-patch16-224\",\n",
    "    \"vit_base_patch16_224\": \"google/vit-base-patch16-224\",\n",
    "}"
   ]
  },
  {
   "cell_type": "code",
   "execution_count": 76,
   "metadata": {},
   "outputs": [],
   "source": [
    "def do_transfer_learning(model_name, num_epochs_ = 5, learning_rate_ = 4e-5, dataset_ = DATASET, num_labels_ = STANFORD_DOG_DATASET_NUM_CLASSES,\n",
    "                         batch_size_ = 256, train_pct_ = 0.8, val_pct_ = 0.10, resize_img = 224):\n",
    "    \n",
    "    model_checkpoint = model_mapping[model_name]\n",
    "    train_loader, val_loader, test_loader = cstm_dataset.create_dataset(model_checkpoint=model_checkpoint, batch_size_=batch_size_,  \n",
    "                                                                        train_pct=train_pct_, val_pct=val_pct_, resize_img=resize_img)\n",
    "    transferlearningvit.transfer_learning_pretrain_vit(model_checkpoint, train_loader, val_loader, test_loader, dataset = dataset_,\n",
    "                                                       num_labels_ = num_labels_, learning_rate = learning_rate_, num_epochs = num_epochs_)"
   ]
  },
  {
   "cell_type": "markdown",
   "metadata": {},
   "source": [
    "## Google's ViT"
   ]
  },
  {
   "cell_type": "code",
   "execution_count": null,
   "metadata": {},
   "outputs": [],
   "source": [
    "# User-specified model\n",
    "model_name = \"vit_base_patch16_224\"\n",
    "do_transfer_learning(model_name=model_name)\n"
   ]
  },
  {
   "cell_type": "markdown",
   "metadata": {},
   "source": [
    "## Facebook DEIT"
   ]
  },
  {
   "cell_type": "code",
   "execution_count": null,
   "metadata": {},
   "outputs": [],
   "source": [
    "# User-specified model\n",
    "model_name = \"deit_base_patch16_224\"  # Replace this with your desired model name\n",
    "do_transfer_learning(model_name=model_name)"
   ]
  },
  {
   "cell_type": "code",
   "execution_count": null,
   "metadata": {},
   "outputs": [],
   "source": [
    "# User-specified model\n",
    "model_name = \"deit_tiny_patch16_224\"  # Replace this with your desired model name\n",
    "do_transfer_learning(model_name=model_name)\n"
   ]
  },
  {
   "cell_type": "code",
   "execution_count": null,
   "metadata": {},
   "outputs": [],
   "source": [
    "# User-specified model\n",
    "model_name = \"deit_small_patch16_224\"  # Replace this with your desired model name\n",
    "do_transfer_learning(model_name=model_name)\n"
   ]
  },
  {
   "cell_type": "markdown",
   "metadata": {},
   "source": [
    "## Microsoft SWIN"
   ]
  },
  {
   "cell_type": "code",
   "execution_count": null,
   "metadata": {},
   "outputs": [],
   "source": [
    "# User-specified model\n",
    "model_name = \"swin_base_patch4_window7_224\"  # Replace this with your desired model name\n",
    "do_transfer_learning(model_name=model_name)\n"
   ]
  },
  {
   "cell_type": "code",
   "execution_count": null,
   "metadata": {},
   "outputs": [],
   "source": [
    "# User-specified model\n",
    "model_name = \"swin_small_patch4_window7_224\"  # Replace this with your desired model name\n",
    "do_transfer_learning(model_name=model_name)\n"
   ]
  },
  {
   "cell_type": "code",
   "execution_count": null,
   "metadata": {},
   "outputs": [],
   "source": [
    "# User-specified model\n",
    "model_name = \"swin_tiny_patch4_window7_224\"  # Replace this with your desired model name\n",
    "do_transfer_learning(model_name=model_name)\n"
   ]
  },
  {
   "cell_type": "code",
   "execution_count": null,
   "metadata": {},
   "outputs": [],
   "source": []
  }
 ],
 "metadata": {
  "kernelspec": {
   "display_name": "finegrainedclassifcation",
   "language": "python",
   "name": "python3"
  },
  "language_info": {
   "codemirror_mode": {
    "name": "ipython",
    "version": 3
   },
   "file_extension": ".py",
   "mimetype": "text/x-python",
   "name": "python",
   "nbconvert_exporter": "python",
   "pygments_lexer": "ipython3",
   "version": "3.10.13"
  }
 },
 "nbformat": 4,
 "nbformat_minor": 2
}
