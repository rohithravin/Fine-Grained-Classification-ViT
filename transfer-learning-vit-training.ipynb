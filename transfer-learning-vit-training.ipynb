{
 "cells": [
  {
   "cell_type": "code",
   "execution_count": 1,
   "metadata": {},
   "outputs": [
    {
     "name": "stdout",
     "output_type": "stream",
     "text": [
      "The folder ./stanford-dog-dataset already exists.\n"
     ]
    }
   ],
   "source": [
    "import os\n",
    "\n",
    "import warnings\n",
    "warnings.filterwarnings('ignore')\n",
    "\n",
    "import utils\n",
    "import datasets as cstm_dataset\n",
    "import config\n",
    "import trainvit\n",
    "import transferlearningvit\n",
    "\n",
    "import importlib\n",
    "importlib.reload(config)\n",
    "importlib.reload(utils)\n",
    "importlib.reload(cstm_dataset)\n",
    "importlib.reload(trainvit)\n",
    "importlib.reload(transferlearningvit)\n",
    "\n",
    "# download data\n",
    "utils.download_and_extract_tar(url = config.STANFORD_DOG_DATASET_URL, extract_to='.', rename_folder_to='stanford-dog-dataset')"
   ]
  },
  {
   "cell_type": "code",
   "execution_count": 2,
   "metadata": {},
   "outputs": [
    {
     "name": "stdout",
     "output_type": "stream",
     "text": [
      "Number of subfolders in './stanford-dog-dataset/': 120\n"
     ]
    }
   ],
   "source": [
    "def count_subfolders(root_dir):\n",
    "    count = 0\n",
    "    for root, dirs, files in os.walk(root_dir):\n",
    "        count += len(dirs)\n",
    "        break  # Only consider the immediate subfolders of the root directory\n",
    "    return count\n",
    "\n",
    "# Example usage\n",
    "root_directory = config.STANFORD_DOG_DATASET_LOCAL_PATH\n",
    "STANFORD_DOG_DATASET_NUM_CLASSES = count_subfolders(root_directory)\n",
    "DATASET = 'stanford_dog'\n",
    "print(f\"Number of subfolders in '{root_directory}': {STANFORD_DOG_DATASET_NUM_CLASSES}\")"
   ]
  },
  {
   "cell_type": "code",
   "execution_count": 3,
   "metadata": {},
   "outputs": [],
   "source": [
    "# Define model mapping\n",
    "model_mapping = {\n",
    "    \"deit_tiny_patch16_224\": \"facebook/deit-tiny-patch16-224\",\n",
    "    \"deit_small_patch16_224\": \"facebook/deit-small-patch16-224\",\n",
    "    \"deit_base_patch16_224\": \"facebook/deit-base-patch16-224\",\n",
    "    \"swin_tiny_patch4_window7_224\": \"microsoft/swin-tiny-patch4-window7-224\",\n",
    "    \"swin_small_patch4_window7_224\": \"microsoft/swin-small-patch4-window7-224\",\n",
    "    \"swin_base_patch4_window7_224\": \"microsoft/swin-base-patch4-window7-224\",\n",
    "    # \"vit_tiny_patch16_224\": \"google/vit-tiny-patch16-224\",\n",
    "    # \"vit_small_patch16_224\": \"google/vit-small-patch16-224\",\n",
    "    \"vit_base_patch16_224\": \"google/vit-base-patch16-224\",\n",
    "}"
   ]
  },
  {
   "cell_type": "code",
   "execution_count": 4,
   "metadata": {},
   "outputs": [],
   "source": [
    "def do_transfer_learning(model_name, num_epochs_ = 100, learning_rate_ = 4e-5, dataset_ = DATASET, num_labels_ = STANFORD_DOG_DATASET_NUM_CLASSES,\n",
    "                         batch_size_ = 256, train_pct_ = 0.8, val_pct_ = 0.10, resize_img = 224):\n",
    "    \n",
    "    model_checkpoint = model_mapping[model_name]\n",
    "    train_loader, val_loader, test_loader = cstm_dataset.create_dataset(model_checkpoint=model_checkpoint, batch_size_=batch_size_,  \n",
    "                                                                        train_pct=train_pct_, val_pct=val_pct_, resize_img=resize_img)\n",
    "    transferlearningvit.transfer_learning_pretrain_vit(model_checkpoint, train_loader, val_loader, test_loader, dataset = dataset_,\n",
    "                                                       num_labels_ = num_labels_, learning_rate = learning_rate_, num_epochs = num_epochs_)"
   ]
  },
  {
   "cell_type": "markdown",
   "metadata": {},
   "source": [
    "## Google's ViT"
   ]
  },
  {
   "cell_type": "code",
   "execution_count": 6,
   "metadata": {},
   "outputs": [
    {
     "name": "stdout",
     "output_type": "stream",
     "text": [
      "Train dataset size: 16464\n",
      "Validation dataset size: 2058\n",
      "Test dataset size: 2058\n",
      "MPS device found.\n",
      "Created folder: results/transferlearning/stanford_dog/vit-base-patch16-224\n",
      "Created folder: checkpoints/transferlearning/stanford_dog\n"
     ]
    },
    {
     "name": "stderr",
     "output_type": "stream",
     "text": [
      "Some weights of ViTModel were not initialized from the model checkpoint at google/vit-base-patch16-224 and are newly initialized: ['vit.pooler.dense.bias', 'vit.pooler.dense.weight']\n",
      "You should probably TRAIN this model on a down-stream task to be able to use it for predictions and inference.\n",
      "Training Epoch 1/100: 100%|██████████| 65/65 [05:59<00:00,  5.53s/batch]\n",
      "Validation Epoch 1/100: 100%|██████████| 9/9 [00:45<00:00,  5.00s/batch]\n"
     ]
    },
    {
     "name": "stdout",
     "output_type": "stream",
     "text": [
      "Epoch 1/100, Train Loss: 4.5324, Val Loss: 4.1708, Accuracy: 0.1880, Precision: 0.1722, Recall: 0.1880, F1 Score: 0.1534\n",
      "Validation loss decreased (inf --> 4.170788).  Saving model ...\n"
     ]
    },
    {
     "name": "stderr",
     "output_type": "stream",
     "text": [
      "Training Epoch 2/100: 100%|██████████| 65/65 [05:57<00:00,  5.50s/batch]\n",
      "Validation Epoch 2/100: 100%|██████████| 9/9 [00:44<00:00,  4.96s/batch]\n"
     ]
    },
    {
     "name": "stdout",
     "output_type": "stream",
     "text": [
      "Epoch 2/100, Train Loss: 3.8270, Val Loss: 3.4803, Accuracy: 0.5447, Precision: 0.5686, Recall: 0.5447, F1 Score: 0.5100\n",
      "Validation loss decreased (4.170788 --> 3.480333).  Saving model ...\n"
     ]
    },
    {
     "name": "stderr",
     "output_type": "stream",
     "text": [
      "Training Epoch 3/100: 100%|██████████| 65/65 [05:57<00:00,  5.50s/batch]\n",
      "Validation Epoch 3/100: 100%|██████████| 9/9 [00:44<00:00,  4.96s/batch]\n"
     ]
    },
    {
     "name": "stdout",
     "output_type": "stream",
     "text": [
      "Epoch 3/100, Train Loss: 3.1689, Val Loss: 2.8431, Accuracy: 0.7430, Precision: 0.7766, Recall: 0.7430, F1 Score: 0.7285\n",
      "Validation loss decreased (3.480333 --> 2.843090).  Saving model ...\n"
     ]
    },
    {
     "name": "stderr",
     "output_type": "stream",
     "text": [
      "Training Epoch 4/100: 100%|██████████| 65/65 [05:57<00:00,  5.50s/batch]\n",
      "Validation Epoch 4/100: 100%|██████████| 9/9 [00:44<00:00,  4.97s/batch]\n"
     ]
    },
    {
     "name": "stdout",
     "output_type": "stream",
     "text": [
      "Epoch 4/100, Train Loss: 2.5718, Val Loss: 2.2796, Accuracy: 0.8124, Precision: 0.8359, Recall: 0.8124, F1 Score: 0.8052\n",
      "Validation loss decreased (2.843090 --> 2.279591).  Saving model ...\n"
     ]
    },
    {
     "name": "stderr",
     "output_type": "stream",
     "text": [
      "Training Epoch 5/100: 100%|██████████| 65/65 [05:55<00:00,  5.46s/batch]\n",
      "Validation Epoch 5/100: 100%|██████████| 9/9 [00:44<00:00,  4.92s/batch]\n"
     ]
    },
    {
     "name": "stdout",
     "output_type": "stream",
     "text": [
      "Epoch 5/100, Train Loss: 2.0569, Val Loss: 1.8084, Accuracy: 0.8416, Precision: 0.8575, Recall: 0.8416, F1 Score: 0.8366\n",
      "Validation loss decreased (2.279591 --> 1.808408).  Saving model ...\n"
     ]
    },
    {
     "name": "stderr",
     "output_type": "stream",
     "text": [
      "Training Epoch 6/100: 100%|██████████| 65/65 [05:54<00:00,  5.45s/batch]\n",
      "Validation Epoch 6/100: 100%|██████████| 9/9 [00:44<00:00,  4.96s/batch]\n"
     ]
    },
    {
     "name": "stdout",
     "output_type": "stream",
     "text": [
      "Epoch 6/100, Train Loss: 1.6409, Val Loss: 1.4391, Accuracy: 0.8683, Precision: 0.8776, Recall: 0.8683, F1 Score: 0.8655\n",
      "Validation loss decreased (1.808408 --> 1.439106).  Saving model ...\n"
     ]
    },
    {
     "name": "stderr",
     "output_type": "stream",
     "text": [
      "Training Epoch 7/100: 100%|██████████| 65/65 [05:57<00:00,  5.50s/batch]\n",
      "Validation Epoch 7/100: 100%|██████████| 9/9 [00:44<00:00,  4.96s/batch]\n"
     ]
    },
    {
     "name": "stdout",
     "output_type": "stream",
     "text": [
      "Epoch 7/100, Train Loss: 1.3217, Val Loss: 1.1651, Accuracy: 0.8805, Precision: 0.8869, Recall: 0.8805, F1 Score: 0.8774\n",
      "Validation loss decreased (1.439106 --> 1.165059).  Saving model ...\n"
     ]
    },
    {
     "name": "stderr",
     "output_type": "stream",
     "text": [
      "Training Epoch 8/100: 100%|██████████| 65/65 [05:57<00:00,  5.50s/batch]\n",
      "Validation Epoch 8/100: 100%|██████████| 9/9 [00:44<00:00,  4.96s/batch]\n"
     ]
    },
    {
     "name": "stdout",
     "output_type": "stream",
     "text": [
      "Epoch 8/100, Train Loss: 1.0889, Val Loss: 0.9663, Accuracy: 0.8873, Precision: 0.8908, Recall: 0.8873, F1 Score: 0.8839\n",
      "Validation loss decreased (1.165059 --> 0.966295).  Saving model ...\n"
     ]
    },
    {
     "name": "stderr",
     "output_type": "stream",
     "text": [
      "Training Epoch 9/100: 100%|██████████| 65/65 [05:57<00:00,  5.51s/batch]\n",
      "Validation Epoch 9/100: 100%|██████████| 9/9 [00:44<00:00,  4.94s/batch]\n"
     ]
    },
    {
     "name": "stdout",
     "output_type": "stream",
     "text": [
      "Epoch 9/100, Train Loss: 0.9169, Val Loss: 0.8227, Accuracy: 0.8960, Precision: 0.9005, Recall: 0.8960, F1 Score: 0.8930\n",
      "Validation loss decreased (0.966295 --> 0.822689).  Saving model ...\n"
     ]
    },
    {
     "name": "stderr",
     "output_type": "stream",
     "text": [
      "Training Epoch 10/100: 100%|██████████| 65/65 [05:54<00:00,  5.45s/batch]\n",
      "Validation Epoch 10/100: 100%|██████████| 9/9 [00:44<00:00,  4.92s/batch]\n"
     ]
    },
    {
     "name": "stdout",
     "output_type": "stream",
     "text": [
      "Epoch 10/100, Train Loss: 0.7932, Val Loss: 0.7182, Accuracy: 0.8994, Precision: 0.9034, Recall: 0.8994, F1 Score: 0.8963\n",
      "Validation loss decreased (0.822689 --> 0.718200).  Saving model ...\n"
     ]
    },
    {
     "name": "stderr",
     "output_type": "stream",
     "text": [
      "Training Epoch 11/100: 100%|██████████| 65/65 [05:54<00:00,  5.45s/batch]\n",
      "Validation Epoch 11/100: 100%|██████████| 9/9 [00:44<00:00,  4.92s/batch]\n"
     ]
    },
    {
     "name": "stdout",
     "output_type": "stream",
     "text": [
      "Epoch 11/100, Train Loss: 0.7004, Val Loss: 0.6403, Accuracy: 0.9028, Precision: 0.9076, Recall: 0.9028, F1 Score: 0.9002\n",
      "Validation loss decreased (0.718200 --> 0.640326).  Saving model ...\n"
     ]
    },
    {
     "name": "stderr",
     "output_type": "stream",
     "text": [
      "Training Epoch 12/100: 100%|██████████| 65/65 [05:54<00:00,  5.45s/batch]\n",
      "Validation Epoch 12/100: 100%|██████████| 9/9 [00:44<00:00,  4.96s/batch]\n"
     ]
    },
    {
     "name": "stdout",
     "output_type": "stream",
     "text": [
      "Epoch 12/100, Train Loss: 0.6309, Val Loss: 0.5809, Accuracy: 0.9052, Precision: 0.9105, Recall: 0.9052, F1 Score: 0.9029\n",
      "Validation loss decreased (0.640326 --> 0.580860).  Saving model ...\n"
     ]
    },
    {
     "name": "stderr",
     "output_type": "stream",
     "text": [
      "Training Epoch 13/100: 100%|██████████| 65/65 [05:54<00:00,  5.46s/batch]\n",
      "Validation Epoch 13/100: 100%|██████████| 9/9 [00:44<00:00,  4.94s/batch]\n"
     ]
    },
    {
     "name": "stdout",
     "output_type": "stream",
     "text": [
      "Epoch 13/100, Train Loss: 0.5786, Val Loss: 0.5344, Accuracy: 0.9057, Precision: 0.9116, Recall: 0.9057, F1 Score: 0.9037\n",
      "Validation loss decreased (0.580860 --> 0.534422).  Saving model ...\n"
     ]
    },
    {
     "name": "stderr",
     "output_type": "stream",
     "text": [
      "Training Epoch 14/100: 100%|██████████| 65/65 [05:55<00:00,  5.47s/batch]\n",
      "Validation Epoch 14/100: 100%|██████████| 9/9 [00:44<00:00,  4.94s/batch]\n"
     ]
    },
    {
     "name": "stdout",
     "output_type": "stream",
     "text": [
      "Epoch 14/100, Train Loss: 0.5376, Val Loss: 0.4980, Accuracy: 0.9062, Precision: 0.9123, Recall: 0.9062, F1 Score: 0.9043\n",
      "Validation loss decreased (0.534422 --> 0.498001).  Saving model ...\n"
     ]
    },
    {
     "name": "stderr",
     "output_type": "stream",
     "text": [
      "Training Epoch 15/100: 100%|██████████| 65/65 [05:55<00:00,  5.46s/batch]\n",
      "Validation Epoch 15/100: 100%|██████████| 9/9 [00:44<00:00,  4.93s/batch]\n"
     ]
    },
    {
     "name": "stdout",
     "output_type": "stream",
     "text": [
      "Epoch 15/100, Train Loss: 0.5011, Val Loss: 0.4684, Accuracy: 0.9067, Precision: 0.9125, Recall: 0.9067, F1 Score: 0.9048\n",
      "Validation loss decreased (0.498001 --> 0.468386).  Saving model ...\n"
     ]
    },
    {
     "name": "stderr",
     "output_type": "stream",
     "text": [
      "Training Epoch 16/100: 100%|██████████| 65/65 [05:54<00:00,  5.46s/batch]\n",
      "Validation Epoch 16/100: 100%|██████████| 9/9 [00:44<00:00,  4.92s/batch]\n"
     ]
    },
    {
     "name": "stdout",
     "output_type": "stream",
     "text": [
      "Epoch 16/100, Train Loss: 0.4741, Val Loss: 0.4439, Accuracy: 0.9082, Precision: 0.9136, Recall: 0.9082, F1 Score: 0.9062\n",
      "Validation loss decreased (0.468386 --> 0.443892).  Saving model ...\n"
     ]
    },
    {
     "name": "stderr",
     "output_type": "stream",
     "text": [
      "Training Epoch 17/100: 100%|██████████| 65/65 [05:54<00:00,  5.45s/batch]\n",
      "Validation Epoch 17/100: 100%|██████████| 9/9 [00:44<00:00,  4.93s/batch]\n"
     ]
    },
    {
     "name": "stdout",
     "output_type": "stream",
     "text": [
      "Epoch 17/100, Train Loss: 0.4500, Val Loss: 0.4237, Accuracy: 0.9072, Precision: 0.9121, Recall: 0.9072, F1 Score: 0.9054\n",
      "Validation loss decreased (0.443892 --> 0.423657).  Saving model ...\n"
     ]
    },
    {
     "name": "stderr",
     "output_type": "stream",
     "text": [
      "Training Epoch 18/100: 100%|██████████| 65/65 [05:54<00:00,  5.46s/batch]\n",
      "Validation Epoch 18/100: 100%|██████████| 9/9 [00:44<00:00,  4.92s/batch]\n"
     ]
    },
    {
     "name": "stdout",
     "output_type": "stream",
     "text": [
      "Epoch 18/100, Train Loss: 0.4309, Val Loss: 0.4061, Accuracy: 0.9072, Precision: 0.9123, Recall: 0.9072, F1 Score: 0.9053\n",
      "Validation loss decreased (0.423657 --> 0.406108).  Saving model ...\n"
     ]
    },
    {
     "name": "stderr",
     "output_type": "stream",
     "text": [
      "Training Epoch 19/100: 100%|██████████| 65/65 [05:54<00:00,  5.45s/batch]\n",
      "Validation Epoch 19/100: 100%|██████████| 9/9 [00:44<00:00,  4.92s/batch]\n"
     ]
    },
    {
     "name": "stdout",
     "output_type": "stream",
     "text": [
      "Epoch 19/100, Train Loss: 0.4117, Val Loss: 0.3918, Accuracy: 0.9077, Precision: 0.9126, Recall: 0.9077, F1 Score: 0.9057\n",
      "Validation loss decreased (0.406108 --> 0.391803).  Saving model ...\n"
     ]
    },
    {
     "name": "stderr",
     "output_type": "stream",
     "text": [
      "Training Epoch 20/100: 100%|██████████| 65/65 [05:54<00:00,  5.45s/batch]\n",
      "Validation Epoch 20/100: 100%|██████████| 9/9 [00:44<00:00,  4.92s/batch]\n"
     ]
    },
    {
     "name": "stdout",
     "output_type": "stream",
     "text": [
      "Epoch 20/100, Train Loss: 0.3975, Val Loss: 0.3793, Accuracy: 0.9077, Precision: 0.9122, Recall: 0.9077, F1 Score: 0.9057\n",
      "Validation loss decreased (0.391803 --> 0.379327).  Saving model ...\n"
     ]
    },
    {
     "name": "stderr",
     "output_type": "stream",
     "text": [
      "Training Epoch 21/100: 100%|██████████| 65/65 [05:54<00:00,  5.45s/batch]\n",
      "Validation Epoch 21/100: 100%|██████████| 9/9 [00:44<00:00,  4.92s/batch]\n"
     ]
    },
    {
     "name": "stdout",
     "output_type": "stream",
     "text": [
      "Epoch 21/100, Train Loss: 0.3848, Val Loss: 0.3681, Accuracy: 0.9082, Precision: 0.9134, Recall: 0.9082, F1 Score: 0.9066\n",
      "Validation loss decreased (0.379327 --> 0.368069).  Saving model ...\n"
     ]
    },
    {
     "name": "stderr",
     "output_type": "stream",
     "text": [
      "Training Epoch 22/100: 100%|██████████| 65/65 [05:54<00:00,  5.45s/batch]\n",
      "Validation Epoch 22/100: 100%|██████████| 9/9 [00:44<00:00,  4.92s/batch]\n"
     ]
    },
    {
     "name": "stdout",
     "output_type": "stream",
     "text": [
      "Epoch 22/100, Train Loss: 0.3720, Val Loss: 0.3587, Accuracy: 0.9091, Precision: 0.9146, Recall: 0.9091, F1 Score: 0.9076\n",
      "Validation loss decreased (0.368069 --> 0.358740).  Saving model ...\n"
     ]
    },
    {
     "name": "stderr",
     "output_type": "stream",
     "text": [
      "Training Epoch 23/100: 100%|██████████| 65/65 [05:54<00:00,  5.46s/batch]\n",
      "Validation Epoch 23/100: 100%|██████████| 9/9 [00:44<00:00,  4.92s/batch]\n"
     ]
    },
    {
     "name": "stdout",
     "output_type": "stream",
     "text": [
      "Epoch 23/100, Train Loss: 0.3615, Val Loss: 0.3503, Accuracy: 0.9086, Precision: 0.9138, Recall: 0.9086, F1 Score: 0.9072\n",
      "Validation loss decreased (0.358740 --> 0.350301).  Saving model ...\n"
     ]
    },
    {
     "name": "stderr",
     "output_type": "stream",
     "text": [
      "Training Epoch 24/100: 100%|██████████| 65/65 [05:56<00:00,  5.49s/batch]\n",
      "Validation Epoch 24/100: 100%|██████████| 9/9 [00:44<00:00,  4.97s/batch]\n"
     ]
    },
    {
     "name": "stdout",
     "output_type": "stream",
     "text": [
      "Epoch 24/100, Train Loss: 0.3524, Val Loss: 0.3431, Accuracy: 0.9106, Precision: 0.9160, Recall: 0.9106, F1 Score: 0.9091\n",
      "Validation loss decreased (0.350301 --> 0.343073).  Saving model ...\n"
     ]
    },
    {
     "name": "stderr",
     "output_type": "stream",
     "text": [
      "Training Epoch 25/100: 100%|██████████| 65/65 [05:57<00:00,  5.50s/batch]\n",
      "Validation Epoch 25/100: 100%|██████████| 9/9 [00:44<00:00,  4.92s/batch]\n"
     ]
    },
    {
     "name": "stdout",
     "output_type": "stream",
     "text": [
      "Epoch 25/100, Train Loss: 0.3443, Val Loss: 0.3362, Accuracy: 0.9096, Precision: 0.9149, Recall: 0.9096, F1 Score: 0.9080\n",
      "Validation loss decreased (0.343073 --> 0.336161).  Saving model ...\n"
     ]
    },
    {
     "name": "stderr",
     "output_type": "stream",
     "text": [
      "Training Epoch 26/100: 100%|██████████| 65/65 [05:54<00:00,  5.45s/batch]\n",
      "Validation Epoch 26/100: 100%|██████████| 9/9 [00:44<00:00,  4.92s/batch]\n"
     ]
    },
    {
     "name": "stdout",
     "output_type": "stream",
     "text": [
      "Epoch 26/100, Train Loss: 0.3362, Val Loss: 0.3305, Accuracy: 0.9106, Precision: 0.9163, Recall: 0.9106, F1 Score: 0.9091\n",
      "Validation loss decreased (0.336161 --> 0.330465).  Saving model ...\n"
     ]
    },
    {
     "name": "stderr",
     "output_type": "stream",
     "text": [
      "Training Epoch 27/100: 100%|██████████| 65/65 [05:54<00:00,  5.45s/batch]\n",
      "Validation Epoch 27/100: 100%|██████████| 9/9 [00:44<00:00,  4.93s/batch]\n"
     ]
    },
    {
     "name": "stdout",
     "output_type": "stream",
     "text": [
      "Epoch 27/100, Train Loss: 0.3298, Val Loss: 0.3249, Accuracy: 0.9086, Precision: 0.9135, Recall: 0.9086, F1 Score: 0.9072\n",
      "Validation loss decreased (0.330465 --> 0.324908).  Saving model ...\n"
     ]
    },
    {
     "name": "stderr",
     "output_type": "stream",
     "text": [
      "Training Epoch 28/100: 100%|██████████| 65/65 [05:56<00:00,  5.49s/batch]\n",
      "Validation Epoch 28/100: 100%|██████████| 9/9 [00:44<00:00,  4.95s/batch]\n"
     ]
    },
    {
     "name": "stdout",
     "output_type": "stream",
     "text": [
      "Epoch 28/100, Train Loss: 0.3208, Val Loss: 0.3203, Accuracy: 0.9091, Precision: 0.9143, Recall: 0.9091, F1 Score: 0.9077\n",
      "Validation loss decreased (0.324908 --> 0.320341).  Saving model ...\n"
     ]
    },
    {
     "name": "stderr",
     "output_type": "stream",
     "text": [
      "Training Epoch 29/100: 100%|██████████| 65/65 [05:56<00:00,  5.49s/batch]\n",
      "Validation Epoch 29/100: 100%|██████████| 9/9 [00:44<00:00,  4.95s/batch]\n"
     ]
    },
    {
     "name": "stdout",
     "output_type": "stream",
     "text": [
      "Epoch 29/100, Train Loss: 0.3135, Val Loss: 0.3160, Accuracy: 0.9111, Precision: 0.9164, Recall: 0.9111, F1 Score: 0.9096\n",
      "Validation loss decreased (0.320341 --> 0.316025).  Saving model ...\n"
     ]
    },
    {
     "name": "stderr",
     "output_type": "stream",
     "text": [
      "Training Epoch 30/100: 100%|██████████| 65/65 [05:56<00:00,  5.49s/batch]\n",
      "Validation Epoch 30/100: 100%|██████████| 9/9 [00:44<00:00,  4.95s/batch]\n"
     ]
    },
    {
     "name": "stdout",
     "output_type": "stream",
     "text": [
      "Epoch 30/100, Train Loss: 0.3083, Val Loss: 0.3119, Accuracy: 0.9101, Precision: 0.9151, Recall: 0.9101, F1 Score: 0.9087\n",
      "Validation loss decreased (0.316025 --> 0.311931).  Saving model ...\n"
     ]
    },
    {
     "name": "stderr",
     "output_type": "stream",
     "text": [
      "Training Epoch 31/100: 100%|██████████| 65/65 [05:56<00:00,  5.49s/batch]\n",
      "Validation Epoch 31/100: 100%|██████████| 9/9 [00:44<00:00,  4.95s/batch]\n"
     ]
    },
    {
     "name": "stdout",
     "output_type": "stream",
     "text": [
      "Epoch 31/100, Train Loss: 0.3044, Val Loss: 0.3084, Accuracy: 0.9106, Precision: 0.9157, Recall: 0.9106, F1 Score: 0.9092\n",
      "Validation loss decreased (0.311931 --> 0.308412).  Saving model ...\n"
     ]
    },
    {
     "name": "stderr",
     "output_type": "stream",
     "text": [
      "Training Epoch 32/100: 100%|██████████| 65/65 [05:56<00:00,  5.49s/batch]\n",
      "Validation Epoch 32/100: 100%|██████████| 9/9 [00:44<00:00,  4.96s/batch]\n"
     ]
    },
    {
     "name": "stdout",
     "output_type": "stream",
     "text": [
      "Epoch 32/100, Train Loss: 0.2990, Val Loss: 0.3052, Accuracy: 0.9101, Precision: 0.9151, Recall: 0.9101, F1 Score: 0.9087\n",
      "Validation loss decreased (0.308412 --> 0.305166).  Saving model ...\n"
     ]
    },
    {
     "name": "stderr",
     "output_type": "stream",
     "text": [
      "Training Epoch 33/100: 100%|██████████| 65/65 [05:56<00:00,  5.49s/batch]\n",
      "Validation Epoch 33/100: 100%|██████████| 9/9 [00:44<00:00,  4.95s/batch]\n"
     ]
    },
    {
     "name": "stdout",
     "output_type": "stream",
     "text": [
      "Epoch 33/100, Train Loss: 0.2937, Val Loss: 0.3023, Accuracy: 0.9106, Precision: 0.9153, Recall: 0.9106, F1 Score: 0.9093\n",
      "Validation loss decreased (0.305166 --> 0.302339).  Saving model ...\n"
     ]
    },
    {
     "name": "stderr",
     "output_type": "stream",
     "text": [
      "Training Epoch 34/100: 100%|██████████| 65/65 [05:56<00:00,  5.49s/batch]\n",
      "Validation Epoch 34/100: 100%|██████████| 9/9 [00:44<00:00,  4.95s/batch]\n"
     ]
    },
    {
     "name": "stdout",
     "output_type": "stream",
     "text": [
      "Epoch 34/100, Train Loss: 0.2900, Val Loss: 0.2996, Accuracy: 0.9106, Precision: 0.9156, Recall: 0.9106, F1 Score: 0.9094\n",
      "Validation loss decreased (0.302339 --> 0.299565).  Saving model ...\n"
     ]
    },
    {
     "name": "stderr",
     "output_type": "stream",
     "text": [
      "Training Epoch 35/100: 100%|██████████| 65/65 [05:56<00:00,  5.49s/batch]\n",
      "Validation Epoch 35/100: 100%|██████████| 9/9 [00:44<00:00,  4.95s/batch]\n"
     ]
    },
    {
     "name": "stdout",
     "output_type": "stream",
     "text": [
      "Epoch 35/100, Train Loss: 0.2847, Val Loss: 0.2971, Accuracy: 0.9111, Precision: 0.9163, Recall: 0.9111, F1 Score: 0.9098\n",
      "Validation loss decreased (0.299565 --> 0.297149).  Saving model ...\n"
     ]
    },
    {
     "name": "stderr",
     "output_type": "stream",
     "text": [
      "Training Epoch 36/100: 100%|██████████| 65/65 [05:56<00:00,  5.49s/batch]\n",
      "Validation Epoch 36/100: 100%|██████████| 9/9 [00:44<00:00,  4.95s/batch]\n"
     ]
    },
    {
     "name": "stdout",
     "output_type": "stream",
     "text": [
      "Epoch 36/100, Train Loss: 0.2794, Val Loss: 0.2947, Accuracy: 0.9101, Precision: 0.9148, Recall: 0.9101, F1 Score: 0.9089\n",
      "Validation loss decreased (0.297149 --> 0.294725).  Saving model ...\n"
     ]
    },
    {
     "name": "stderr",
     "output_type": "stream",
     "text": [
      "Training Epoch 37/100: 100%|██████████| 65/65 [05:56<00:00,  5.49s/batch]\n",
      "Validation Epoch 37/100: 100%|██████████| 9/9 [00:44<00:00,  4.95s/batch]\n"
     ]
    },
    {
     "name": "stdout",
     "output_type": "stream",
     "text": [
      "Epoch 37/100, Train Loss: 0.2761, Val Loss: 0.2927, Accuracy: 0.9096, Precision: 0.9146, Recall: 0.9096, F1 Score: 0.9085\n",
      "Validation loss decreased (0.294725 --> 0.292665).  Saving model ...\n"
     ]
    },
    {
     "name": "stderr",
     "output_type": "stream",
     "text": [
      "Training Epoch 38/100: 100%|██████████| 65/65 [05:56<00:00,  5.49s/batch]\n",
      "Validation Epoch 38/100: 100%|██████████| 9/9 [00:44<00:00,  4.96s/batch]\n"
     ]
    },
    {
     "name": "stdout",
     "output_type": "stream",
     "text": [
      "Epoch 38/100, Train Loss: 0.2739, Val Loss: 0.2905, Accuracy: 0.9091, Precision: 0.9139, Recall: 0.9091, F1 Score: 0.9078\n",
      "Validation loss decreased (0.292665 --> 0.290547).  Saving model ...\n"
     ]
    },
    {
     "name": "stderr",
     "output_type": "stream",
     "text": [
      "Training Epoch 39/100: 100%|██████████| 65/65 [05:56<00:00,  5.49s/batch]\n",
      "Validation Epoch 39/100: 100%|██████████| 9/9 [00:44<00:00,  4.95s/batch]\n"
     ]
    },
    {
     "name": "stdout",
     "output_type": "stream",
     "text": [
      "Epoch 39/100, Train Loss: 0.2696, Val Loss: 0.2889, Accuracy: 0.9101, Precision: 0.9149, Recall: 0.9101, F1 Score: 0.9091\n",
      "Validation loss decreased (0.290547 --> 0.288912).  Saving model ...\n"
     ]
    },
    {
     "name": "stderr",
     "output_type": "stream",
     "text": [
      "Training Epoch 40/100: 100%|██████████| 65/65 [05:56<00:00,  5.49s/batch]\n",
      "Validation Epoch 40/100: 100%|██████████| 9/9 [00:44<00:00,  4.95s/batch]\n"
     ]
    },
    {
     "name": "stdout",
     "output_type": "stream",
     "text": [
      "Epoch 40/100, Train Loss: 0.2652, Val Loss: 0.2868, Accuracy: 0.9101, Precision: 0.9146, Recall: 0.9101, F1 Score: 0.9092\n",
      "Validation loss decreased (0.288912 --> 0.286762).  Saving model ...\n"
     ]
    },
    {
     "name": "stderr",
     "output_type": "stream",
     "text": [
      "Training Epoch 41/100: 100%|██████████| 65/65 [05:56<00:00,  5.49s/batch]\n",
      "Validation Epoch 41/100: 100%|██████████| 9/9 [00:44<00:00,  4.96s/batch]\n"
     ]
    },
    {
     "name": "stdout",
     "output_type": "stream",
     "text": [
      "Epoch 41/100, Train Loss: 0.2613, Val Loss: 0.2857, Accuracy: 0.9106, Precision: 0.9151, Recall: 0.9106, F1 Score: 0.9095\n",
      "Validation loss decreased (0.286762 --> 0.285670).  Saving model ...\n"
     ]
    },
    {
     "name": "stderr",
     "output_type": "stream",
     "text": [
      "Training Epoch 42/100: 100%|██████████| 65/65 [05:56<00:00,  5.49s/batch]\n",
      "Validation Epoch 42/100: 100%|██████████| 9/9 [00:44<00:00,  4.96s/batch]\n"
     ]
    },
    {
     "name": "stdout",
     "output_type": "stream",
     "text": [
      "Epoch 42/100, Train Loss: 0.2597, Val Loss: 0.2841, Accuracy: 0.9096, Precision: 0.9142, Recall: 0.9096, F1 Score: 0.9084\n",
      "Validation loss decreased (0.285670 --> 0.284149).  Saving model ...\n"
     ]
    },
    {
     "name": "stderr",
     "output_type": "stream",
     "text": [
      "Training Epoch 43/100: 100%|██████████| 65/65 [05:56<00:00,  5.49s/batch]\n",
      "Validation Epoch 43/100: 100%|██████████| 9/9 [00:44<00:00,  4.95s/batch]\n"
     ]
    },
    {
     "name": "stdout",
     "output_type": "stream",
     "text": [
      "Epoch 43/100, Train Loss: 0.2557, Val Loss: 0.2826, Accuracy: 0.9101, Precision: 0.9148, Recall: 0.9101, F1 Score: 0.9091\n",
      "Validation loss decreased (0.284149 --> 0.282562).  Saving model ...\n"
     ]
    },
    {
     "name": "stderr",
     "output_type": "stream",
     "text": [
      "Training Epoch 44/100: 100%|██████████| 65/65 [05:56<00:00,  5.49s/batch]\n",
      "Validation Epoch 44/100: 100%|██████████| 9/9 [00:44<00:00,  4.95s/batch]\n"
     ]
    },
    {
     "name": "stdout",
     "output_type": "stream",
     "text": [
      "Epoch 44/100, Train Loss: 0.2526, Val Loss: 0.2814, Accuracy: 0.9101, Precision: 0.9147, Recall: 0.9101, F1 Score: 0.9093\n",
      "Validation loss decreased (0.282562 --> 0.281425).  Saving model ...\n"
     ]
    },
    {
     "name": "stderr",
     "output_type": "stream",
     "text": [
      "Training Epoch 45/100: 100%|██████████| 65/65 [05:56<00:00,  5.49s/batch]\n",
      "Validation Epoch 45/100: 100%|██████████| 9/9 [00:44<00:00,  4.95s/batch]\n"
     ]
    },
    {
     "name": "stdout",
     "output_type": "stream",
     "text": [
      "Epoch 45/100, Train Loss: 0.2494, Val Loss: 0.2804, Accuracy: 0.9082, Precision: 0.9127, Recall: 0.9082, F1 Score: 0.9070\n",
      "Validation loss decreased (0.281425 --> 0.280423).  Saving model ...\n"
     ]
    },
    {
     "name": "stderr",
     "output_type": "stream",
     "text": [
      "Training Epoch 46/100: 100%|██████████| 65/65 [05:56<00:00,  5.49s/batch]\n",
      "Validation Epoch 46/100: 100%|██████████| 9/9 [00:44<00:00,  4.96s/batch]\n"
     ]
    },
    {
     "name": "stdout",
     "output_type": "stream",
     "text": [
      "Epoch 46/100, Train Loss: 0.2480, Val Loss: 0.2794, Accuracy: 0.9086, Precision: 0.9129, Recall: 0.9086, F1 Score: 0.9076\n",
      "Validation loss decreased (0.280423 --> 0.279394).  Saving model ...\n"
     ]
    },
    {
     "name": "stderr",
     "output_type": "stream",
     "text": [
      "Training Epoch 47/100: 100%|██████████| 65/65 [05:56<00:00,  5.49s/batch]\n",
      "Validation Epoch 47/100: 100%|██████████| 9/9 [00:44<00:00,  4.95s/batch]\n"
     ]
    },
    {
     "name": "stdout",
     "output_type": "stream",
     "text": [
      "Epoch 47/100, Train Loss: 0.2434, Val Loss: 0.2785, Accuracy: 0.9091, Precision: 0.9138, Recall: 0.9091, F1 Score: 0.9082\n",
      "Validation loss decreased (0.279394 --> 0.278493).  Saving model ...\n"
     ]
    },
    {
     "name": "stderr",
     "output_type": "stream",
     "text": [
      "Training Epoch 48/100: 100%|██████████| 65/65 [05:56<00:00,  5.49s/batch]\n",
      "Validation Epoch 48/100: 100%|██████████| 9/9 [00:44<00:00,  4.95s/batch]\n"
     ]
    },
    {
     "name": "stdout",
     "output_type": "stream",
     "text": [
      "Epoch 48/100, Train Loss: 0.2410, Val Loss: 0.2771, Accuracy: 0.9086, Precision: 0.9131, Recall: 0.9086, F1 Score: 0.9076\n",
      "Validation loss decreased (0.278493 --> 0.277113).  Saving model ...\n"
     ]
    },
    {
     "name": "stderr",
     "output_type": "stream",
     "text": [
      "Training Epoch 49/100: 100%|██████████| 65/65 [05:56<00:00,  5.49s/batch]\n",
      "Validation Epoch 49/100: 100%|██████████| 9/9 [00:44<00:00,  4.96s/batch]\n"
     ]
    },
    {
     "name": "stdout",
     "output_type": "stream",
     "text": [
      "Epoch 49/100, Train Loss: 0.2379, Val Loss: 0.2766, Accuracy: 0.9096, Precision: 0.9144, Recall: 0.9096, F1 Score: 0.9085\n",
      "Validation loss decreased (0.277113 --> 0.276608).  Saving model ...\n"
     ]
    },
    {
     "name": "stderr",
     "output_type": "stream",
     "text": [
      "Training Epoch 50/100: 100%|██████████| 65/65 [05:56<00:00,  5.49s/batch]\n",
      "Validation Epoch 50/100: 100%|██████████| 9/9 [00:44<00:00,  4.95s/batch]\n"
     ]
    },
    {
     "name": "stdout",
     "output_type": "stream",
     "text": [
      "Epoch 50/100, Train Loss: 0.2374, Val Loss: 0.2756, Accuracy: 0.9077, Precision: 0.9121, Recall: 0.9077, F1 Score: 0.9068\n",
      "Validation loss decreased (0.276608 --> 0.275573).  Saving model ...\n"
     ]
    },
    {
     "name": "stderr",
     "output_type": "stream",
     "text": [
      "Training Epoch 51/100: 100%|██████████| 65/65 [05:56<00:00,  5.49s/batch]\n",
      "Validation Epoch 51/100: 100%|██████████| 9/9 [00:44<00:00,  4.95s/batch]\n"
     ]
    },
    {
     "name": "stdout",
     "output_type": "stream",
     "text": [
      "Epoch 51/100, Train Loss: 0.2332, Val Loss: 0.2747, Accuracy: 0.9091, Precision: 0.9134, Recall: 0.9091, F1 Score: 0.9081\n",
      "Validation loss decreased (0.275573 --> 0.274725).  Saving model ...\n"
     ]
    },
    {
     "name": "stderr",
     "output_type": "stream",
     "text": [
      "Training Epoch 52/100: 100%|██████████| 65/65 [05:57<00:00,  5.49s/batch]\n",
      "Validation Epoch 52/100: 100%|██████████| 9/9 [00:44<00:00,  4.96s/batch]\n"
     ]
    },
    {
     "name": "stdout",
     "output_type": "stream",
     "text": [
      "Epoch 52/100, Train Loss: 0.2309, Val Loss: 0.2739, Accuracy: 0.9091, Precision: 0.9136, Recall: 0.9091, F1 Score: 0.9081\n",
      "Validation loss decreased (0.274725 --> 0.273907).  Saving model ...\n"
     ]
    },
    {
     "name": "stderr",
     "output_type": "stream",
     "text": [
      "Training Epoch 53/100: 100%|██████████| 65/65 [05:57<00:00,  5.49s/batch]\n",
      "Validation Epoch 53/100: 100%|██████████| 9/9 [00:44<00:00,  4.96s/batch]\n"
     ]
    },
    {
     "name": "stdout",
     "output_type": "stream",
     "text": [
      "Epoch 53/100, Train Loss: 0.2267, Val Loss: 0.2735, Accuracy: 0.9091, Precision: 0.9136, Recall: 0.9091, F1 Score: 0.9081\n",
      "Validation loss decreased (0.273907 --> 0.273547).  Saving model ...\n"
     ]
    },
    {
     "name": "stderr",
     "output_type": "stream",
     "text": [
      "Training Epoch 54/100: 100%|██████████| 65/65 [05:57<00:00,  5.49s/batch]\n",
      "Validation Epoch 54/100: 100%|██████████| 9/9 [00:44<00:00,  4.96s/batch]\n"
     ]
    },
    {
     "name": "stdout",
     "output_type": "stream",
     "text": [
      "Epoch 54/100, Train Loss: 0.2252, Val Loss: 0.2731, Accuracy: 0.9086, Precision: 0.9131, Recall: 0.9086, F1 Score: 0.9075\n",
      "Validation loss decreased (0.273547 --> 0.273077).  Saving model ...\n"
     ]
    },
    {
     "name": "stderr",
     "output_type": "stream",
     "text": [
      "Training Epoch 55/100: 100%|██████████| 65/65 [05:57<00:00,  5.49s/batch]\n",
      "Validation Epoch 55/100: 100%|██████████| 9/9 [00:44<00:00,  4.95s/batch]\n"
     ]
    },
    {
     "name": "stdout",
     "output_type": "stream",
     "text": [
      "Epoch 55/100, Train Loss: 0.2234, Val Loss: 0.2723, Accuracy: 0.9086, Precision: 0.9130, Recall: 0.9086, F1 Score: 0.9076\n",
      "Validation loss decreased (0.273077 --> 0.272295).  Saving model ...\n"
     ]
    },
    {
     "name": "stderr",
     "output_type": "stream",
     "text": [
      "Training Epoch 56/100: 100%|██████████| 65/65 [05:57<00:00,  5.49s/batch]\n",
      "Validation Epoch 56/100: 100%|██████████| 9/9 [00:44<00:00,  4.96s/batch]\n"
     ]
    },
    {
     "name": "stdout",
     "output_type": "stream",
     "text": [
      "Epoch 56/100, Train Loss: 0.2212, Val Loss: 0.2718, Accuracy: 0.9086, Precision: 0.9130, Recall: 0.9086, F1 Score: 0.9076\n",
      "Validation loss decreased (0.272295 --> 0.271764).  Saving model ...\n"
     ]
    },
    {
     "name": "stderr",
     "output_type": "stream",
     "text": [
      "Training Epoch 57/100: 100%|██████████| 65/65 [05:57<00:00,  5.49s/batch]\n",
      "Validation Epoch 57/100: 100%|██████████| 9/9 [00:44<00:00,  4.95s/batch]\n"
     ]
    },
    {
     "name": "stdout",
     "output_type": "stream",
     "text": [
      "Epoch 57/100, Train Loss: 0.2183, Val Loss: 0.2710, Accuracy: 0.9082, Precision: 0.9124, Recall: 0.9082, F1 Score: 0.9071\n",
      "Validation loss decreased (0.271764 --> 0.270982).  Saving model ...\n"
     ]
    },
    {
     "name": "stderr",
     "output_type": "stream",
     "text": [
      "Training Epoch 58/100: 100%|██████████| 65/65 [05:57<00:00,  5.49s/batch]\n",
      "Validation Epoch 58/100: 100%|██████████| 9/9 [00:44<00:00,  4.96s/batch]\n"
     ]
    },
    {
     "name": "stdout",
     "output_type": "stream",
     "text": [
      "Epoch 58/100, Train Loss: 0.2176, Val Loss: 0.2709, Accuracy: 0.9072, Precision: 0.9115, Recall: 0.9072, F1 Score: 0.9060\n",
      "Validation loss decreased (0.270982 --> 0.270910).  Saving model ...\n"
     ]
    },
    {
     "name": "stderr",
     "output_type": "stream",
     "text": [
      "Training Epoch 59/100: 100%|██████████| 65/65 [05:57<00:00,  5.49s/batch]\n",
      "Validation Epoch 59/100: 100%|██████████| 9/9 [00:44<00:00,  4.96s/batch]\n"
     ]
    },
    {
     "name": "stdout",
     "output_type": "stream",
     "text": [
      "Epoch 59/100, Train Loss: 0.2138, Val Loss: 0.2704, Accuracy: 0.9082, Precision: 0.9127, Recall: 0.9082, F1 Score: 0.9071\n",
      "Validation loss decreased (0.270910 --> 0.270404).  Saving model ...\n"
     ]
    },
    {
     "name": "stderr",
     "output_type": "stream",
     "text": [
      "Training Epoch 60/100: 100%|██████████| 65/65 [05:57<00:00,  5.50s/batch]\n",
      "Validation Epoch 60/100: 100%|██████████| 9/9 [00:44<00:00,  4.96s/batch]\n"
     ]
    },
    {
     "name": "stdout",
     "output_type": "stream",
     "text": [
      "Epoch 60/100, Train Loss: 0.2117, Val Loss: 0.2702, Accuracy: 0.9086, Precision: 0.9130, Recall: 0.9086, F1 Score: 0.9076\n",
      "Validation loss decreased (0.270404 --> 0.270182).  Saving model ...\n"
     ]
    },
    {
     "name": "stderr",
     "output_type": "stream",
     "text": [
      "Training Epoch 61/100: 100%|██████████| 65/65 [05:57<00:00,  5.50s/batch]\n",
      "Validation Epoch 61/100: 100%|██████████| 9/9 [00:44<00:00,  4.96s/batch]\n"
     ]
    },
    {
     "name": "stdout",
     "output_type": "stream",
     "text": [
      "Epoch 61/100, Train Loss: 0.2093, Val Loss: 0.2696, Accuracy: 0.9096, Precision: 0.9140, Recall: 0.9096, F1 Score: 0.9086\n",
      "Validation loss decreased (0.270182 --> 0.269556).  Saving model ...\n"
     ]
    },
    {
     "name": "stderr",
     "output_type": "stream",
     "text": [
      "Training Epoch 62/100: 100%|██████████| 65/65 [05:58<00:00,  5.51s/batch]\n",
      "Validation Epoch 62/100: 100%|██████████| 9/9 [00:44<00:00,  4.97s/batch]\n"
     ]
    },
    {
     "name": "stdout",
     "output_type": "stream",
     "text": [
      "Epoch 62/100, Train Loss: 0.2075, Val Loss: 0.2695, Accuracy: 0.9096, Precision: 0.9140, Recall: 0.9096, F1 Score: 0.9086\n",
      "Validation loss decreased (0.269556 --> 0.269500).  Saving model ...\n"
     ]
    },
    {
     "name": "stderr",
     "output_type": "stream",
     "text": [
      "Training Epoch 63/100: 100%|██████████| 65/65 [05:57<00:00,  5.50s/batch]\n",
      "Validation Epoch 63/100: 100%|██████████| 9/9 [00:44<00:00,  4.96s/batch]\n"
     ]
    },
    {
     "name": "stdout",
     "output_type": "stream",
     "text": [
      "Epoch 63/100, Train Loss: 0.2056, Val Loss: 0.2692, Accuracy: 0.9096, Precision: 0.9140, Recall: 0.9096, F1 Score: 0.9086\n",
      "Validation loss decreased (0.269500 --> 0.269221).  Saving model ...\n"
     ]
    },
    {
     "name": "stderr",
     "output_type": "stream",
     "text": [
      "Training Epoch 64/100: 100%|██████████| 65/65 [05:57<00:00,  5.50s/batch]\n",
      "Validation Epoch 64/100: 100%|██████████| 9/9 [00:44<00:00,  4.96s/batch]\n"
     ]
    },
    {
     "name": "stdout",
     "output_type": "stream",
     "text": [
      "Epoch 64/100, Train Loss: 0.2035, Val Loss: 0.2688, Accuracy: 0.9096, Precision: 0.9140, Recall: 0.9096, F1 Score: 0.9086\n",
      "Validation loss decreased (0.269221 --> 0.268829).  Saving model ...\n"
     ]
    },
    {
     "name": "stderr",
     "output_type": "stream",
     "text": [
      "Training Epoch 65/100: 100%|██████████| 65/65 [05:57<00:00,  5.50s/batch]\n",
      "Validation Epoch 65/100: 100%|██████████| 9/9 [00:44<00:00,  4.96s/batch]\n"
     ]
    },
    {
     "name": "stdout",
     "output_type": "stream",
     "text": [
      "Epoch 65/100, Train Loss: 0.2015, Val Loss: 0.2687, Accuracy: 0.9096, Precision: 0.9143, Recall: 0.9096, F1 Score: 0.9086\n",
      "Validation loss decreased (0.268829 --> 0.268739).  Saving model ...\n"
     ]
    },
    {
     "name": "stderr",
     "output_type": "stream",
     "text": [
      "Training Epoch 66/100: 100%|██████████| 65/65 [05:57<00:00,  5.49s/batch]\n",
      "Validation Epoch 66/100: 100%|██████████| 9/9 [00:44<00:00,  4.96s/batch]\n"
     ]
    },
    {
     "name": "stdout",
     "output_type": "stream",
     "text": [
      "Epoch 66/100, Train Loss: 0.2001, Val Loss: 0.2685, Accuracy: 0.9096, Precision: 0.9138, Recall: 0.9096, F1 Score: 0.9087\n",
      "Validation loss decreased (0.268739 --> 0.268530).  Saving model ...\n"
     ]
    },
    {
     "name": "stderr",
     "output_type": "stream",
     "text": [
      "Training Epoch 67/100: 100%|██████████| 65/65 [05:57<00:00,  5.50s/batch]\n",
      "Validation Epoch 67/100: 100%|██████████| 9/9 [00:44<00:00,  4.96s/batch]\n"
     ]
    },
    {
     "name": "stdout",
     "output_type": "stream",
     "text": [
      "Epoch 67/100, Train Loss: 0.1983, Val Loss: 0.2684, Accuracy: 0.9091, Precision: 0.9139, Recall: 0.9091, F1 Score: 0.9082\n",
      "Validation loss decreased (0.268530 --> 0.268367).  Saving model ...\n"
     ]
    },
    {
     "name": "stderr",
     "output_type": "stream",
     "text": [
      "Training Epoch 68/100: 100%|██████████| 65/65 [05:57<00:00,  5.50s/batch]\n",
      "Validation Epoch 68/100: 100%|██████████| 9/9 [00:44<00:00,  4.96s/batch]\n"
     ]
    },
    {
     "name": "stdout",
     "output_type": "stream",
     "text": [
      "Epoch 68/100, Train Loss: 0.1953, Val Loss: 0.2679, Accuracy: 0.9096, Precision: 0.9143, Recall: 0.9096, F1 Score: 0.9087\n",
      "Validation loss decreased (0.268367 --> 0.267917).  Saving model ...\n"
     ]
    },
    {
     "name": "stderr",
     "output_type": "stream",
     "text": [
      "Training Epoch 69/100: 100%|██████████| 65/65 [05:57<00:00,  5.50s/batch]\n",
      "Validation Epoch 69/100: 100%|██████████| 9/9 [00:44<00:00,  4.97s/batch]\n"
     ]
    },
    {
     "name": "stdout",
     "output_type": "stream",
     "text": [
      "Epoch 69/100, Train Loss: 0.1945, Val Loss: 0.2678, Accuracy: 0.9101, Precision: 0.9148, Recall: 0.9101, F1 Score: 0.9092\n",
      "Validation loss decreased (0.267917 --> 0.267824).  Saving model ...\n"
     ]
    },
    {
     "name": "stderr",
     "output_type": "stream",
     "text": [
      "Training Epoch 70/100: 100%|██████████| 65/65 [05:57<00:00,  5.50s/batch]\n",
      "Validation Epoch 70/100: 100%|██████████| 9/9 [00:45<00:00,  5.00s/batch]\n"
     ]
    },
    {
     "name": "stdout",
     "output_type": "stream",
     "text": [
      "Epoch 70/100, Train Loss: 0.1930, Val Loss: 0.2675, Accuracy: 0.9091, Precision: 0.9138, Recall: 0.9091, F1 Score: 0.9081\n",
      "Validation loss decreased (0.267824 --> 0.267547).  Saving model ...\n"
     ]
    },
    {
     "name": "stderr",
     "output_type": "stream",
     "text": [
      "Training Epoch 71/100: 100%|██████████| 65/65 [05:57<00:00,  5.50s/batch]\n",
      "Validation Epoch 71/100: 100%|██████████| 9/9 [00:44<00:00,  4.97s/batch]\n"
     ]
    },
    {
     "name": "stdout",
     "output_type": "stream",
     "text": [
      "Epoch 71/100, Train Loss: 0.1910, Val Loss: 0.2674, Accuracy: 0.9086, Precision: 0.9129, Recall: 0.9086, F1 Score: 0.9076\n",
      "Validation loss decreased (0.267547 --> 0.267440).  Saving model ...\n"
     ]
    },
    {
     "name": "stderr",
     "output_type": "stream",
     "text": [
      "Training Epoch 72/100: 100%|██████████| 65/65 [05:57<00:00,  5.50s/batch]\n",
      "Validation Epoch 72/100: 100%|██████████| 9/9 [00:44<00:00,  4.96s/batch]\n"
     ]
    },
    {
     "name": "stdout",
     "output_type": "stream",
     "text": [
      "Epoch 72/100, Train Loss: 0.1898, Val Loss: 0.2670, Accuracy: 0.9096, Precision: 0.9141, Recall: 0.9096, F1 Score: 0.9087\n",
      "Validation loss decreased (0.267440 --> 0.266959).  Saving model ...\n"
     ]
    },
    {
     "name": "stderr",
     "output_type": "stream",
     "text": [
      "Training Epoch 73/100: 100%|██████████| 65/65 [05:57<00:00,  5.50s/batch]\n",
      "Validation Epoch 73/100: 100%|██████████| 9/9 [00:44<00:00,  4.96s/batch]\n"
     ]
    },
    {
     "name": "stdout",
     "output_type": "stream",
     "text": [
      "Epoch 73/100, Train Loss: 0.1880, Val Loss: 0.2674, Accuracy: 0.9096, Precision: 0.9144, Recall: 0.9096, F1 Score: 0.9087\n",
      "EarlyStopping counter: 1 out of 3\n"
     ]
    },
    {
     "name": "stderr",
     "output_type": "stream",
     "text": [
      "Training Epoch 74/100: 100%|██████████| 65/65 [05:57<00:00,  5.50s/batch]\n",
      "Validation Epoch 74/100: 100%|██████████| 9/9 [00:44<00:00,  4.96s/batch]\n"
     ]
    },
    {
     "name": "stdout",
     "output_type": "stream",
     "text": [
      "Epoch 74/100, Train Loss: 0.1857, Val Loss: 0.2673, Accuracy: 0.9082, Precision: 0.9130, Recall: 0.9082, F1 Score: 0.9071\n",
      "EarlyStopping counter: 2 out of 3\n"
     ]
    },
    {
     "name": "stderr",
     "output_type": "stream",
     "text": [
      "Training Epoch 75/100: 100%|██████████| 65/65 [05:57<00:00,  5.50s/batch]\n",
      "Validation Epoch 75/100: 100%|██████████| 9/9 [00:44<00:00,  4.97s/batch]\n"
     ]
    },
    {
     "name": "stdout",
     "output_type": "stream",
     "text": [
      "Epoch 75/100, Train Loss: 0.1852, Val Loss: 0.2670, Accuracy: 0.9082, Precision: 0.9131, Recall: 0.9082, F1 Score: 0.9073\n",
      "EarlyStopping counter: 3 out of 3\n",
      "Early stopping\n"
     ]
    },
    {
     "name": "stderr",
     "output_type": "stream",
     "text": [
      "Testing: 100%|██████████| 9/9 [00:45<00:00,  5.04s/batch]"
     ]
    },
    {
     "name": "stdout",
     "output_type": "stream",
     "text": [
      "Test Loss: 0.3243, Accuracy: 0.9057, Precision: 0.9093, Recall: 0.9057, F1 Score: 0.9050\n"
     ]
    },
    {
     "name": "stderr",
     "output_type": "stream",
     "text": [
      "\n"
     ]
    }
   ],
   "source": [
    "# User-specified model\n",
    "# 502m 32.4s\n",
    "model_name = \"vit_base_patch16_224\"\n",
    "do_transfer_learning(model_name=model_name)\n"
   ]
  },
  {
   "cell_type": "markdown",
   "metadata": {},
   "source": [
    "## Facebook DEIT"
   ]
  },
  {
   "cell_type": "code",
   "execution_count": 7,
   "metadata": {},
   "outputs": [
    {
     "name": "stdout",
     "output_type": "stream",
     "text": [
      "Train dataset size: 16464\n",
      "Validation dataset size: 2058\n",
      "Test dataset size: 2058\n",
      "MPS device found.\n",
      "Created folder: results/transferlearning/stanford_dog/deit-base-patch16-224\n",
      "Folder already exists: checkpoints/transferlearning/stanford_dog\n"
     ]
    },
    {
     "name": "stderr",
     "output_type": "stream",
     "text": [
      "Some weights of ViTModel were not initialized from the model checkpoint at facebook/deit-base-patch16-224 and are newly initialized: ['vit.pooler.dense.bias', 'vit.pooler.dense.weight']\n",
      "You should probably TRAIN this model on a down-stream task to be able to use it for predictions and inference.\n",
      "Training Epoch 1/100: 100%|██████████| 65/65 [05:58<00:00,  5.52s/batch]\n",
      "Validation Epoch 1/100: 100%|██████████| 9/9 [00:44<00:00,  4.98s/batch]\n"
     ]
    },
    {
     "name": "stdout",
     "output_type": "stream",
     "text": [
      "Epoch 1/100, Train Loss: 4.6776, Val Loss: 4.5147, Accuracy: 0.0787, Precision: 0.1087, Recall: 0.0787, F1 Score: 0.0735\n",
      "Validation loss decreased (inf --> 4.514667).  Saving model ...\n"
     ]
    },
    {
     "name": "stderr",
     "output_type": "stream",
     "text": [
      "Training Epoch 2/100: 100%|██████████| 65/65 [05:58<00:00,  5.52s/batch]\n",
      "Validation Epoch 2/100: 100%|██████████| 9/9 [00:44<00:00,  4.98s/batch]\n"
     ]
    },
    {
     "name": "stdout",
     "output_type": "stream",
     "text": [
      "Epoch 2/100, Train Loss: 4.3462, Val Loss: 4.1902, Accuracy: 0.4159, Precision: 0.4678, Recall: 0.4159, F1 Score: 0.3956\n",
      "Validation loss decreased (4.514667 --> 4.190213).  Saving model ...\n"
     ]
    },
    {
     "name": "stderr",
     "output_type": "stream",
     "text": [
      "Training Epoch 3/100: 100%|██████████| 65/65 [05:58<00:00,  5.52s/batch]\n",
      "Validation Epoch 3/100: 100%|██████████| 9/9 [00:44<00:00,  4.99s/batch]\n"
     ]
    },
    {
     "name": "stdout",
     "output_type": "stream",
     "text": [
      "Epoch 3/100, Train Loss: 4.0236, Val Loss: 3.8731, Accuracy: 0.6720, Precision: 0.6894, Recall: 0.6720, F1 Score: 0.6471\n",
      "Validation loss decreased (4.190213 --> 3.873148).  Saving model ...\n"
     ]
    },
    {
     "name": "stderr",
     "output_type": "stream",
     "text": [
      "Training Epoch 4/100: 100%|██████████| 65/65 [05:58<00:00,  5.52s/batch]\n",
      "Validation Epoch 4/100: 100%|██████████| 9/9 [00:44<00:00,  4.99s/batch]\n"
     ]
    },
    {
     "name": "stdout",
     "output_type": "stream",
     "text": [
      "Epoch 4/100, Train Loss: 3.7076, Val Loss: 3.5646, Accuracy: 0.7794, Precision: 0.7993, Recall: 0.7794, F1 Score: 0.7635\n",
      "Validation loss decreased (3.873148 --> 3.564596).  Saving model ...\n"
     ]
    },
    {
     "name": "stderr",
     "output_type": "stream",
     "text": [
      "Training Epoch 5/100: 100%|██████████| 65/65 [05:58<00:00,  5.52s/batch]\n",
      "Validation Epoch 5/100: 100%|██████████| 9/9 [00:44<00:00,  4.99s/batch]\n"
     ]
    },
    {
     "name": "stdout",
     "output_type": "stream",
     "text": [
      "Epoch 5/100, Train Loss: 3.4008, Val Loss: 3.2647, Accuracy: 0.8241, Precision: 0.8378, Recall: 0.8241, F1 Score: 0.8105\n",
      "Validation loss decreased (3.564596 --> 3.264732).  Saving model ...\n"
     ]
    },
    {
     "name": "stderr",
     "output_type": "stream",
     "text": [
      "Training Epoch 6/100: 100%|██████████| 65/65 [05:58<00:00,  5.51s/batch]\n",
      "Validation Epoch 6/100: 100%|██████████| 9/9 [00:44<00:00,  4.99s/batch]\n"
     ]
    },
    {
     "name": "stdout",
     "output_type": "stream",
     "text": [
      "Epoch 6/100, Train Loss: 3.1029, Val Loss: 2.9767, Accuracy: 0.8518, Precision: 0.8591, Recall: 0.8518, F1 Score: 0.8424\n",
      "Validation loss decreased (3.264732 --> 2.976732).  Saving model ...\n"
     ]
    },
    {
     "name": "stderr",
     "output_type": "stream",
     "text": [
      "Training Epoch 7/100: 100%|██████████| 65/65 [05:58<00:00,  5.52s/batch]\n",
      "Validation Epoch 7/100: 100%|██████████| 9/9 [00:44<00:00,  4.99s/batch]\n"
     ]
    },
    {
     "name": "stdout",
     "output_type": "stream",
     "text": [
      "Epoch 7/100, Train Loss: 2.8198, Val Loss: 2.7000, Accuracy: 0.8669, Precision: 0.8732, Recall: 0.8669, F1 Score: 0.8574\n",
      "Validation loss decreased (2.976732 --> 2.700048).  Saving model ...\n"
     ]
    },
    {
     "name": "stderr",
     "output_type": "stream",
     "text": [
      "Training Epoch 8/100: 100%|██████████| 65/65 [05:58<00:00,  5.52s/batch]\n",
      "Validation Epoch 8/100: 100%|██████████| 9/9 [00:44<00:00,  4.99s/batch]\n"
     ]
    },
    {
     "name": "stdout",
     "output_type": "stream",
     "text": [
      "Epoch 8/100, Train Loss: 2.5485, Val Loss: 2.4377, Accuracy: 0.8741, Precision: 0.8765, Recall: 0.8741, F1 Score: 0.8649\n",
      "Validation loss decreased (2.700048 --> 2.437700).  Saving model ...\n"
     ]
    },
    {
     "name": "stderr",
     "output_type": "stream",
     "text": [
      "Training Epoch 9/100: 100%|██████████| 65/65 [05:58<00:00,  5.52s/batch]\n",
      "Validation Epoch 9/100: 100%|██████████| 9/9 [00:44<00:00,  4.99s/batch]\n"
     ]
    },
    {
     "name": "stdout",
     "output_type": "stream",
     "text": [
      "Epoch 9/100, Train Loss: 2.2940, Val Loss: 2.1947, Accuracy: 0.8805, Precision: 0.8823, Recall: 0.8805, F1 Score: 0.8712\n",
      "Validation loss decreased (2.437700 --> 2.194709).  Saving model ...\n"
     ]
    },
    {
     "name": "stderr",
     "output_type": "stream",
     "text": [
      "Training Epoch 10/100: 100%|██████████| 65/65 [05:58<00:00,  5.51s/batch]\n",
      "Validation Epoch 10/100: 100%|██████████| 9/9 [00:44<00:00,  4.99s/batch]\n"
     ]
    },
    {
     "name": "stdout",
     "output_type": "stream",
     "text": [
      "Epoch 10/100, Train Loss: 2.0580, Val Loss: 1.9698, Accuracy: 0.8858, Precision: 0.8874, Recall: 0.8858, F1 Score: 0.8777\n",
      "Validation loss decreased (2.194709 --> 1.969814).  Saving model ...\n"
     ]
    },
    {
     "name": "stderr",
     "output_type": "stream",
     "text": [
      "Training Epoch 11/100: 100%|██████████| 65/65 [05:58<00:00,  5.51s/batch]\n",
      "Validation Epoch 11/100: 100%|██████████| 9/9 [00:44<00:00,  4.99s/batch]\n"
     ]
    },
    {
     "name": "stdout",
     "output_type": "stream",
     "text": [
      "Epoch 11/100, Train Loss: 1.8426, Val Loss: 1.7658, Accuracy: 0.8926, Precision: 0.9077, Recall: 0.8926, F1 Score: 0.8861\n",
      "Validation loss decreased (1.969814 --> 1.765826).  Saving model ...\n"
     ]
    },
    {
     "name": "stderr",
     "output_type": "stream",
     "text": [
      "Training Epoch 12/100: 100%|██████████| 65/65 [05:58<00:00,  5.51s/batch]\n",
      "Validation Epoch 12/100: 100%|██████████| 9/9 [00:44<00:00,  4.99s/batch]\n"
     ]
    },
    {
     "name": "stdout",
     "output_type": "stream",
     "text": [
      "Epoch 12/100, Train Loss: 1.6485, Val Loss: 1.5821, Accuracy: 0.8975, Precision: 0.9118, Recall: 0.8975, F1 Score: 0.8913\n",
      "Validation loss decreased (1.765826 --> 1.582150).  Saving model ...\n"
     ]
    },
    {
     "name": "stderr",
     "output_type": "stream",
     "text": [
      "Training Epoch 13/100: 100%|██████████| 65/65 [05:58<00:00,  5.52s/batch]\n",
      "Validation Epoch 13/100: 100%|██████████| 9/9 [00:44<00:00,  4.99s/batch]\n"
     ]
    },
    {
     "name": "stdout",
     "output_type": "stream",
     "text": [
      "Epoch 13/100, Train Loss: 1.4760, Val Loss: 1.4204, Accuracy: 0.9004, Precision: 0.9134, Recall: 0.9004, F1 Score: 0.8952\n",
      "Validation loss decreased (1.582150 --> 1.420409).  Saving model ...\n"
     ]
    },
    {
     "name": "stderr",
     "output_type": "stream",
     "text": [
      "Training Epoch 14/100: 100%|██████████| 65/65 [05:58<00:00,  5.51s/batch]\n",
      "Validation Epoch 14/100: 100%|██████████| 9/9 [00:44<00:00,  4.99s/batch]\n"
     ]
    },
    {
     "name": "stdout",
     "output_type": "stream",
     "text": [
      "Epoch 14/100, Train Loss: 1.3247, Val Loss: 1.2784, Accuracy: 0.9062, Precision: 0.9155, Recall: 0.9062, F1 Score: 0.9021\n",
      "Validation loss decreased (1.420409 --> 1.278393).  Saving model ...\n"
     ]
    },
    {
     "name": "stderr",
     "output_type": "stream",
     "text": [
      "Training Epoch 15/100: 100%|██████████| 65/65 [05:58<00:00,  5.51s/batch]\n",
      "Validation Epoch 15/100: 100%|██████████| 9/9 [00:44<00:00,  4.97s/batch]\n"
     ]
    },
    {
     "name": "stdout",
     "output_type": "stream",
     "text": [
      "Epoch 15/100, Train Loss: 1.1917, Val Loss: 1.1541, Accuracy: 0.9091, Precision: 0.9180, Recall: 0.9091, F1 Score: 0.9052\n",
      "Validation loss decreased (1.278393 --> 1.154064).  Saving model ...\n"
     ]
    },
    {
     "name": "stderr",
     "output_type": "stream",
     "text": [
      "Training Epoch 16/100: 100%|██████████| 65/65 [05:58<00:00,  5.51s/batch]\n",
      "Validation Epoch 16/100: 100%|██████████| 9/9 [00:44<00:00,  4.98s/batch]\n"
     ]
    },
    {
     "name": "stdout",
     "output_type": "stream",
     "text": [
      "Epoch 16/100, Train Loss: 1.0768, Val Loss: 1.0470, Accuracy: 0.9116, Precision: 0.9209, Recall: 0.9116, F1 Score: 0.9082\n",
      "Validation loss decreased (1.154064 --> 1.046960).  Saving model ...\n"
     ]
    },
    {
     "name": "stderr",
     "output_type": "stream",
     "text": [
      "Training Epoch 17/100: 100%|██████████| 65/65 [05:58<00:00,  5.51s/batch]\n",
      "Validation Epoch 17/100: 100%|██████████| 9/9 [00:44<00:00,  4.98s/batch]\n"
     ]
    },
    {
     "name": "stdout",
     "output_type": "stream",
     "text": [
      "Epoch 17/100, Train Loss: 0.9771, Val Loss: 0.9546, Accuracy: 0.9140, Precision: 0.9228, Recall: 0.9140, F1 Score: 0.9112\n",
      "Validation loss decreased (1.046960 --> 0.954566).  Saving model ...\n"
     ]
    },
    {
     "name": "stderr",
     "output_type": "stream",
     "text": [
      "Training Epoch 18/100: 100%|██████████| 65/65 [05:58<00:00,  5.51s/batch]\n",
      "Validation Epoch 18/100: 100%|██████████| 9/9 [00:44<00:00,  4.98s/batch]\n"
     ]
    },
    {
     "name": "stdout",
     "output_type": "stream",
     "text": [
      "Epoch 18/100, Train Loss: 0.8926, Val Loss: 0.8746, Accuracy: 0.9145, Precision: 0.9230, Recall: 0.9145, F1 Score: 0.9122\n",
      "Validation loss decreased (0.954566 --> 0.874645).  Saving model ...\n"
     ]
    },
    {
     "name": "stderr",
     "output_type": "stream",
     "text": [
      "Training Epoch 19/100: 100%|██████████| 65/65 [05:58<00:00,  5.51s/batch]\n",
      "Validation Epoch 19/100: 100%|██████████| 9/9 [00:44<00:00,  4.98s/batch]\n"
     ]
    },
    {
     "name": "stdout",
     "output_type": "stream",
     "text": [
      "Epoch 19/100, Train Loss: 0.8168, Val Loss: 0.8062, Accuracy: 0.9150, Precision: 0.9236, Recall: 0.9150, F1 Score: 0.9127\n",
      "Validation loss decreased (0.874645 --> 0.806160).  Saving model ...\n"
     ]
    },
    {
     "name": "stderr",
     "output_type": "stream",
     "text": [
      "Training Epoch 20/100: 100%|██████████| 65/65 [05:58<00:00,  5.51s/batch]\n",
      "Validation Epoch 20/100: 100%|██████████| 9/9 [00:44<00:00,  4.99s/batch]\n"
     ]
    },
    {
     "name": "stdout",
     "output_type": "stream",
     "text": [
      "Epoch 20/100, Train Loss: 0.7530, Val Loss: 0.7466, Accuracy: 0.9164, Precision: 0.9249, Recall: 0.9164, F1 Score: 0.9147\n",
      "Validation loss decreased (0.806160 --> 0.746605).  Saving model ...\n"
     ]
    },
    {
     "name": "stderr",
     "output_type": "stream",
     "text": [
      "Training Epoch 21/100: 100%|██████████| 65/65 [05:58<00:00,  5.51s/batch]\n",
      "Validation Epoch 21/100: 100%|██████████| 9/9 [00:45<00:00,  5.01s/batch]\n"
     ]
    },
    {
     "name": "stdout",
     "output_type": "stream",
     "text": [
      "Epoch 21/100, Train Loss: 0.6997, Val Loss: 0.6949, Accuracy: 0.9174, Precision: 0.9257, Recall: 0.9174, F1 Score: 0.9155\n",
      "Validation loss decreased (0.746605 --> 0.694875).  Saving model ...\n"
     ]
    },
    {
     "name": "stderr",
     "output_type": "stream",
     "text": [
      "Training Epoch 22/100: 100%|██████████| 65/65 [05:58<00:00,  5.51s/batch]\n",
      "Validation Epoch 22/100: 100%|██████████| 9/9 [00:44<00:00,  4.98s/batch]\n"
     ]
    },
    {
     "name": "stdout",
     "output_type": "stream",
     "text": [
      "Epoch 22/100, Train Loss: 0.6515, Val Loss: 0.6500, Accuracy: 0.9193, Precision: 0.9272, Recall: 0.9193, F1 Score: 0.9174\n",
      "Validation loss decreased (0.694875 --> 0.649970).  Saving model ...\n"
     ]
    },
    {
     "name": "stderr",
     "output_type": "stream",
     "text": [
      "Training Epoch 23/100: 100%|██████████| 65/65 [05:58<00:00,  5.52s/batch]\n",
      "Validation Epoch 23/100: 100%|██████████| 9/9 [00:44<00:00,  4.98s/batch]\n"
     ]
    },
    {
     "name": "stdout",
     "output_type": "stream",
     "text": [
      "Epoch 23/100, Train Loss: 0.6093, Val Loss: 0.6107, Accuracy: 0.9189, Precision: 0.9272, Recall: 0.9189, F1 Score: 0.9171\n",
      "Validation loss decreased (0.649970 --> 0.610745).  Saving model ...\n"
     ]
    },
    {
     "name": "stderr",
     "output_type": "stream",
     "text": [
      "Training Epoch 24/100: 100%|██████████| 65/65 [05:58<00:00,  5.51s/batch]\n",
      "Validation Epoch 24/100: 100%|██████████| 9/9 [00:44<00:00,  4.99s/batch]\n"
     ]
    },
    {
     "name": "stdout",
     "output_type": "stream",
     "text": [
      "Epoch 24/100, Train Loss: 0.5708, Val Loss: 0.5762, Accuracy: 0.9203, Precision: 0.9284, Recall: 0.9203, F1 Score: 0.9186\n",
      "Validation loss decreased (0.610745 --> 0.576183).  Saving model ...\n"
     ]
    },
    {
     "name": "stderr",
     "output_type": "stream",
     "text": [
      "Training Epoch 25/100: 100%|██████████| 65/65 [05:58<00:00,  5.52s/batch]\n",
      "Validation Epoch 25/100: 100%|██████████| 9/9 [00:44<00:00,  4.99s/batch]\n"
     ]
    },
    {
     "name": "stdout",
     "output_type": "stream",
     "text": [
      "Epoch 25/100, Train Loss: 0.5403, Val Loss: 0.5457, Accuracy: 0.9198, Precision: 0.9277, Recall: 0.9198, F1 Score: 0.9181\n",
      "Validation loss decreased (0.576183 --> 0.545672).  Saving model ...\n"
     ]
    },
    {
     "name": "stderr",
     "output_type": "stream",
     "text": [
      "Training Epoch 26/100: 100%|██████████| 65/65 [05:58<00:00,  5.52s/batch]\n",
      "Validation Epoch 26/100: 100%|██████████| 9/9 [00:44<00:00,  5.00s/batch]\n"
     ]
    },
    {
     "name": "stdout",
     "output_type": "stream",
     "text": [
      "Epoch 26/100, Train Loss: 0.5112, Val Loss: 0.5186, Accuracy: 0.9208, Precision: 0.9287, Recall: 0.9208, F1 Score: 0.9191\n",
      "Validation loss decreased (0.545672 --> 0.518570).  Saving model ...\n"
     ]
    },
    {
     "name": "stderr",
     "output_type": "stream",
     "text": [
      "Training Epoch 27/100: 100%|██████████| 65/65 [05:58<00:00,  5.52s/batch]\n",
      "Validation Epoch 27/100: 100%|██████████| 9/9 [00:44<00:00,  4.98s/batch]\n"
     ]
    },
    {
     "name": "stdout",
     "output_type": "stream",
     "text": [
      "Epoch 27/100, Train Loss: 0.4851, Val Loss: 0.4944, Accuracy: 0.9227, Precision: 0.9300, Recall: 0.9227, F1 Score: 0.9211\n",
      "Validation loss decreased (0.518570 --> 0.494400).  Saving model ...\n"
     ]
    },
    {
     "name": "stderr",
     "output_type": "stream",
     "text": [
      "Training Epoch 28/100: 100%|██████████| 65/65 [06:00<00:00,  5.54s/batch]\n",
      "Validation Epoch 28/100: 100%|██████████| 9/9 [00:45<00:00,  5.00s/batch]\n"
     ]
    },
    {
     "name": "stdout",
     "output_type": "stream",
     "text": [
      "Epoch 28/100, Train Loss: 0.4620, Val Loss: 0.4729, Accuracy: 0.9227, Precision: 0.9303, Recall: 0.9227, F1 Score: 0.9212\n",
      "Validation loss decreased (0.494400 --> 0.472892).  Saving model ...\n"
     ]
    },
    {
     "name": "stderr",
     "output_type": "stream",
     "text": [
      "Training Epoch 29/100: 100%|██████████| 65/65 [06:00<00:00,  5.55s/batch]\n",
      "Validation Epoch 29/100: 100%|██████████| 9/9 [00:45<00:00,  5.03s/batch]\n"
     ]
    },
    {
     "name": "stdout",
     "output_type": "stream",
     "text": [
      "Epoch 29/100, Train Loss: 0.4418, Val Loss: 0.4533, Accuracy: 0.9257, Precision: 0.9329, Recall: 0.9257, F1 Score: 0.9243\n",
      "Validation loss decreased (0.472892 --> 0.453283).  Saving model ...\n"
     ]
    },
    {
     "name": "stderr",
     "output_type": "stream",
     "text": [
      "Training Epoch 30/100: 100%|██████████| 65/65 [06:00<00:00,  5.54s/batch]\n",
      "Validation Epoch 30/100: 100%|██████████| 9/9 [00:45<00:00,  5.01s/batch]\n"
     ]
    },
    {
     "name": "stdout",
     "output_type": "stream",
     "text": [
      "Epoch 30/100, Train Loss: 0.4228, Val Loss: 0.4361, Accuracy: 0.9252, Precision: 0.9328, Recall: 0.9252, F1 Score: 0.9238\n",
      "Validation loss decreased (0.453283 --> 0.436074).  Saving model ...\n"
     ]
    },
    {
     "name": "stderr",
     "output_type": "stream",
     "text": [
      "Training Epoch 31/100: 100%|██████████| 65/65 [06:00<00:00,  5.54s/batch]\n",
      "Validation Epoch 31/100: 100%|██████████| 9/9 [00:45<00:00,  5.02s/batch]\n"
     ]
    },
    {
     "name": "stdout",
     "output_type": "stream",
     "text": [
      "Epoch 31/100, Train Loss: 0.4075, Val Loss: 0.4202, Accuracy: 0.9252, Precision: 0.9332, Recall: 0.9252, F1 Score: 0.9239\n",
      "Validation loss decreased (0.436074 --> 0.420197).  Saving model ...\n"
     ]
    },
    {
     "name": "stderr",
     "output_type": "stream",
     "text": [
      "Training Epoch 32/100: 100%|██████████| 65/65 [06:02<00:00,  5.57s/batch]\n",
      "Validation Epoch 32/100: 100%|██████████| 9/9 [00:46<00:00,  5.16s/batch]\n"
     ]
    },
    {
     "name": "stdout",
     "output_type": "stream",
     "text": [
      "Epoch 32/100, Train Loss: 0.3905, Val Loss: 0.4057, Accuracy: 0.9257, Precision: 0.9334, Recall: 0.9257, F1 Score: 0.9244\n",
      "Validation loss decreased (0.420197 --> 0.405696).  Saving model ...\n"
     ]
    },
    {
     "name": "stderr",
     "output_type": "stream",
     "text": [
      "Training Epoch 33/100: 100%|██████████| 65/65 [06:01<00:00,  5.56s/batch]\n",
      "Validation Epoch 33/100: 100%|██████████| 9/9 [00:45<00:00,  5.01s/batch]\n"
     ]
    },
    {
     "name": "stdout",
     "output_type": "stream",
     "text": [
      "Epoch 33/100, Train Loss: 0.3764, Val Loss: 0.3926, Accuracy: 0.9261, Precision: 0.9338, Recall: 0.9261, F1 Score: 0.9249\n",
      "Validation loss decreased (0.405696 --> 0.392567).  Saving model ...\n"
     ]
    },
    {
     "name": "stderr",
     "output_type": "stream",
     "text": [
      "Training Epoch 34/100: 100%|██████████| 65/65 [06:07<00:00,  5.66s/batch]\n",
      "Validation Epoch 34/100: 100%|██████████| 9/9 [00:48<00:00,  5.35s/batch]\n"
     ]
    },
    {
     "name": "stdout",
     "output_type": "stream",
     "text": [
      "Epoch 34/100, Train Loss: 0.3630, Val Loss: 0.3808, Accuracy: 0.9271, Precision: 0.9351, Recall: 0.9271, F1 Score: 0.9260\n",
      "Validation loss decreased (0.392567 --> 0.380767).  Saving model ...\n"
     ]
    },
    {
     "name": "stderr",
     "output_type": "stream",
     "text": [
      "Training Epoch 35/100: 100%|██████████| 65/65 [06:28<00:00,  5.97s/batch]\n",
      "Validation Epoch 35/100: 100%|██████████| 9/9 [00:47<00:00,  5.30s/batch]\n"
     ]
    },
    {
     "name": "stdout",
     "output_type": "stream",
     "text": [
      "Epoch 35/100, Train Loss: 0.3518, Val Loss: 0.3697, Accuracy: 0.9261, Precision: 0.9339, Recall: 0.9261, F1 Score: 0.9250\n",
      "Validation loss decreased (0.380767 --> 0.369672).  Saving model ...\n"
     ]
    },
    {
     "name": "stderr",
     "output_type": "stream",
     "text": [
      "Training Epoch 36/100: 100%|██████████| 65/65 [06:24<00:00,  5.92s/batch]\n",
      "Validation Epoch 36/100: 100%|██████████| 9/9 [00:48<00:00,  5.44s/batch]\n"
     ]
    },
    {
     "name": "stdout",
     "output_type": "stream",
     "text": [
      "Epoch 36/100, Train Loss: 0.3415, Val Loss: 0.3597, Accuracy: 0.9261, Precision: 0.9339, Recall: 0.9261, F1 Score: 0.9250\n",
      "Validation loss decreased (0.369672 --> 0.359737).  Saving model ...\n"
     ]
    },
    {
     "name": "stderr",
     "output_type": "stream",
     "text": [
      "Training Epoch 37/100: 100%|██████████| 65/65 [06:26<00:00,  5.95s/batch]\n",
      "Validation Epoch 37/100: 100%|██████████| 9/9 [00:49<00:00,  5.50s/batch]\n"
     ]
    },
    {
     "name": "stdout",
     "output_type": "stream",
     "text": [
      "Epoch 37/100, Train Loss: 0.3308, Val Loss: 0.3506, Accuracy: 0.9257, Precision: 0.9336, Recall: 0.9257, F1 Score: 0.9245\n",
      "Validation loss decreased (0.359737 --> 0.350581).  Saving model ...\n"
     ]
    },
    {
     "name": "stderr",
     "output_type": "stream",
     "text": [
      "Training Epoch 38/100: 100%|██████████| 65/65 [39:00<00:00, 36.00s/batch]   \n",
      "Validation Epoch 38/100: 100%|██████████| 9/9 [00:45<00:00,  5.01s/batch]\n"
     ]
    },
    {
     "name": "stdout",
     "output_type": "stream",
     "text": [
      "Epoch 38/100, Train Loss: 0.3218, Val Loss: 0.3418, Accuracy: 0.9271, Precision: 0.9352, Recall: 0.9271, F1 Score: 0.9259\n",
      "Validation loss decreased (0.350581 --> 0.341786).  Saving model ...\n"
     ]
    },
    {
     "name": "stderr",
     "output_type": "stream",
     "text": [
      "Training Epoch 39/100: 100%|██████████| 65/65 [05:58<00:00,  5.52s/batch]\n",
      "Validation Epoch 39/100: 100%|██████████| 9/9 [00:44<00:00,  4.94s/batch]\n"
     ]
    },
    {
     "name": "stdout",
     "output_type": "stream",
     "text": [
      "Epoch 39/100, Train Loss: 0.3127, Val Loss: 0.3340, Accuracy: 0.9266, Precision: 0.9350, Recall: 0.9266, F1 Score: 0.9257\n",
      "Validation loss decreased (0.341786 --> 0.334039).  Saving model ...\n"
     ]
    },
    {
     "name": "stderr",
     "output_type": "stream",
     "text": [
      "Training Epoch 40/100: 100%|██████████| 65/65 [05:56<00:00,  5.48s/batch]\n",
      "Validation Epoch 40/100: 100%|██████████| 9/9 [00:44<00:00,  4.99s/batch]\n"
     ]
    },
    {
     "name": "stdout",
     "output_type": "stream",
     "text": [
      "Epoch 40/100, Train Loss: 0.3043, Val Loss: 0.3265, Accuracy: 0.9276, Precision: 0.9355, Recall: 0.9276, F1 Score: 0.9265\n",
      "Validation loss decreased (0.334039 --> 0.326459).  Saving model ...\n"
     ]
    },
    {
     "name": "stderr",
     "output_type": "stream",
     "text": [
      "Training Epoch 41/100: 100%|██████████| 65/65 [05:57<00:00,  5.50s/batch]\n",
      "Validation Epoch 41/100: 100%|██████████| 9/9 [00:44<00:00,  4.93s/batch]\n"
     ]
    },
    {
     "name": "stdout",
     "output_type": "stream",
     "text": [
      "Epoch 41/100, Train Loss: 0.2981, Val Loss: 0.3197, Accuracy: 0.9281, Precision: 0.9360, Recall: 0.9281, F1 Score: 0.9272\n",
      "Validation loss decreased (0.326459 --> 0.319706).  Saving model ...\n"
     ]
    },
    {
     "name": "stderr",
     "output_type": "stream",
     "text": [
      "Training Epoch 42/100: 100%|██████████| 65/65 [05:58<00:00,  5.51s/batch]\n",
      "Validation Epoch 42/100: 100%|██████████| 9/9 [00:45<00:00,  5.06s/batch]\n"
     ]
    },
    {
     "name": "stdout",
     "output_type": "stream",
     "text": [
      "Epoch 42/100, Train Loss: 0.2915, Val Loss: 0.3133, Accuracy: 0.9281, Precision: 0.9363, Recall: 0.9281, F1 Score: 0.9272\n",
      "Validation loss decreased (0.319706 --> 0.313267).  Saving model ...\n"
     ]
    },
    {
     "name": "stderr",
     "output_type": "stream",
     "text": [
      "Training Epoch 43/100: 100%|██████████| 65/65 [06:01<00:00,  5.57s/batch]\n",
      "Validation Epoch 43/100: 100%|██████████| 9/9 [00:45<00:00,  5.05s/batch]\n"
     ]
    },
    {
     "name": "stdout",
     "output_type": "stream",
     "text": [
      "Epoch 43/100, Train Loss: 0.2830, Val Loss: 0.3071, Accuracy: 0.9276, Precision: 0.9350, Recall: 0.9276, F1 Score: 0.9266\n",
      "Validation loss decreased (0.313267 --> 0.307146).  Saving model ...\n"
     ]
    },
    {
     "name": "stderr",
     "output_type": "stream",
     "text": [
      "Training Epoch 44/100: 100%|██████████| 65/65 [06:03<00:00,  5.59s/batch]\n",
      "Validation Epoch 44/100: 100%|██████████| 9/9 [00:45<00:00,  5.08s/batch]\n"
     ]
    },
    {
     "name": "stdout",
     "output_type": "stream",
     "text": [
      "Epoch 44/100, Train Loss: 0.2767, Val Loss: 0.3019, Accuracy: 0.9276, Precision: 0.9357, Recall: 0.9276, F1 Score: 0.9267\n",
      "Validation loss decreased (0.307146 --> 0.301855).  Saving model ...\n"
     ]
    },
    {
     "name": "stderr",
     "output_type": "stream",
     "text": [
      "Training Epoch 45/100: 100%|██████████| 65/65 [06:03<00:00,  5.59s/batch]\n",
      "Validation Epoch 45/100: 100%|██████████| 9/9 [00:45<00:00,  5.06s/batch]\n"
     ]
    },
    {
     "name": "stdout",
     "output_type": "stream",
     "text": [
      "Epoch 45/100, Train Loss: 0.2704, Val Loss: 0.2964, Accuracy: 0.9286, Precision: 0.9361, Recall: 0.9286, F1 Score: 0.9276\n",
      "Validation loss decreased (0.301855 --> 0.296414).  Saving model ...\n"
     ]
    },
    {
     "name": "stderr",
     "output_type": "stream",
     "text": [
      "Training Epoch 46/100: 100%|██████████| 65/65 [06:02<00:00,  5.58s/batch]\n",
      "Validation Epoch 46/100: 100%|██████████| 9/9 [00:45<00:00,  5.09s/batch]\n"
     ]
    },
    {
     "name": "stdout",
     "output_type": "stream",
     "text": [
      "Epoch 46/100, Train Loss: 0.2650, Val Loss: 0.2915, Accuracy: 0.9281, Precision: 0.9350, Recall: 0.9281, F1 Score: 0.9269\n",
      "Validation loss decreased (0.296414 --> 0.291464).  Saving model ...\n"
     ]
    },
    {
     "name": "stderr",
     "output_type": "stream",
     "text": [
      "Training Epoch 47/100: 100%|██████████| 65/65 [06:03<00:00,  5.59s/batch]\n",
      "Validation Epoch 47/100: 100%|██████████| 9/9 [00:45<00:00,  5.03s/batch]\n"
     ]
    },
    {
     "name": "stdout",
     "output_type": "stream",
     "text": [
      "Epoch 47/100, Train Loss: 0.2607, Val Loss: 0.2868, Accuracy: 0.9291, Precision: 0.9360, Recall: 0.9291, F1 Score: 0.9279\n",
      "Validation loss decreased (0.291464 --> 0.286791).  Saving model ...\n"
     ]
    },
    {
     "name": "stderr",
     "output_type": "stream",
     "text": [
      "Training Epoch 48/100: 100%|██████████| 65/65 [06:03<00:00,  5.60s/batch]\n",
      "Validation Epoch 48/100: 100%|██████████| 9/9 [00:45<00:00,  5.11s/batch]\n"
     ]
    },
    {
     "name": "stdout",
     "output_type": "stream",
     "text": [
      "Epoch 48/100, Train Loss: 0.2561, Val Loss: 0.2825, Accuracy: 0.9276, Precision: 0.9348, Recall: 0.9276, F1 Score: 0.9266\n",
      "Validation loss decreased (0.286791 --> 0.282546).  Saving model ...\n"
     ]
    },
    {
     "name": "stderr",
     "output_type": "stream",
     "text": [
      "Training Epoch 49/100: 100%|██████████| 65/65 [06:04<00:00,  5.61s/batch]\n",
      "Validation Epoch 49/100: 100%|██████████| 9/9 [00:45<00:00,  5.09s/batch]\n"
     ]
    },
    {
     "name": "stdout",
     "output_type": "stream",
     "text": [
      "Epoch 49/100, Train Loss: 0.2505, Val Loss: 0.2784, Accuracy: 0.9276, Precision: 0.9345, Recall: 0.9276, F1 Score: 0.9266\n",
      "Validation loss decreased (0.282546 --> 0.278422).  Saving model ...\n"
     ]
    },
    {
     "name": "stderr",
     "output_type": "stream",
     "text": [
      "Training Epoch 50/100: 100%|██████████| 65/65 [06:02<00:00,  5.57s/batch]\n",
      "Validation Epoch 50/100: 100%|██████████| 9/9 [00:45<00:00,  5.05s/batch]\n"
     ]
    },
    {
     "name": "stdout",
     "output_type": "stream",
     "text": [
      "Epoch 50/100, Train Loss: 0.2466, Val Loss: 0.2745, Accuracy: 0.9286, Precision: 0.9358, Recall: 0.9286, F1 Score: 0.9276\n",
      "Validation loss decreased (0.278422 --> 0.274534).  Saving model ...\n"
     ]
    },
    {
     "name": "stderr",
     "output_type": "stream",
     "text": [
      "Training Epoch 51/100: 100%|██████████| 65/65 [06:02<00:00,  5.57s/batch]\n",
      "Validation Epoch 51/100: 100%|██████████| 9/9 [00:44<00:00,  5.00s/batch]\n"
     ]
    },
    {
     "name": "stdout",
     "output_type": "stream",
     "text": [
      "Epoch 51/100, Train Loss: 0.2419, Val Loss: 0.2710, Accuracy: 0.9261, Precision: 0.9339, Recall: 0.9261, F1 Score: 0.9253\n",
      "Validation loss decreased (0.274534 --> 0.271026).  Saving model ...\n"
     ]
    },
    {
     "name": "stderr",
     "output_type": "stream",
     "text": [
      "Training Epoch 52/100: 100%|██████████| 65/65 [05:57<00:00,  5.50s/batch]\n",
      "Validation Epoch 52/100: 100%|██████████| 9/9 [00:45<00:00,  5.00s/batch]\n"
     ]
    },
    {
     "name": "stdout",
     "output_type": "stream",
     "text": [
      "Epoch 52/100, Train Loss: 0.2383, Val Loss: 0.2676, Accuracy: 0.9271, Precision: 0.9348, Recall: 0.9271, F1 Score: 0.9263\n",
      "Validation loss decreased (0.271026 --> 0.267638).  Saving model ...\n"
     ]
    },
    {
     "name": "stderr",
     "output_type": "stream",
     "text": [
      "Training Epoch 53/100: 100%|██████████| 65/65 [05:58<00:00,  5.52s/batch]\n",
      "Validation Epoch 53/100: 100%|██████████| 9/9 [00:45<00:00,  5.05s/batch]\n"
     ]
    },
    {
     "name": "stdout",
     "output_type": "stream",
     "text": [
      "Epoch 53/100, Train Loss: 0.2335, Val Loss: 0.2643, Accuracy: 0.9266, Precision: 0.9345, Recall: 0.9266, F1 Score: 0.9258\n",
      "Validation loss decreased (0.267638 --> 0.264281).  Saving model ...\n"
     ]
    },
    {
     "name": "stderr",
     "output_type": "stream",
     "text": [
      "Training Epoch 54/100: 100%|██████████| 65/65 [06:01<00:00,  5.56s/batch]\n",
      "Validation Epoch 54/100: 100%|██████████| 9/9 [00:45<00:00,  5.09s/batch]\n"
     ]
    },
    {
     "name": "stdout",
     "output_type": "stream",
     "text": [
      "Epoch 54/100, Train Loss: 0.2297, Val Loss: 0.2612, Accuracy: 0.9271, Precision: 0.9345, Recall: 0.9271, F1 Score: 0.9263\n",
      "Validation loss decreased (0.264281 --> 0.261220).  Saving model ...\n"
     ]
    },
    {
     "name": "stderr",
     "output_type": "stream",
     "text": [
      "Training Epoch 55/100: 100%|██████████| 65/65 [06:01<00:00,  5.56s/batch]\n",
      "Validation Epoch 55/100: 100%|██████████| 9/9 [00:45<00:00,  5.00s/batch]\n"
     ]
    },
    {
     "name": "stdout",
     "output_type": "stream",
     "text": [
      "Epoch 55/100, Train Loss: 0.2263, Val Loss: 0.2584, Accuracy: 0.9276, Precision: 0.9352, Recall: 0.9276, F1 Score: 0.9267\n",
      "Validation loss decreased (0.261220 --> 0.258371).  Saving model ...\n"
     ]
    },
    {
     "name": "stderr",
     "output_type": "stream",
     "text": [
      "Training Epoch 56/100: 100%|██████████| 65/65 [05:59<00:00,  5.52s/batch]\n",
      "Validation Epoch 56/100: 100%|██████████| 9/9 [00:45<00:00,  5.01s/batch]\n"
     ]
    },
    {
     "name": "stdout",
     "output_type": "stream",
     "text": [
      "Epoch 56/100, Train Loss: 0.2227, Val Loss: 0.2556, Accuracy: 0.9281, Precision: 0.9358, Recall: 0.9281, F1 Score: 0.9272\n",
      "Validation loss decreased (0.258371 --> 0.255627).  Saving model ...\n"
     ]
    },
    {
     "name": "stderr",
     "output_type": "stream",
     "text": [
      "Training Epoch 57/100: 100%|██████████| 65/65 [05:59<00:00,  5.53s/batch]\n",
      "Validation Epoch 57/100: 100%|██████████| 9/9 [00:45<00:00,  5.01s/batch]\n"
     ]
    },
    {
     "name": "stdout",
     "output_type": "stream",
     "text": [
      "Epoch 57/100, Train Loss: 0.2189, Val Loss: 0.2531, Accuracy: 0.9266, Precision: 0.9347, Recall: 0.9266, F1 Score: 0.9259\n",
      "Validation loss decreased (0.255627 --> 0.253057).  Saving model ...\n"
     ]
    },
    {
     "name": "stderr",
     "output_type": "stream",
     "text": [
      "Training Epoch 58/100: 100%|██████████| 65/65 [05:58<00:00,  5.52s/batch]\n",
      "Validation Epoch 58/100: 100%|██████████| 9/9 [00:45<00:00,  5.00s/batch]\n"
     ]
    },
    {
     "name": "stdout",
     "output_type": "stream",
     "text": [
      "Epoch 58/100, Train Loss: 0.2164, Val Loss: 0.2504, Accuracy: 0.9276, Precision: 0.9353, Recall: 0.9276, F1 Score: 0.9268\n",
      "Validation loss decreased (0.253057 --> 0.250386).  Saving model ...\n"
     ]
    },
    {
     "name": "stderr",
     "output_type": "stream",
     "text": [
      "Training Epoch 59/100: 100%|██████████| 65/65 [05:59<00:00,  5.52s/batch]\n",
      "Validation Epoch 59/100: 100%|██████████| 9/9 [00:45<00:00,  5.01s/batch]\n"
     ]
    },
    {
     "name": "stdout",
     "output_type": "stream",
     "text": [
      "Epoch 59/100, Train Loss: 0.2127, Val Loss: 0.2483, Accuracy: 0.9271, Precision: 0.9349, Recall: 0.9271, F1 Score: 0.9263\n",
      "Validation loss decreased (0.250386 --> 0.248273).  Saving model ...\n"
     ]
    },
    {
     "name": "stderr",
     "output_type": "stream",
     "text": [
      "Training Epoch 60/100: 100%|██████████| 65/65 [06:01<00:00,  5.55s/batch]\n",
      "Validation Epoch 60/100: 100%|██████████| 9/9 [00:45<00:00,  5.07s/batch]\n"
     ]
    },
    {
     "name": "stdout",
     "output_type": "stream",
     "text": [
      "Epoch 60/100, Train Loss: 0.2092, Val Loss: 0.2460, Accuracy: 0.9271, Precision: 0.9352, Recall: 0.9271, F1 Score: 0.9264\n",
      "Validation loss decreased (0.248273 --> 0.246047).  Saving model ...\n"
     ]
    },
    {
     "name": "stderr",
     "output_type": "stream",
     "text": [
      "Training Epoch 61/100: 100%|██████████| 65/65 [06:03<00:00,  5.59s/batch]\n",
      "Validation Epoch 61/100: 100%|██████████| 9/9 [00:45<00:00,  5.07s/batch]\n"
     ]
    },
    {
     "name": "stdout",
     "output_type": "stream",
     "text": [
      "Epoch 61/100, Train Loss: 0.2067, Val Loss: 0.2437, Accuracy: 0.9276, Precision: 0.9352, Recall: 0.9276, F1 Score: 0.9267\n",
      "Validation loss decreased (0.246047 --> 0.243735).  Saving model ...\n"
     ]
    },
    {
     "name": "stderr",
     "output_type": "stream",
     "text": [
      "Training Epoch 62/100: 100%|██████████| 65/65 [06:04<00:00,  5.61s/batch]\n",
      "Validation Epoch 62/100: 100%|██████████| 9/9 [00:45<00:00,  5.02s/batch]\n"
     ]
    },
    {
     "name": "stdout",
     "output_type": "stream",
     "text": [
      "Epoch 62/100, Train Loss: 0.2034, Val Loss: 0.2415, Accuracy: 0.9295, Precision: 0.9370, Recall: 0.9295, F1 Score: 0.9287\n",
      "Validation loss decreased (0.243735 --> 0.241499).  Saving model ...\n"
     ]
    },
    {
     "name": "stderr",
     "output_type": "stream",
     "text": [
      "Training Epoch 63/100: 100%|██████████| 65/65 [06:00<00:00,  5.55s/batch]\n",
      "Validation Epoch 63/100: 100%|██████████| 9/9 [00:44<00:00,  4.99s/batch]\n"
     ]
    },
    {
     "name": "stdout",
     "output_type": "stream",
     "text": [
      "Epoch 63/100, Train Loss: 0.2002, Val Loss: 0.2398, Accuracy: 0.9286, Precision: 0.9367, Recall: 0.9286, F1 Score: 0.9279\n",
      "Validation loss decreased (0.241499 --> 0.239837).  Saving model ...\n"
     ]
    },
    {
     "name": "stderr",
     "output_type": "stream",
     "text": [
      "Training Epoch 64/100: 100%|██████████| 65/65 [05:56<00:00,  5.49s/batch]\n",
      "Validation Epoch 64/100: 100%|██████████| 9/9 [00:44<00:00,  4.95s/batch]\n"
     ]
    },
    {
     "name": "stdout",
     "output_type": "stream",
     "text": [
      "Epoch 64/100, Train Loss: 0.1986, Val Loss: 0.2377, Accuracy: 0.9291, Precision: 0.9365, Recall: 0.9291, F1 Score: 0.9283\n",
      "Validation loss decreased (0.239837 --> 0.237747).  Saving model ...\n"
     ]
    },
    {
     "name": "stderr",
     "output_type": "stream",
     "text": [
      "Training Epoch 65/100: 100%|██████████| 65/65 [05:57<00:00,  5.50s/batch]\n",
      "Validation Epoch 65/100: 100%|██████████| 9/9 [00:44<00:00,  4.95s/batch]\n"
     ]
    },
    {
     "name": "stdout",
     "output_type": "stream",
     "text": [
      "Epoch 65/100, Train Loss: 0.1960, Val Loss: 0.2359, Accuracy: 0.9300, Precision: 0.9377, Recall: 0.9300, F1 Score: 0.9294\n",
      "Validation loss decreased (0.237747 --> 0.235920).  Saving model ...\n"
     ]
    },
    {
     "name": "stderr",
     "output_type": "stream",
     "text": [
      "Training Epoch 66/100: 100%|██████████| 65/65 [05:58<00:00,  5.51s/batch]\n",
      "Validation Epoch 66/100: 100%|██████████| 9/9 [00:44<00:00,  4.94s/batch]\n"
     ]
    },
    {
     "name": "stdout",
     "output_type": "stream",
     "text": [
      "Epoch 66/100, Train Loss: 0.1935, Val Loss: 0.2343, Accuracy: 0.9281, Precision: 0.9358, Recall: 0.9281, F1 Score: 0.9273\n",
      "Validation loss decreased (0.235920 --> 0.234254).  Saving model ...\n"
     ]
    },
    {
     "name": "stderr",
     "output_type": "stream",
     "text": [
      "Training Epoch 67/100: 100%|██████████| 65/65 [05:53<00:00,  5.44s/batch]\n",
      "Validation Epoch 67/100: 100%|██████████| 9/9 [00:44<00:00,  5.00s/batch]\n"
     ]
    },
    {
     "name": "stdout",
     "output_type": "stream",
     "text": [
      "Epoch 67/100, Train Loss: 0.1905, Val Loss: 0.2326, Accuracy: 0.9291, Precision: 0.9369, Recall: 0.9291, F1 Score: 0.9285\n",
      "Validation loss decreased (0.234254 --> 0.232637).  Saving model ...\n"
     ]
    },
    {
     "name": "stderr",
     "output_type": "stream",
     "text": [
      "Training Epoch 68/100: 100%|██████████| 65/65 [05:54<00:00,  5.46s/batch]\n",
      "Validation Epoch 68/100: 100%|██████████| 9/9 [00:44<00:00,  4.92s/batch]\n"
     ]
    },
    {
     "name": "stdout",
     "output_type": "stream",
     "text": [
      "Epoch 68/100, Train Loss: 0.1889, Val Loss: 0.2309, Accuracy: 0.9295, Precision: 0.9371, Recall: 0.9295, F1 Score: 0.9288\n",
      "Validation loss decreased (0.232637 --> 0.230904).  Saving model ...\n"
     ]
    },
    {
     "name": "stderr",
     "output_type": "stream",
     "text": [
      "Training Epoch 69/100: 100%|██████████| 65/65 [43:05<00:00, 39.78s/batch] \n",
      "Validation Epoch 69/100: 100%|██████████| 9/9 [00:58<00:00,  6.52s/batch]\n"
     ]
    },
    {
     "name": "stdout",
     "output_type": "stream",
     "text": [
      "Epoch 69/100, Train Loss: 0.1858, Val Loss: 0.2297, Accuracy: 0.9291, Precision: 0.9368, Recall: 0.9291, F1 Score: 0.9284\n",
      "Validation loss decreased (0.230904 --> 0.229651).  Saving model ...\n"
     ]
    },
    {
     "name": "stderr",
     "output_type": "stream",
     "text": [
      "Training Epoch 70/100: 100%|██████████| 65/65 [05:59<00:00,  5.53s/batch]\n",
      "Validation Epoch 70/100: 100%|██████████| 9/9 [00:45<00:00,  5.00s/batch]\n"
     ]
    },
    {
     "name": "stdout",
     "output_type": "stream",
     "text": [
      "Epoch 70/100, Train Loss: 0.1835, Val Loss: 0.2282, Accuracy: 0.9286, Precision: 0.9365, Recall: 0.9286, F1 Score: 0.9279\n",
      "Validation loss decreased (0.229651 --> 0.228169).  Saving model ...\n"
     ]
    },
    {
     "name": "stderr",
     "output_type": "stream",
     "text": [
      "Training Epoch 71/100: 100%|██████████| 65/65 [05:59<00:00,  5.53s/batch]\n",
      "Validation Epoch 71/100: 100%|██████████| 9/9 [00:44<00:00,  4.99s/batch]\n"
     ]
    },
    {
     "name": "stdout",
     "output_type": "stream",
     "text": [
      "Epoch 71/100, Train Loss: 0.1814, Val Loss: 0.2268, Accuracy: 0.9291, Precision: 0.9368, Recall: 0.9291, F1 Score: 0.9284\n",
      "Validation loss decreased (0.228169 --> 0.226825).  Saving model ...\n"
     ]
    },
    {
     "name": "stderr",
     "output_type": "stream",
     "text": [
      "Training Epoch 72/100: 100%|██████████| 65/65 [05:59<00:00,  5.53s/batch]\n",
      "Validation Epoch 72/100: 100%|██████████| 9/9 [00:44<00:00,  5.00s/batch]\n"
     ]
    },
    {
     "name": "stdout",
     "output_type": "stream",
     "text": [
      "Epoch 72/100, Train Loss: 0.1805, Val Loss: 0.2257, Accuracy: 0.9300, Precision: 0.9379, Recall: 0.9300, F1 Score: 0.9294\n",
      "Validation loss decreased (0.226825 --> 0.225661).  Saving model ...\n"
     ]
    },
    {
     "name": "stderr",
     "output_type": "stream",
     "text": [
      "Training Epoch 73/100: 100%|██████████| 65/65 [05:59<00:00,  5.52s/batch]\n",
      "Validation Epoch 73/100: 100%|██████████| 9/9 [00:44<00:00,  5.00s/batch]\n"
     ]
    },
    {
     "name": "stdout",
     "output_type": "stream",
     "text": [
      "Epoch 73/100, Train Loss: 0.1781, Val Loss: 0.2241, Accuracy: 0.9305, Precision: 0.9382, Recall: 0.9305, F1 Score: 0.9298\n",
      "Validation loss decreased (0.225661 --> 0.224122).  Saving model ...\n"
     ]
    },
    {
     "name": "stderr",
     "output_type": "stream",
     "text": [
      "Training Epoch 74/100: 100%|██████████| 65/65 [05:59<00:00,  5.53s/batch]\n",
      "Validation Epoch 74/100: 100%|██████████| 9/9 [00:44<00:00,  5.00s/batch]\n"
     ]
    },
    {
     "name": "stdout",
     "output_type": "stream",
     "text": [
      "Epoch 74/100, Train Loss: 0.1758, Val Loss: 0.2231, Accuracy: 0.9295, Precision: 0.9375, Recall: 0.9295, F1 Score: 0.9289\n",
      "Validation loss decreased (0.224122 --> 0.223111).  Saving model ...\n"
     ]
    },
    {
     "name": "stderr",
     "output_type": "stream",
     "text": [
      "Training Epoch 75/100: 100%|██████████| 65/65 [05:59<00:00,  5.53s/batch]\n",
      "Validation Epoch 75/100: 100%|██████████| 9/9 [00:44<00:00,  5.00s/batch]\n"
     ]
    },
    {
     "name": "stdout",
     "output_type": "stream",
     "text": [
      "Epoch 75/100, Train Loss: 0.1743, Val Loss: 0.2219, Accuracy: 0.9305, Precision: 0.9382, Recall: 0.9305, F1 Score: 0.9298\n",
      "Validation loss decreased (0.223111 --> 0.221924).  Saving model ...\n"
     ]
    },
    {
     "name": "stderr",
     "output_type": "stream",
     "text": [
      "Training Epoch 76/100: 100%|██████████| 65/65 [05:59<00:00,  5.53s/batch]\n",
      "Validation Epoch 76/100: 100%|██████████| 9/9 [00:44<00:00,  4.99s/batch]\n"
     ]
    },
    {
     "name": "stdout",
     "output_type": "stream",
     "text": [
      "Epoch 76/100, Train Loss: 0.1726, Val Loss: 0.2205, Accuracy: 0.9295, Precision: 0.9372, Recall: 0.9295, F1 Score: 0.9288\n",
      "Validation loss decreased (0.221924 --> 0.220512).  Saving model ...\n"
     ]
    },
    {
     "name": "stderr",
     "output_type": "stream",
     "text": [
      "Training Epoch 77/100: 100%|██████████| 65/65 [05:59<00:00,  5.53s/batch]\n",
      "Validation Epoch 77/100: 100%|██████████| 9/9 [00:44<00:00,  5.00s/batch]\n"
     ]
    },
    {
     "name": "stdout",
     "output_type": "stream",
     "text": [
      "Epoch 77/100, Train Loss: 0.1706, Val Loss: 0.2196, Accuracy: 0.9300, Precision: 0.9376, Recall: 0.9300, F1 Score: 0.9294\n",
      "Validation loss decreased (0.220512 --> 0.219611).  Saving model ...\n"
     ]
    },
    {
     "name": "stderr",
     "output_type": "stream",
     "text": [
      "Training Epoch 78/100: 100%|██████████| 65/65 [05:59<00:00,  5.53s/batch]\n",
      "Validation Epoch 78/100: 100%|██████████| 9/9 [00:45<00:00,  5.00s/batch]\n"
     ]
    },
    {
     "name": "stdout",
     "output_type": "stream",
     "text": [
      "Epoch 78/100, Train Loss: 0.1689, Val Loss: 0.2186, Accuracy: 0.9300, Precision: 0.9378, Recall: 0.9300, F1 Score: 0.9293\n",
      "Validation loss decreased (0.219611 --> 0.218639).  Saving model ...\n"
     ]
    },
    {
     "name": "stderr",
     "output_type": "stream",
     "text": [
      "Training Epoch 79/100: 100%|██████████| 65/65 [05:59<00:00,  5.52s/batch]\n",
      "Validation Epoch 79/100: 100%|██████████| 9/9 [00:44<00:00,  4.98s/batch]\n"
     ]
    },
    {
     "name": "stdout",
     "output_type": "stream",
     "text": [
      "Epoch 79/100, Train Loss: 0.1664, Val Loss: 0.2177, Accuracy: 0.9295, Precision: 0.9372, Recall: 0.9295, F1 Score: 0.9288\n",
      "Validation loss decreased (0.218639 --> 0.217688).  Saving model ...\n"
     ]
    },
    {
     "name": "stderr",
     "output_type": "stream",
     "text": [
      "Training Epoch 80/100: 100%|██████████| 65/65 [05:59<00:00,  5.52s/batch]\n",
      "Validation Epoch 80/100: 100%|██████████| 9/9 [00:44<00:00,  5.00s/batch]\n"
     ]
    },
    {
     "name": "stdout",
     "output_type": "stream",
     "text": [
      "Epoch 80/100, Train Loss: 0.1652, Val Loss: 0.2165, Accuracy: 0.9305, Precision: 0.9381, Recall: 0.9305, F1 Score: 0.9298\n",
      "Validation loss decreased (0.217688 --> 0.216502).  Saving model ...\n"
     ]
    },
    {
     "name": "stderr",
     "output_type": "stream",
     "text": [
      "Training Epoch 81/100: 100%|██████████| 65/65 [05:59<00:00,  5.53s/batch]\n",
      "Validation Epoch 81/100: 100%|██████████| 9/9 [00:45<00:00,  5.01s/batch]\n"
     ]
    },
    {
     "name": "stdout",
     "output_type": "stream",
     "text": [
      "Epoch 81/100, Train Loss: 0.1634, Val Loss: 0.2160, Accuracy: 0.9310, Precision: 0.9385, Recall: 0.9310, F1 Score: 0.9303\n",
      "Validation loss decreased (0.216502 --> 0.216003).  Saving model ...\n"
     ]
    },
    {
     "name": "stderr",
     "output_type": "stream",
     "text": [
      "Training Epoch 82/100: 100%|██████████| 65/65 [05:58<00:00,  5.52s/batch]\n",
      "Validation Epoch 82/100: 100%|██████████| 9/9 [00:44<00:00,  4.99s/batch]\n"
     ]
    },
    {
     "name": "stdout",
     "output_type": "stream",
     "text": [
      "Epoch 82/100, Train Loss: 0.1617, Val Loss: 0.2148, Accuracy: 0.9310, Precision: 0.9384, Recall: 0.9310, F1 Score: 0.9303\n",
      "Validation loss decreased (0.216003 --> 0.214844).  Saving model ...\n"
     ]
    },
    {
     "name": "stderr",
     "output_type": "stream",
     "text": [
      "Training Epoch 83/100: 100%|██████████| 65/65 [05:58<00:00,  5.52s/batch]\n",
      "Validation Epoch 83/100: 100%|██████████| 9/9 [00:45<00:00,  5.02s/batch]\n"
     ]
    },
    {
     "name": "stdout",
     "output_type": "stream",
     "text": [
      "Epoch 83/100, Train Loss: 0.1603, Val Loss: 0.2142, Accuracy: 0.9315, Precision: 0.9389, Recall: 0.9315, F1 Score: 0.9308\n",
      "Validation loss decreased (0.214844 --> 0.214215).  Saving model ...\n"
     ]
    },
    {
     "name": "stderr",
     "output_type": "stream",
     "text": [
      "Training Epoch 84/100: 100%|██████████| 65/65 [05:59<00:00,  5.53s/batch]\n",
      "Validation Epoch 84/100: 100%|██████████| 9/9 [00:44<00:00,  5.00s/batch]\n"
     ]
    },
    {
     "name": "stdout",
     "output_type": "stream",
     "text": [
      "Epoch 84/100, Train Loss: 0.1582, Val Loss: 0.2134, Accuracy: 0.9315, Precision: 0.9389, Recall: 0.9315, F1 Score: 0.9308\n",
      "Validation loss decreased (0.214215 --> 0.213418).  Saving model ...\n"
     ]
    },
    {
     "name": "stderr",
     "output_type": "stream",
     "text": [
      "Training Epoch 85/100: 100%|██████████| 65/65 [06:03<00:00,  5.59s/batch]\n",
      "Validation Epoch 85/100: 100%|██████████| 9/9 [00:44<00:00,  4.99s/batch]\n"
     ]
    },
    {
     "name": "stdout",
     "output_type": "stream",
     "text": [
      "Epoch 85/100, Train Loss: 0.1570, Val Loss: 0.2125, Accuracy: 0.9315, Precision: 0.9389, Recall: 0.9315, F1 Score: 0.9308\n",
      "Validation loss decreased (0.213418 --> 0.212451).  Saving model ...\n"
     ]
    },
    {
     "name": "stderr",
     "output_type": "stream",
     "text": [
      "Training Epoch 86/100: 100%|██████████| 65/65 [05:59<00:00,  5.53s/batch]\n",
      "Validation Epoch 86/100: 100%|██████████| 9/9 [00:45<00:00,  5.01s/batch]\n"
     ]
    },
    {
     "name": "stdout",
     "output_type": "stream",
     "text": [
      "Epoch 86/100, Train Loss: 0.1560, Val Loss: 0.2119, Accuracy: 0.9315, Precision: 0.9389, Recall: 0.9315, F1 Score: 0.9308\n",
      "Validation loss decreased (0.212451 --> 0.211893).  Saving model ...\n"
     ]
    },
    {
     "name": "stderr",
     "output_type": "stream",
     "text": [
      "Training Epoch 87/100: 100%|██████████| 65/65 [05:59<00:00,  5.53s/batch]\n",
      "Validation Epoch 87/100: 100%|██████████| 9/9 [00:45<00:00,  5.01s/batch]\n"
     ]
    },
    {
     "name": "stdout",
     "output_type": "stream",
     "text": [
      "Epoch 87/100, Train Loss: 0.1541, Val Loss: 0.2110, Accuracy: 0.9315, Precision: 0.9391, Recall: 0.9315, F1 Score: 0.9308\n",
      "Validation loss decreased (0.211893 --> 0.210955).  Saving model ...\n"
     ]
    },
    {
     "name": "stderr",
     "output_type": "stream",
     "text": [
      "Training Epoch 88/100: 100%|██████████| 65/65 [05:59<00:00,  5.53s/batch]\n",
      "Validation Epoch 88/100: 100%|██████████| 9/9 [00:44<00:00,  5.00s/batch]\n"
     ]
    },
    {
     "name": "stdout",
     "output_type": "stream",
     "text": [
      "Epoch 88/100, Train Loss: 0.1523, Val Loss: 0.2103, Accuracy: 0.9320, Precision: 0.9396, Recall: 0.9320, F1 Score: 0.9313\n",
      "Validation loss decreased (0.210955 --> 0.210267).  Saving model ...\n"
     ]
    },
    {
     "name": "stderr",
     "output_type": "stream",
     "text": [
      "Training Epoch 89/100: 100%|██████████| 65/65 [05:59<00:00,  5.52s/batch]\n",
      "Validation Epoch 89/100: 100%|██████████| 9/9 [00:45<00:00,  5.00s/batch]\n"
     ]
    },
    {
     "name": "stdout",
     "output_type": "stream",
     "text": [
      "Epoch 89/100, Train Loss: 0.1506, Val Loss: 0.2097, Accuracy: 0.9320, Precision: 0.9396, Recall: 0.9320, F1 Score: 0.9313\n",
      "Validation loss decreased (0.210267 --> 0.209750).  Saving model ...\n"
     ]
    },
    {
     "name": "stderr",
     "output_type": "stream",
     "text": [
      "Training Epoch 90/100: 100%|██████████| 65/65 [06:00<00:00,  5.54s/batch]\n",
      "Validation Epoch 90/100: 100%|██████████| 9/9 [00:44<00:00,  4.99s/batch]\n"
     ]
    },
    {
     "name": "stdout",
     "output_type": "stream",
     "text": [
      "Epoch 90/100, Train Loss: 0.1511, Val Loss: 0.2092, Accuracy: 0.9315, Precision: 0.9389, Recall: 0.9315, F1 Score: 0.9308\n",
      "Validation loss decreased (0.209750 --> 0.209187).  Saving model ...\n"
     ]
    },
    {
     "name": "stderr",
     "output_type": "stream",
     "text": [
      "Training Epoch 91/100: 100%|██████████| 65/65 [05:59<00:00,  5.53s/batch]\n",
      "Validation Epoch 91/100: 100%|██████████| 9/9 [00:45<00:00,  5.01s/batch]\n"
     ]
    },
    {
     "name": "stdout",
     "output_type": "stream",
     "text": [
      "Epoch 91/100, Train Loss: 0.1486, Val Loss: 0.2088, Accuracy: 0.9315, Precision: 0.9392, Recall: 0.9315, F1 Score: 0.9308\n",
      "Validation loss decreased (0.209187 --> 0.208758).  Saving model ...\n"
     ]
    },
    {
     "name": "stderr",
     "output_type": "stream",
     "text": [
      "Training Epoch 92/100: 100%|██████████| 65/65 [05:59<00:00,  5.53s/batch]\n",
      "Validation Epoch 92/100: 100%|██████████| 9/9 [00:44<00:00,  5.00s/batch]\n"
     ]
    },
    {
     "name": "stdout",
     "output_type": "stream",
     "text": [
      "Epoch 92/100, Train Loss: 0.1477, Val Loss: 0.2079, Accuracy: 0.9325, Precision: 0.9399, Recall: 0.9325, F1 Score: 0.9318\n",
      "Validation loss decreased (0.208758 --> 0.207890).  Saving model ...\n"
     ]
    },
    {
     "name": "stderr",
     "output_type": "stream",
     "text": [
      "Training Epoch 93/100: 100%|██████████| 65/65 [06:00<00:00,  5.54s/batch]\n",
      "Validation Epoch 93/100: 100%|██████████| 9/9 [00:45<00:00,  5.03s/batch]\n"
     ]
    },
    {
     "name": "stdout",
     "output_type": "stream",
     "text": [
      "Epoch 93/100, Train Loss: 0.1449, Val Loss: 0.2074, Accuracy: 0.9325, Precision: 0.9399, Recall: 0.9325, F1 Score: 0.9318\n",
      "Validation loss decreased (0.207890 --> 0.207442).  Saving model ...\n"
     ]
    },
    {
     "name": "stderr",
     "output_type": "stream",
     "text": [
      "Training Epoch 94/100: 100%|██████████| 65/65 [06:01<00:00,  5.56s/batch]\n",
      "Validation Epoch 94/100: 100%|██████████| 9/9 [00:45<00:00,  5.05s/batch]\n"
     ]
    },
    {
     "name": "stdout",
     "output_type": "stream",
     "text": [
      "Epoch 94/100, Train Loss: 0.1442, Val Loss: 0.2067, Accuracy: 0.9325, Precision: 0.9399, Recall: 0.9325, F1 Score: 0.9318\n",
      "Validation loss decreased (0.207442 --> 0.206693).  Saving model ...\n"
     ]
    },
    {
     "name": "stderr",
     "output_type": "stream",
     "text": [
      "Training Epoch 95/100: 100%|██████████| 65/65 [06:02<00:00,  5.57s/batch]\n",
      "Validation Epoch 95/100: 100%|██████████| 9/9 [00:45<00:00,  5.04s/batch]\n"
     ]
    },
    {
     "name": "stdout",
     "output_type": "stream",
     "text": [
      "Epoch 95/100, Train Loss: 0.1431, Val Loss: 0.2064, Accuracy: 0.9325, Precision: 0.9399, Recall: 0.9325, F1 Score: 0.9318\n",
      "Validation loss decreased (0.206693 --> 0.206433).  Saving model ...\n"
     ]
    },
    {
     "name": "stderr",
     "output_type": "stream",
     "text": [
      "Training Epoch 96/100: 100%|██████████| 65/65 [06:02<00:00,  5.58s/batch]\n",
      "Validation Epoch 96/100: 100%|██████████| 9/9 [00:45<00:00,  5.06s/batch]\n"
     ]
    },
    {
     "name": "stdout",
     "output_type": "stream",
     "text": [
      "Epoch 96/100, Train Loss: 0.1429, Val Loss: 0.2059, Accuracy: 0.9325, Precision: 0.9399, Recall: 0.9325, F1 Score: 0.9318\n",
      "Validation loss decreased (0.206433 --> 0.205917).  Saving model ...\n"
     ]
    },
    {
     "name": "stderr",
     "output_type": "stream",
     "text": [
      "Training Epoch 97/100: 100%|██████████| 65/65 [06:03<00:00,  5.58s/batch]\n",
      "Validation Epoch 97/100: 100%|██████████| 9/9 [00:45<00:00,  5.06s/batch]\n"
     ]
    },
    {
     "name": "stdout",
     "output_type": "stream",
     "text": [
      "Epoch 97/100, Train Loss: 0.1413, Val Loss: 0.2051, Accuracy: 0.9320, Precision: 0.9393, Recall: 0.9320, F1 Score: 0.9313\n",
      "Validation loss decreased (0.205917 --> 0.205117).  Saving model ...\n"
     ]
    },
    {
     "name": "stderr",
     "output_type": "stream",
     "text": [
      "Training Epoch 98/100: 100%|██████████| 65/65 [06:01<00:00,  5.56s/batch]\n",
      "Validation Epoch 98/100: 100%|██████████| 9/9 [00:45<00:00,  5.01s/batch]\n"
     ]
    },
    {
     "name": "stdout",
     "output_type": "stream",
     "text": [
      "Epoch 98/100, Train Loss: 0.1391, Val Loss: 0.2047, Accuracy: 0.9325, Precision: 0.9396, Recall: 0.9325, F1 Score: 0.9318\n",
      "Validation loss decreased (0.205117 --> 0.204702).  Saving model ...\n"
     ]
    },
    {
     "name": "stderr",
     "output_type": "stream",
     "text": [
      "Training Epoch 99/100: 100%|██████████| 65/65 [06:00<00:00,  5.55s/batch]\n",
      "Validation Epoch 99/100: 100%|██████████| 9/9 [00:45<00:00,  5.01s/batch]\n"
     ]
    },
    {
     "name": "stdout",
     "output_type": "stream",
     "text": [
      "Epoch 99/100, Train Loss: 0.1379, Val Loss: 0.2042, Accuracy: 0.9334, Precision: 0.9406, Recall: 0.9334, F1 Score: 0.9327\n",
      "Validation loss decreased (0.204702 --> 0.204242).  Saving model ...\n"
     ]
    },
    {
     "name": "stderr",
     "output_type": "stream",
     "text": [
      "Training Epoch 100/100: 100%|██████████| 65/65 [06:00<00:00,  5.55s/batch]\n",
      "Validation Epoch 100/100: 100%|██████████| 9/9 [00:45<00:00,  5.01s/batch]\n"
     ]
    },
    {
     "name": "stdout",
     "output_type": "stream",
     "text": [
      "Epoch 100/100, Train Loss: 0.1380, Val Loss: 0.2038, Accuracy: 0.9339, Precision: 0.9406, Recall: 0.9339, F1 Score: 0.9334\n",
      "Validation loss decreased (0.204242 --> 0.203822).  Saving model ...\n"
     ]
    },
    {
     "name": "stderr",
     "output_type": "stream",
     "text": [
      "Testing: 100%|██████████| 9/9 [00:45<00:00,  5.11s/batch]"
     ]
    },
    {
     "name": "stdout",
     "output_type": "stream",
     "text": [
      "Test Loss: 0.2384, Accuracy: 0.9344, Precision: 0.9378, Recall: 0.9344, F1 Score: 0.9340\n"
     ]
    },
    {
     "name": "stderr",
     "output_type": "stream",
     "text": [
      "\n"
     ]
    }
   ],
   "source": [
    "# User-specified model\n",
    "#748m 0.4s\n",
    "model_name = \"deit_base_patch16_224\"  # Replace this with your desired model name\n",
    "do_transfer_learning(model_name=model_name)"
   ]
  },
  {
   "cell_type": "code",
   "execution_count": 8,
   "metadata": {},
   "outputs": [
    {
     "name": "stdout",
     "output_type": "stream",
     "text": [
      "Train dataset size: 16464\n",
      "Validation dataset size: 2058\n",
      "Test dataset size: 2058\n",
      "MPS device found.\n",
      "Created folder: results/transferlearning/stanford_dog/deit-tiny-patch16-224\n",
      "Folder already exists: checkpoints/transferlearning/stanford_dog\n"
     ]
    },
    {
     "name": "stderr",
     "output_type": "stream",
     "text": [
      "Some weights of ViTModel were not initialized from the model checkpoint at facebook/deit-tiny-patch16-224 and are newly initialized: ['vit.pooler.dense.bias', 'vit.pooler.dense.weight']\n",
      "You should probably TRAIN this model on a down-stream task to be able to use it for predictions and inference.\n",
      "Training Epoch 1/100: 100%|██████████| 65/65 [01:25<00:00,  1.32s/batch]\n",
      "Validation Epoch 1/100: 100%|██████████| 9/9 [00:10<00:00,  1.19s/batch]\n"
     ]
    },
    {
     "name": "stdout",
     "output_type": "stream",
     "text": [
      "Epoch 1/100, Train Loss: 4.9677, Val Loss: 4.8598, Accuracy: 0.0180, Precision: 0.0202, Recall: 0.0180, F1 Score: 0.0163\n",
      "Validation loss decreased (inf --> 4.859831).  Saving model ...\n"
     ]
    },
    {
     "name": "stderr",
     "output_type": "stream",
     "text": [
      "Training Epoch 2/100: 100%|██████████| 65/65 [01:25<00:00,  1.31s/batch]\n",
      "Validation Epoch 2/100: 100%|██████████| 9/9 [00:10<00:00,  1.19s/batch]\n"
     ]
    },
    {
     "name": "stdout",
     "output_type": "stream",
     "text": [
      "Epoch 2/100, Train Loss: 4.7273, Val Loss: 4.6256, Accuracy: 0.0384, Precision: 0.0377, Recall: 0.0384, F1 Score: 0.0327\n",
      "Validation loss decreased (4.859831 --> 4.625630).  Saving model ...\n"
     ]
    },
    {
     "name": "stderr",
     "output_type": "stream",
     "text": [
      "Training Epoch 3/100: 100%|██████████| 65/65 [01:24<00:00,  1.30s/batch]\n",
      "Validation Epoch 3/100: 100%|██████████| 9/9 [00:10<00:00,  1.18s/batch]\n"
     ]
    },
    {
     "name": "stdout",
     "output_type": "stream",
     "text": [
      "Epoch 3/100, Train Loss: 4.4953, Val Loss: 4.3999, Accuracy: 0.0646, Precision: 0.0554, Recall: 0.0646, F1 Score: 0.0517\n",
      "Validation loss decreased (4.625630 --> 4.399924).  Saving model ...\n"
     ]
    },
    {
     "name": "stderr",
     "output_type": "stream",
     "text": [
      "Training Epoch 4/100: 100%|██████████| 65/65 [01:24<00:00,  1.30s/batch]\n",
      "Validation Epoch 4/100: 100%|██████████| 9/9 [00:10<00:00,  1.17s/batch]\n"
     ]
    },
    {
     "name": "stdout",
     "output_type": "stream",
     "text": [
      "Epoch 4/100, Train Loss: 4.2665, Val Loss: 4.1827, Accuracy: 0.1054, Precision: 0.0977, Recall: 0.1054, F1 Score: 0.0867\n",
      "Validation loss decreased (4.399924 --> 4.182743).  Saving model ...\n"
     ]
    },
    {
     "name": "stderr",
     "output_type": "stream",
     "text": [
      "Training Epoch 5/100: 100%|██████████| 65/65 [01:24<00:00,  1.29s/batch]\n",
      "Validation Epoch 5/100: 100%|██████████| 9/9 [00:10<00:00,  1.17s/batch]\n"
     ]
    },
    {
     "name": "stdout",
     "output_type": "stream",
     "text": [
      "Epoch 5/100, Train Loss: 4.0529, Val Loss: 3.9746, Accuracy: 0.1599, Precision: 0.1559, Recall: 0.1599, F1 Score: 0.1371\n",
      "Validation loss decreased (4.182743 --> 3.974572).  Saving model ...\n"
     ]
    },
    {
     "name": "stderr",
     "output_type": "stream",
     "text": [
      "Training Epoch 6/100: 100%|██████████| 65/65 [01:23<00:00,  1.29s/batch]\n",
      "Validation Epoch 6/100: 100%|██████████| 9/9 [00:10<00:00,  1.17s/batch]\n"
     ]
    },
    {
     "name": "stdout",
     "output_type": "stream",
     "text": [
      "Epoch 6/100, Train Loss: 3.8448, Val Loss: 3.7750, Accuracy: 0.2201, Precision: 0.2353, Recall: 0.2201, F1 Score: 0.1956\n",
      "Validation loss decreased (3.974572 --> 3.774995).  Saving model ...\n"
     ]
    },
    {
     "name": "stderr",
     "output_type": "stream",
     "text": [
      "Training Epoch 7/100: 100%|██████████| 65/65 [01:24<00:00,  1.30s/batch]\n",
      "Validation Epoch 7/100: 100%|██████████| 9/9 [00:10<00:00,  1.17s/batch]\n"
     ]
    },
    {
     "name": "stdout",
     "output_type": "stream",
     "text": [
      "Epoch 7/100, Train Loss: 3.6478, Val Loss: 3.5842, Accuracy: 0.2775, Precision: 0.2956, Recall: 0.2775, F1 Score: 0.2515\n",
      "Validation loss decreased (3.774995 --> 3.584239).  Saving model ...\n"
     ]
    },
    {
     "name": "stderr",
     "output_type": "stream",
     "text": [
      "Training Epoch 8/100: 100%|██████████| 65/65 [01:24<00:00,  1.30s/batch]\n",
      "Validation Epoch 8/100: 100%|██████████| 9/9 [00:10<00:00,  1.17s/batch]\n"
     ]
    },
    {
     "name": "stdout",
     "output_type": "stream",
     "text": [
      "Epoch 8/100, Train Loss: 3.4578, Val Loss: 3.4031, Accuracy: 0.3362, Precision: 0.3545, Recall: 0.3362, F1 Score: 0.3102\n",
      "Validation loss decreased (3.584239 --> 3.403052).  Saving model ...\n"
     ]
    },
    {
     "name": "stderr",
     "output_type": "stream",
     "text": [
      "Training Epoch 9/100: 100%|██████████| 65/65 [01:24<00:00,  1.29s/batch]\n",
      "Validation Epoch 9/100: 100%|██████████| 9/9 [00:10<00:00,  1.17s/batch]\n"
     ]
    },
    {
     "name": "stdout",
     "output_type": "stream",
     "text": [
      "Epoch 9/100, Train Loss: 3.2782, Val Loss: 3.2299, Accuracy: 0.3873, Precision: 0.4245, Recall: 0.3873, F1 Score: 0.3623\n",
      "Validation loss decreased (3.403052 --> 3.229944).  Saving model ...\n"
     ]
    },
    {
     "name": "stderr",
     "output_type": "stream",
     "text": [
      "Training Epoch 10/100: 100%|██████████| 65/65 [01:23<00:00,  1.29s/batch]\n",
      "Validation Epoch 10/100: 100%|██████████| 9/9 [00:10<00:00,  1.17s/batch]\n"
     ]
    },
    {
     "name": "stdout",
     "output_type": "stream",
     "text": [
      "Epoch 10/100, Train Loss: 3.1082, Val Loss: 3.0671, Accuracy: 0.4291, Precision: 0.4708, Recall: 0.4291, F1 Score: 0.4058\n",
      "Validation loss decreased (3.229944 --> 3.067115).  Saving model ...\n"
     ]
    },
    {
     "name": "stderr",
     "output_type": "stream",
     "text": [
      "Training Epoch 11/100: 100%|██████████| 65/65 [01:24<00:00,  1.29s/batch]\n",
      "Validation Epoch 11/100: 100%|██████████| 9/9 [00:10<00:00,  1.17s/batch]\n"
     ]
    },
    {
     "name": "stdout",
     "output_type": "stream",
     "text": [
      "Epoch 11/100, Train Loss: 2.9504, Val Loss: 2.9132, Accuracy: 0.4650, Precision: 0.5118, Recall: 0.4650, F1 Score: 0.4446\n",
      "Validation loss decreased (3.067115 --> 2.913245).  Saving model ...\n"
     ]
    },
    {
     "name": "stderr",
     "output_type": "stream",
     "text": [
      "Training Epoch 12/100: 100%|██████████| 65/65 [01:23<00:00,  1.29s/batch]\n",
      "Validation Epoch 12/100: 100%|██████████| 9/9 [00:10<00:00,  1.16s/batch]\n"
     ]
    },
    {
     "name": "stdout",
     "output_type": "stream",
     "text": [
      "Epoch 12/100, Train Loss: 2.7988, Val Loss: 2.7689, Accuracy: 0.4961, Precision: 0.5425, Recall: 0.4961, F1 Score: 0.4789\n",
      "Validation loss decreased (2.913245 --> 2.768869).  Saving model ...\n"
     ]
    },
    {
     "name": "stderr",
     "output_type": "stream",
     "text": [
      "Training Epoch 13/100: 100%|██████████| 65/65 [01:23<00:00,  1.29s/batch]\n",
      "Validation Epoch 13/100: 100%|██████████| 9/9 [00:10<00:00,  1.16s/batch]\n"
     ]
    },
    {
     "name": "stdout",
     "output_type": "stream",
     "text": [
      "Epoch 13/100, Train Loss: 2.6576, Val Loss: 2.6336, Accuracy: 0.5277, Precision: 0.5657, Recall: 0.5277, F1 Score: 0.5105\n",
      "Validation loss decreased (2.768869 --> 2.633598).  Saving model ...\n"
     ]
    },
    {
     "name": "stderr",
     "output_type": "stream",
     "text": [
      "Training Epoch 14/100: 100%|██████████| 65/65 [01:23<00:00,  1.29s/batch]\n",
      "Validation Epoch 14/100: 100%|██████████| 9/9 [00:10<00:00,  1.16s/batch]\n"
     ]
    },
    {
     "name": "stdout",
     "output_type": "stream",
     "text": [
      "Epoch 14/100, Train Loss: 2.5255, Val Loss: 2.5074, Accuracy: 0.5462, Precision: 0.5852, Recall: 0.5462, F1 Score: 0.5314\n",
      "Validation loss decreased (2.633598 --> 2.507391).  Saving model ...\n"
     ]
    },
    {
     "name": "stderr",
     "output_type": "stream",
     "text": [
      "Training Epoch 15/100: 100%|██████████| 65/65 [01:23<00:00,  1.29s/batch]\n",
      "Validation Epoch 15/100: 100%|██████████| 9/9 [00:10<00:00,  1.18s/batch]\n"
     ]
    },
    {
     "name": "stdout",
     "output_type": "stream",
     "text": [
      "Epoch 15/100, Train Loss: 2.4030, Val Loss: 2.3896, Accuracy: 0.5739, Precision: 0.6066, Recall: 0.5739, F1 Score: 0.5594\n",
      "Validation loss decreased (2.507391 --> 2.389643).  Saving model ...\n"
     ]
    },
    {
     "name": "stderr",
     "output_type": "stream",
     "text": [
      "Training Epoch 16/100: 100%|██████████| 65/65 [01:23<00:00,  1.29s/batch]\n",
      "Validation Epoch 16/100: 100%|██████████| 9/9 [00:10<00:00,  1.17s/batch]\n"
     ]
    },
    {
     "name": "stdout",
     "output_type": "stream",
     "text": [
      "Epoch 16/100, Train Loss: 2.2897, Val Loss: 2.2815, Accuracy: 0.5899, Precision: 0.6190, Recall: 0.5899, F1 Score: 0.5759\n",
      "Validation loss decreased (2.389643 --> 2.281471).  Saving model ...\n"
     ]
    },
    {
     "name": "stderr",
     "output_type": "stream",
     "text": [
      "Training Epoch 17/100: 100%|██████████| 65/65 [01:23<00:00,  1.29s/batch]\n",
      "Validation Epoch 17/100: 100%|██████████| 9/9 [00:10<00:00,  1.16s/batch]\n"
     ]
    },
    {
     "name": "stdout",
     "output_type": "stream",
     "text": [
      "Epoch 17/100, Train Loss: 2.1829, Val Loss: 2.1803, Accuracy: 0.6020, Precision: 0.6258, Recall: 0.6020, F1 Score: 0.5888\n",
      "Validation loss decreased (2.281471 --> 2.180314).  Saving model ...\n"
     ]
    },
    {
     "name": "stderr",
     "output_type": "stream",
     "text": [
      "Training Epoch 18/100: 100%|██████████| 65/65 [01:23<00:00,  1.29s/batch]\n",
      "Validation Epoch 18/100: 100%|██████████| 9/9 [00:10<00:00,  1.17s/batch]\n"
     ]
    },
    {
     "name": "stdout",
     "output_type": "stream",
     "text": [
      "Epoch 18/100, Train Loss: 2.0863, Val Loss: 2.0866, Accuracy: 0.6210, Precision: 0.6532, Recall: 0.6210, F1 Score: 0.6100\n",
      "Validation loss decreased (2.180314 --> 2.086620).  Saving model ...\n"
     ]
    },
    {
     "name": "stderr",
     "output_type": "stream",
     "text": [
      "Training Epoch 19/100: 100%|██████████| 65/65 [01:23<00:00,  1.29s/batch]\n",
      "Validation Epoch 19/100: 100%|██████████| 9/9 [00:10<00:00,  1.17s/batch]\n"
     ]
    },
    {
     "name": "stdout",
     "output_type": "stream",
     "text": [
      "Epoch 19/100, Train Loss: 1.9967, Val Loss: 2.0006, Accuracy: 0.6365, Precision: 0.6640, Recall: 0.6365, F1 Score: 0.6260\n",
      "Validation loss decreased (2.086620 --> 2.000599).  Saving model ...\n"
     ]
    },
    {
     "name": "stderr",
     "output_type": "stream",
     "text": [
      "Training Epoch 20/100: 100%|██████████| 65/65 [01:24<00:00,  1.29s/batch]\n",
      "Validation Epoch 20/100: 100%|██████████| 9/9 [00:10<00:00,  1.16s/batch]\n"
     ]
    },
    {
     "name": "stdout",
     "output_type": "stream",
     "text": [
      "Epoch 20/100, Train Loss: 1.9150, Val Loss: 1.9210, Accuracy: 0.6477, Precision: 0.6695, Recall: 0.6477, F1 Score: 0.6387\n",
      "Validation loss decreased (2.000599 --> 1.920984).  Saving model ...\n"
     ]
    },
    {
     "name": "stderr",
     "output_type": "stream",
     "text": [
      "Training Epoch 21/100: 100%|██████████| 65/65 [01:23<00:00,  1.29s/batch]\n",
      "Validation Epoch 21/100: 100%|██████████| 9/9 [00:10<00:00,  1.16s/batch]\n"
     ]
    },
    {
     "name": "stdout",
     "output_type": "stream",
     "text": [
      "Epoch 21/100, Train Loss: 1.8367, Val Loss: 1.8475, Accuracy: 0.6594, Precision: 0.6798, Recall: 0.6594, F1 Score: 0.6513\n",
      "Validation loss decreased (1.920984 --> 1.847453).  Saving model ...\n"
     ]
    },
    {
     "name": "stderr",
     "output_type": "stream",
     "text": [
      "Training Epoch 22/100: 100%|██████████| 65/65 [01:24<00:00,  1.30s/batch]\n",
      "Validation Epoch 22/100: 100%|██████████| 9/9 [00:10<00:00,  1.21s/batch]\n"
     ]
    },
    {
     "name": "stdout",
     "output_type": "stream",
     "text": [
      "Epoch 22/100, Train Loss: 1.7701, Val Loss: 1.7795, Accuracy: 0.6662, Precision: 0.6834, Recall: 0.6662, F1 Score: 0.6593\n",
      "Validation loss decreased (1.847453 --> 1.779540).  Saving model ...\n"
     ]
    },
    {
     "name": "stderr",
     "output_type": "stream",
     "text": [
      "Training Epoch 23/100: 100%|██████████| 65/65 [01:24<00:00,  1.30s/batch]\n",
      "Validation Epoch 23/100: 100%|██████████| 9/9 [00:10<00:00,  1.18s/batch]\n"
     ]
    },
    {
     "name": "stdout",
     "output_type": "stream",
     "text": [
      "Epoch 23/100, Train Loss: 1.7039, Val Loss: 1.7173, Accuracy: 0.6749, Precision: 0.6894, Recall: 0.6749, F1 Score: 0.6684\n",
      "Validation loss decreased (1.779540 --> 1.717293).  Saving model ...\n"
     ]
    },
    {
     "name": "stderr",
     "output_type": "stream",
     "text": [
      "Training Epoch 24/100: 100%|██████████| 65/65 [01:24<00:00,  1.29s/batch]\n",
      "Validation Epoch 24/100: 100%|██████████| 9/9 [00:10<00:00,  1.17s/batch]\n"
     ]
    },
    {
     "name": "stdout",
     "output_type": "stream",
     "text": [
      "Epoch 24/100, Train Loss: 1.6417, Val Loss: 1.6597, Accuracy: 0.6837, Precision: 0.6975, Recall: 0.6837, F1 Score: 0.6773\n",
      "Validation loss decreased (1.717293 --> 1.659694).  Saving model ...\n"
     ]
    },
    {
     "name": "stderr",
     "output_type": "stream",
     "text": [
      "Training Epoch 25/100: 100%|██████████| 65/65 [01:24<00:00,  1.30s/batch]\n",
      "Validation Epoch 25/100: 100%|██████████| 9/9 [00:10<00:00,  1.17s/batch]\n"
     ]
    },
    {
     "name": "stdout",
     "output_type": "stream",
     "text": [
      "Epoch 25/100, Train Loss: 1.5872, Val Loss: 1.6067, Accuracy: 0.6905, Precision: 0.7036, Recall: 0.6905, F1 Score: 0.6842\n",
      "Validation loss decreased (1.659694 --> 1.606705).  Saving model ...\n"
     ]
    },
    {
     "name": "stderr",
     "output_type": "stream",
     "text": [
      "Training Epoch 26/100: 100%|██████████| 65/65 [01:24<00:00,  1.30s/batch]\n",
      "Validation Epoch 26/100: 100%|██████████| 9/9 [00:10<00:00,  1.18s/batch]\n"
     ]
    },
    {
     "name": "stdout",
     "output_type": "stream",
     "text": [
      "Epoch 26/100, Train Loss: 1.5357, Val Loss: 1.5575, Accuracy: 0.6944, Precision: 0.7075, Recall: 0.6944, F1 Score: 0.6884\n",
      "Validation loss decreased (1.606705 --> 1.557541).  Saving model ...\n"
     ]
    },
    {
     "name": "stderr",
     "output_type": "stream",
     "text": [
      "Training Epoch 27/100: 100%|██████████| 65/65 [01:24<00:00,  1.30s/batch]\n",
      "Validation Epoch 27/100: 100%|██████████| 9/9 [00:10<00:00,  1.17s/batch]\n"
     ]
    },
    {
     "name": "stdout",
     "output_type": "stream",
     "text": [
      "Epoch 27/100, Train Loss: 1.4892, Val Loss: 1.5122, Accuracy: 0.6968, Precision: 0.7091, Recall: 0.6968, F1 Score: 0.6912\n",
      "Validation loss decreased (1.557541 --> 1.512196).  Saving model ...\n"
     ]
    },
    {
     "name": "stderr",
     "output_type": "stream",
     "text": [
      "Training Epoch 28/100: 100%|██████████| 65/65 [01:24<00:00,  1.30s/batch]\n",
      "Validation Epoch 28/100: 100%|██████████| 9/9 [00:10<00:00,  1.17s/batch]\n"
     ]
    },
    {
     "name": "stdout",
     "output_type": "stream",
     "text": [
      "Epoch 28/100, Train Loss: 1.4473, Val Loss: 1.4708, Accuracy: 0.6997, Precision: 0.7125, Recall: 0.6997, F1 Score: 0.6946\n",
      "Validation loss decreased (1.512196 --> 1.470820).  Saving model ...\n"
     ]
    },
    {
     "name": "stderr",
     "output_type": "stream",
     "text": [
      "Training Epoch 29/100: 100%|██████████| 65/65 [01:23<00:00,  1.29s/batch]\n",
      "Validation Epoch 29/100: 100%|██████████| 9/9 [00:10<00:00,  1.17s/batch]\n"
     ]
    },
    {
     "name": "stdout",
     "output_type": "stream",
     "text": [
      "Epoch 29/100, Train Loss: 1.4073, Val Loss: 1.4319, Accuracy: 0.7046, Precision: 0.7184, Recall: 0.7046, F1 Score: 0.6999\n",
      "Validation loss decreased (1.470820 --> 1.431945).  Saving model ...\n"
     ]
    },
    {
     "name": "stderr",
     "output_type": "stream",
     "text": [
      "Training Epoch 30/100: 100%|██████████| 65/65 [01:24<00:00,  1.30s/batch]\n",
      "Validation Epoch 30/100: 100%|██████████| 9/9 [00:10<00:00,  1.17s/batch]\n"
     ]
    },
    {
     "name": "stdout",
     "output_type": "stream",
     "text": [
      "Epoch 30/100, Train Loss: 1.3709, Val Loss: 1.3956, Accuracy: 0.7085, Precision: 0.7221, Recall: 0.7085, F1 Score: 0.7043\n",
      "Validation loss decreased (1.431945 --> 1.395551).  Saving model ...\n"
     ]
    },
    {
     "name": "stderr",
     "output_type": "stream",
     "text": [
      "Training Epoch 31/100: 100%|██████████| 65/65 [01:24<00:00,  1.30s/batch]\n",
      "Validation Epoch 31/100: 100%|██████████| 9/9 [00:10<00:00,  1.17s/batch]\n"
     ]
    },
    {
     "name": "stdout",
     "output_type": "stream",
     "text": [
      "Epoch 31/100, Train Loss: 1.3335, Val Loss: 1.3628, Accuracy: 0.7104, Precision: 0.7232, Recall: 0.7104, F1 Score: 0.7061\n",
      "Validation loss decreased (1.395551 --> 1.362782).  Saving model ...\n"
     ]
    },
    {
     "name": "stderr",
     "output_type": "stream",
     "text": [
      "Training Epoch 32/100: 100%|██████████| 65/65 [01:24<00:00,  1.30s/batch]\n",
      "Validation Epoch 32/100: 100%|██████████| 9/9 [00:10<00:00,  1.17s/batch]\n"
     ]
    },
    {
     "name": "stdout",
     "output_type": "stream",
     "text": [
      "Epoch 32/100, Train Loss: 1.3030, Val Loss: 1.3314, Accuracy: 0.7148, Precision: 0.7265, Recall: 0.7148, F1 Score: 0.7109\n",
      "Validation loss decreased (1.362782 --> 1.331361).  Saving model ...\n"
     ]
    },
    {
     "name": "stderr",
     "output_type": "stream",
     "text": [
      "Training Epoch 33/100: 100%|██████████| 65/65 [01:24<00:00,  1.29s/batch]\n",
      "Validation Epoch 33/100: 100%|██████████| 9/9 [00:10<00:00,  1.18s/batch]\n"
     ]
    },
    {
     "name": "stdout",
     "output_type": "stream",
     "text": [
      "Epoch 33/100, Train Loss: 1.2724, Val Loss: 1.3025, Accuracy: 0.7177, Precision: 0.7287, Recall: 0.7177, F1 Score: 0.7135\n",
      "Validation loss decreased (1.331361 --> 1.302476).  Saving model ...\n"
     ]
    },
    {
     "name": "stderr",
     "output_type": "stream",
     "text": [
      "Training Epoch 34/100: 100%|██████████| 65/65 [01:24<00:00,  1.29s/batch]\n",
      "Validation Epoch 34/100: 100%|██████████| 9/9 [00:10<00:00,  1.18s/batch]\n"
     ]
    },
    {
     "name": "stdout",
     "output_type": "stream",
     "text": [
      "Epoch 34/100, Train Loss: 1.2456, Val Loss: 1.2757, Accuracy: 0.7216, Precision: 0.7324, Recall: 0.7216, F1 Score: 0.7176\n",
      "Validation loss decreased (1.302476 --> 1.275675).  Saving model ...\n"
     ]
    },
    {
     "name": "stderr",
     "output_type": "stream",
     "text": [
      "Training Epoch 35/100: 100%|██████████| 65/65 [01:24<00:00,  1.29s/batch]\n",
      "Validation Epoch 35/100: 100%|██████████| 9/9 [00:10<00:00,  1.17s/batch]\n"
     ]
    },
    {
     "name": "stdout",
     "output_type": "stream",
     "text": [
      "Epoch 35/100, Train Loss: 1.2163, Val Loss: 1.2506, Accuracy: 0.7250, Precision: 0.7345, Recall: 0.7250, F1 Score: 0.7212\n",
      "Validation loss decreased (1.275675 --> 1.250631).  Saving model ...\n"
     ]
    },
    {
     "name": "stderr",
     "output_type": "stream",
     "text": [
      "Training Epoch 36/100: 100%|██████████| 65/65 [01:24<00:00,  1.29s/batch]\n",
      "Validation Epoch 36/100: 100%|██████████| 9/9 [00:10<00:00,  1.15s/batch]\n"
     ]
    },
    {
     "name": "stdout",
     "output_type": "stream",
     "text": [
      "Epoch 36/100, Train Loss: 1.1946, Val Loss: 1.2272, Accuracy: 0.7289, Precision: 0.7389, Recall: 0.7289, F1 Score: 0.7252\n",
      "Validation loss decreased (1.250631 --> 1.227207).  Saving model ...\n"
     ]
    },
    {
     "name": "stderr",
     "output_type": "stream",
     "text": [
      "Training Epoch 37/100: 100%|██████████| 65/65 [01:24<00:00,  1.30s/batch]\n",
      "Validation Epoch 37/100: 100%|██████████| 9/9 [00:10<00:00,  1.17s/batch]\n"
     ]
    },
    {
     "name": "stdout",
     "output_type": "stream",
     "text": [
      "Epoch 37/100, Train Loss: 1.1698, Val Loss: 1.2051, Accuracy: 0.7313, Precision: 0.7414, Recall: 0.7313, F1 Score: 0.7280\n",
      "Validation loss decreased (1.227207 --> 1.205099).  Saving model ...\n"
     ]
    },
    {
     "name": "stderr",
     "output_type": "stream",
     "text": [
      "Training Epoch 38/100: 100%|██████████| 65/65 [01:24<00:00,  1.30s/batch]\n",
      "Validation Epoch 38/100: 100%|██████████| 9/9 [00:10<00:00,  1.15s/batch]\n"
     ]
    },
    {
     "name": "stdout",
     "output_type": "stream",
     "text": [
      "Epoch 38/100, Train Loss: 1.1490, Val Loss: 1.1844, Accuracy: 0.7318, Precision: 0.7425, Recall: 0.7318, F1 Score: 0.7287\n",
      "Validation loss decreased (1.205099 --> 1.184392).  Saving model ...\n"
     ]
    },
    {
     "name": "stderr",
     "output_type": "stream",
     "text": [
      "Training Epoch 39/100: 100%|██████████| 65/65 [01:24<00:00,  1.30s/batch]\n",
      "Validation Epoch 39/100: 100%|██████████| 9/9 [00:10<00:00,  1.18s/batch]\n"
     ]
    },
    {
     "name": "stdout",
     "output_type": "stream",
     "text": [
      "Epoch 39/100, Train Loss: 1.1277, Val Loss: 1.1651, Accuracy: 0.7352, Precision: 0.7465, Recall: 0.7352, F1 Score: 0.7323\n",
      "Validation loss decreased (1.184392 --> 1.165115).  Saving model ...\n"
     ]
    },
    {
     "name": "stderr",
     "output_type": "stream",
     "text": [
      "Training Epoch 40/100: 100%|██████████| 65/65 [01:24<00:00,  1.29s/batch]\n",
      "Validation Epoch 40/100: 100%|██████████| 9/9 [00:10<00:00,  1.18s/batch]\n"
     ]
    },
    {
     "name": "stdout",
     "output_type": "stream",
     "text": [
      "Epoch 40/100, Train Loss: 1.1089, Val Loss: 1.1468, Accuracy: 0.7371, Precision: 0.7481, Recall: 0.7371, F1 Score: 0.7342\n",
      "Validation loss decreased (1.165115 --> 1.146839).  Saving model ...\n"
     ]
    },
    {
     "name": "stderr",
     "output_type": "stream",
     "text": [
      "Training Epoch 41/100: 100%|██████████| 65/65 [01:24<00:00,  1.30s/batch]\n",
      "Validation Epoch 41/100: 100%|██████████| 9/9 [00:10<00:00,  1.18s/batch]\n"
     ]
    },
    {
     "name": "stdout",
     "output_type": "stream",
     "text": [
      "Epoch 41/100, Train Loss: 1.0902, Val Loss: 1.1301, Accuracy: 0.7376, Precision: 0.7482, Recall: 0.7376, F1 Score: 0.7351\n",
      "Validation loss decreased (1.146839 --> 1.130057).  Saving model ...\n"
     ]
    },
    {
     "name": "stderr",
     "output_type": "stream",
     "text": [
      "Training Epoch 42/100: 100%|██████████| 65/65 [01:23<00:00,  1.29s/batch]\n",
      "Validation Epoch 42/100: 100%|██████████| 9/9 [00:10<00:00,  1.17s/batch]\n"
     ]
    },
    {
     "name": "stdout",
     "output_type": "stream",
     "text": [
      "Epoch 42/100, Train Loss: 1.0739, Val Loss: 1.1138, Accuracy: 0.7396, Precision: 0.7509, Recall: 0.7396, F1 Score: 0.7374\n",
      "Validation loss decreased (1.130057 --> 1.113759).  Saving model ...\n"
     ]
    },
    {
     "name": "stderr",
     "output_type": "stream",
     "text": [
      "Training Epoch 43/100: 100%|██████████| 65/65 [01:24<00:00,  1.29s/batch]\n",
      "Validation Epoch 43/100: 100%|██████████| 9/9 [00:10<00:00,  1.17s/batch]\n"
     ]
    },
    {
     "name": "stdout",
     "output_type": "stream",
     "text": [
      "Epoch 43/100, Train Loss: 1.0574, Val Loss: 1.0982, Accuracy: 0.7400, Precision: 0.7510, Recall: 0.7400, F1 Score: 0.7380\n",
      "Validation loss decreased (1.113759 --> 1.098207).  Saving model ...\n"
     ]
    },
    {
     "name": "stderr",
     "output_type": "stream",
     "text": [
      "Training Epoch 44/100: 100%|██████████| 65/65 [01:23<00:00,  1.29s/batch]\n",
      "Validation Epoch 44/100: 100%|██████████| 9/9 [00:10<00:00,  1.17s/batch]\n"
     ]
    },
    {
     "name": "stdout",
     "output_type": "stream",
     "text": [
      "Epoch 44/100, Train Loss: 1.0426, Val Loss: 1.0843, Accuracy: 0.7410, Precision: 0.7516, Recall: 0.7410, F1 Score: 0.7388\n",
      "Validation loss decreased (1.098207 --> 1.084325).  Saving model ...\n"
     ]
    },
    {
     "name": "stderr",
     "output_type": "stream",
     "text": [
      "Training Epoch 45/100: 100%|██████████| 65/65 [01:24<00:00,  1.29s/batch]\n",
      "Validation Epoch 45/100: 100%|██████████| 9/9 [00:10<00:00,  1.17s/batch]\n"
     ]
    },
    {
     "name": "stdout",
     "output_type": "stream",
     "text": [
      "Epoch 45/100, Train Loss: 1.0277, Val Loss: 1.0705, Accuracy: 0.7420, Precision: 0.7522, Recall: 0.7420, F1 Score: 0.7397\n",
      "Validation loss decreased (1.084325 --> 1.070515).  Saving model ...\n"
     ]
    },
    {
     "name": "stderr",
     "output_type": "stream",
     "text": [
      "Training Epoch 46/100: 100%|██████████| 65/65 [01:24<00:00,  1.30s/batch]\n",
      "Validation Epoch 46/100: 100%|██████████| 9/9 [00:10<00:00,  1.17s/batch]\n"
     ]
    },
    {
     "name": "stdout",
     "output_type": "stream",
     "text": [
      "Epoch 46/100, Train Loss: 1.0123, Val Loss: 1.0575, Accuracy: 0.7439, Precision: 0.7534, Recall: 0.7439, F1 Score: 0.7415\n",
      "Validation loss decreased (1.070515 --> 1.057453).  Saving model ...\n"
     ]
    },
    {
     "name": "stderr",
     "output_type": "stream",
     "text": [
      "Training Epoch 47/100: 100%|██████████| 65/65 [01:24<00:00,  1.29s/batch]\n",
      "Validation Epoch 47/100: 100%|██████████| 9/9 [00:10<00:00,  1.18s/batch]\n"
     ]
    },
    {
     "name": "stdout",
     "output_type": "stream",
     "text": [
      "Epoch 47/100, Train Loss: 0.9979, Val Loss: 1.0451, Accuracy: 0.7468, Precision: 0.7560, Recall: 0.7468, F1 Score: 0.7446\n",
      "Validation loss decreased (1.057453 --> 1.045066).  Saving model ...\n"
     ]
    },
    {
     "name": "stderr",
     "output_type": "stream",
     "text": [
      "Training Epoch 48/100: 100%|██████████| 65/65 [01:24<00:00,  1.30s/batch]\n",
      "Validation Epoch 48/100: 100%|██████████| 9/9 [00:10<00:00,  1.17s/batch]\n"
     ]
    },
    {
     "name": "stdout",
     "output_type": "stream",
     "text": [
      "Epoch 48/100, Train Loss: 0.9889, Val Loss: 1.0334, Accuracy: 0.7464, Precision: 0.7553, Recall: 0.7464, F1 Score: 0.7440\n",
      "Validation loss decreased (1.045066 --> 1.033373).  Saving model ...\n"
     ]
    },
    {
     "name": "stderr",
     "output_type": "stream",
     "text": [
      "Training Epoch 49/100: 100%|██████████| 65/65 [01:24<00:00,  1.30s/batch]\n",
      "Validation Epoch 49/100: 100%|██████████| 9/9 [00:10<00:00,  1.16s/batch]\n"
     ]
    },
    {
     "name": "stdout",
     "output_type": "stream",
     "text": [
      "Epoch 49/100, Train Loss: 0.9738, Val Loss: 1.0227, Accuracy: 0.7493, Precision: 0.7580, Recall: 0.7493, F1 Score: 0.7471\n",
      "Validation loss decreased (1.033373 --> 1.022670).  Saving model ...\n"
     ]
    },
    {
     "name": "stderr",
     "output_type": "stream",
     "text": [
      "Training Epoch 50/100: 100%|██████████| 65/65 [01:24<00:00,  1.29s/batch]\n",
      "Validation Epoch 50/100: 100%|██████████| 9/9 [00:10<00:00,  1.16s/batch]\n"
     ]
    },
    {
     "name": "stdout",
     "output_type": "stream",
     "text": [
      "Epoch 50/100, Train Loss: 0.9648, Val Loss: 1.0122, Accuracy: 0.7478, Precision: 0.7564, Recall: 0.7478, F1 Score: 0.7454\n",
      "Validation loss decreased (1.022670 --> 1.012234).  Saving model ...\n"
     ]
    },
    {
     "name": "stderr",
     "output_type": "stream",
     "text": [
      "Training Epoch 51/100: 100%|██████████| 65/65 [01:24<00:00,  1.29s/batch]\n",
      "Validation Epoch 51/100: 100%|██████████| 9/9 [00:10<00:00,  1.17s/batch]\n"
     ]
    },
    {
     "name": "stdout",
     "output_type": "stream",
     "text": [
      "Epoch 51/100, Train Loss: 0.9538, Val Loss: 1.0018, Accuracy: 0.7478, Precision: 0.7561, Recall: 0.7478, F1 Score: 0.7455\n",
      "Validation loss decreased (1.012234 --> 1.001818).  Saving model ...\n"
     ]
    },
    {
     "name": "stderr",
     "output_type": "stream",
     "text": [
      "Training Epoch 52/100: 100%|██████████| 65/65 [01:23<00:00,  1.29s/batch]\n",
      "Validation Epoch 52/100: 100%|██████████| 9/9 [00:10<00:00,  1.16s/batch]\n"
     ]
    },
    {
     "name": "stdout",
     "output_type": "stream",
     "text": [
      "Epoch 52/100, Train Loss: 0.9408, Val Loss: 0.9923, Accuracy: 0.7512, Precision: 0.7588, Recall: 0.7512, F1 Score: 0.7487\n",
      "Validation loss decreased (1.001818 --> 0.992302).  Saving model ...\n"
     ]
    },
    {
     "name": "stderr",
     "output_type": "stream",
     "text": [
      "Training Epoch 53/100: 100%|██████████| 65/65 [01:24<00:00,  1.29s/batch]\n",
      "Validation Epoch 53/100: 100%|██████████| 9/9 [00:10<00:00,  1.17s/batch]\n"
     ]
    },
    {
     "name": "stdout",
     "output_type": "stream",
     "text": [
      "Epoch 53/100, Train Loss: 0.9319, Val Loss: 0.9833, Accuracy: 0.7517, Precision: 0.7595, Recall: 0.7517, F1 Score: 0.7492\n",
      "Validation loss decreased (0.992302 --> 0.983331).  Saving model ...\n"
     ]
    },
    {
     "name": "stderr",
     "output_type": "stream",
     "text": [
      "Training Epoch 54/100: 100%|██████████| 65/65 [01:24<00:00,  1.29s/batch]\n",
      "Validation Epoch 54/100: 100%|██████████| 9/9 [00:10<00:00,  1.18s/batch]\n"
     ]
    },
    {
     "name": "stdout",
     "output_type": "stream",
     "text": [
      "Epoch 54/100, Train Loss: 0.9203, Val Loss: 0.9744, Accuracy: 0.7522, Precision: 0.7601, Recall: 0.7522, F1 Score: 0.7499\n",
      "Validation loss decreased (0.983331 --> 0.974400).  Saving model ...\n"
     ]
    },
    {
     "name": "stderr",
     "output_type": "stream",
     "text": [
      "Training Epoch 55/100: 100%|██████████| 65/65 [01:24<00:00,  1.29s/batch]\n",
      "Validation Epoch 55/100: 100%|██████████| 9/9 [00:10<00:00,  1.16s/batch]\n"
     ]
    },
    {
     "name": "stdout",
     "output_type": "stream",
     "text": [
      "Epoch 55/100, Train Loss: 0.9141, Val Loss: 0.9661, Accuracy: 0.7536, Precision: 0.7612, Recall: 0.7536, F1 Score: 0.7514\n",
      "Validation loss decreased (0.974400 --> 0.966054).  Saving model ...\n"
     ]
    },
    {
     "name": "stderr",
     "output_type": "stream",
     "text": [
      "Training Epoch 56/100: 100%|██████████| 65/65 [01:24<00:00,  1.30s/batch]\n",
      "Validation Epoch 56/100: 100%|██████████| 9/9 [00:10<00:00,  1.17s/batch]\n"
     ]
    },
    {
     "name": "stdout",
     "output_type": "stream",
     "text": [
      "Epoch 56/100, Train Loss: 0.9035, Val Loss: 0.9578, Accuracy: 0.7536, Precision: 0.7612, Recall: 0.7536, F1 Score: 0.7514\n",
      "Validation loss decreased (0.966054 --> 0.957815).  Saving model ...\n"
     ]
    },
    {
     "name": "stderr",
     "output_type": "stream",
     "text": [
      "Training Epoch 57/100: 100%|██████████| 65/65 [01:24<00:00,  1.29s/batch]\n",
      "Validation Epoch 57/100: 100%|██████████| 9/9 [00:10<00:00,  1.16s/batch]\n"
     ]
    },
    {
     "name": "stdout",
     "output_type": "stream",
     "text": [
      "Epoch 57/100, Train Loss: 0.8930, Val Loss: 0.9503, Accuracy: 0.7532, Precision: 0.7607, Recall: 0.7532, F1 Score: 0.7509\n",
      "Validation loss decreased (0.957815 --> 0.950294).  Saving model ...\n"
     ]
    },
    {
     "name": "stderr",
     "output_type": "stream",
     "text": [
      "Training Epoch 58/100: 100%|██████████| 65/65 [01:24<00:00,  1.30s/batch]\n",
      "Validation Epoch 58/100: 100%|██████████| 9/9 [00:10<00:00,  1.17s/batch]\n"
     ]
    },
    {
     "name": "stdout",
     "output_type": "stream",
     "text": [
      "Epoch 58/100, Train Loss: 0.8856, Val Loss: 0.9432, Accuracy: 0.7536, Precision: 0.7614, Recall: 0.7536, F1 Score: 0.7513\n",
      "Validation loss decreased (0.950294 --> 0.943250).  Saving model ...\n"
     ]
    },
    {
     "name": "stderr",
     "output_type": "stream",
     "text": [
      "Training Epoch 59/100: 100%|██████████| 65/65 [01:24<00:00,  1.30s/batch]\n",
      "Validation Epoch 59/100: 100%|██████████| 9/9 [00:10<00:00,  1.16s/batch]\n"
     ]
    },
    {
     "name": "stdout",
     "output_type": "stream",
     "text": [
      "Epoch 59/100, Train Loss: 0.8765, Val Loss: 0.9363, Accuracy: 0.7541, Precision: 0.7618, Recall: 0.7541, F1 Score: 0.7519\n",
      "Validation loss decreased (0.943250 --> 0.936339).  Saving model ...\n"
     ]
    },
    {
     "name": "stderr",
     "output_type": "stream",
     "text": [
      "Training Epoch 60/100: 100%|██████████| 65/65 [01:24<00:00,  1.29s/batch]\n",
      "Validation Epoch 60/100: 100%|██████████| 9/9 [00:10<00:00,  1.16s/batch]\n"
     ]
    },
    {
     "name": "stdout",
     "output_type": "stream",
     "text": [
      "Epoch 60/100, Train Loss: 0.8719, Val Loss: 0.9297, Accuracy: 0.7532, Precision: 0.7609, Recall: 0.7532, F1 Score: 0.7510\n",
      "Validation loss decreased (0.936339 --> 0.929665).  Saving model ...\n"
     ]
    },
    {
     "name": "stderr",
     "output_type": "stream",
     "text": [
      "Training Epoch 61/100: 100%|██████████| 65/65 [01:23<00:00,  1.29s/batch]\n",
      "Validation Epoch 61/100: 100%|██████████| 9/9 [00:10<00:00,  1.17s/batch]\n"
     ]
    },
    {
     "name": "stdout",
     "output_type": "stream",
     "text": [
      "Epoch 61/100, Train Loss: 0.8638, Val Loss: 0.9232, Accuracy: 0.7546, Precision: 0.7625, Recall: 0.7546, F1 Score: 0.7525\n",
      "Validation loss decreased (0.929665 --> 0.923160).  Saving model ...\n"
     ]
    },
    {
     "name": "stderr",
     "output_type": "stream",
     "text": [
      "Training Epoch 62/100: 100%|██████████| 65/65 [01:24<00:00,  1.29s/batch]\n",
      "Validation Epoch 62/100: 100%|██████████| 9/9 [00:10<00:00,  1.17s/batch]\n"
     ]
    },
    {
     "name": "stdout",
     "output_type": "stream",
     "text": [
      "Epoch 62/100, Train Loss: 0.8550, Val Loss: 0.9169, Accuracy: 0.7556, Precision: 0.7629, Recall: 0.7556, F1 Score: 0.7536\n",
      "Validation loss decreased (0.923160 --> 0.916912).  Saving model ...\n"
     ]
    },
    {
     "name": "stderr",
     "output_type": "stream",
     "text": [
      "Training Epoch 63/100: 100%|██████████| 65/65 [01:24<00:00,  1.30s/batch]\n",
      "Validation Epoch 63/100: 100%|██████████| 9/9 [00:10<00:00,  1.18s/batch]\n"
     ]
    },
    {
     "name": "stdout",
     "output_type": "stream",
     "text": [
      "Epoch 63/100, Train Loss: 0.8462, Val Loss: 0.9112, Accuracy: 0.7566, Precision: 0.7639, Recall: 0.7566, F1 Score: 0.7546\n",
      "Validation loss decreased (0.916912 --> 0.911153).  Saving model ...\n"
     ]
    },
    {
     "name": "stderr",
     "output_type": "stream",
     "text": [
      "Training Epoch 64/100: 100%|██████████| 65/65 [01:24<00:00,  1.30s/batch]\n",
      "Validation Epoch 64/100: 100%|██████████| 9/9 [00:10<00:00,  1.17s/batch]\n"
     ]
    },
    {
     "name": "stdout",
     "output_type": "stream",
     "text": [
      "Epoch 64/100, Train Loss: 0.8421, Val Loss: 0.9052, Accuracy: 0.7566, Precision: 0.7639, Recall: 0.7566, F1 Score: 0.7546\n",
      "Validation loss decreased (0.911153 --> 0.905207).  Saving model ...\n"
     ]
    },
    {
     "name": "stderr",
     "output_type": "stream",
     "text": [
      "Training Epoch 65/100: 100%|██████████| 65/65 [01:24<00:00,  1.30s/batch]\n",
      "Validation Epoch 65/100: 100%|██████████| 9/9 [00:10<00:00,  1.17s/batch]\n"
     ]
    },
    {
     "name": "stdout",
     "output_type": "stream",
     "text": [
      "Epoch 65/100, Train Loss: 0.8342, Val Loss: 0.8998, Accuracy: 0.7566, Precision: 0.7642, Recall: 0.7566, F1 Score: 0.7547\n",
      "Validation loss decreased (0.905207 --> 0.899764).  Saving model ...\n"
     ]
    },
    {
     "name": "stderr",
     "output_type": "stream",
     "text": [
      "Training Epoch 66/100: 100%|██████████| 65/65 [01:24<00:00,  1.29s/batch]\n",
      "Validation Epoch 66/100: 100%|██████████| 9/9 [00:10<00:00,  1.17s/batch]\n"
     ]
    },
    {
     "name": "stdout",
     "output_type": "stream",
     "text": [
      "Epoch 66/100, Train Loss: 0.8294, Val Loss: 0.8946, Accuracy: 0.7570, Precision: 0.7652, Recall: 0.7570, F1 Score: 0.7554\n",
      "Validation loss decreased (0.899764 --> 0.894647).  Saving model ...\n"
     ]
    },
    {
     "name": "stderr",
     "output_type": "stream",
     "text": [
      "Training Epoch 67/100: 100%|██████████| 65/65 [01:24<00:00,  1.30s/batch]\n",
      "Validation Epoch 67/100: 100%|██████████| 9/9 [00:10<00:00,  1.17s/batch]\n"
     ]
    },
    {
     "name": "stdout",
     "output_type": "stream",
     "text": [
      "Epoch 67/100, Train Loss: 0.8237, Val Loss: 0.8892, Accuracy: 0.7585, Precision: 0.7664, Recall: 0.7585, F1 Score: 0.7568\n",
      "Validation loss decreased (0.894647 --> 0.889239).  Saving model ...\n"
     ]
    },
    {
     "name": "stderr",
     "output_type": "stream",
     "text": [
      "Training Epoch 68/100: 100%|██████████| 65/65 [01:24<00:00,  1.29s/batch]\n",
      "Validation Epoch 68/100: 100%|██████████| 9/9 [00:10<00:00,  1.17s/batch]\n"
     ]
    },
    {
     "name": "stdout",
     "output_type": "stream",
     "text": [
      "Epoch 68/100, Train Loss: 0.8160, Val Loss: 0.8846, Accuracy: 0.7595, Precision: 0.7669, Recall: 0.7595, F1 Score: 0.7576\n",
      "Validation loss decreased (0.889239 --> 0.884561).  Saving model ...\n"
     ]
    },
    {
     "name": "stderr",
     "output_type": "stream",
     "text": [
      "Training Epoch 69/100: 100%|██████████| 65/65 [01:24<00:00,  1.30s/batch]\n",
      "Validation Epoch 69/100: 100%|██████████| 9/9 [00:10<00:00,  1.16s/batch]\n"
     ]
    },
    {
     "name": "stdout",
     "output_type": "stream",
     "text": [
      "Epoch 69/100, Train Loss: 0.8108, Val Loss: 0.8801, Accuracy: 0.7590, Precision: 0.7667, Recall: 0.7590, F1 Score: 0.7573\n",
      "Validation loss decreased (0.884561 --> 0.880072).  Saving model ...\n"
     ]
    },
    {
     "name": "stderr",
     "output_type": "stream",
     "text": [
      "Training Epoch 70/100: 100%|██████████| 65/65 [01:24<00:00,  1.30s/batch]\n",
      "Validation Epoch 70/100: 100%|██████████| 9/9 [00:10<00:00,  1.18s/batch]\n"
     ]
    },
    {
     "name": "stdout",
     "output_type": "stream",
     "text": [
      "Epoch 70/100, Train Loss: 0.8072, Val Loss: 0.8754, Accuracy: 0.7600, Precision: 0.7681, Recall: 0.7600, F1 Score: 0.7584\n",
      "Validation loss decreased (0.880072 --> 0.875427).  Saving model ...\n"
     ]
    },
    {
     "name": "stderr",
     "output_type": "stream",
     "text": [
      "Training Epoch 71/100: 100%|██████████| 65/65 [01:24<00:00,  1.30s/batch]\n",
      "Validation Epoch 71/100: 100%|██████████| 9/9 [00:10<00:00,  1.19s/batch]\n"
     ]
    },
    {
     "name": "stdout",
     "output_type": "stream",
     "text": [
      "Epoch 71/100, Train Loss: 0.7989, Val Loss: 0.8714, Accuracy: 0.7604, Precision: 0.7687, Recall: 0.7604, F1 Score: 0.7590\n",
      "Validation loss decreased (0.875427 --> 0.871367).  Saving model ...\n"
     ]
    },
    {
     "name": "stderr",
     "output_type": "stream",
     "text": [
      "Training Epoch 72/100: 100%|██████████| 65/65 [01:28<00:00,  1.36s/batch]\n",
      "Validation Epoch 72/100: 100%|██████████| 9/9 [00:11<00:00,  1.28s/batch]\n"
     ]
    },
    {
     "name": "stdout",
     "output_type": "stream",
     "text": [
      "Epoch 72/100, Train Loss: 0.7981, Val Loss: 0.8667, Accuracy: 0.7614, Precision: 0.7695, Recall: 0.7614, F1 Score: 0.7601\n",
      "Validation loss decreased (0.871367 --> 0.866719).  Saving model ...\n"
     ]
    },
    {
     "name": "stderr",
     "output_type": "stream",
     "text": [
      "Training Epoch 73/100: 100%|██████████| 65/65 [01:31<00:00,  1.41s/batch]\n",
      "Validation Epoch 73/100: 100%|██████████| 9/9 [00:11<00:00,  1.25s/batch]\n"
     ]
    },
    {
     "name": "stdout",
     "output_type": "stream",
     "text": [
      "Epoch 73/100, Train Loss: 0.7906, Val Loss: 0.8626, Accuracy: 0.7609, Precision: 0.7688, Recall: 0.7609, F1 Score: 0.7596\n",
      "Validation loss decreased (0.866719 --> 0.862621).  Saving model ...\n"
     ]
    },
    {
     "name": "stderr",
     "output_type": "stream",
     "text": [
      "Training Epoch 74/100: 100%|██████████| 65/65 [01:29<00:00,  1.37s/batch]\n",
      "Validation Epoch 74/100: 100%|██████████| 9/9 [00:11<00:00,  1.25s/batch]\n"
     ]
    },
    {
     "name": "stdout",
     "output_type": "stream",
     "text": [
      "Epoch 74/100, Train Loss: 0.7841, Val Loss: 0.8588, Accuracy: 0.7614, Precision: 0.7691, Recall: 0.7614, F1 Score: 0.7599\n",
      "Validation loss decreased (0.862621 --> 0.858759).  Saving model ...\n"
     ]
    },
    {
     "name": "stderr",
     "output_type": "stream",
     "text": [
      "Training Epoch 75/100: 100%|██████████| 65/65 [01:28<00:00,  1.37s/batch]\n",
      "Validation Epoch 75/100: 100%|██████████| 9/9 [00:10<00:00,  1.22s/batch]\n"
     ]
    },
    {
     "name": "stdout",
     "output_type": "stream",
     "text": [
      "Epoch 75/100, Train Loss: 0.7801, Val Loss: 0.8551, Accuracy: 0.7614, Precision: 0.7691, Recall: 0.7614, F1 Score: 0.7599\n",
      "Validation loss decreased (0.858759 --> 0.855054).  Saving model ...\n"
     ]
    },
    {
     "name": "stderr",
     "output_type": "stream",
     "text": [
      "Training Epoch 76/100: 100%|██████████| 65/65 [01:27<00:00,  1.34s/batch]\n",
      "Validation Epoch 76/100: 100%|██████████| 9/9 [00:11<00:00,  1.23s/batch]\n"
     ]
    },
    {
     "name": "stdout",
     "output_type": "stream",
     "text": [
      "Epoch 76/100, Train Loss: 0.7767, Val Loss: 0.8513, Accuracy: 0.7614, Precision: 0.7691, Recall: 0.7614, F1 Score: 0.7600\n",
      "Validation loss decreased (0.855054 --> 0.851281).  Saving model ...\n"
     ]
    },
    {
     "name": "stderr",
     "output_type": "stream",
     "text": [
      "Training Epoch 77/100: 100%|██████████| 65/65 [01:29<00:00,  1.38s/batch]\n",
      "Validation Epoch 77/100: 100%|██████████| 9/9 [00:11<00:00,  1.23s/batch]\n"
     ]
    },
    {
     "name": "stdout",
     "output_type": "stream",
     "text": [
      "Epoch 77/100, Train Loss: 0.7712, Val Loss: 0.8481, Accuracy: 0.7624, Precision: 0.7701, Recall: 0.7624, F1 Score: 0.7608\n",
      "Validation loss decreased (0.851281 --> 0.848052).  Saving model ...\n"
     ]
    },
    {
     "name": "stderr",
     "output_type": "stream",
     "text": [
      "Training Epoch 78/100: 100%|██████████| 65/65 [01:27<00:00,  1.35s/batch]\n",
      "Validation Epoch 78/100: 100%|██████████| 9/9 [00:11<00:00,  1.23s/batch]\n"
     ]
    },
    {
     "name": "stdout",
     "output_type": "stream",
     "text": [
      "Epoch 78/100, Train Loss: 0.7649, Val Loss: 0.8448, Accuracy: 0.7634, Precision: 0.7712, Recall: 0.7634, F1 Score: 0.7619\n",
      "Validation loss decreased (0.848052 --> 0.844799).  Saving model ...\n"
     ]
    },
    {
     "name": "stderr",
     "output_type": "stream",
     "text": [
      "Training Epoch 79/100: 100%|██████████| 65/65 [01:28<00:00,  1.36s/batch]\n",
      "Validation Epoch 79/100: 100%|██████████| 9/9 [00:10<00:00,  1.22s/batch]\n"
     ]
    },
    {
     "name": "stdout",
     "output_type": "stream",
     "text": [
      "Epoch 79/100, Train Loss: 0.7614, Val Loss: 0.8410, Accuracy: 0.7629, Precision: 0.7704, Recall: 0.7629, F1 Score: 0.7614\n",
      "Validation loss decreased (0.844799 --> 0.840998).  Saving model ...\n"
     ]
    },
    {
     "name": "stderr",
     "output_type": "stream",
     "text": [
      "Training Epoch 80/100: 100%|██████████| 65/65 [01:27<00:00,  1.35s/batch]\n",
      "Validation Epoch 80/100: 100%|██████████| 9/9 [00:10<00:00,  1.21s/batch]\n"
     ]
    },
    {
     "name": "stdout",
     "output_type": "stream",
     "text": [
      "Epoch 80/100, Train Loss: 0.7566, Val Loss: 0.8375, Accuracy: 0.7638, Precision: 0.7709, Recall: 0.7638, F1 Score: 0.7623\n",
      "Validation loss decreased (0.840998 --> 0.837500).  Saving model ...\n"
     ]
    },
    {
     "name": "stderr",
     "output_type": "stream",
     "text": [
      "Training Epoch 81/100: 100%|██████████| 65/65 [01:27<00:00,  1.35s/batch]\n",
      "Validation Epoch 81/100: 100%|██████████| 9/9 [00:10<00:00,  1.21s/batch]\n"
     ]
    },
    {
     "name": "stdout",
     "output_type": "stream",
     "text": [
      "Epoch 81/100, Train Loss: 0.7540, Val Loss: 0.8346, Accuracy: 0.7648, Precision: 0.7716, Recall: 0.7648, F1 Score: 0.7632\n",
      "Validation loss decreased (0.837500 --> 0.834553).  Saving model ...\n"
     ]
    },
    {
     "name": "stderr",
     "output_type": "stream",
     "text": [
      "Training Epoch 82/100: 100%|██████████| 65/65 [01:29<00:00,  1.37s/batch]\n",
      "Validation Epoch 82/100: 100%|██████████| 9/9 [00:10<00:00,  1.20s/batch]\n"
     ]
    },
    {
     "name": "stdout",
     "output_type": "stream",
     "text": [
      "Epoch 82/100, Train Loss: 0.7478, Val Loss: 0.8315, Accuracy: 0.7648, Precision: 0.7714, Recall: 0.7648, F1 Score: 0.7630\n",
      "Validation loss decreased (0.834553 --> 0.831491).  Saving model ...\n"
     ]
    },
    {
     "name": "stderr",
     "output_type": "stream",
     "text": [
      "Training Epoch 83/100: 100%|██████████| 65/65 [01:28<00:00,  1.36s/batch]\n",
      "Validation Epoch 83/100: 100%|██████████| 9/9 [00:10<00:00,  1.21s/batch]\n"
     ]
    },
    {
     "name": "stdout",
     "output_type": "stream",
     "text": [
      "Epoch 83/100, Train Loss: 0.7455, Val Loss: 0.8286, Accuracy: 0.7653, Precision: 0.7719, Recall: 0.7653, F1 Score: 0.7636\n",
      "Validation loss decreased (0.831491 --> 0.828640).  Saving model ...\n"
     ]
    },
    {
     "name": "stderr",
     "output_type": "stream",
     "text": [
      "Training Epoch 84/100: 100%|██████████| 65/65 [01:26<00:00,  1.34s/batch]\n",
      "Validation Epoch 84/100: 100%|██████████| 9/9 [00:10<00:00,  1.20s/batch]\n"
     ]
    },
    {
     "name": "stdout",
     "output_type": "stream",
     "text": [
      "Epoch 84/100, Train Loss: 0.7397, Val Loss: 0.8263, Accuracy: 0.7653, Precision: 0.7723, Recall: 0.7653, F1 Score: 0.7636\n",
      "Validation loss decreased (0.828640 --> 0.826259).  Saving model ...\n"
     ]
    },
    {
     "name": "stderr",
     "output_type": "stream",
     "text": [
      "Training Epoch 85/100: 100%|██████████| 65/65 [01:25<00:00,  1.32s/batch]\n",
      "Validation Epoch 85/100: 100%|██████████| 9/9 [00:10<00:00,  1.21s/batch]\n"
     ]
    },
    {
     "name": "stdout",
     "output_type": "stream",
     "text": [
      "Epoch 85/100, Train Loss: 0.7370, Val Loss: 0.8235, Accuracy: 0.7658, Precision: 0.7725, Recall: 0.7658, F1 Score: 0.7640\n",
      "Validation loss decreased (0.826259 --> 0.823454).  Saving model ...\n"
     ]
    },
    {
     "name": "stderr",
     "output_type": "stream",
     "text": [
      "Training Epoch 86/100: 100%|██████████| 65/65 [01:26<00:00,  1.33s/batch]\n",
      "Validation Epoch 86/100: 100%|██████████| 9/9 [00:10<00:00,  1.21s/batch]\n"
     ]
    },
    {
     "name": "stdout",
     "output_type": "stream",
     "text": [
      "Epoch 86/100, Train Loss: 0.7330, Val Loss: 0.8204, Accuracy: 0.7648, Precision: 0.7717, Recall: 0.7648, F1 Score: 0.7632\n",
      "Validation loss decreased (0.823454 --> 0.820444).  Saving model ...\n"
     ]
    },
    {
     "name": "stderr",
     "output_type": "stream",
     "text": [
      "Training Epoch 87/100: 100%|██████████| 65/65 [01:26<00:00,  1.33s/batch]\n",
      "Validation Epoch 87/100: 100%|██████████| 9/9 [00:10<00:00,  1.21s/batch]\n"
     ]
    },
    {
     "name": "stdout",
     "output_type": "stream",
     "text": [
      "Epoch 87/100, Train Loss: 0.7304, Val Loss: 0.8178, Accuracy: 0.7663, Precision: 0.7739, Recall: 0.7663, F1 Score: 0.7649\n",
      "Validation loss decreased (0.820444 --> 0.817838).  Saving model ...\n"
     ]
    },
    {
     "name": "stderr",
     "output_type": "stream",
     "text": [
      "Training Epoch 88/100: 100%|██████████| 65/65 [01:27<00:00,  1.35s/batch]\n",
      "Validation Epoch 88/100: 100%|██████████| 9/9 [00:10<00:00,  1.21s/batch]\n"
     ]
    },
    {
     "name": "stdout",
     "output_type": "stream",
     "text": [
      "Epoch 88/100, Train Loss: 0.7258, Val Loss: 0.8154, Accuracy: 0.7653, Precision: 0.7728, Recall: 0.7653, F1 Score: 0.7639\n",
      "Validation loss decreased (0.817838 --> 0.815428).  Saving model ...\n"
     ]
    },
    {
     "name": "stderr",
     "output_type": "stream",
     "text": [
      "Training Epoch 89/100: 100%|██████████| 65/65 [01:27<00:00,  1.35s/batch]\n",
      "Validation Epoch 89/100: 100%|██████████| 9/9 [00:11<00:00,  1.27s/batch]\n"
     ]
    },
    {
     "name": "stdout",
     "output_type": "stream",
     "text": [
      "Epoch 89/100, Train Loss: 0.7241, Val Loss: 0.8129, Accuracy: 0.7668, Precision: 0.7747, Recall: 0.7668, F1 Score: 0.7656\n",
      "Validation loss decreased (0.815428 --> 0.812879).  Saving model ...\n"
     ]
    },
    {
     "name": "stderr",
     "output_type": "stream",
     "text": [
      "Training Epoch 90/100: 100%|██████████| 65/65 [01:28<00:00,  1.36s/batch]\n",
      "Validation Epoch 90/100: 100%|██████████| 9/9 [00:10<00:00,  1.20s/batch]\n"
     ]
    },
    {
     "name": "stdout",
     "output_type": "stream",
     "text": [
      "Epoch 90/100, Train Loss: 0.7213, Val Loss: 0.8109, Accuracy: 0.7653, Precision: 0.7728, Recall: 0.7653, F1 Score: 0.7640\n",
      "Validation loss decreased (0.812879 --> 0.810892).  Saving model ...\n"
     ]
    },
    {
     "name": "stderr",
     "output_type": "stream",
     "text": [
      "Training Epoch 91/100: 100%|██████████| 65/65 [01:28<00:00,  1.36s/batch]\n",
      "Validation Epoch 91/100: 100%|██████████| 9/9 [00:11<00:00,  1.25s/batch]\n"
     ]
    },
    {
     "name": "stdout",
     "output_type": "stream",
     "text": [
      "Epoch 91/100, Train Loss: 0.7167, Val Loss: 0.8086, Accuracy: 0.7672, Precision: 0.7745, Recall: 0.7672, F1 Score: 0.7659\n",
      "Validation loss decreased (0.810892 --> 0.808604).  Saving model ...\n"
     ]
    },
    {
     "name": "stderr",
     "output_type": "stream",
     "text": [
      "Training Epoch 92/100: 100%|██████████| 65/65 [01:27<00:00,  1.35s/batch]\n",
      "Validation Epoch 92/100: 100%|██████████| 9/9 [00:10<00:00,  1.22s/batch]\n"
     ]
    },
    {
     "name": "stdout",
     "output_type": "stream",
     "text": [
      "Epoch 92/100, Train Loss: 0.7121, Val Loss: 0.8064, Accuracy: 0.7672, Precision: 0.7748, Recall: 0.7672, F1 Score: 0.7660\n",
      "Validation loss decreased (0.808604 --> 0.806373).  Saving model ...\n"
     ]
    },
    {
     "name": "stderr",
     "output_type": "stream",
     "text": [
      "Training Epoch 93/100: 100%|██████████| 65/65 [01:27<00:00,  1.35s/batch]\n",
      "Validation Epoch 93/100: 100%|██████████| 9/9 [00:11<00:00,  1.23s/batch]\n"
     ]
    },
    {
     "name": "stdout",
     "output_type": "stream",
     "text": [
      "Epoch 93/100, Train Loss: 0.7086, Val Loss: 0.8041, Accuracy: 0.7668, Precision: 0.7742, Recall: 0.7668, F1 Score: 0.7654\n",
      "Validation loss decreased (0.806373 --> 0.804071).  Saving model ...\n"
     ]
    },
    {
     "name": "stderr",
     "output_type": "stream",
     "text": [
      "Training Epoch 94/100: 100%|██████████| 65/65 [01:28<00:00,  1.36s/batch]\n",
      "Validation Epoch 94/100: 100%|██████████| 9/9 [00:10<00:00,  1.19s/batch]\n"
     ]
    },
    {
     "name": "stdout",
     "output_type": "stream",
     "text": [
      "Epoch 94/100, Train Loss: 0.7079, Val Loss: 0.8019, Accuracy: 0.7663, Precision: 0.7740, Recall: 0.7663, F1 Score: 0.7650\n",
      "Validation loss decreased (0.804071 --> 0.801940).  Saving model ...\n"
     ]
    },
    {
     "name": "stderr",
     "output_type": "stream",
     "text": [
      "Training Epoch 95/100: 100%|██████████| 65/65 [01:25<00:00,  1.32s/batch]\n",
      "Validation Epoch 95/100: 100%|██████████| 9/9 [00:10<00:00,  1.15s/batch]\n"
     ]
    },
    {
     "name": "stdout",
     "output_type": "stream",
     "text": [
      "Epoch 95/100, Train Loss: 0.7055, Val Loss: 0.7999, Accuracy: 0.7677, Precision: 0.7755, Recall: 0.7677, F1 Score: 0.7663\n",
      "Validation loss decreased (0.801940 --> 0.799883).  Saving model ...\n"
     ]
    },
    {
     "name": "stderr",
     "output_type": "stream",
     "text": [
      "Training Epoch 96/100: 100%|██████████| 65/65 [01:22<00:00,  1.28s/batch]\n",
      "Validation Epoch 96/100: 100%|██████████| 9/9 [00:10<00:00,  1.16s/batch]\n"
     ]
    },
    {
     "name": "stdout",
     "output_type": "stream",
     "text": [
      "Epoch 96/100, Train Loss: 0.7014, Val Loss: 0.7981, Accuracy: 0.7677, Precision: 0.7761, Recall: 0.7677, F1 Score: 0.7667\n",
      "Validation loss decreased (0.799883 --> 0.798059).  Saving model ...\n"
     ]
    },
    {
     "name": "stderr",
     "output_type": "stream",
     "text": [
      "Training Epoch 97/100: 100%|██████████| 65/65 [01:23<00:00,  1.28s/batch]\n",
      "Validation Epoch 97/100: 100%|██████████| 9/9 [00:10<00:00,  1.16s/batch]\n"
     ]
    },
    {
     "name": "stdout",
     "output_type": "stream",
     "text": [
      "Epoch 97/100, Train Loss: 0.6961, Val Loss: 0.7961, Accuracy: 0.7677, Precision: 0.7756, Recall: 0.7677, F1 Score: 0.7665\n",
      "Validation loss decreased (0.798059 --> 0.796140).  Saving model ...\n"
     ]
    },
    {
     "name": "stderr",
     "output_type": "stream",
     "text": [
      "Training Epoch 98/100: 100%|██████████| 65/65 [01:22<00:00,  1.27s/batch]\n",
      "Validation Epoch 98/100: 100%|██████████| 9/9 [00:10<00:00,  1.16s/batch]\n"
     ]
    },
    {
     "name": "stdout",
     "output_type": "stream",
     "text": [
      "Epoch 98/100, Train Loss: 0.6946, Val Loss: 0.7942, Accuracy: 0.7672, Precision: 0.7754, Recall: 0.7672, F1 Score: 0.7662\n",
      "Validation loss decreased (0.796140 --> 0.794185).  Saving model ...\n"
     ]
    },
    {
     "name": "stderr",
     "output_type": "stream",
     "text": [
      "Training Epoch 99/100: 100%|██████████| 65/65 [01:23<00:00,  1.28s/batch]\n",
      "Validation Epoch 99/100: 100%|██████████| 9/9 [00:10<00:00,  1.15s/batch]\n"
     ]
    },
    {
     "name": "stdout",
     "output_type": "stream",
     "text": [
      "Epoch 99/100, Train Loss: 0.6919, Val Loss: 0.7924, Accuracy: 0.7672, Precision: 0.7752, Recall: 0.7672, F1 Score: 0.7660\n",
      "Validation loss decreased (0.794185 --> 0.792367).  Saving model ...\n"
     ]
    },
    {
     "name": "stderr",
     "output_type": "stream",
     "text": [
      "Training Epoch 100/100: 100%|██████████| 65/65 [01:22<00:00,  1.28s/batch]\n",
      "Validation Epoch 100/100: 100%|██████████| 9/9 [00:10<00:00,  1.15s/batch]\n"
     ]
    },
    {
     "name": "stdout",
     "output_type": "stream",
     "text": [
      "Epoch 100/100, Train Loss: 0.6881, Val Loss: 0.7908, Accuracy: 0.7672, Precision: 0.7753, Recall: 0.7672, F1 Score: 0.7659\n",
      "Validation loss decreased (0.792367 --> 0.790771).  Saving model ...\n"
     ]
    },
    {
     "name": "stderr",
     "output_type": "stream",
     "text": [
      "Testing: 100%|██████████| 9/9 [00:10<00:00,  1.21s/batch]"
     ]
    },
    {
     "name": "stdout",
     "output_type": "stream",
     "text": [
      "Test Loss: 0.9121, Accuracy: 0.7561, Precision: 0.7658, Recall: 0.7561, F1 Score: 0.7539\n"
     ]
    },
    {
     "name": "stderr",
     "output_type": "stream",
     "text": [
      "\n"
     ]
    }
   ],
   "source": [
    "# User-specified model\n",
    "# 159m 45.7s\n",
    "model_name = \"deit_tiny_patch16_224\"  # Replace this with your desired model name\n",
    "do_transfer_learning(model_name=model_name)\n"
   ]
  },
  {
   "cell_type": "code",
   "execution_count": 9,
   "metadata": {},
   "outputs": [
    {
     "name": "stdout",
     "output_type": "stream",
     "text": [
      "Train dataset size: 16464\n",
      "Validation dataset size: 2058\n",
      "Test dataset size: 2058\n",
      "MPS device found.\n",
      "Created folder: results/transferlearning/stanford_dog/deit-small-patch16-224\n",
      "Folder already exists: checkpoints/transferlearning/stanford_dog\n"
     ]
    },
    {
     "name": "stderr",
     "output_type": "stream",
     "text": [
      "Some weights of ViTModel were not initialized from the model checkpoint at facebook/deit-small-patch16-224 and are newly initialized: ['vit.pooler.dense.bias', 'vit.pooler.dense.weight']\n",
      "You should probably TRAIN this model on a down-stream task to be able to use it for predictions and inference.\n",
      "Training Epoch 1/100: 100%|██████████| 65/65 [02:29<00:00,  2.29s/batch]\n",
      "Validation Epoch 1/100: 100%|██████████| 9/9 [00:18<00:00,  2.07s/batch]\n"
     ]
    },
    {
     "name": "stdout",
     "output_type": "stream",
     "text": [
      "Epoch 1/100, Train Loss: 4.7582, Val Loss: 4.5905, Accuracy: 0.0282, Precision: 0.0230, Recall: 0.0282, F1 Score: 0.0219\n",
      "Validation loss decreased (inf --> 4.590497).  Saving model ...\n"
     ]
    },
    {
     "name": "stderr",
     "output_type": "stream",
     "text": [
      "Training Epoch 2/100: 100%|██████████| 65/65 [02:29<00:00,  2.29s/batch]\n",
      "Validation Epoch 2/100: 100%|██████████| 9/9 [00:18<00:00,  2.09s/batch]\n"
     ]
    },
    {
     "name": "stdout",
     "output_type": "stream",
     "text": [
      "Epoch 2/100, Train Loss: 4.4754, Val Loss: 4.3170, Accuracy: 0.1030, Precision: 0.0896, Recall: 0.1030, F1 Score: 0.0810\n",
      "Validation loss decreased (4.590497 --> 4.317002).  Saving model ...\n"
     ]
    },
    {
     "name": "stderr",
     "output_type": "stream",
     "text": [
      "Training Epoch 3/100: 100%|██████████| 65/65 [02:29<00:00,  2.29s/batch]\n",
      "Validation Epoch 3/100: 100%|██████████| 9/9 [00:18<00:00,  2.07s/batch]\n"
     ]
    },
    {
     "name": "stdout",
     "output_type": "stream",
     "text": [
      "Epoch 3/100, Train Loss: 4.2014, Val Loss: 4.0502, Accuracy: 0.2439, Precision: 0.2571, Recall: 0.2439, F1 Score: 0.2096\n",
      "Validation loss decreased (4.317002 --> 4.050222).  Saving model ...\n"
     ]
    },
    {
     "name": "stderr",
     "output_type": "stream",
     "text": [
      "Training Epoch 4/100: 100%|██████████| 65/65 [02:29<00:00,  2.29s/batch]\n",
      "Validation Epoch 4/100: 100%|██████████| 9/9 [00:18<00:00,  2.07s/batch]\n"
     ]
    },
    {
     "name": "stdout",
     "output_type": "stream",
     "text": [
      "Epoch 4/100, Train Loss: 3.9335, Val Loss: 3.7900, Accuracy: 0.4096, Precision: 0.4342, Recall: 0.4096, F1 Score: 0.3744\n",
      "Validation loss decreased (4.050222 --> 3.790037).  Saving model ...\n"
     ]
    },
    {
     "name": "stderr",
     "output_type": "stream",
     "text": [
      "Training Epoch 5/100: 100%|██████████| 65/65 [02:29<00:00,  2.29s/batch]\n",
      "Validation Epoch 5/100: 100%|██████████| 9/9 [00:18<00:00,  2.07s/batch]\n"
     ]
    },
    {
     "name": "stdout",
     "output_type": "stream",
     "text": [
      "Epoch 5/100, Train Loss: 3.6729, Val Loss: 3.5380, Accuracy: 0.5272, Precision: 0.5421, Recall: 0.5272, F1 Score: 0.4936\n",
      "Validation loss decreased (3.790037 --> 3.537987).  Saving model ...\n"
     ]
    },
    {
     "name": "stderr",
     "output_type": "stream",
     "text": [
      "Training Epoch 6/100: 100%|██████████| 65/65 [02:29<00:00,  2.30s/batch]\n",
      "Validation Epoch 6/100: 100%|██████████| 9/9 [00:18<00:00,  2.07s/batch]\n"
     ]
    },
    {
     "name": "stdout",
     "output_type": "stream",
     "text": [
      "Epoch 6/100, Train Loss: 3.4212, Val Loss: 3.2941, Accuracy: 0.6283, Precision: 0.6557, Recall: 0.6283, F1 Score: 0.6038\n",
      "Validation loss decreased (3.537987 --> 3.294124).  Saving model ...\n"
     ]
    },
    {
     "name": "stderr",
     "output_type": "stream",
     "text": [
      "Training Epoch 7/100: 100%|██████████| 65/65 [02:29<00:00,  2.30s/batch]\n",
      "Validation Epoch 7/100: 100%|██████████| 9/9 [00:18<00:00,  2.08s/batch]\n"
     ]
    },
    {
     "name": "stdout",
     "output_type": "stream",
     "text": [
      "Epoch 7/100, Train Loss: 3.1780, Val Loss: 3.0597, Accuracy: 0.6890, Precision: 0.7216, Recall: 0.6890, F1 Score: 0.6716\n",
      "Validation loss decreased (3.294124 --> 3.059699).  Saving model ...\n"
     ]
    },
    {
     "name": "stderr",
     "output_type": "stream",
     "text": [
      "Training Epoch 8/100: 100%|██████████| 65/65 [02:28<00:00,  2.29s/batch]\n",
      "Validation Epoch 8/100: 100%|██████████| 9/9 [00:18<00:00,  2.09s/batch]\n"
     ]
    },
    {
     "name": "stdout",
     "output_type": "stream",
     "text": [
      "Epoch 8/100, Train Loss: 2.9452, Val Loss: 2.8353, Accuracy: 0.7366, Precision: 0.7638, Recall: 0.7366, F1 Score: 0.7225\n",
      "Validation loss decreased (3.059699 --> 2.835299).  Saving model ...\n"
     ]
    },
    {
     "name": "stderr",
     "output_type": "stream",
     "text": [
      "Training Epoch 9/100: 100%|██████████| 65/65 [02:28<00:00,  2.29s/batch]\n",
      "Validation Epoch 9/100: 100%|██████████| 9/9 [00:18<00:00,  2.08s/batch]\n"
     ]
    },
    {
     "name": "stdout",
     "output_type": "stream",
     "text": [
      "Epoch 9/100, Train Loss: 2.7211, Val Loss: 2.6222, Accuracy: 0.7668, Precision: 0.7902, Recall: 0.7668, F1 Score: 0.7549\n",
      "Validation loss decreased (2.835299 --> 2.622185).  Saving model ...\n"
     ]
    },
    {
     "name": "stderr",
     "output_type": "stream",
     "text": [
      "Training Epoch 10/100: 100%|██████████| 65/65 [02:29<00:00,  2.30s/batch]\n",
      "Validation Epoch 10/100: 100%|██████████| 9/9 [00:18<00:00,  2.08s/batch]\n"
     ]
    },
    {
     "name": "stdout",
     "output_type": "stream",
     "text": [
      "Epoch 10/100, Train Loss: 2.5120, Val Loss: 2.4211, Accuracy: 0.7945, Precision: 0.8114, Recall: 0.7945, F1 Score: 0.7839\n",
      "Validation loss decreased (2.622185 --> 2.421074).  Saving model ...\n"
     ]
    },
    {
     "name": "stderr",
     "output_type": "stream",
     "text": [
      "Training Epoch 11/100: 100%|██████████| 65/65 [02:28<00:00,  2.29s/batch]\n",
      "Validation Epoch 11/100: 100%|██████████| 9/9 [00:18<00:00,  2.06s/batch]\n"
     ]
    },
    {
     "name": "stdout",
     "output_type": "stream",
     "text": [
      "Epoch 11/100, Train Loss: 2.3143, Val Loss: 2.2336, Accuracy: 0.8100, Precision: 0.8283, Recall: 0.8100, F1 Score: 0.8010\n",
      "Validation loss decreased (2.421074 --> 2.233593).  Saving model ...\n"
     ]
    },
    {
     "name": "stderr",
     "output_type": "stream",
     "text": [
      "Training Epoch 12/100: 100%|██████████| 65/65 [02:29<00:00,  2.30s/batch]\n",
      "Validation Epoch 12/100: 100%|██████████| 9/9 [00:18<00:00,  2.08s/batch]\n"
     ]
    },
    {
     "name": "stdout",
     "output_type": "stream",
     "text": [
      "Epoch 12/100, Train Loss: 2.1284, Val Loss: 2.0591, Accuracy: 0.8217, Precision: 0.8379, Recall: 0.8217, F1 Score: 0.8133\n",
      "Validation loss decreased (2.233593 --> 2.059111).  Saving model ...\n"
     ]
    },
    {
     "name": "stderr",
     "output_type": "stream",
     "text": [
      "Training Epoch 13/100: 100%|██████████| 65/65 [02:29<00:00,  2.30s/batch]\n",
      "Validation Epoch 13/100: 100%|██████████| 9/9 [00:18<00:00,  2.09s/batch]\n"
     ]
    },
    {
     "name": "stdout",
     "output_type": "stream",
     "text": [
      "Epoch 13/100, Train Loss: 1.9602, Val Loss: 1.8991, Accuracy: 0.8309, Precision: 0.8445, Recall: 0.8309, F1 Score: 0.8233\n",
      "Validation loss decreased (2.059111 --> 1.899073).  Saving model ...\n"
     ]
    },
    {
     "name": "stderr",
     "output_type": "stream",
     "text": [
      "Training Epoch 14/100: 100%|██████████| 65/65 [02:30<00:00,  2.32s/batch]\n",
      "Validation Epoch 14/100: 100%|██████████| 9/9 [00:18<00:00,  2.09s/batch]\n"
     ]
    },
    {
     "name": "stdout",
     "output_type": "stream",
     "text": [
      "Epoch 14/100, Train Loss: 1.8040, Val Loss: 1.7535, Accuracy: 0.8406, Precision: 0.8534, Recall: 0.8406, F1 Score: 0.8339\n",
      "Validation loss decreased (1.899073 --> 1.753537).  Saving model ...\n"
     ]
    },
    {
     "name": "stderr",
     "output_type": "stream",
     "text": [
      "Training Epoch 15/100: 100%|██████████| 65/65 [02:30<00:00,  2.32s/batch]\n",
      "Validation Epoch 15/100: 100%|██████████| 9/9 [00:18<00:00,  2.09s/batch]\n"
     ]
    },
    {
     "name": "stdout",
     "output_type": "stream",
     "text": [
      "Epoch 15/100, Train Loss: 1.6626, Val Loss: 1.6203, Accuracy: 0.8440, Precision: 0.8563, Recall: 0.8440, F1 Score: 0.8378\n",
      "Validation loss decreased (1.753537 --> 1.620310).  Saving model ...\n"
     ]
    },
    {
     "name": "stderr",
     "output_type": "stream",
     "text": [
      "Training Epoch 16/100: 100%|██████████| 65/65 [02:31<00:00,  2.33s/batch]\n",
      "Validation Epoch 16/100: 100%|██████████| 9/9 [00:18<00:00,  2.09s/batch]\n"
     ]
    },
    {
     "name": "stdout",
     "output_type": "stream",
     "text": [
      "Epoch 16/100, Train Loss: 1.5340, Val Loss: 1.5013, Accuracy: 0.8479, Precision: 0.8598, Recall: 0.8479, F1 Score: 0.8419\n",
      "Validation loss decreased (1.620310 --> 1.501316).  Saving model ...\n"
     ]
    },
    {
     "name": "stderr",
     "output_type": "stream",
     "text": [
      "Training Epoch 17/100: 100%|██████████| 65/65 [02:30<00:00,  2.32s/batch]\n",
      "Validation Epoch 17/100: 100%|██████████| 9/9 [00:18<00:00,  2.10s/batch]\n"
     ]
    },
    {
     "name": "stdout",
     "output_type": "stream",
     "text": [
      "Epoch 17/100, Train Loss: 1.4206, Val Loss: 1.3940, Accuracy: 0.8542, Precision: 0.8642, Recall: 0.8542, F1 Score: 0.8498\n",
      "Validation loss decreased (1.501316 --> 1.393957).  Saving model ...\n"
     ]
    },
    {
     "name": "stderr",
     "output_type": "stream",
     "text": [
      "Training Epoch 18/100: 100%|██████████| 65/65 [02:31<00:00,  2.33s/batch]\n",
      "Validation Epoch 18/100: 100%|██████████| 9/9 [00:18<00:00,  2.10s/batch]\n"
     ]
    },
    {
     "name": "stdout",
     "output_type": "stream",
     "text": [
      "Epoch 18/100, Train Loss: 1.3159, Val Loss: 1.2985, Accuracy: 0.8571, Precision: 0.8665, Recall: 0.8571, F1 Score: 0.8533\n",
      "Validation loss decreased (1.393957 --> 1.298523).  Saving model ...\n"
     ]
    },
    {
     "name": "stderr",
     "output_type": "stream",
     "text": [
      "Training Epoch 19/100: 100%|██████████| 65/65 [02:30<00:00,  2.32s/batch]\n",
      "Validation Epoch 19/100: 100%|██████████| 9/9 [00:18<00:00,  2.11s/batch]\n"
     ]
    },
    {
     "name": "stdout",
     "output_type": "stream",
     "text": [
      "Epoch 19/100, Train Loss: 1.2248, Val Loss: 1.2129, Accuracy: 0.8615, Precision: 0.8706, Recall: 0.8615, F1 Score: 0.8581\n",
      "Validation loss decreased (1.298523 --> 1.212917).  Saving model ...\n"
     ]
    },
    {
     "name": "stderr",
     "output_type": "stream",
     "text": [
      "Training Epoch 20/100: 100%|██████████| 65/65 [02:30<00:00,  2.32s/batch]\n",
      "Validation Epoch 20/100: 100%|██████████| 9/9 [00:18<00:00,  2.10s/batch]\n"
     ]
    },
    {
     "name": "stdout",
     "output_type": "stream",
     "text": [
      "Epoch 20/100, Train Loss: 1.1431, Val Loss: 1.1374, Accuracy: 0.8615, Precision: 0.8695, Recall: 0.8615, F1 Score: 0.8583\n",
      "Validation loss decreased (1.212917 --> 1.137402).  Saving model ...\n"
     ]
    },
    {
     "name": "stderr",
     "output_type": "stream",
     "text": [
      "Training Epoch 21/100: 100%|██████████| 65/65 [02:30<00:00,  2.32s/batch]\n",
      "Validation Epoch 21/100: 100%|██████████| 9/9 [00:18<00:00,  2.10s/batch]\n"
     ]
    },
    {
     "name": "stdout",
     "output_type": "stream",
     "text": [
      "Epoch 21/100, Train Loss: 1.0708, Val Loss: 1.0700, Accuracy: 0.8639, Precision: 0.8718, Recall: 0.8639, F1 Score: 0.8607\n",
      "Validation loss decreased (1.137402 --> 1.070039).  Saving model ...\n"
     ]
    },
    {
     "name": "stderr",
     "output_type": "stream",
     "text": [
      "Training Epoch 22/100: 100%|██████████| 65/65 [02:30<00:00,  2.31s/batch]\n",
      "Validation Epoch 22/100: 100%|██████████| 9/9 [00:18<00:00,  2.09s/batch]\n"
     ]
    },
    {
     "name": "stdout",
     "output_type": "stream",
     "text": [
      "Epoch 22/100, Train Loss: 1.0088, Val Loss: 1.0100, Accuracy: 0.8639, Precision: 0.8723, Recall: 0.8639, F1 Score: 0.8609\n",
      "Validation loss decreased (1.070039 --> 1.010049).  Saving model ...\n"
     ]
    },
    {
     "name": "stderr",
     "output_type": "stream",
     "text": [
      "Training Epoch 23/100: 100%|██████████| 65/65 [02:30<00:00,  2.32s/batch]\n",
      "Validation Epoch 23/100: 100%|██████████| 9/9 [00:18<00:00,  2.10s/batch]\n"
     ]
    },
    {
     "name": "stdout",
     "output_type": "stream",
     "text": [
      "Epoch 23/100, Train Loss: 0.9495, Val Loss: 0.9566, Accuracy: 0.8659, Precision: 0.8733, Recall: 0.8659, F1 Score: 0.8633\n",
      "Validation loss decreased (1.010049 --> 0.956630).  Saving model ...\n"
     ]
    },
    {
     "name": "stderr",
     "output_type": "stream",
     "text": [
      "Training Epoch 24/100: 100%|██████████| 65/65 [02:30<00:00,  2.32s/batch]\n",
      "Validation Epoch 24/100: 100%|██████████| 9/9 [00:18<00:00,  2.11s/batch]\n"
     ]
    },
    {
     "name": "stdout",
     "output_type": "stream",
     "text": [
      "Epoch 24/100, Train Loss: 0.8986, Val Loss: 0.9094, Accuracy: 0.8693, Precision: 0.8769, Recall: 0.8693, F1 Score: 0.8671\n",
      "Validation loss decreased (0.956630 --> 0.909362).  Saving model ...\n"
     ]
    },
    {
     "name": "stderr",
     "output_type": "stream",
     "text": [
      "Training Epoch 25/100: 100%|██████████| 65/65 [02:30<00:00,  2.31s/batch]\n",
      "Validation Epoch 25/100: 100%|██████████| 9/9 [00:18<00:00,  2.09s/batch]\n"
     ]
    },
    {
     "name": "stdout",
     "output_type": "stream",
     "text": [
      "Epoch 25/100, Train Loss: 0.8540, Val Loss: 0.8663, Accuracy: 0.8693, Precision: 0.8766, Recall: 0.8693, F1 Score: 0.8671\n",
      "Validation loss decreased (0.909362 --> 0.866344).  Saving model ...\n"
     ]
    },
    {
     "name": "stderr",
     "output_type": "stream",
     "text": [
      "Training Epoch 26/100: 100%|██████████| 65/65 [02:30<00:00,  2.32s/batch]\n",
      "Validation Epoch 26/100: 100%|██████████| 9/9 [00:18<00:00,  2.09s/batch]\n"
     ]
    },
    {
     "name": "stdout",
     "output_type": "stream",
     "text": [
      "Epoch 26/100, Train Loss: 0.8125, Val Loss: 0.8283, Accuracy: 0.8693, Precision: 0.8766, Recall: 0.8693, F1 Score: 0.8673\n",
      "Validation loss decreased (0.866344 --> 0.828288).  Saving model ...\n"
     ]
    },
    {
     "name": "stderr",
     "output_type": "stream",
     "text": [
      "Training Epoch 27/100: 100%|██████████| 65/65 [02:30<00:00,  2.32s/batch]\n",
      "Validation Epoch 27/100: 100%|██████████| 9/9 [00:18<00:00,  2.09s/batch]\n"
     ]
    },
    {
     "name": "stdout",
     "output_type": "stream",
     "text": [
      "Epoch 27/100, Train Loss: 0.7758, Val Loss: 0.7940, Accuracy: 0.8703, Precision: 0.8774, Recall: 0.8703, F1 Score: 0.8683\n",
      "Validation loss decreased (0.828288 --> 0.793959).  Saving model ...\n"
     ]
    },
    {
     "name": "stderr",
     "output_type": "stream",
     "text": [
      "Training Epoch 28/100: 100%|██████████| 65/65 [02:30<00:00,  2.32s/batch]\n",
      "Validation Epoch 28/100: 100%|██████████| 9/9 [00:18<00:00,  2.09s/batch]\n"
     ]
    },
    {
     "name": "stdout",
     "output_type": "stream",
     "text": [
      "Epoch 28/100, Train Loss: 0.7435, Val Loss: 0.7634, Accuracy: 0.8717, Precision: 0.8787, Recall: 0.8717, F1 Score: 0.8699\n",
      "Validation loss decreased (0.793959 --> 0.763443).  Saving model ...\n"
     ]
    },
    {
     "name": "stderr",
     "output_type": "stream",
     "text": [
      "Training Epoch 29/100: 100%|██████████| 65/65 [02:30<00:00,  2.31s/batch]\n",
      "Validation Epoch 29/100: 100%|██████████| 9/9 [00:18<00:00,  2.09s/batch]\n"
     ]
    },
    {
     "name": "stdout",
     "output_type": "stream",
     "text": [
      "Epoch 29/100, Train Loss: 0.7125, Val Loss: 0.7354, Accuracy: 0.8741, Precision: 0.8808, Recall: 0.8741, F1 Score: 0.8724\n",
      "Validation loss decreased (0.763443 --> 0.735442).  Saving model ...\n"
     ]
    },
    {
     "name": "stderr",
     "output_type": "stream",
     "text": [
      "Training Epoch 30/100: 100%|██████████| 65/65 [02:30<00:00,  2.31s/batch]\n",
      "Validation Epoch 30/100: 100%|██████████| 9/9 [00:18<00:00,  2.09s/batch]\n"
     ]
    },
    {
     "name": "stdout",
     "output_type": "stream",
     "text": [
      "Epoch 30/100, Train Loss: 0.6863, Val Loss: 0.7101, Accuracy: 0.8751, Precision: 0.8817, Recall: 0.8751, F1 Score: 0.8734\n",
      "Validation loss decreased (0.735442 --> 0.710139).  Saving model ...\n"
     ]
    },
    {
     "name": "stderr",
     "output_type": "stream",
     "text": [
      "Training Epoch 31/100: 100%|██████████| 65/65 [02:30<00:00,  2.31s/batch]\n",
      "Validation Epoch 31/100: 100%|██████████| 9/9 [00:18<00:00,  2.09s/batch]\n"
     ]
    },
    {
     "name": "stdout",
     "output_type": "stream",
     "text": [
      "Epoch 31/100, Train Loss: 0.6631, Val Loss: 0.6871, Accuracy: 0.8756, Precision: 0.8822, Recall: 0.8756, F1 Score: 0.8739\n",
      "Validation loss decreased (0.710139 --> 0.687075).  Saving model ...\n"
     ]
    },
    {
     "name": "stderr",
     "output_type": "stream",
     "text": [
      "Training Epoch 32/100: 100%|██████████| 65/65 [02:31<00:00,  2.33s/batch]\n",
      "Validation Epoch 32/100: 100%|██████████| 9/9 [00:18<00:00,  2.10s/batch]\n"
     ]
    },
    {
     "name": "stdout",
     "output_type": "stream",
     "text": [
      "Epoch 32/100, Train Loss: 0.6403, Val Loss: 0.6663, Accuracy: 0.8761, Precision: 0.8825, Recall: 0.8761, F1 Score: 0.8744\n",
      "Validation loss decreased (0.687075 --> 0.666255).  Saving model ...\n"
     ]
    },
    {
     "name": "stderr",
     "output_type": "stream",
     "text": [
      "Training Epoch 33/100: 100%|██████████| 65/65 [02:29<00:00,  2.30s/batch]\n",
      "Validation Epoch 33/100: 100%|██████████| 9/9 [00:18<00:00,  2.07s/batch]\n"
     ]
    },
    {
     "name": "stdout",
     "output_type": "stream",
     "text": [
      "Epoch 33/100, Train Loss: 0.6183, Val Loss: 0.6468, Accuracy: 0.8776, Precision: 0.8842, Recall: 0.8776, F1 Score: 0.8759\n",
      "Validation loss decreased (0.666255 --> 0.646843).  Saving model ...\n"
     ]
    },
    {
     "name": "stderr",
     "output_type": "stream",
     "text": [
      "Training Epoch 34/100: 100%|██████████| 65/65 [02:29<00:00,  2.30s/batch]\n",
      "Validation Epoch 34/100: 100%|██████████| 9/9 [00:18<00:00,  2.07s/batch]\n"
     ]
    },
    {
     "name": "stdout",
     "output_type": "stream",
     "text": [
      "Epoch 34/100, Train Loss: 0.5998, Val Loss: 0.6295, Accuracy: 0.8790, Precision: 0.8857, Recall: 0.8790, F1 Score: 0.8777\n",
      "Validation loss decreased (0.646843 --> 0.629452).  Saving model ...\n"
     ]
    },
    {
     "name": "stderr",
     "output_type": "stream",
     "text": [
      "Training Epoch 35/100: 100%|██████████| 65/65 [02:29<00:00,  2.30s/batch]\n",
      "Validation Epoch 35/100: 100%|██████████| 9/9 [00:18<00:00,  2.10s/batch]\n"
     ]
    },
    {
     "name": "stdout",
     "output_type": "stream",
     "text": [
      "Epoch 35/100, Train Loss: 0.5825, Val Loss: 0.6133, Accuracy: 0.8790, Precision: 0.8860, Recall: 0.8790, F1 Score: 0.8780\n",
      "Validation loss decreased (0.629452 --> 0.613276).  Saving model ...\n"
     ]
    },
    {
     "name": "stderr",
     "output_type": "stream",
     "text": [
      "Training Epoch 36/100: 100%|██████████| 65/65 [02:30<00:00,  2.32s/batch]\n",
      "Validation Epoch 36/100: 100%|██████████| 9/9 [00:18<00:00,  2.07s/batch]\n"
     ]
    },
    {
     "name": "stdout",
     "output_type": "stream",
     "text": [
      "Epoch 36/100, Train Loss: 0.5681, Val Loss: 0.5985, Accuracy: 0.8785, Precision: 0.8851, Recall: 0.8785, F1 Score: 0.8774\n",
      "Validation loss decreased (0.613276 --> 0.598458).  Saving model ...\n"
     ]
    },
    {
     "name": "stderr",
     "output_type": "stream",
     "text": [
      "Training Epoch 37/100: 100%|██████████| 65/65 [02:30<00:00,  2.31s/batch]\n",
      "Validation Epoch 37/100: 100%|██████████| 9/9 [00:18<00:00,  2.07s/batch]\n"
     ]
    },
    {
     "name": "stdout",
     "output_type": "stream",
     "text": [
      "Epoch 37/100, Train Loss: 0.5526, Val Loss: 0.5849, Accuracy: 0.8785, Precision: 0.8849, Recall: 0.8785, F1 Score: 0.8773\n",
      "Validation loss decreased (0.598458 --> 0.584918).  Saving model ...\n"
     ]
    },
    {
     "name": "stderr",
     "output_type": "stream",
     "text": [
      "Training Epoch 38/100: 100%|██████████| 65/65 [02:30<00:00,  2.32s/batch]\n",
      "Validation Epoch 38/100: 100%|██████████| 9/9 [00:19<00:00,  2.14s/batch]\n"
     ]
    },
    {
     "name": "stdout",
     "output_type": "stream",
     "text": [
      "Epoch 38/100, Train Loss: 0.5367, Val Loss: 0.5723, Accuracy: 0.8790, Precision: 0.8854, Recall: 0.8790, F1 Score: 0.8778\n",
      "Validation loss decreased (0.584918 --> 0.572325).  Saving model ...\n"
     ]
    },
    {
     "name": "stderr",
     "output_type": "stream",
     "text": [
      "Training Epoch 39/100: 100%|██████████| 65/65 [02:28<00:00,  2.29s/batch]\n",
      "Validation Epoch 39/100: 100%|██████████| 9/9 [00:18<00:00,  2.10s/batch]\n"
     ]
    },
    {
     "name": "stdout",
     "output_type": "stream",
     "text": [
      "Epoch 39/100, Train Loss: 0.5243, Val Loss: 0.5609, Accuracy: 0.8785, Precision: 0.8846, Recall: 0.8785, F1 Score: 0.8775\n",
      "Validation loss decreased (0.572325 --> 0.560874).  Saving model ...\n"
     ]
    },
    {
     "name": "stderr",
     "output_type": "stream",
     "text": [
      "Training Epoch 40/100: 100%|██████████| 65/65 [02:29<00:00,  2.30s/batch]\n",
      "Validation Epoch 40/100: 100%|██████████| 9/9 [00:18<00:00,  2.05s/batch]\n"
     ]
    },
    {
     "name": "stdout",
     "output_type": "stream",
     "text": [
      "Epoch 40/100, Train Loss: 0.5124, Val Loss: 0.5499, Accuracy: 0.8785, Precision: 0.8845, Recall: 0.8785, F1 Score: 0.8774\n",
      "Validation loss decreased (0.560874 --> 0.549945).  Saving model ...\n"
     ]
    },
    {
     "name": "stderr",
     "output_type": "stream",
     "text": [
      "Training Epoch 41/100: 100%|██████████| 65/65 [02:27<00:00,  2.27s/batch]\n",
      "Validation Epoch 41/100: 100%|██████████| 9/9 [00:18<00:00,  2.04s/batch]\n"
     ]
    },
    {
     "name": "stdout",
     "output_type": "stream",
     "text": [
      "Epoch 41/100, Train Loss: 0.5007, Val Loss: 0.5397, Accuracy: 0.8790, Precision: 0.8850, Recall: 0.8790, F1 Score: 0.8779\n",
      "Validation loss decreased (0.549945 --> 0.539723).  Saving model ...\n"
     ]
    },
    {
     "name": "stderr",
     "output_type": "stream",
     "text": [
      "Training Epoch 42/100: 100%|██████████| 65/65 [02:27<00:00,  2.27s/batch]\n",
      "Validation Epoch 42/100: 100%|██████████| 9/9 [00:18<00:00,  2.07s/batch]\n"
     ]
    },
    {
     "name": "stdout",
     "output_type": "stream",
     "text": [
      "Epoch 42/100, Train Loss: 0.4923, Val Loss: 0.5304, Accuracy: 0.8795, Precision: 0.8854, Recall: 0.8795, F1 Score: 0.8783\n",
      "Validation loss decreased (0.539723 --> 0.530400).  Saving model ...\n"
     ]
    },
    {
     "name": "stderr",
     "output_type": "stream",
     "text": [
      "Training Epoch 43/100: 100%|██████████| 65/65 [02:30<00:00,  2.32s/batch]\n",
      "Validation Epoch 43/100: 100%|██████████| 9/9 [00:19<00:00,  2.12s/batch]\n"
     ]
    },
    {
     "name": "stdout",
     "output_type": "stream",
     "text": [
      "Epoch 43/100, Train Loss: 0.4808, Val Loss: 0.5220, Accuracy: 0.8800, Precision: 0.8857, Recall: 0.8800, F1 Score: 0.8788\n",
      "Validation loss decreased (0.530400 --> 0.521953).  Saving model ...\n"
     ]
    },
    {
     "name": "stderr",
     "output_type": "stream",
     "text": [
      "Training Epoch 44/100: 100%|██████████| 65/65 [02:30<00:00,  2.31s/batch]\n",
      "Validation Epoch 44/100: 100%|██████████| 9/9 [00:18<00:00,  2.08s/batch]\n"
     ]
    },
    {
     "name": "stdout",
     "output_type": "stream",
     "text": [
      "Epoch 44/100, Train Loss: 0.4726, Val Loss: 0.5136, Accuracy: 0.8810, Precision: 0.8867, Recall: 0.8810, F1 Score: 0.8798\n",
      "Validation loss decreased (0.521953 --> 0.513606).  Saving model ...\n"
     ]
    },
    {
     "name": "stderr",
     "output_type": "stream",
     "text": [
      "Training Epoch 45/100: 100%|██████████| 65/65 [02:31<00:00,  2.33s/batch]\n",
      "Validation Epoch 45/100: 100%|██████████| 9/9 [00:18<00:00,  2.10s/batch]\n"
     ]
    },
    {
     "name": "stdout",
     "output_type": "stream",
     "text": [
      "Epoch 45/100, Train Loss: 0.4635, Val Loss: 0.5061, Accuracy: 0.8814, Precision: 0.8870, Recall: 0.8814, F1 Score: 0.8802\n",
      "Validation loss decreased (0.513606 --> 0.506093).  Saving model ...\n"
     ]
    },
    {
     "name": "stderr",
     "output_type": "stream",
     "text": [
      "Training Epoch 46/100: 100%|██████████| 65/65 [02:28<00:00,  2.28s/batch]\n",
      "Validation Epoch 46/100: 100%|██████████| 9/9 [00:19<00:00,  2.12s/batch]\n"
     ]
    },
    {
     "name": "stdout",
     "output_type": "stream",
     "text": [
      "Epoch 46/100, Train Loss: 0.4562, Val Loss: 0.4987, Accuracy: 0.8824, Precision: 0.8878, Recall: 0.8824, F1 Score: 0.8811\n",
      "Validation loss decreased (0.506093 --> 0.498666).  Saving model ...\n"
     ]
    },
    {
     "name": "stderr",
     "output_type": "stream",
     "text": [
      "Training Epoch 47/100: 100%|██████████| 65/65 [02:29<00:00,  2.30s/batch]\n",
      "Validation Epoch 47/100: 100%|██████████| 9/9 [00:18<00:00,  2.10s/batch]\n"
     ]
    },
    {
     "name": "stdout",
     "output_type": "stream",
     "text": [
      "Epoch 47/100, Train Loss: 0.4466, Val Loss: 0.4920, Accuracy: 0.8829, Precision: 0.8879, Recall: 0.8829, F1 Score: 0.8815\n",
      "Validation loss decreased (0.498666 --> 0.491986).  Saving model ...\n"
     ]
    },
    {
     "name": "stderr",
     "output_type": "stream",
     "text": [
      "Training Epoch 48/100: 100%|██████████| 65/65 [02:28<00:00,  2.29s/batch]\n",
      "Validation Epoch 48/100: 100%|██████████| 9/9 [00:18<00:00,  2.10s/batch]\n"
     ]
    },
    {
     "name": "stdout",
     "output_type": "stream",
     "text": [
      "Epoch 48/100, Train Loss: 0.4393, Val Loss: 0.4857, Accuracy: 0.8834, Precision: 0.8882, Recall: 0.8834, F1 Score: 0.8819\n",
      "Validation loss decreased (0.491986 --> 0.485678).  Saving model ...\n"
     ]
    },
    {
     "name": "stderr",
     "output_type": "stream",
     "text": [
      "Training Epoch 49/100: 100%|██████████| 65/65 [02:30<00:00,  2.32s/batch]\n",
      "Validation Epoch 49/100: 100%|██████████| 9/9 [00:19<00:00,  2.12s/batch]\n"
     ]
    },
    {
     "name": "stdout",
     "output_type": "stream",
     "text": [
      "Epoch 49/100, Train Loss: 0.4348, Val Loss: 0.4801, Accuracy: 0.8848, Precision: 0.8896, Recall: 0.8848, F1 Score: 0.8836\n",
      "Validation loss decreased (0.485678 --> 0.480107).  Saving model ...\n"
     ]
    },
    {
     "name": "stderr",
     "output_type": "stream",
     "text": [
      "Training Epoch 50/100: 100%|██████████| 65/65 [02:32<00:00,  2.34s/batch]\n",
      "Validation Epoch 50/100: 100%|██████████| 9/9 [00:19<00:00,  2.12s/batch]\n"
     ]
    },
    {
     "name": "stdout",
     "output_type": "stream",
     "text": [
      "Epoch 50/100, Train Loss: 0.4270, Val Loss: 0.4740, Accuracy: 0.8848, Precision: 0.8895, Recall: 0.8848, F1 Score: 0.8835\n",
      "Validation loss decreased (0.480107 --> 0.474033).  Saving model ...\n"
     ]
    },
    {
     "name": "stderr",
     "output_type": "stream",
     "text": [
      "Training Epoch 51/100: 100%|██████████| 65/65 [02:31<00:00,  2.33s/batch]\n",
      "Validation Epoch 51/100: 100%|██████████| 9/9 [00:19<00:00,  2.12s/batch]\n"
     ]
    },
    {
     "name": "stdout",
     "output_type": "stream",
     "text": [
      "Epoch 51/100, Train Loss: 0.4197, Val Loss: 0.4691, Accuracy: 0.8834, Precision: 0.8882, Recall: 0.8834, F1 Score: 0.8820\n",
      "Validation loss decreased (0.474033 --> 0.469085).  Saving model ...\n"
     ]
    },
    {
     "name": "stderr",
     "output_type": "stream",
     "text": [
      "Training Epoch 52/100: 100%|██████████| 65/65 [02:31<00:00,  2.33s/batch]\n",
      "Validation Epoch 52/100: 100%|██████████| 9/9 [00:19<00:00,  2.12s/batch]\n"
     ]
    },
    {
     "name": "stdout",
     "output_type": "stream",
     "text": [
      "Epoch 52/100, Train Loss: 0.4167, Val Loss: 0.4638, Accuracy: 0.8839, Precision: 0.8886, Recall: 0.8839, F1 Score: 0.8825\n",
      "Validation loss decreased (0.469085 --> 0.463799).  Saving model ...\n"
     ]
    },
    {
     "name": "stderr",
     "output_type": "stream",
     "text": [
      "Training Epoch 53/100: 100%|██████████| 65/65 [02:30<00:00,  2.32s/batch]\n",
      "Validation Epoch 53/100: 100%|██████████| 9/9 [00:18<00:00,  2.10s/batch]\n"
     ]
    },
    {
     "name": "stdout",
     "output_type": "stream",
     "text": [
      "Epoch 53/100, Train Loss: 0.4086, Val Loss: 0.4595, Accuracy: 0.8848, Precision: 0.8890, Recall: 0.8848, F1 Score: 0.8835\n",
      "Validation loss decreased (0.463799 --> 0.459533).  Saving model ...\n"
     ]
    },
    {
     "name": "stderr",
     "output_type": "stream",
     "text": [
      "Training Epoch 54/100: 100%|██████████| 65/65 [02:28<00:00,  2.29s/batch]\n",
      "Validation Epoch 54/100: 100%|██████████| 9/9 [00:18<00:00,  2.08s/batch]\n"
     ]
    },
    {
     "name": "stdout",
     "output_type": "stream",
     "text": [
      "Epoch 54/100, Train Loss: 0.4028, Val Loss: 0.4549, Accuracy: 0.8848, Precision: 0.8891, Recall: 0.8848, F1 Score: 0.8836\n",
      "Validation loss decreased (0.459533 --> 0.454932).  Saving model ...\n"
     ]
    },
    {
     "name": "stderr",
     "output_type": "stream",
     "text": [
      "Training Epoch 55/100: 100%|██████████| 65/65 [02:28<00:00,  2.29s/batch]\n",
      "Validation Epoch 55/100: 100%|██████████| 9/9 [00:18<00:00,  2.09s/batch]\n"
     ]
    },
    {
     "name": "stdout",
     "output_type": "stream",
     "text": [
      "Epoch 55/100, Train Loss: 0.3971, Val Loss: 0.4506, Accuracy: 0.8853, Precision: 0.8897, Recall: 0.8853, F1 Score: 0.8841\n",
      "Validation loss decreased (0.454932 --> 0.450588).  Saving model ...\n"
     ]
    },
    {
     "name": "stderr",
     "output_type": "stream",
     "text": [
      "Training Epoch 56/100: 100%|██████████| 65/65 [02:28<00:00,  2.29s/batch]\n",
      "Validation Epoch 56/100: 100%|██████████| 9/9 [00:18<00:00,  2.09s/batch]\n"
     ]
    },
    {
     "name": "stdout",
     "output_type": "stream",
     "text": [
      "Epoch 56/100, Train Loss: 0.3923, Val Loss: 0.4468, Accuracy: 0.8863, Precision: 0.8906, Recall: 0.8863, F1 Score: 0.8850\n",
      "Validation loss decreased (0.450588 --> 0.446786).  Saving model ...\n"
     ]
    },
    {
     "name": "stderr",
     "output_type": "stream",
     "text": [
      "Training Epoch 57/100: 100%|██████████| 65/65 [02:28<00:00,  2.29s/batch]\n",
      "Validation Epoch 57/100: 100%|██████████| 9/9 [00:18<00:00,  2.09s/batch]\n"
     ]
    },
    {
     "name": "stdout",
     "output_type": "stream",
     "text": [
      "Epoch 57/100, Train Loss: 0.3896, Val Loss: 0.4430, Accuracy: 0.8863, Precision: 0.8904, Recall: 0.8863, F1 Score: 0.8849\n",
      "Validation loss decreased (0.446786 --> 0.443021).  Saving model ...\n"
     ]
    },
    {
     "name": "stderr",
     "output_type": "stream",
     "text": [
      "Training Epoch 58/100: 100%|██████████| 65/65 [02:28<00:00,  2.29s/batch]\n",
      "Validation Epoch 58/100: 100%|██████████| 9/9 [00:18<00:00,  2.08s/batch]\n"
     ]
    },
    {
     "name": "stdout",
     "output_type": "stream",
     "text": [
      "Epoch 58/100, Train Loss: 0.3831, Val Loss: 0.4394, Accuracy: 0.8863, Precision: 0.8908, Recall: 0.8863, F1 Score: 0.8850\n",
      "Validation loss decreased (0.443021 --> 0.439378).  Saving model ...\n"
     ]
    },
    {
     "name": "stderr",
     "output_type": "stream",
     "text": [
      "Training Epoch 59/100: 100%|██████████| 65/65 [02:28<00:00,  2.29s/batch]\n",
      "Validation Epoch 59/100: 100%|██████████| 9/9 [00:18<00:00,  2.08s/batch]\n"
     ]
    },
    {
     "name": "stdout",
     "output_type": "stream",
     "text": [
      "Epoch 59/100, Train Loss: 0.3780, Val Loss: 0.4359, Accuracy: 0.8868, Precision: 0.8912, Recall: 0.8868, F1 Score: 0.8855\n",
      "Validation loss decreased (0.439378 --> 0.435861).  Saving model ...\n"
     ]
    },
    {
     "name": "stderr",
     "output_type": "stream",
     "text": [
      "Training Epoch 60/100: 100%|██████████| 65/65 [02:28<00:00,  2.29s/batch]\n",
      "Validation Epoch 60/100: 100%|██████████| 9/9 [00:18<00:00,  2.08s/batch]\n"
     ]
    },
    {
     "name": "stdout",
     "output_type": "stream",
     "text": [
      "Epoch 60/100, Train Loss: 0.3738, Val Loss: 0.4328, Accuracy: 0.8878, Precision: 0.8921, Recall: 0.8878, F1 Score: 0.8864\n",
      "Validation loss decreased (0.435861 --> 0.432757).  Saving model ...\n"
     ]
    },
    {
     "name": "stderr",
     "output_type": "stream",
     "text": [
      "Training Epoch 61/100: 100%|██████████| 65/65 [02:29<00:00,  2.30s/batch]\n",
      "Validation Epoch 61/100: 100%|██████████| 9/9 [00:18<00:00,  2.09s/batch]\n"
     ]
    },
    {
     "name": "stdout",
     "output_type": "stream",
     "text": [
      "Epoch 61/100, Train Loss: 0.3711, Val Loss: 0.4297, Accuracy: 0.8868, Precision: 0.8912, Recall: 0.8868, F1 Score: 0.8856\n",
      "Validation loss decreased (0.432757 --> 0.429662).  Saving model ...\n"
     ]
    },
    {
     "name": "stderr",
     "output_type": "stream",
     "text": [
      "Training Epoch 62/100: 100%|██████████| 65/65 [02:28<00:00,  2.29s/batch]\n",
      "Validation Epoch 62/100: 100%|██████████| 9/9 [00:18<00:00,  2.08s/batch]\n"
     ]
    },
    {
     "name": "stdout",
     "output_type": "stream",
     "text": [
      "Epoch 62/100, Train Loss: 0.3681, Val Loss: 0.4264, Accuracy: 0.8868, Precision: 0.8912, Recall: 0.8868, F1 Score: 0.8856\n",
      "Validation loss decreased (0.429662 --> 0.426435).  Saving model ...\n"
     ]
    },
    {
     "name": "stderr",
     "output_type": "stream",
     "text": [
      "Training Epoch 63/100: 100%|██████████| 65/65 [02:28<00:00,  2.29s/batch]\n",
      "Validation Epoch 63/100: 100%|██████████| 9/9 [00:18<00:00,  2.09s/batch]\n"
     ]
    },
    {
     "name": "stdout",
     "output_type": "stream",
     "text": [
      "Epoch 63/100, Train Loss: 0.3627, Val Loss: 0.4240, Accuracy: 0.8887, Precision: 0.8934, Recall: 0.8887, F1 Score: 0.8876\n",
      "Validation loss decreased (0.426435 --> 0.424000).  Saving model ...\n"
     ]
    },
    {
     "name": "stderr",
     "output_type": "stream",
     "text": [
      "Training Epoch 64/100: 100%|██████████| 65/65 [02:29<00:00,  2.29s/batch]\n",
      "Validation Epoch 64/100: 100%|██████████| 9/9 [00:18<00:00,  2.08s/batch]\n"
     ]
    },
    {
     "name": "stdout",
     "output_type": "stream",
     "text": [
      "Epoch 64/100, Train Loss: 0.3586, Val Loss: 0.4213, Accuracy: 0.8878, Precision: 0.8923, Recall: 0.8878, F1 Score: 0.8866\n",
      "Validation loss decreased (0.424000 --> 0.421341).  Saving model ...\n"
     ]
    },
    {
     "name": "stderr",
     "output_type": "stream",
     "text": [
      "Training Epoch 65/100: 100%|██████████| 65/65 [02:28<00:00,  2.29s/batch]\n",
      "Validation Epoch 65/100: 100%|██████████| 9/9 [00:18<00:00,  2.08s/batch]\n"
     ]
    },
    {
     "name": "stdout",
     "output_type": "stream",
     "text": [
      "Epoch 65/100, Train Loss: 0.3538, Val Loss: 0.4188, Accuracy: 0.8887, Precision: 0.8932, Recall: 0.8887, F1 Score: 0.8876\n",
      "Validation loss decreased (0.421341 --> 0.418772).  Saving model ...\n"
     ]
    },
    {
     "name": "stderr",
     "output_type": "stream",
     "text": [
      "Training Epoch 66/100: 100%|██████████| 65/65 [02:29<00:00,  2.30s/batch]\n",
      "Validation Epoch 66/100: 100%|██████████| 9/9 [00:18<00:00,  2.09s/batch]\n"
     ]
    },
    {
     "name": "stdout",
     "output_type": "stream",
     "text": [
      "Epoch 66/100, Train Loss: 0.3502, Val Loss: 0.4166, Accuracy: 0.8887, Precision: 0.8934, Recall: 0.8887, F1 Score: 0.8876\n",
      "Validation loss decreased (0.418772 --> 0.416565).  Saving model ...\n"
     ]
    },
    {
     "name": "stderr",
     "output_type": "stream",
     "text": [
      "Training Epoch 67/100: 100%|██████████| 65/65 [02:29<00:00,  2.29s/batch]\n",
      "Validation Epoch 67/100: 100%|██████████| 9/9 [00:18<00:00,  2.08s/batch]\n"
     ]
    },
    {
     "name": "stdout",
     "output_type": "stream",
     "text": [
      "Epoch 67/100, Train Loss: 0.3489, Val Loss: 0.4142, Accuracy: 0.8887, Precision: 0.8932, Recall: 0.8887, F1 Score: 0.8875\n",
      "Validation loss decreased (0.416565 --> 0.414206).  Saving model ...\n"
     ]
    },
    {
     "name": "stderr",
     "output_type": "stream",
     "text": [
      "Training Epoch 68/100: 100%|██████████| 65/65 [02:29<00:00,  2.29s/batch]\n",
      "Validation Epoch 68/100: 100%|██████████| 9/9 [00:18<00:00,  2.09s/batch]\n"
     ]
    },
    {
     "name": "stdout",
     "output_type": "stream",
     "text": [
      "Epoch 68/100, Train Loss: 0.3458, Val Loss: 0.4118, Accuracy: 0.8878, Precision: 0.8922, Recall: 0.8878, F1 Score: 0.8866\n",
      "Validation loss decreased (0.414206 --> 0.411774).  Saving model ...\n"
     ]
    },
    {
     "name": "stderr",
     "output_type": "stream",
     "text": [
      "Training Epoch 69/100: 100%|██████████| 65/65 [02:28<00:00,  2.29s/batch]\n",
      "Validation Epoch 69/100: 100%|██████████| 9/9 [00:18<00:00,  2.09s/batch]\n"
     ]
    },
    {
     "name": "stdout",
     "output_type": "stream",
     "text": [
      "Epoch 69/100, Train Loss: 0.3422, Val Loss: 0.4098, Accuracy: 0.8878, Precision: 0.8922, Recall: 0.8878, F1 Score: 0.8866\n",
      "Validation loss decreased (0.411774 --> 0.409811).  Saving model ...\n"
     ]
    },
    {
     "name": "stderr",
     "output_type": "stream",
     "text": [
      "Training Epoch 70/100: 100%|██████████| 65/65 [02:28<00:00,  2.29s/batch]\n",
      "Validation Epoch 70/100: 100%|██████████| 9/9 [00:18<00:00,  2.08s/batch]\n"
     ]
    },
    {
     "name": "stdout",
     "output_type": "stream",
     "text": [
      "Epoch 70/100, Train Loss: 0.3379, Val Loss: 0.4079, Accuracy: 0.8882, Precision: 0.8927, Recall: 0.8882, F1 Score: 0.8871\n",
      "Validation loss decreased (0.409811 --> 0.407889).  Saving model ...\n"
     ]
    },
    {
     "name": "stderr",
     "output_type": "stream",
     "text": [
      "Training Epoch 71/100: 100%|██████████| 65/65 [02:29<00:00,  2.29s/batch]\n",
      "Validation Epoch 71/100: 100%|██████████| 9/9 [00:18<00:00,  2.08s/batch]\n"
     ]
    },
    {
     "name": "stdout",
     "output_type": "stream",
     "text": [
      "Epoch 71/100, Train Loss: 0.3356, Val Loss: 0.4059, Accuracy: 0.8887, Precision: 0.8930, Recall: 0.8887, F1 Score: 0.8874\n",
      "Validation loss decreased (0.407889 --> 0.405923).  Saving model ...\n"
     ]
    },
    {
     "name": "stderr",
     "output_type": "stream",
     "text": [
      "Training Epoch 72/100: 100%|██████████| 65/65 [02:29<00:00,  2.29s/batch]\n",
      "Validation Epoch 72/100: 100%|██████████| 9/9 [00:18<00:00,  2.10s/batch]\n"
     ]
    },
    {
     "name": "stdout",
     "output_type": "stream",
     "text": [
      "Epoch 72/100, Train Loss: 0.3328, Val Loss: 0.4041, Accuracy: 0.8882, Precision: 0.8927, Recall: 0.8882, F1 Score: 0.8870\n",
      "Validation loss decreased (0.405923 --> 0.404120).  Saving model ...\n"
     ]
    },
    {
     "name": "stderr",
     "output_type": "stream",
     "text": [
      "Training Epoch 73/100: 100%|██████████| 65/65 [02:29<00:00,  2.29s/batch]\n",
      "Validation Epoch 73/100: 100%|██████████| 9/9 [00:18<00:00,  2.08s/batch]\n"
     ]
    },
    {
     "name": "stdout",
     "output_type": "stream",
     "text": [
      "Epoch 73/100, Train Loss: 0.3315, Val Loss: 0.4022, Accuracy: 0.8868, Precision: 0.8911, Recall: 0.8868, F1 Score: 0.8856\n",
      "Validation loss decreased (0.404120 --> 0.402179).  Saving model ...\n"
     ]
    },
    {
     "name": "stderr",
     "output_type": "stream",
     "text": [
      "Training Epoch 74/100: 100%|██████████| 65/65 [02:28<00:00,  2.29s/batch]\n",
      "Validation Epoch 74/100: 100%|██████████| 9/9 [00:18<00:00,  2.08s/batch]\n"
     ]
    },
    {
     "name": "stdout",
     "output_type": "stream",
     "text": [
      "Epoch 74/100, Train Loss: 0.3262, Val Loss: 0.4009, Accuracy: 0.8873, Precision: 0.8917, Recall: 0.8873, F1 Score: 0.8860\n",
      "Validation loss decreased (0.402179 --> 0.400932).  Saving model ...\n"
     ]
    },
    {
     "name": "stderr",
     "output_type": "stream",
     "text": [
      "Training Epoch 75/100: 100%|██████████| 65/65 [02:29<00:00,  2.29s/batch]\n",
      "Validation Epoch 75/100: 100%|██████████| 9/9 [00:18<00:00,  2.08s/batch]\n"
     ]
    },
    {
     "name": "stdout",
     "output_type": "stream",
     "text": [
      "Epoch 75/100, Train Loss: 0.3249, Val Loss: 0.3991, Accuracy: 0.8873, Precision: 0.8918, Recall: 0.8873, F1 Score: 0.8860\n",
      "Validation loss decreased (0.400932 --> 0.399141).  Saving model ...\n"
     ]
    },
    {
     "name": "stderr",
     "output_type": "stream",
     "text": [
      "Training Epoch 76/100: 100%|██████████| 65/65 [02:29<00:00,  2.29s/batch]\n",
      "Validation Epoch 76/100: 100%|██████████| 9/9 [00:18<00:00,  2.09s/batch]\n"
     ]
    },
    {
     "name": "stdout",
     "output_type": "stream",
     "text": [
      "Epoch 76/100, Train Loss: 0.3208, Val Loss: 0.3977, Accuracy: 0.8878, Precision: 0.8923, Recall: 0.8878, F1 Score: 0.8865\n",
      "Validation loss decreased (0.399141 --> 0.397692).  Saving model ...\n"
     ]
    },
    {
     "name": "stderr",
     "output_type": "stream",
     "text": [
      "Training Epoch 77/100: 100%|██████████| 65/65 [02:29<00:00,  2.30s/batch]\n",
      "Validation Epoch 77/100: 100%|██████████| 9/9 [00:18<00:00,  2.09s/batch]\n"
     ]
    },
    {
     "name": "stdout",
     "output_type": "stream",
     "text": [
      "Epoch 77/100, Train Loss: 0.3179, Val Loss: 0.3963, Accuracy: 0.8873, Precision: 0.8918, Recall: 0.8873, F1 Score: 0.8860\n",
      "Validation loss decreased (0.397692 --> 0.396266).  Saving model ...\n"
     ]
    },
    {
     "name": "stderr",
     "output_type": "stream",
     "text": [
      "Training Epoch 78/100: 100%|██████████| 65/65 [02:29<00:00,  2.29s/batch]\n",
      "Validation Epoch 78/100: 100%|██████████| 9/9 [00:18<00:00,  2.09s/batch]\n"
     ]
    },
    {
     "name": "stdout",
     "output_type": "stream",
     "text": [
      "Epoch 78/100, Train Loss: 0.3175, Val Loss: 0.3950, Accuracy: 0.8878, Precision: 0.8922, Recall: 0.8878, F1 Score: 0.8866\n",
      "Validation loss decreased (0.396266 --> 0.395019).  Saving model ...\n"
     ]
    },
    {
     "name": "stderr",
     "output_type": "stream",
     "text": [
      "Training Epoch 79/100: 100%|██████████| 65/65 [02:29<00:00,  2.29s/batch]\n",
      "Validation Epoch 79/100: 100%|██████████| 9/9 [00:18<00:00,  2.08s/batch]\n"
     ]
    },
    {
     "name": "stdout",
     "output_type": "stream",
     "text": [
      "Epoch 79/100, Train Loss: 0.3160, Val Loss: 0.3936, Accuracy: 0.8882, Precision: 0.8927, Recall: 0.8882, F1 Score: 0.8870\n",
      "Validation loss decreased (0.395019 --> 0.393648).  Saving model ...\n"
     ]
    },
    {
     "name": "stderr",
     "output_type": "stream",
     "text": [
      "Training Epoch 80/100: 100%|██████████| 65/65 [02:29<00:00,  2.30s/batch]\n",
      "Validation Epoch 80/100: 100%|██████████| 9/9 [00:18<00:00,  2.08s/batch]\n"
     ]
    },
    {
     "name": "stdout",
     "output_type": "stream",
     "text": [
      "Epoch 80/100, Train Loss: 0.3107, Val Loss: 0.3923, Accuracy: 0.8878, Precision: 0.8922, Recall: 0.8878, F1 Score: 0.8866\n",
      "Validation loss decreased (0.393648 --> 0.392254).  Saving model ...\n"
     ]
    },
    {
     "name": "stderr",
     "output_type": "stream",
     "text": [
      "Training Epoch 81/100: 100%|██████████| 65/65 [02:29<00:00,  2.29s/batch]\n",
      "Validation Epoch 81/100: 100%|██████████| 9/9 [00:18<00:00,  2.08s/batch]\n"
     ]
    },
    {
     "name": "stdout",
     "output_type": "stream",
     "text": [
      "Epoch 81/100, Train Loss: 0.3090, Val Loss: 0.3909, Accuracy: 0.8878, Precision: 0.8921, Recall: 0.8878, F1 Score: 0.8864\n",
      "Validation loss decreased (0.392254 --> 0.390895).  Saving model ...\n"
     ]
    },
    {
     "name": "stderr",
     "output_type": "stream",
     "text": [
      "Training Epoch 82/100: 100%|██████████| 65/65 [02:29<00:00,  2.30s/batch]\n",
      "Validation Epoch 82/100: 100%|██████████| 9/9 [00:18<00:00,  2.10s/batch]\n"
     ]
    },
    {
     "name": "stdout",
     "output_type": "stream",
     "text": [
      "Epoch 82/100, Train Loss: 0.3062, Val Loss: 0.3900, Accuracy: 0.8868, Precision: 0.8913, Recall: 0.8868, F1 Score: 0.8855\n",
      "Validation loss decreased (0.390895 --> 0.390005).  Saving model ...\n"
     ]
    },
    {
     "name": "stderr",
     "output_type": "stream",
     "text": [
      "Training Epoch 83/100: 100%|██████████| 65/65 [02:29<00:00,  2.29s/batch]\n",
      "Validation Epoch 83/100: 100%|██████████| 9/9 [00:18<00:00,  2.09s/batch]\n"
     ]
    },
    {
     "name": "stdout",
     "output_type": "stream",
     "text": [
      "Epoch 83/100, Train Loss: 0.3046, Val Loss: 0.3890, Accuracy: 0.8878, Precision: 0.8923, Recall: 0.8878, F1 Score: 0.8866\n",
      "Validation loss decreased (0.390005 --> 0.388965).  Saving model ...\n"
     ]
    },
    {
     "name": "stderr",
     "output_type": "stream",
     "text": [
      "Training Epoch 84/100: 100%|██████████| 65/65 [02:29<00:00,  2.30s/batch]\n",
      "Validation Epoch 84/100: 100%|██████████| 9/9 [00:18<00:00,  2.08s/batch]\n"
     ]
    },
    {
     "name": "stdout",
     "output_type": "stream",
     "text": [
      "Epoch 84/100, Train Loss: 0.3028, Val Loss: 0.3878, Accuracy: 0.8878, Precision: 0.8922, Recall: 0.8878, F1 Score: 0.8865\n",
      "Validation loss decreased (0.388965 --> 0.387792).  Saving model ...\n"
     ]
    },
    {
     "name": "stderr",
     "output_type": "stream",
     "text": [
      "Training Epoch 85/100: 100%|██████████| 65/65 [02:29<00:00,  2.30s/batch]\n",
      "Validation Epoch 85/100: 100%|██████████| 9/9 [00:18<00:00,  2.09s/batch]\n"
     ]
    },
    {
     "name": "stdout",
     "output_type": "stream",
     "text": [
      "Epoch 85/100, Train Loss: 0.3009, Val Loss: 0.3866, Accuracy: 0.8873, Precision: 0.8916, Recall: 0.8873, F1 Score: 0.8859\n",
      "Validation loss decreased (0.387792 --> 0.386648).  Saving model ...\n"
     ]
    },
    {
     "name": "stderr",
     "output_type": "stream",
     "text": [
      "Training Epoch 86/100: 100%|██████████| 65/65 [02:29<00:00,  2.29s/batch]\n",
      "Validation Epoch 86/100: 100%|██████████| 9/9 [00:18<00:00,  2.09s/batch]\n"
     ]
    },
    {
     "name": "stdout",
     "output_type": "stream",
     "text": [
      "Epoch 86/100, Train Loss: 0.2985, Val Loss: 0.3856, Accuracy: 0.8878, Precision: 0.8919, Recall: 0.8878, F1 Score: 0.8863\n",
      "Validation loss decreased (0.386648 --> 0.385626).  Saving model ...\n"
     ]
    },
    {
     "name": "stderr",
     "output_type": "stream",
     "text": [
      "Training Epoch 87/100: 100%|██████████| 65/65 [02:29<00:00,  2.30s/batch]\n",
      "Validation Epoch 87/100: 100%|██████████| 9/9 [00:18<00:00,  2.09s/batch]\n"
     ]
    },
    {
     "name": "stdout",
     "output_type": "stream",
     "text": [
      "Epoch 87/100, Train Loss: 0.2974, Val Loss: 0.3846, Accuracy: 0.8887, Precision: 0.8929, Recall: 0.8887, F1 Score: 0.8873\n",
      "Validation loss decreased (0.385626 --> 0.384563).  Saving model ...\n"
     ]
    },
    {
     "name": "stderr",
     "output_type": "stream",
     "text": [
      "Training Epoch 88/100: 100%|██████████| 65/65 [02:29<00:00,  2.30s/batch]\n",
      "Validation Epoch 88/100: 100%|██████████| 9/9 [00:18<00:00,  2.09s/batch]\n"
     ]
    },
    {
     "name": "stdout",
     "output_type": "stream",
     "text": [
      "Epoch 88/100, Train Loss: 0.2933, Val Loss: 0.3836, Accuracy: 0.8887, Precision: 0.8929, Recall: 0.8887, F1 Score: 0.8872\n",
      "Validation loss decreased (0.384563 --> 0.383606).  Saving model ...\n"
     ]
    },
    {
     "name": "stderr",
     "output_type": "stream",
     "text": [
      "Training Epoch 89/100: 100%|██████████| 65/65 [02:29<00:00,  2.30s/batch]\n",
      "Validation Epoch 89/100: 100%|██████████| 9/9 [00:18<00:00,  2.09s/batch]\n"
     ]
    },
    {
     "name": "stdout",
     "output_type": "stream",
     "text": [
      "Epoch 89/100, Train Loss: 0.2933, Val Loss: 0.3831, Accuracy: 0.8892, Precision: 0.8933, Recall: 0.8892, F1 Score: 0.8878\n",
      "Validation loss decreased (0.383606 --> 0.383124).  Saving model ...\n"
     ]
    },
    {
     "name": "stderr",
     "output_type": "stream",
     "text": [
      "Training Epoch 90/100: 100%|██████████| 65/65 [02:29<00:00,  2.30s/batch]\n",
      "Validation Epoch 90/100: 100%|██████████| 9/9 [00:18<00:00,  2.08s/batch]\n"
     ]
    },
    {
     "name": "stdout",
     "output_type": "stream",
     "text": [
      "Epoch 90/100, Train Loss: 0.2903, Val Loss: 0.3819, Accuracy: 0.8882, Precision: 0.8927, Recall: 0.8882, F1 Score: 0.8870\n",
      "Validation loss decreased (0.383124 --> 0.381939).  Saving model ...\n"
     ]
    },
    {
     "name": "stderr",
     "output_type": "stream",
     "text": [
      "Training Epoch 91/100: 100%|██████████| 65/65 [02:29<00:00,  2.30s/batch]\n",
      "Validation Epoch 91/100: 100%|██████████| 9/9 [00:18<00:00,  2.10s/batch]\n"
     ]
    },
    {
     "name": "stdout",
     "output_type": "stream",
     "text": [
      "Epoch 91/100, Train Loss: 0.2883, Val Loss: 0.3812, Accuracy: 0.8887, Precision: 0.8931, Recall: 0.8887, F1 Score: 0.8874\n",
      "Validation loss decreased (0.381939 --> 0.381201).  Saving model ...\n"
     ]
    },
    {
     "name": "stderr",
     "output_type": "stream",
     "text": [
      "Training Epoch 92/100: 100%|██████████| 65/65 [02:29<00:00,  2.30s/batch]\n",
      "Validation Epoch 92/100: 100%|██████████| 9/9 [00:18<00:00,  2.10s/batch]\n"
     ]
    },
    {
     "name": "stdout",
     "output_type": "stream",
     "text": [
      "Epoch 92/100, Train Loss: 0.2868, Val Loss: 0.3804, Accuracy: 0.8887, Precision: 0.8931, Recall: 0.8887, F1 Score: 0.8875\n",
      "Validation loss decreased (0.381201 --> 0.380365).  Saving model ...\n"
     ]
    },
    {
     "name": "stderr",
     "output_type": "stream",
     "text": [
      "Training Epoch 93/100: 100%|██████████| 65/65 [02:29<00:00,  2.30s/batch]\n",
      "Validation Epoch 93/100: 100%|██████████| 9/9 [00:18<00:00,  2.06s/batch]\n"
     ]
    },
    {
     "name": "stdout",
     "output_type": "stream",
     "text": [
      "Epoch 93/100, Train Loss: 0.2848, Val Loss: 0.3797, Accuracy: 0.8892, Precision: 0.8936, Recall: 0.8892, F1 Score: 0.8878\n",
      "Validation loss decreased (0.380365 --> 0.379653).  Saving model ...\n"
     ]
    },
    {
     "name": "stderr",
     "output_type": "stream",
     "text": [
      "Training Epoch 94/100: 100%|██████████| 65/65 [02:29<00:00,  2.29s/batch]\n",
      "Validation Epoch 94/100: 100%|██████████| 9/9 [00:18<00:00,  2.06s/batch]\n"
     ]
    },
    {
     "name": "stdout",
     "output_type": "stream",
     "text": [
      "Epoch 94/100, Train Loss: 0.2836, Val Loss: 0.3792, Accuracy: 0.8887, Precision: 0.8932, Recall: 0.8887, F1 Score: 0.8874\n",
      "Validation loss decreased (0.379653 --> 0.379162).  Saving model ...\n"
     ]
    },
    {
     "name": "stderr",
     "output_type": "stream",
     "text": [
      "Training Epoch 95/100: 100%|██████████| 65/65 [02:29<00:00,  2.30s/batch]\n",
      "Validation Epoch 95/100: 100%|██████████| 9/9 [00:19<00:00,  2.11s/batch]\n"
     ]
    },
    {
     "name": "stdout",
     "output_type": "stream",
     "text": [
      "Epoch 95/100, Train Loss: 0.2808, Val Loss: 0.3783, Accuracy: 0.8887, Precision: 0.8932, Recall: 0.8887, F1 Score: 0.8874\n",
      "Validation loss decreased (0.379162 --> 0.378295).  Saving model ...\n"
     ]
    },
    {
     "name": "stderr",
     "output_type": "stream",
     "text": [
      "Training Epoch 96/100: 100%|██████████| 65/65 [02:28<00:00,  2.29s/batch]\n",
      "Validation Epoch 96/100: 100%|██████████| 9/9 [00:18<00:00,  2.07s/batch]\n"
     ]
    },
    {
     "name": "stdout",
     "output_type": "stream",
     "text": [
      "Epoch 96/100, Train Loss: 0.2786, Val Loss: 0.3782, Accuracy: 0.8887, Precision: 0.8933, Recall: 0.8887, F1 Score: 0.8875\n",
      "Validation loss decreased (0.378295 --> 0.378191).  Saving model ...\n"
     ]
    },
    {
     "name": "stderr",
     "output_type": "stream",
     "text": [
      "Training Epoch 97/100: 100%|██████████| 65/65 [02:28<00:00,  2.28s/batch]\n",
      "Validation Epoch 97/100: 100%|██████████| 9/9 [00:18<00:00,  2.06s/batch]\n"
     ]
    },
    {
     "name": "stdout",
     "output_type": "stream",
     "text": [
      "Epoch 97/100, Train Loss: 0.2786, Val Loss: 0.3774, Accuracy: 0.8887, Precision: 0.8932, Recall: 0.8887, F1 Score: 0.8873\n",
      "Validation loss decreased (0.378191 --> 0.377355).  Saving model ...\n"
     ]
    },
    {
     "name": "stderr",
     "output_type": "stream",
     "text": [
      "Training Epoch 98/100: 100%|██████████| 65/65 [02:29<00:00,  2.30s/batch]\n",
      "Validation Epoch 98/100: 100%|██████████| 9/9 [00:18<00:00,  2.04s/batch]\n"
     ]
    },
    {
     "name": "stdout",
     "output_type": "stream",
     "text": [
      "Epoch 98/100, Train Loss: 0.2758, Val Loss: 0.3767, Accuracy: 0.8878, Precision: 0.8924, Recall: 0.8878, F1 Score: 0.8864\n",
      "Validation loss decreased (0.377355 --> 0.376734).  Saving model ...\n"
     ]
    },
    {
     "name": "stderr",
     "output_type": "stream",
     "text": [
      "Training Epoch 99/100: 100%|██████████| 65/65 [02:33<00:00,  2.36s/batch]\n",
      "Validation Epoch 99/100: 100%|██████████| 9/9 [00:19<00:00,  2.13s/batch]\n"
     ]
    },
    {
     "name": "stdout",
     "output_type": "stream",
     "text": [
      "Epoch 99/100, Train Loss: 0.2757, Val Loss: 0.3761, Accuracy: 0.8878, Precision: 0.8927, Recall: 0.8878, F1 Score: 0.8866\n",
      "Validation loss decreased (0.376734 --> 0.376147).  Saving model ...\n"
     ]
    },
    {
     "name": "stderr",
     "output_type": "stream",
     "text": [
      "Training Epoch 100/100: 100%|██████████| 65/65 [02:32<00:00,  2.35s/batch]\n",
      "Validation Epoch 100/100: 100%|██████████| 9/9 [00:19<00:00,  2.13s/batch]\n"
     ]
    },
    {
     "name": "stdout",
     "output_type": "stream",
     "text": [
      "Epoch 100/100, Train Loss: 0.2746, Val Loss: 0.3758, Accuracy: 0.8882, Precision: 0.8930, Recall: 0.8882, F1 Score: 0.8870\n",
      "Validation loss decreased (0.376147 --> 0.375771).  Saving model ...\n"
     ]
    },
    {
     "name": "stderr",
     "output_type": "stream",
     "text": [
      "Testing: 100%|██████████| 9/9 [00:19<00:00,  2.12s/batch]"
     ]
    },
    {
     "name": "stdout",
     "output_type": "stream",
     "text": [
      "Test Loss: 0.3411, Accuracy: 0.8897, Precision: 0.8964, Recall: 0.8897, F1 Score: 0.8897\n"
     ]
    },
    {
     "name": "stderr",
     "output_type": "stream",
     "text": [
      "\n"
     ]
    }
   ],
   "source": [
    "# User-specified model\n",
    "model_name = \"deit_small_patch16_224\"  # Replace this with your desired model name\n",
    "do_transfer_learning(model_name=model_name)\n"
   ]
  },
  {
   "cell_type": "markdown",
   "metadata": {},
   "source": [
    "## Microsoft SWIN"
   ]
  },
  {
   "cell_type": "code",
   "execution_count": 9,
   "metadata": {},
   "outputs": [
    {
     "name": "stdout",
     "output_type": "stream",
     "text": [
      "Train dataset size: 16464\n",
      "Validation dataset size: 2058\n",
      "Test dataset size: 2058\n",
      "MPS device found.\n",
      "Folder already exists: results/transferlearning/stanford_dog/swin-base-patch4-window7-224\n",
      "Folder already exists: checkpoints/transferlearning/stanford_dog\n"
     ]
    },
    {
     "name": "stderr",
     "output_type": "stream",
     "text": [
      "Training Epoch 1/100: 100%|██████████| 65/65 [57:23<00:00, 52.97s/batch]\n",
      "Validation Epoch 1/100: 100%|██████████| 9/9 [07:26<00:00, 49.64s/batch]\n"
     ]
    },
    {
     "name": "stdout",
     "output_type": "stream",
     "text": [
      "Epoch 1/100, Train Loss: 4.7680, Val Loss: 4.7150, Accuracy: 0.0335, Precision: 0.0427, Recall: 0.0335, F1 Score: 0.0175\n",
      "Validation loss decreased (inf --> 4.714985).  Saving model ...\n"
     ]
    },
    {
     "name": "stderr",
     "output_type": "stream",
     "text": [
      "Training Epoch 2/100: 100%|██████████| 65/65 [1:35:09<00:00, 87.83s/batch]   \n",
      "Validation Epoch 2/100: 100%|██████████| 9/9 [07:46<00:00, 51.84s/batch]\n"
     ]
    },
    {
     "name": "stdout",
     "output_type": "stream",
     "text": [
      "Epoch 2/100, Train Loss: 4.6900, Val Loss: 4.6414, Accuracy: 0.0734, Precision: 0.0860, Recall: 0.0734, F1 Score: 0.0511\n",
      "Validation loss decreased (4.714985 --> 4.641414).  Saving model ...\n"
     ]
    },
    {
     "name": "stderr",
     "output_type": "stream",
     "text": [
      "Training Epoch 3/100: 100%|██████████| 65/65 [1:03:58<00:00, 59.05s/batch]\n",
      "Validation Epoch 3/100: 100%|██████████| 9/9 [08:15<00:00, 55.04s/batch]\n"
     ]
    },
    {
     "name": "stdout",
     "output_type": "stream",
     "text": [
      "Epoch 3/100, Train Loss: 4.6180, Val Loss: 4.5697, Accuracy: 0.1147, Precision: 0.1580, Recall: 0.1147, F1 Score: 0.0923\n",
      "Validation loss decreased (4.641414 --> 4.569749).  Saving model ...\n"
     ]
    },
    {
     "name": "stderr",
     "output_type": "stream",
     "text": [
      "Training Epoch 4/100: 100%|██████████| 65/65 [1:06:24<00:00, 61.31s/batch]\n",
      "Validation Epoch 4/100: 100%|██████████| 9/9 [07:06<00:00, 47.39s/batch]\n"
     ]
    },
    {
     "name": "stdout",
     "output_type": "stream",
     "text": [
      "Epoch 4/100, Train Loss: 4.5491, Val Loss: 4.5006, Accuracy: 0.2055, Precision: 0.2652, Recall: 0.2055, F1 Score: 0.1717\n",
      "Validation loss decreased (4.569749 --> 4.500646).  Saving model ...\n"
     ]
    },
    {
     "name": "stderr",
     "output_type": "stream",
     "text": [
      "Training Epoch 5/100: 100%|██████████| 65/65 [1:00:50<00:00, 56.15s/batch]\n",
      "Validation Epoch 5/100: 100%|██████████| 9/9 [06:48<00:00, 45.44s/batch]\n"
     ]
    },
    {
     "name": "stdout",
     "output_type": "stream",
     "text": [
      "Epoch 5/100, Train Loss: 4.4778, Val Loss: 4.4307, Accuracy: 0.2775, Precision: 0.3639, Recall: 0.2775, F1 Score: 0.2438\n",
      "Validation loss decreased (4.500646 --> 4.430679).  Saving model ...\n"
     ]
    },
    {
     "name": "stderr",
     "output_type": "stream",
     "text": [
      "Training Epoch 6/100: 100%|██████████| 65/65 [1:00:26<00:00, 55.80s/batch]\n",
      "Validation Epoch 6/100: 100%|██████████| 9/9 [09:23<00:00, 62.58s/batch]\n"
     ]
    },
    {
     "name": "stdout",
     "output_type": "stream",
     "text": [
      "Epoch 6/100, Train Loss: 4.4104, Val Loss: 4.3622, Accuracy: 0.3435, Precision: 0.4134, Recall: 0.3435, F1 Score: 0.3030\n",
      "Validation loss decreased (4.430679 --> 4.362242).  Saving model ...\n"
     ]
    },
    {
     "name": "stderr",
     "output_type": "stream",
     "text": [
      "Training Epoch 7/100: 100%|██████████| 65/65 [1:05:38<00:00, 60.59s/batch]\n",
      "Validation Epoch 7/100: 100%|██████████| 9/9 [08:11<00:00, 54.66s/batch]\n"
     ]
    },
    {
     "name": "stdout",
     "output_type": "stream",
     "text": [
      "Epoch 7/100, Train Loss: 4.3419, Val Loss: 4.2933, Accuracy: 0.4096, Precision: 0.4644, Recall: 0.4096, F1 Score: 0.3658\n",
      "Validation loss decreased (4.362242 --> 4.293346).  Saving model ...\n"
     ]
    },
    {
     "name": "stderr",
     "output_type": "stream",
     "text": [
      "Training Epoch 8/100: 100%|██████████| 65/65 [59:56<00:00, 55.34s/batch] \n",
      "Validation Epoch 8/100: 100%|██████████| 9/9 [06:51<00:00, 45.73s/batch]\n"
     ]
    },
    {
     "name": "stdout",
     "output_type": "stream",
     "text": [
      "Epoch 8/100, Train Loss: 4.2736, Val Loss: 4.2250, Accuracy: 0.4645, Precision: 0.5042, Recall: 0.4645, F1 Score: 0.4180\n",
      "Validation loss decreased (4.293346 --> 4.224983).  Saving model ...\n"
     ]
    },
    {
     "name": "stderr",
     "output_type": "stream",
     "text": [
      "Training Epoch 9/100: 100%|██████████| 65/65 [57:52<00:00, 53.42s/batch] \n",
      "Validation Epoch 9/100: 100%|██████████| 9/9 [06:32<00:00, 43.65s/batch]\n"
     ]
    },
    {
     "name": "stdout",
     "output_type": "stream",
     "text": [
      "Epoch 9/100, Train Loss: 4.2096, Val Loss: 4.1592, Accuracy: 0.4981, Precision: 0.5193, Recall: 0.4981, F1 Score: 0.4462\n",
      "Validation loss decreased (4.224983 --> 4.159245).  Saving model ...\n"
     ]
    },
    {
     "name": "stderr",
     "output_type": "stream",
     "text": [
      "Training Epoch 10/100: 100%|██████████| 65/65 [59:01<00:00, 54.48s/batch]\n",
      "Validation Epoch 10/100: 100%|██████████| 9/9 [07:19<00:00, 48.83s/batch]\n"
     ]
    },
    {
     "name": "stdout",
     "output_type": "stream",
     "text": [
      "Epoch 10/100, Train Loss: 4.1463, Val Loss: 4.0920, Accuracy: 0.5282, Precision: 0.5496, Recall: 0.5282, F1 Score: 0.4749\n",
      "Validation loss decreased (4.159245 --> 4.091975).  Saving model ...\n"
     ]
    },
    {
     "name": "stderr",
     "output_type": "stream",
     "text": [
      "Training Epoch 11/100: 100%|██████████| 65/65 [2:06:32<00:00, 116.81s/batch]  \n",
      "Validation Epoch 11/100: 100%|██████████| 9/9 [07:20<00:00, 48.93s/batch]\n"
     ]
    },
    {
     "name": "stdout",
     "output_type": "stream",
     "text": [
      "Epoch 11/100, Train Loss: 4.0801, Val Loss: 4.0266, Accuracy: 0.5505, Precision: 0.5663, Recall: 0.5505, F1 Score: 0.4967\n",
      "Validation loss decreased (4.091975 --> 4.026620).  Saving model ...\n"
     ]
    },
    {
     "name": "stderr",
     "output_type": "stream",
     "text": [
      "Training Epoch 12/100: 100%|██████████| 65/65 [59:22<00:00, 54.81s/batch] \n",
      "Validation Epoch 12/100: 100%|██████████| 9/9 [06:46<00:00, 45.21s/batch]\n"
     ]
    },
    {
     "name": "stdout",
     "output_type": "stream",
     "text": [
      "Epoch 12/100, Train Loss: 4.0146, Val Loss: 3.9624, Accuracy: 0.5739, Precision: 0.6078, Recall: 0.5739, F1 Score: 0.5233\n",
      "Validation loss decreased (4.026620 --> 3.962397).  Saving model ...\n"
     ]
    },
    {
     "name": "stderr",
     "output_type": "stream",
     "text": [
      "Training Epoch 13/100: 100%|██████████| 65/65 [54:55<00:00, 50.70s/batch]\n",
      "Validation Epoch 13/100: 100%|██████████| 9/9 [07:09<00:00, 47.67s/batch]\n"
     ]
    },
    {
     "name": "stdout",
     "output_type": "stream",
     "text": [
      "Epoch 13/100, Train Loss: 3.9515, Val Loss: 3.8980, Accuracy: 0.5904, Precision: 0.6110, Recall: 0.5904, F1 Score: 0.5390\n",
      "Validation loss decreased (3.962397 --> 3.897982).  Saving model ...\n"
     ]
    },
    {
     "name": "stderr",
     "output_type": "stream",
     "text": [
      "Training Epoch 14/100: 100%|██████████| 65/65 [54:10<00:00, 50.01s/batch]\n",
      "Validation Epoch 14/100: 100%|██████████| 9/9 [06:38<00:00, 44.25s/batch]\n"
     ]
    },
    {
     "name": "stdout",
     "output_type": "stream",
     "text": [
      "Epoch 14/100, Train Loss: 3.8884, Val Loss: 3.8340, Accuracy: 0.5962, Precision: 0.6353, Recall: 0.5962, F1 Score: 0.5483\n",
      "Validation loss decreased (3.897982 --> 3.834029).  Saving model ...\n"
     ]
    },
    {
     "name": "stderr",
     "output_type": "stream",
     "text": [
      "Training Epoch 15/100: 100%|██████████| 65/65 [55:52<00:00, 51.57s/batch]\n",
      "Validation Epoch 15/100: 100%|██████████| 9/9 [07:05<00:00, 47.32s/batch]\n"
     ]
    },
    {
     "name": "stdout",
     "output_type": "stream",
     "text": [
      "Epoch 15/100, Train Loss: 3.8276, Val Loss: 3.7710, Accuracy: 0.6142, Precision: 0.6839, Recall: 0.6142, F1 Score: 0.5740\n",
      "Validation loss decreased (3.834029 --> 3.771029).  Saving model ...\n"
     ]
    },
    {
     "name": "stderr",
     "output_type": "stream",
     "text": [
      "Training Epoch 16/100: 100%|██████████| 65/65 [55:33<00:00, 51.29s/batch]\n",
      "Validation Epoch 16/100: 100%|██████████| 9/9 [06:57<00:00, 46.36s/batch]\n"
     ]
    },
    {
     "name": "stdout",
     "output_type": "stream",
     "text": [
      "Epoch 16/100, Train Loss: 3.7713, Val Loss: 3.7087, Accuracy: 0.6259, Precision: 0.6863, Recall: 0.6259, F1 Score: 0.5861\n",
      "Validation loss decreased (3.771029 --> 3.708721).  Saving model ...\n"
     ]
    },
    {
     "name": "stderr",
     "output_type": "stream",
     "text": [
      "Training Epoch 17/100: 100%|██████████| 65/65 [53:43<00:00, 49.59s/batch] \n",
      "Validation Epoch 17/100: 100%|██████████| 9/9 [06:18<00:00, 42.01s/batch]\n"
     ]
    },
    {
     "name": "stdout",
     "output_type": "stream",
     "text": [
      "Epoch 17/100, Train Loss: 3.7135, Val Loss: 3.6474, Accuracy: 0.6356, Precision: 0.6864, Recall: 0.6356, F1 Score: 0.5969\n",
      "Validation loss decreased (3.708721 --> 3.647414).  Saving model ...\n"
     ]
    },
    {
     "name": "stderr",
     "output_type": "stream",
     "text": [
      "Training Epoch 18/100: 100%|██████████| 65/65 [54:28<00:00, 50.28s/batch] \n",
      "Validation Epoch 18/100: 100%|██████████| 9/9 [07:06<00:00, 47.41s/batch]\n"
     ]
    },
    {
     "name": "stdout",
     "output_type": "stream",
     "text": [
      "Epoch 18/100, Train Loss: 3.6448, Val Loss: 3.5874, Accuracy: 0.6560, Precision: 0.6895, Recall: 0.6560, F1 Score: 0.6192\n",
      "Validation loss decreased (3.647414 --> 3.587358).  Saving model ...\n"
     ]
    },
    {
     "name": "stderr",
     "output_type": "stream",
     "text": [
      "Training Epoch 19/100: 100%|██████████| 65/65 [54:43<00:00, 50.52s/batch]\n",
      "Validation Epoch 19/100: 100%|██████████| 9/9 [06:57<00:00, 46.38s/batch]\n"
     ]
    },
    {
     "name": "stdout",
     "output_type": "stream",
     "text": [
      "Epoch 19/100, Train Loss: 3.5926, Val Loss: 3.5277, Accuracy: 0.6657, Precision: 0.7074, Recall: 0.6657, F1 Score: 0.6308\n",
      "Validation loss decreased (3.587358 --> 3.527736).  Saving model ...\n"
     ]
    },
    {
     "name": "stderr",
     "output_type": "stream",
     "text": [
      "Training Epoch 20/100: 100%|██████████| 65/65 [56:07<00:00, 51.82s/batch] \n",
      "Validation Epoch 20/100: 100%|██████████| 9/9 [06:17<00:00, 41.89s/batch]\n"
     ]
    },
    {
     "name": "stdout",
     "output_type": "stream",
     "text": [
      "Epoch 20/100, Train Loss: 3.5354, Val Loss: 3.4683, Accuracy: 0.6769, Precision: 0.7115, Recall: 0.6769, F1 Score: 0.6440\n",
      "Validation loss decreased (3.527736 --> 3.468302).  Saving model ...\n"
     ]
    },
    {
     "name": "stderr",
     "output_type": "stream",
     "text": [
      "Training Epoch 21/100: 100%|██████████| 65/65 [55:09<00:00, 50.91s/batch]\n",
      "Validation Epoch 21/100: 100%|██████████| 9/9 [07:07<00:00, 47.49s/batch]\n"
     ]
    },
    {
     "name": "stdout",
     "output_type": "stream",
     "text": [
      "Epoch 21/100, Train Loss: 3.4849, Val Loss: 3.4105, Accuracy: 0.6832, Precision: 0.7194, Recall: 0.6832, F1 Score: 0.6496\n",
      "Validation loss decreased (3.468302 --> 3.410486).  Saving model ...\n"
     ]
    },
    {
     "name": "stderr",
     "output_type": "stream",
     "text": [
      "Training Epoch 22/100: 100%|██████████| 65/65 [55:31<00:00, 51.26s/batch]\n",
      "Validation Epoch 22/100: 100%|██████████| 9/9 [07:25<00:00, 49.48s/batch]\n"
     ]
    },
    {
     "name": "stdout",
     "output_type": "stream",
     "text": [
      "Epoch 22/100, Train Loss: 3.4230, Val Loss: 3.3543, Accuracy: 0.6929, Precision: 0.7216, Recall: 0.6929, F1 Score: 0.6612\n",
      "Validation loss decreased (3.410486 --> 3.354345).  Saving model ...\n"
     ]
    },
    {
     "name": "stderr",
     "output_type": "stream",
     "text": [
      "Training Epoch 23/100: 100%|██████████| 65/65 [56:34<00:00, 52.23s/batch]\n",
      "Validation Epoch 23/100: 100%|██████████| 9/9 [06:58<00:00, 46.47s/batch]\n"
     ]
    },
    {
     "name": "stdout",
     "output_type": "stream",
     "text": [
      "Epoch 23/100, Train Loss: 3.3723, Val Loss: 3.2985, Accuracy: 0.6953, Precision: 0.7223, Recall: 0.6953, F1 Score: 0.6638\n",
      "Validation loss decreased (3.354345 --> 3.298538).  Saving model ...\n"
     ]
    },
    {
     "name": "stderr",
     "output_type": "stream",
     "text": [
      "Training Epoch 24/100: 100%|██████████| 65/65 [56:55<00:00, 52.55s/batch] \n",
      "Validation Epoch 24/100: 100%|██████████| 9/9 [06:28<00:00, 43.16s/batch]\n"
     ]
    },
    {
     "name": "stdout",
     "output_type": "stream",
     "text": [
      "Epoch 24/100, Train Loss: 3.3135, Val Loss: 3.2448, Accuracy: 0.6992, Precision: 0.7349, Recall: 0.6992, F1 Score: 0.6695\n",
      "Validation loss decreased (3.298538 --> 3.244844).  Saving model ...\n"
     ]
    },
    {
     "name": "stderr",
     "output_type": "stream",
     "text": [
      "Training Epoch 25/100: 100%|██████████| 65/65 [55:34<00:00, 51.30s/batch]\n",
      "Validation Epoch 25/100: 100%|██████████| 9/9 [06:47<00:00, 45.31s/batch]\n"
     ]
    },
    {
     "name": "stdout",
     "output_type": "stream",
     "text": [
      "Epoch 25/100, Train Loss: 3.2610, Val Loss: 3.1906, Accuracy: 0.7031, Precision: 0.7364, Recall: 0.7031, F1 Score: 0.6734\n",
      "Validation loss decreased (3.244844 --> 3.190636).  Saving model ...\n"
     ]
    },
    {
     "name": "stderr",
     "output_type": "stream",
     "text": [
      "Training Epoch 26/100: 100%|██████████| 65/65 [55:57<00:00, 51.66s/batch]\n",
      "Validation Epoch 26/100: 100%|██████████| 9/9 [06:22<00:00, 42.55s/batch]\n"
     ]
    },
    {
     "name": "stdout",
     "output_type": "stream",
     "text": [
      "Epoch 26/100, Train Loss: 3.2032, Val Loss: 3.1367, Accuracy: 0.7138, Precision: 0.7311, Recall: 0.7138, F1 Score: 0.6851\n",
      "Validation loss decreased (3.190636 --> 3.136732).  Saving model ...\n"
     ]
    },
    {
     "name": "stderr",
     "output_type": "stream",
     "text": [
      "Training Epoch 27/100: 100%|██████████| 65/65 [54:45<00:00, 50.55s/batch]\n",
      "Validation Epoch 27/100: 100%|██████████| 9/9 [06:53<00:00, 45.95s/batch]\n"
     ]
    },
    {
     "name": "stdout",
     "output_type": "stream",
     "text": [
      "Epoch 27/100, Train Loss: 3.1629, Val Loss: 3.0852, Accuracy: 0.7167, Precision: 0.7357, Recall: 0.7167, F1 Score: 0.6883\n",
      "Validation loss decreased (3.136732 --> 3.085164).  Saving model ...\n"
     ]
    },
    {
     "name": "stderr",
     "output_type": "stream",
     "text": [
      "Training Epoch 28/100: 100%|██████████| 65/65 [55:18<00:00, 51.06s/batch]\n",
      "Validation Epoch 28/100: 100%|██████████| 9/9 [07:11<00:00, 47.90s/batch]\n"
     ]
    },
    {
     "name": "stdout",
     "output_type": "stream",
     "text": [
      "Epoch 28/100, Train Loss: 3.1092, Val Loss: 3.0334, Accuracy: 0.7284, Precision: 0.7555, Recall: 0.7284, F1 Score: 0.7033\n",
      "Validation loss decreased (3.085164 --> 3.033377).  Saving model ...\n"
     ]
    },
    {
     "name": "stderr",
     "output_type": "stream",
     "text": [
      "Training Epoch 29/100: 100%|██████████| 65/65 [55:26<00:00, 51.18s/batch]\n",
      "Validation Epoch 29/100: 100%|██████████| 9/9 [06:34<00:00, 43.82s/batch]\n"
     ]
    },
    {
     "name": "stdout",
     "output_type": "stream",
     "text": [
      "Epoch 29/100, Train Loss: 3.0580, Val Loss: 2.9827, Accuracy: 0.7264, Precision: 0.7437, Recall: 0.7264, F1 Score: 0.6998\n",
      "Validation loss decreased (3.033377 --> 2.982740).  Saving model ...\n"
     ]
    },
    {
     "name": "stderr",
     "output_type": "stream",
     "text": [
      "Training Epoch 30/100: 100%|██████████| 65/65 [56:09<00:00, 51.83s/batch] \n",
      "Validation Epoch 30/100: 100%|██████████| 9/9 [06:11<00:00, 41.30s/batch]\n"
     ]
    },
    {
     "name": "stdout",
     "output_type": "stream",
     "text": [
      "Epoch 30/100, Train Loss: 3.0185, Val Loss: 2.9329, Accuracy: 0.7303, Precision: 0.7465, Recall: 0.7303, F1 Score: 0.7034\n",
      "Validation loss decreased (2.982740 --> 2.932948).  Saving model ...\n"
     ]
    },
    {
     "name": "stderr",
     "output_type": "stream",
     "text": [
      "Training Epoch 31/100: 100%|██████████| 65/65 [1:02:00<00:00, 57.25s/batch]\n",
      "Validation Epoch 31/100: 100%|██████████| 9/9 [07:39<00:00, 51.04s/batch]\n"
     ]
    },
    {
     "name": "stdout",
     "output_type": "stream",
     "text": [
      "Epoch 31/100, Train Loss: 2.9640, Val Loss: 2.8842, Accuracy: 0.7328, Precision: 0.7527, Recall: 0.7328, F1 Score: 0.7074\n",
      "Validation loss decreased (2.932948 --> 2.884212).  Saving model ...\n"
     ]
    },
    {
     "name": "stderr",
     "output_type": "stream",
     "text": [
      "Training Epoch 32/100: 100%|██████████| 65/65 [58:28<00:00, 53.98s/batch] \n",
      "Validation Epoch 32/100: 100%|██████████| 9/9 [06:59<00:00, 46.58s/batch]\n"
     ]
    },
    {
     "name": "stdout",
     "output_type": "stream",
     "text": [
      "Epoch 32/100, Train Loss: 2.9197, Val Loss: 2.8372, Accuracy: 0.7366, Precision: 0.7671, Recall: 0.7366, F1 Score: 0.7112\n",
      "Validation loss decreased (2.884212 --> 2.837237).  Saving model ...\n"
     ]
    },
    {
     "name": "stderr",
     "output_type": "stream",
     "text": [
      "Training Epoch 33/100: 100%|██████████| 65/65 [58:08<00:00, 53.67s/batch] \n",
      "Validation Epoch 33/100: 100%|██████████| 9/9 [07:09<00:00, 47.68s/batch]\n"
     ]
    },
    {
     "name": "stdout",
     "output_type": "stream",
     "text": [
      "Epoch 33/100, Train Loss: 2.8849, Val Loss: 2.7927, Accuracy: 0.7405, Precision: 0.7694, Recall: 0.7405, F1 Score: 0.7172\n",
      "Validation loss decreased (2.837237 --> 2.792743).  Saving model ...\n"
     ]
    },
    {
     "name": "stderr",
     "output_type": "stream",
     "text": [
      "Training Epoch 34/100: 100%|██████████| 65/65 [58:16<00:00, 53.79s/batch] \n",
      "Validation Epoch 34/100: 100%|██████████| 9/9 [07:21<00:00, 49.01s/batch]\n"
     ]
    },
    {
     "name": "stdout",
     "output_type": "stream",
     "text": [
      "Epoch 34/100, Train Loss: 2.8317, Val Loss: 2.7462, Accuracy: 0.7459, Precision: 0.7771, Recall: 0.7459, F1 Score: 0.7228\n",
      "Validation loss decreased (2.792743 --> 2.746152).  Saving model ...\n"
     ]
    },
    {
     "name": "stderr",
     "output_type": "stream",
     "text": [
      "Training Epoch 35/100: 100%|██████████| 65/65 [56:45<00:00, 52.39s/batch]\n",
      "Validation Epoch 35/100: 100%|██████████| 9/9 [06:57<00:00, 46.38s/batch]\n"
     ]
    },
    {
     "name": "stdout",
     "output_type": "stream",
     "text": [
      "Epoch 35/100, Train Loss: 2.7829, Val Loss: 2.7011, Accuracy: 0.7517, Precision: 0.7843, Recall: 0.7517, F1 Score: 0.7302\n",
      "Validation loss decreased (2.746152 --> 2.701098).  Saving model ...\n"
     ]
    },
    {
     "name": "stderr",
     "output_type": "stream",
     "text": [
      "Training Epoch 36/100: 100%|██████████| 65/65 [57:14<00:00, 52.84s/batch] \n",
      "Validation Epoch 36/100: 100%|██████████| 9/9 [06:41<00:00, 44.59s/batch]\n"
     ]
    },
    {
     "name": "stdout",
     "output_type": "stream",
     "text": [
      "Epoch 36/100, Train Loss: 2.7510, Val Loss: 2.6567, Accuracy: 0.7536, Precision: 0.7870, Recall: 0.7536, F1 Score: 0.7340\n",
      "Validation loss decreased (2.701098 --> 2.656677).  Saving model ...\n"
     ]
    },
    {
     "name": "stderr",
     "output_type": "stream",
     "text": [
      "Training Epoch 37/100: 100%|██████████| 65/65 [57:00<00:00, 52.62s/batch] \n",
      "Validation Epoch 37/100: 100%|██████████| 9/9 [06:25<00:00, 42.84s/batch]\n"
     ]
    },
    {
     "name": "stdout",
     "output_type": "stream",
     "text": [
      "Epoch 37/100, Train Loss: 2.7057, Val Loss: 2.6150, Accuracy: 0.7527, Precision: 0.7874, Recall: 0.7527, F1 Score: 0.7320\n",
      "Validation loss decreased (2.656677 --> 2.614980).  Saving model ...\n"
     ]
    },
    {
     "name": "stderr",
     "output_type": "stream",
     "text": [
      "Training Epoch 38/100: 100%|██████████| 65/65 [57:08<00:00, 52.75s/batch]\n",
      "Validation Epoch 38/100: 100%|██████████| 9/9 [06:53<00:00, 45.90s/batch]\n"
     ]
    },
    {
     "name": "stdout",
     "output_type": "stream",
     "text": [
      "Epoch 38/100, Train Loss: 2.6650, Val Loss: 2.5726, Accuracy: 0.7580, Precision: 0.7920, Recall: 0.7580, F1 Score: 0.7403\n",
      "Validation loss decreased (2.614980 --> 2.572616).  Saving model ...\n"
     ]
    },
    {
     "name": "stderr",
     "output_type": "stream",
     "text": [
      "Training Epoch 39/100: 100%|██████████| 65/65 [57:53<00:00, 53.43s/batch]\n",
      "Validation Epoch 39/100: 100%|██████████| 9/9 [06:28<00:00, 43.18s/batch]\n"
     ]
    },
    {
     "name": "stdout",
     "output_type": "stream",
     "text": [
      "Epoch 39/100, Train Loss: 2.6221, Val Loss: 2.5318, Accuracy: 0.7580, Precision: 0.7914, Recall: 0.7580, F1 Score: 0.7404\n",
      "Validation loss decreased (2.572616 --> 2.531844).  Saving model ...\n"
     ]
    },
    {
     "name": "stderr",
     "output_type": "stream",
     "text": [
      "Training Epoch 40/100: 100%|██████████| 65/65 [56:06<00:00, 51.80s/batch] \n",
      "Validation Epoch 40/100: 100%|██████████| 9/9 [07:30<00:00, 50.10s/batch]\n"
     ]
    },
    {
     "name": "stdout",
     "output_type": "stream",
     "text": [
      "Epoch 40/100, Train Loss: 2.5818, Val Loss: 2.4916, Accuracy: 0.7609, Precision: 0.7943, Recall: 0.7609, F1 Score: 0.7430\n",
      "Validation loss decreased (2.531844 --> 2.491568).  Saving model ...\n"
     ]
    },
    {
     "name": "stderr",
     "output_type": "stream",
     "text": [
      "Training Epoch 41/100: 100%|██████████| 65/65 [56:21<00:00, 52.02s/batch]\n",
      "Validation Epoch 41/100: 100%|██████████| 9/9 [06:31<00:00, 43.47s/batch]\n"
     ]
    },
    {
     "name": "stdout",
     "output_type": "stream",
     "text": [
      "Epoch 41/100, Train Loss: 2.5567, Val Loss: 2.4514, Accuracy: 0.7643, Precision: 0.7954, Recall: 0.7643, F1 Score: 0.7472\n",
      "Validation loss decreased (2.491568 --> 2.451376).  Saving model ...\n"
     ]
    },
    {
     "name": "stderr",
     "output_type": "stream",
     "text": [
      "Training Epoch 42/100: 100%|██████████| 65/65 [57:32<00:00, 53.11s/batch]\n",
      "Validation Epoch 42/100: 100%|██████████| 9/9 [07:00<00:00, 46.73s/batch]\n"
     ]
    },
    {
     "name": "stdout",
     "output_type": "stream",
     "text": [
      "Epoch 42/100, Train Loss: 2.5217, Val Loss: 2.4139, Accuracy: 0.7672, Precision: 0.7987, Recall: 0.7672, F1 Score: 0.7512\n",
      "Validation loss decreased (2.451376 --> 2.413880).  Saving model ...\n"
     ]
    },
    {
     "name": "stderr",
     "output_type": "stream",
     "text": [
      "Training Epoch 43/100: 100%|██████████| 65/65 [57:19<00:00, 52.92s/batch] \n",
      "Validation Epoch 43/100: 100%|██████████| 9/9 [06:56<00:00, 46.28s/batch]\n"
     ]
    },
    {
     "name": "stdout",
     "output_type": "stream",
     "text": [
      "Epoch 43/100, Train Loss: 2.4814, Val Loss: 2.3755, Accuracy: 0.7687, Precision: 0.7989, Recall: 0.7687, F1 Score: 0.7531\n",
      "Validation loss decreased (2.413880 --> 2.375465).  Saving model ...\n"
     ]
    },
    {
     "name": "stderr",
     "output_type": "stream",
     "text": [
      "Training Epoch 44/100: 100%|██████████| 65/65 [57:40<00:00, 53.24s/batch]\n",
      "Validation Epoch 44/100: 100%|██████████| 9/9 [07:02<00:00, 46.92s/batch]\n"
     ]
    },
    {
     "name": "stdout",
     "output_type": "stream",
     "text": [
      "Epoch 44/100, Train Loss: 2.4405, Val Loss: 2.3391, Accuracy: 0.7731, Precision: 0.8022, Recall: 0.7731, F1 Score: 0.7579\n",
      "Validation loss decreased (2.375465 --> 2.339065).  Saving model ...\n"
     ]
    },
    {
     "name": "stderr",
     "output_type": "stream",
     "text": [
      "Training Epoch 45/100: 100%|██████████| 65/65 [56:57<00:00, 52.58s/batch] \n",
      "Validation Epoch 45/100: 100%|██████████| 9/9 [07:27<00:00, 49.69s/batch]\n"
     ]
    },
    {
     "name": "stdout",
     "output_type": "stream",
     "text": [
      "Epoch 45/100, Train Loss: 2.4082, Val Loss: 2.3045, Accuracy: 0.7755, Precision: 0.8070, Recall: 0.7755, F1 Score: 0.7612\n",
      "Validation loss decreased (2.339065 --> 2.304536).  Saving model ...\n"
     ]
    },
    {
     "name": "stderr",
     "output_type": "stream",
     "text": [
      "Training Epoch 46/100: 100%|██████████| 65/65 [57:50<00:00, 53.39s/batch] \n",
      "Validation Epoch 46/100: 100%|██████████| 9/9 [07:06<00:00, 47.42s/batch]\n"
     ]
    },
    {
     "name": "stdout",
     "output_type": "stream",
     "text": [
      "Epoch 46/100, Train Loss: 2.3690, Val Loss: 2.2685, Accuracy: 0.7770, Precision: 0.8062, Recall: 0.7770, F1 Score: 0.7623\n",
      "Validation loss decreased (2.304536 --> 2.268482).  Saving model ...\n"
     ]
    },
    {
     "name": "stderr",
     "output_type": "stream",
     "text": [
      "Training Epoch 47/100: 100%|██████████| 65/65 [57:30<00:00, 53.08s/batch] \n",
      "Validation Epoch 47/100: 100%|██████████| 9/9 [06:54<00:00, 46.07s/batch]\n"
     ]
    },
    {
     "name": "stdout",
     "output_type": "stream",
     "text": [
      "Epoch 47/100, Train Loss: 2.3335, Val Loss: 2.2342, Accuracy: 0.7852, Precision: 0.8130, Recall: 0.7852, F1 Score: 0.7711\n",
      "Validation loss decreased (2.268482 --> 2.234204).  Saving model ...\n"
     ]
    },
    {
     "name": "stderr",
     "output_type": "stream",
     "text": [
      "Training Epoch 48/100: 100%|██████████| 65/65 [1:06:19<00:00, 61.22s/batch]\n",
      "Validation Epoch 48/100: 100%|██████████| 9/9 [09:09<00:00, 61.00s/batch]\n"
     ]
    },
    {
     "name": "stdout",
     "output_type": "stream",
     "text": [
      "Epoch 48/100, Train Loss: 2.3038, Val Loss: 2.2001, Accuracy: 0.7852, Precision: 0.8099, Recall: 0.7852, F1 Score: 0.7715\n",
      "Validation loss decreased (2.234204 --> 2.200053).  Saving model ...\n"
     ]
    },
    {
     "name": "stderr",
     "output_type": "stream",
     "text": [
      "Training Epoch 49/100: 100%|██████████| 65/65 [57:13<00:00, 52.82s/batch] \n",
      "Validation Epoch 49/100: 100%|██████████| 9/9 [07:20<00:00, 48.95s/batch]\n"
     ]
    },
    {
     "name": "stdout",
     "output_type": "stream",
     "text": [
      "Epoch 49/100, Train Loss: 2.2717, Val Loss: 2.1675, Accuracy: 0.7872, Precision: 0.8109, Recall: 0.7872, F1 Score: 0.7735\n",
      "Validation loss decreased (2.200053 --> 2.167468).  Saving model ...\n"
     ]
    },
    {
     "name": "stderr",
     "output_type": "stream",
     "text": [
      "Training Epoch 50/100: 100%|██████████| 65/65 [55:43<00:00, 51.44s/batch] \n",
      "Validation Epoch 50/100: 100%|██████████| 9/9 [06:50<00:00, 45.58s/batch]\n"
     ]
    },
    {
     "name": "stdout",
     "output_type": "stream",
     "text": [
      "Epoch 50/100, Train Loss: 2.2414, Val Loss: 2.1357, Accuracy: 0.7896, Precision: 0.8126, Recall: 0.7896, F1 Score: 0.7771\n",
      "Validation loss decreased (2.167468 --> 2.135722).  Saving model ...\n"
     ]
    },
    {
     "name": "stderr",
     "output_type": "stream",
     "text": [
      "Training Epoch 51/100: 100%|██████████| 65/65 [58:28<00:00, 53.98s/batch] \n",
      "Validation Epoch 51/100: 100%|██████████| 9/9 [07:12<00:00, 48.09s/batch]\n"
     ]
    },
    {
     "name": "stdout",
     "output_type": "stream",
     "text": [
      "Epoch 51/100, Train Loss: 2.2191, Val Loss: 2.1050, Accuracy: 0.7915, Precision: 0.8136, Recall: 0.7915, F1 Score: 0.7785\n",
      "Validation loss decreased (2.135722 --> 2.105020).  Saving model ...\n"
     ]
    },
    {
     "name": "stderr",
     "output_type": "stream",
     "text": [
      "Training Epoch 52/100: 100%|██████████| 65/65 [55:39<00:00, 51.37s/batch]\n",
      "Validation Epoch 52/100: 100%|██████████| 9/9 [06:22<00:00, 42.48s/batch]\n"
     ]
    },
    {
     "name": "stdout",
     "output_type": "stream",
     "text": [
      "Epoch 52/100, Train Loss: 2.1801, Val Loss: 2.0742, Accuracy: 0.7925, Precision: 0.8146, Recall: 0.7925, F1 Score: 0.7799\n",
      "Validation loss decreased (2.105020 --> 2.074203).  Saving model ...\n"
     ]
    },
    {
     "name": "stderr",
     "output_type": "stream",
     "text": [
      "Training Epoch 53/100: 100%|██████████| 65/65 [54:09<00:00, 49.99s/batch] \n",
      "Validation Epoch 53/100: 100%|██████████| 9/9 [06:27<00:00, 43.00s/batch]\n"
     ]
    },
    {
     "name": "stdout",
     "output_type": "stream",
     "text": [
      "Epoch 53/100, Train Loss: 2.1556, Val Loss: 2.0443, Accuracy: 0.7949, Precision: 0.8150, Recall: 0.7949, F1 Score: 0.7829\n",
      "Validation loss decreased (2.074203 --> 2.044296).  Saving model ...\n"
     ]
    },
    {
     "name": "stderr",
     "output_type": "stream",
     "text": [
      "Training Epoch 54/100: 100%|██████████| 65/65 [55:57<00:00, 51.65s/batch]\n",
      "Validation Epoch 54/100: 100%|██████████| 9/9 [06:51<00:00, 45.69s/batch]\n"
     ]
    },
    {
     "name": "stdout",
     "output_type": "stream",
     "text": [
      "Epoch 54/100, Train Loss: 2.1396, Val Loss: 2.0150, Accuracy: 0.7979, Precision: 0.8172, Recall: 0.7979, F1 Score: 0.7865\n",
      "Validation loss decreased (2.044296 --> 2.015010).  Saving model ...\n"
     ]
    },
    {
     "name": "stderr",
     "output_type": "stream",
     "text": [
      "Training Epoch 55/100: 100%|██████████| 65/65 [55:13<00:00, 50.98s/batch]\n",
      "Validation Epoch 55/100: 100%|██████████| 9/9 [06:56<00:00, 46.31s/batch]\n"
     ]
    },
    {
     "name": "stdout",
     "output_type": "stream",
     "text": [
      "Epoch 55/100, Train Loss: 2.0914, Val Loss: 1.9862, Accuracy: 0.7959, Precision: 0.8155, Recall: 0.7959, F1 Score: 0.7848\n",
      "Validation loss decreased (2.015010 --> 1.986245).  Saving model ...\n"
     ]
    },
    {
     "name": "stderr",
     "output_type": "stream",
     "text": [
      "Training Epoch 56/100: 100%|██████████| 65/65 [53:31<00:00, 49.41s/batch]\n",
      "Validation Epoch 56/100: 100%|██████████| 9/9 [07:15<00:00, 48.34s/batch]\n"
     ]
    },
    {
     "name": "stdout",
     "output_type": "stream",
     "text": [
      "Epoch 56/100, Train Loss: 2.0702, Val Loss: 1.9586, Accuracy: 0.7993, Precision: 0.8178, Recall: 0.7993, F1 Score: 0.7877\n",
      "Validation loss decreased (1.986245 --> 1.958587).  Saving model ...\n"
     ]
    },
    {
     "name": "stderr",
     "output_type": "stream",
     "text": [
      "Training Epoch 57/100: 100%|██████████| 65/65 [55:42<00:00, 51.42s/batch]\n",
      "Validation Epoch 57/100: 100%|██████████| 9/9 [06:32<00:00, 43.60s/batch]\n"
     ]
    },
    {
     "name": "stdout",
     "output_type": "stream",
     "text": [
      "Epoch 57/100, Train Loss: 2.0424, Val Loss: 1.9311, Accuracy: 0.8027, Precision: 0.8194, Recall: 0.8027, F1 Score: 0.7917\n",
      "Validation loss decreased (1.958587 --> 1.931142).  Saving model ...\n"
     ]
    },
    {
     "name": "stderr",
     "output_type": "stream",
     "text": [
      "Training Epoch 58/100: 100%|██████████| 65/65 [56:40<00:00, 52.31s/batch]\n",
      "Validation Epoch 58/100: 100%|██████████| 9/9 [06:59<00:00, 46.60s/batch]\n"
     ]
    },
    {
     "name": "stdout",
     "output_type": "stream",
     "text": [
      "Epoch 58/100, Train Loss: 2.0321, Val Loss: 1.9049, Accuracy: 0.8027, Precision: 0.8199, Recall: 0.8027, F1 Score: 0.7913\n",
      "Validation loss decreased (1.931142 --> 1.904936).  Saving model ...\n"
     ]
    },
    {
     "name": "stderr",
     "output_type": "stream",
     "text": [
      "Training Epoch 59/100: 100%|██████████| 65/65 [54:45<00:00, 50.55s/batch]\n",
      "Validation Epoch 59/100: 100%|██████████| 9/9 [06:54<00:00, 46.06s/batch]\n"
     ]
    },
    {
     "name": "stdout",
     "output_type": "stream",
     "text": [
      "Epoch 59/100, Train Loss: 2.0003, Val Loss: 1.8790, Accuracy: 0.8047, Precision: 0.8221, Recall: 0.8047, F1 Score: 0.7938\n",
      "Validation loss decreased (1.904936 --> 1.879005).  Saving model ...\n"
     ]
    },
    {
     "name": "stderr",
     "output_type": "stream",
     "text": [
      "Training Epoch 60/100: 100%|██████████| 65/65 [55:47<00:00, 51.49s/batch] \n",
      "Validation Epoch 60/100: 100%|██████████| 9/9 [06:33<00:00, 43.72s/batch]\n"
     ]
    },
    {
     "name": "stdout",
     "output_type": "stream",
     "text": [
      "Epoch 60/100, Train Loss: 1.9752, Val Loss: 1.8535, Accuracy: 0.8047, Precision: 0.8212, Recall: 0.8047, F1 Score: 0.7940\n",
      "Validation loss decreased (1.879005 --> 1.853549).  Saving model ...\n"
     ]
    },
    {
     "name": "stderr",
     "output_type": "stream",
     "text": [
      "Training Epoch 61/100: 100%|██████████| 65/65 [54:46<00:00, 50.56s/batch] \n",
      "Validation Epoch 61/100: 100%|██████████| 9/9 [06:39<00:00, 44.43s/batch]\n"
     ]
    },
    {
     "name": "stdout",
     "output_type": "stream",
     "text": [
      "Epoch 61/100, Train Loss: 1.9494, Val Loss: 1.8281, Accuracy: 0.8071, Precision: 0.8242, Recall: 0.8071, F1 Score: 0.7973\n",
      "Validation loss decreased (1.853549 --> 1.828119).  Saving model ...\n"
     ]
    },
    {
     "name": "stderr",
     "output_type": "stream",
     "text": [
      "Training Epoch 62/100: 100%|██████████| 65/65 [55:28<00:00, 51.20s/batch]\n",
      "Validation Epoch 62/100: 100%|██████████| 9/9 [07:04<00:00, 47.13s/batch]\n"
     ]
    },
    {
     "name": "stdout",
     "output_type": "stream",
     "text": [
      "Epoch 62/100, Train Loss: 1.9236, Val Loss: 1.8041, Accuracy: 0.8076, Precision: 0.8239, Recall: 0.8076, F1 Score: 0.7979\n",
      "Validation loss decreased (1.828119 --> 1.804117).  Saving model ...\n"
     ]
    },
    {
     "name": "stderr",
     "output_type": "stream",
     "text": [
      "Training Epoch 63/100: 100%|██████████| 65/65 [56:18<00:00, 51.98s/batch]\n",
      "Validation Epoch 63/100: 100%|██████████| 9/9 [06:51<00:00, 45.74s/batch]\n"
     ]
    },
    {
     "name": "stdout",
     "output_type": "stream",
     "text": [
      "Epoch 63/100, Train Loss: 1.8992, Val Loss: 1.7805, Accuracy: 0.8081, Precision: 0.8235, Recall: 0.8081, F1 Score: 0.7978\n",
      "Validation loss decreased (1.804117 --> 1.780510).  Saving model ...\n"
     ]
    },
    {
     "name": "stderr",
     "output_type": "stream",
     "text": [
      "Training Epoch 64/100: 100%|██████████| 65/65 [56:34<00:00, 52.22s/batch] \n",
      "Validation Epoch 64/100: 100%|██████████| 9/9 [07:17<00:00, 48.66s/batch]\n"
     ]
    },
    {
     "name": "stdout",
     "output_type": "stream",
     "text": [
      "Epoch 64/100, Train Loss: 1.8851, Val Loss: 1.7578, Accuracy: 0.8081, Precision: 0.8222, Recall: 0.8081, F1 Score: 0.7985\n",
      "Validation loss decreased (1.780510 --> 1.757831).  Saving model ...\n"
     ]
    },
    {
     "name": "stderr",
     "output_type": "stream",
     "text": [
      "Training Epoch 65/100: 100%|██████████| 65/65 [55:31<00:00, 51.25s/batch]\n",
      "Validation Epoch 65/100: 100%|██████████| 9/9 [06:02<00:00, 40.32s/batch]\n"
     ]
    },
    {
     "name": "stdout",
     "output_type": "stream",
     "text": [
      "Epoch 65/100, Train Loss: 1.8565, Val Loss: 1.7353, Accuracy: 0.8061, Precision: 0.8199, Recall: 0.8061, F1 Score: 0.7972\n",
      "Validation loss decreased (1.757831 --> 1.735293).  Saving model ...\n"
     ]
    },
    {
     "name": "stderr",
     "output_type": "stream",
     "text": [
      "Training Epoch 66/100: 100%|██████████| 65/65 [56:29<00:00, 52.14s/batch]\n",
      "Validation Epoch 66/100: 100%|██████████| 9/9 [06:17<00:00, 41.89s/batch]\n"
     ]
    },
    {
     "name": "stdout",
     "output_type": "stream",
     "text": [
      "Epoch 66/100, Train Loss: 1.8416, Val Loss: 1.7138, Accuracy: 0.8095, Precision: 0.8231, Recall: 0.8095, F1 Score: 0.8004\n",
      "Validation loss decreased (1.735293 --> 1.713829).  Saving model ...\n"
     ]
    },
    {
     "name": "stderr",
     "output_type": "stream",
     "text": [
      "Training Epoch 67/100: 100%|██████████| 65/65 [59:29<00:00, 54.91s/batch] \n",
      "Validation Epoch 67/100: 100%|██████████| 9/9 [07:26<00:00, 49.57s/batch]\n"
     ]
    },
    {
     "name": "stdout",
     "output_type": "stream",
     "text": [
      "Epoch 67/100, Train Loss: 1.8158, Val Loss: 1.6924, Accuracy: 0.8095, Precision: 0.8239, Recall: 0.8095, F1 Score: 0.8010\n",
      "Validation loss decreased (1.713829 --> 1.692378).  Saving model ...\n"
     ]
    },
    {
     "name": "stderr",
     "output_type": "stream",
     "text": [
      "Training Epoch 68/100: 100%|██████████| 65/65 [1:07:58<00:00, 62.75s/batch]\n",
      "Validation Epoch 68/100: 100%|██████████| 9/9 [08:12<00:00, 54.73s/batch]\n"
     ]
    },
    {
     "name": "stdout",
     "output_type": "stream",
     "text": [
      "Epoch 68/100, Train Loss: 1.8012, Val Loss: 1.6699, Accuracy: 0.8120, Precision: 0.8246, Recall: 0.8120, F1 Score: 0.8036\n",
      "Validation loss decreased (1.692378 --> 1.669932).  Saving model ...\n"
     ]
    },
    {
     "name": "stderr",
     "output_type": "stream",
     "text": [
      "Training Epoch 69/100: 100%|██████████| 65/65 [1:03:38<00:00, 58.75s/batch]\n",
      "Validation Epoch 69/100: 100%|██████████| 9/9 [08:02<00:00, 53.66s/batch]\n"
     ]
    },
    {
     "name": "stdout",
     "output_type": "stream",
     "text": [
      "Epoch 69/100, Train Loss: 1.7915, Val Loss: 1.6502, Accuracy: 0.8100, Precision: 0.8238, Recall: 0.8100, F1 Score: 0.8022\n",
      "Validation loss decreased (1.669932 --> 1.650218).  Saving model ...\n"
     ]
    },
    {
     "name": "stderr",
     "output_type": "stream",
     "text": [
      "Training Epoch 70/100: 100%|██████████| 65/65 [1:04:06<00:00, 59.17s/batch]\n",
      "Validation Epoch 70/100: 100%|██████████| 9/9 [08:49<00:00, 58.87s/batch]\n"
     ]
    },
    {
     "name": "stdout",
     "output_type": "stream",
     "text": [
      "Epoch 70/100, Train Loss: 1.7660, Val Loss: 1.6297, Accuracy: 0.8115, Precision: 0.8255, Recall: 0.8115, F1 Score: 0.8036\n",
      "Validation loss decreased (1.650218 --> 1.629737).  Saving model ...\n"
     ]
    },
    {
     "name": "stderr",
     "output_type": "stream",
     "text": [
      "Training Epoch 71/100: 100%|██████████| 65/65 [1:03:42<00:00, 58.80s/batch]\n",
      "Validation Epoch 71/100: 100%|██████████| 9/9 [05:57<00:00, 39.75s/batch]\n"
     ]
    },
    {
     "name": "stdout",
     "output_type": "stream",
     "text": [
      "Epoch 71/100, Train Loss: 1.7511, Val Loss: 1.6106, Accuracy: 0.8149, Precision: 0.8311, Recall: 0.8149, F1 Score: 0.8073\n",
      "Validation loss decreased (1.629737 --> 1.610565).  Saving model ...\n"
     ]
    },
    {
     "name": "stderr",
     "output_type": "stream",
     "text": [
      "Training Epoch 72/100: 100%|██████████| 65/65 [59:21<00:00, 54.79s/batch] \n",
      "Validation Epoch 72/100: 100%|██████████| 9/9 [07:00<00:00, 46.74s/batch]\n"
     ]
    },
    {
     "name": "stdout",
     "output_type": "stream",
     "text": [
      "Epoch 72/100, Train Loss: 1.7160, Val Loss: 1.5911, Accuracy: 0.8144, Precision: 0.8253, Recall: 0.8144, F1 Score: 0.8067\n",
      "Validation loss decreased (1.610565 --> 1.591147).  Saving model ...\n"
     ]
    },
    {
     "name": "stderr",
     "output_type": "stream",
     "text": [
      "Training Epoch 73/100: 100%|██████████| 65/65 [59:07<00:00, 54.57s/batch]\n",
      "Validation Epoch 73/100: 100%|██████████| 9/9 [07:08<00:00, 47.66s/batch]\n"
     ]
    },
    {
     "name": "stdout",
     "output_type": "stream",
     "text": [
      "Epoch 73/100, Train Loss: 1.7113, Val Loss: 1.5730, Accuracy: 0.8168, Precision: 0.8312, Recall: 0.8168, F1 Score: 0.8099\n",
      "Validation loss decreased (1.591147 --> 1.572979).  Saving model ...\n"
     ]
    },
    {
     "name": "stderr",
     "output_type": "stream",
     "text": [
      "Training Epoch 74/100: 100%|██████████| 65/65 [1:02:06<00:00, 57.34s/batch]\n",
      "Validation Epoch 74/100: 100%|██████████| 9/9 [06:48<00:00, 45.42s/batch]\n"
     ]
    },
    {
     "name": "stdout",
     "output_type": "stream",
     "text": [
      "Epoch 74/100, Train Loss: 1.6847, Val Loss: 1.5549, Accuracy: 0.8163, Precision: 0.8301, Recall: 0.8163, F1 Score: 0.8097\n",
      "Validation loss decreased (1.572979 --> 1.554939).  Saving model ...\n"
     ]
    },
    {
     "name": "stderr",
     "output_type": "stream",
     "text": [
      "Training Epoch 75/100: 100%|██████████| 65/65 [57:41<00:00, 53.25s/batch] \n",
      "Validation Epoch 75/100: 100%|██████████| 9/9 [07:08<00:00, 47.63s/batch]\n"
     ]
    },
    {
     "name": "stdout",
     "output_type": "stream",
     "text": [
      "Epoch 75/100, Train Loss: 1.6732, Val Loss: 1.5368, Accuracy: 0.8183, Precision: 0.8330, Recall: 0.8183, F1 Score: 0.8119\n",
      "Validation loss decreased (1.554939 --> 1.536843).  Saving model ...\n"
     ]
    },
    {
     "name": "stderr",
     "output_type": "stream",
     "text": [
      "Training Epoch 76/100: 100%|██████████| 65/65 [57:18<00:00, 52.90s/batch] \n",
      "Validation Epoch 76/100: 100%|██████████| 9/9 [07:12<00:00, 48.09s/batch]\n"
     ]
    },
    {
     "name": "stdout",
     "output_type": "stream",
     "text": [
      "Epoch 76/100, Train Loss: 1.6519, Val Loss: 1.5191, Accuracy: 0.8168, Precision: 0.8328, Recall: 0.8168, F1 Score: 0.8111\n",
      "Validation loss decreased (1.536843 --> 1.519128).  Saving model ...\n"
     ]
    },
    {
     "name": "stderr",
     "output_type": "stream",
     "text": [
      "Training Epoch 77/100: 100%|██████████| 65/65 [59:12<00:00, 54.65s/batch]\n",
      "Validation Epoch 77/100: 100%|██████████| 9/9 [07:38<00:00, 50.93s/batch]\n"
     ]
    },
    {
     "name": "stdout",
     "output_type": "stream",
     "text": [
      "Epoch 77/100, Train Loss: 1.6421, Val Loss: 1.5026, Accuracy: 0.8188, Precision: 0.8332, Recall: 0.8188, F1 Score: 0.8132\n",
      "Validation loss decreased (1.519128 --> 1.502644).  Saving model ...\n"
     ]
    },
    {
     "name": "stderr",
     "output_type": "stream",
     "text": [
      "Training Epoch 78/100: 100%|██████████| 65/65 [57:13<00:00, 52.82s/batch]\n",
      "Validation Epoch 78/100: 100%|██████████| 9/9 [07:12<00:00, 48.02s/batch]\n"
     ]
    },
    {
     "name": "stdout",
     "output_type": "stream",
     "text": [
      "Epoch 78/100, Train Loss: 1.6329, Val Loss: 1.4854, Accuracy: 0.8207, Precision: 0.8358, Recall: 0.8207, F1 Score: 0.8153\n",
      "Validation loss decreased (1.502644 --> 1.485396).  Saving model ...\n"
     ]
    },
    {
     "name": "stderr",
     "output_type": "stream",
     "text": [
      "Training Epoch 79/100: 100%|██████████| 65/65 [1:00:14<00:00, 55.61s/batch]\n",
      "Validation Epoch 79/100: 100%|██████████| 9/9 [07:03<00:00, 47.05s/batch]\n"
     ]
    },
    {
     "name": "stdout",
     "output_type": "stream",
     "text": [
      "Epoch 79/100, Train Loss: 1.6149, Val Loss: 1.4696, Accuracy: 0.8207, Precision: 0.8349, Recall: 0.8207, F1 Score: 0.8154\n",
      "Validation loss decreased (1.485396 --> 1.469576).  Saving model ...\n"
     ]
    },
    {
     "name": "stderr",
     "output_type": "stream",
     "text": [
      "Training Epoch 80/100: 100%|██████████| 65/65 [54:11<00:00, 50.02s/batch] \n",
      "Validation Epoch 80/100: 100%|██████████| 9/9 [06:51<00:00, 45.77s/batch]\n"
     ]
    },
    {
     "name": "stdout",
     "output_type": "stream",
     "text": [
      "Epoch 80/100, Train Loss: 1.6020, Val Loss: 1.4538, Accuracy: 0.8212, Precision: 0.8356, Recall: 0.8212, F1 Score: 0.8158\n",
      "Validation loss decreased (1.469576 --> 1.453833).  Saving model ...\n"
     ]
    },
    {
     "name": "stderr",
     "output_type": "stream",
     "text": [
      "Training Epoch 81/100: 100%|██████████| 65/65 [56:09<00:00, 51.84s/batch] \n",
      "Validation Epoch 81/100: 100%|██████████| 9/9 [06:32<00:00, 43.65s/batch]\n"
     ]
    },
    {
     "name": "stdout",
     "output_type": "stream",
     "text": [
      "Epoch 81/100, Train Loss: 1.5829, Val Loss: 1.4382, Accuracy: 0.8217, Precision: 0.8371, Recall: 0.8217, F1 Score: 0.8170\n",
      "Validation loss decreased (1.453833 --> 1.438174).  Saving model ...\n"
     ]
    },
    {
     "name": "stderr",
     "output_type": "stream",
     "text": [
      "Training Epoch 82/100: 100%|██████████| 65/65 [57:02<00:00, 52.65s/batch]\n",
      "Validation Epoch 82/100: 100%|██████████| 9/9 [06:37<00:00, 44.19s/batch]\n"
     ]
    },
    {
     "name": "stdout",
     "output_type": "stream",
     "text": [
      "Epoch 82/100, Train Loss: 1.5678, Val Loss: 1.4234, Accuracy: 0.8241, Precision: 0.8379, Recall: 0.8241, F1 Score: 0.8192\n",
      "Validation loss decreased (1.438174 --> 1.423390).  Saving model ...\n"
     ]
    },
    {
     "name": "stderr",
     "output_type": "stream",
     "text": [
      "Training Epoch 83/100: 100%|██████████| 65/65 [56:20<00:00, 52.01s/batch] \n",
      "Validation Epoch 83/100: 100%|██████████| 9/9 [06:21<00:00, 42.34s/batch]\n"
     ]
    },
    {
     "name": "stdout",
     "output_type": "stream",
     "text": [
      "Epoch 83/100, Train Loss: 1.5581, Val Loss: 1.4085, Accuracy: 0.8251, Precision: 0.8403, Recall: 0.8251, F1 Score: 0.8208\n",
      "Validation loss decreased (1.423390 --> 1.408544).  Saving model ...\n"
     ]
    },
    {
     "name": "stderr",
     "output_type": "stream",
     "text": [
      "Training Epoch 84/100: 100%|██████████| 65/65 [55:07<00:00, 50.89s/batch]\n",
      "Validation Epoch 84/100: 100%|██████████| 9/9 [06:46<00:00, 45.22s/batch]\n"
     ]
    },
    {
     "name": "stdout",
     "output_type": "stream",
     "text": [
      "Epoch 84/100, Train Loss: 1.5330, Val Loss: 1.3944, Accuracy: 0.8280, Precision: 0.8421, Recall: 0.8280, F1 Score: 0.8238\n",
      "Validation loss decreased (1.408544 --> 1.394391).  Saving model ...\n"
     ]
    },
    {
     "name": "stderr",
     "output_type": "stream",
     "text": [
      "Training Epoch 85/100: 100%|██████████| 65/65 [56:36<00:00, 52.25s/batch] \n",
      "Validation Epoch 85/100: 100%|██████████| 9/9 [06:48<00:00, 45.39s/batch]\n"
     ]
    },
    {
     "name": "stdout",
     "output_type": "stream",
     "text": [
      "Epoch 85/100, Train Loss: 1.5369, Val Loss: 1.3799, Accuracy: 0.8265, Precision: 0.8409, Recall: 0.8265, F1 Score: 0.8224\n",
      "Validation loss decreased (1.394391 --> 1.379917).  Saving model ...\n"
     ]
    },
    {
     "name": "stderr",
     "output_type": "stream",
     "text": [
      "Training Epoch 86/100: 100%|██████████| 65/65 [57:14<00:00, 52.84s/batch] \n",
      "Validation Epoch 86/100: 100%|██████████| 9/9 [06:52<00:00, 45.84s/batch]\n"
     ]
    },
    {
     "name": "stdout",
     "output_type": "stream",
     "text": [
      "Epoch 86/100, Train Loss: 1.5091, Val Loss: 1.3659, Accuracy: 0.8256, Precision: 0.8395, Recall: 0.8256, F1 Score: 0.8214\n",
      "Validation loss decreased (1.379917 --> 1.365947).  Saving model ...\n"
     ]
    },
    {
     "name": "stderr",
     "output_type": "stream",
     "text": [
      "Training Epoch 87/100: 100%|██████████| 65/65 [1:40:51<00:00, 93.10s/batch]   \n",
      "Validation Epoch 87/100: 100%|██████████| 9/9 [08:22<00:00, 55.80s/batch]\n"
     ]
    },
    {
     "name": "stdout",
     "output_type": "stream",
     "text": [
      "Epoch 87/100, Train Loss: 1.4958, Val Loss: 1.3528, Accuracy: 0.8285, Precision: 0.8424, Recall: 0.8285, F1 Score: 0.8244\n",
      "Validation loss decreased (1.365947 --> 1.352751).  Saving model ...\n"
     ]
    },
    {
     "name": "stderr",
     "output_type": "stream",
     "text": [
      "Training Epoch 88/100: 100%|██████████| 65/65 [1:05:10<00:00, 60.17s/batch]\n",
      "Validation Epoch 88/100: 100%|██████████| 9/9 [07:54<00:00, 52.70s/batch]\n"
     ]
    },
    {
     "name": "stdout",
     "output_type": "stream",
     "text": [
      "Epoch 88/100, Train Loss: 1.4925, Val Loss: 1.3396, Accuracy: 0.8294, Precision: 0.8428, Recall: 0.8294, F1 Score: 0.8255\n",
      "Validation loss decreased (1.352751 --> 1.339588).  Saving model ...\n"
     ]
    },
    {
     "name": "stderr",
     "output_type": "stream",
     "text": [
      "Training Epoch 89/100: 100%|██████████| 65/65 [1:04:18<00:00, 59.37s/batch]\n",
      "Validation Epoch 89/100: 100%|██████████| 9/9 [08:13<00:00, 54.84s/batch]\n"
     ]
    },
    {
     "name": "stdout",
     "output_type": "stream",
     "text": [
      "Epoch 89/100, Train Loss: 1.4742, Val Loss: 1.3263, Accuracy: 0.8285, Precision: 0.8420, Recall: 0.8285, F1 Score: 0.8250\n",
      "Validation loss decreased (1.339588 --> 1.326259).  Saving model ...\n"
     ]
    },
    {
     "name": "stderr",
     "output_type": "stream",
     "text": [
      "Training Epoch 90/100: 100%|██████████| 65/65 [1:01:17<00:00, 56.58s/batch]\n",
      "Validation Epoch 90/100: 100%|██████████| 9/9 [08:03<00:00, 53.74s/batch]\n"
     ]
    },
    {
     "name": "stdout",
     "output_type": "stream",
     "text": [
      "Epoch 90/100, Train Loss: 1.4632, Val Loss: 1.3136, Accuracy: 0.8304, Precision: 0.8450, Recall: 0.8304, F1 Score: 0.8268\n",
      "Validation loss decreased (1.326259 --> 1.313575).  Saving model ...\n"
     ]
    },
    {
     "name": "stderr",
     "output_type": "stream",
     "text": [
      "Training Epoch 91/100: 100%|██████████| 65/65 [1:05:55<00:00, 60.85s/batch]\n",
      "Validation Epoch 91/100: 100%|██████████| 9/9 [08:05<00:00, 53.95s/batch]\n"
     ]
    },
    {
     "name": "stdout",
     "output_type": "stream",
     "text": [
      "Epoch 91/100, Train Loss: 1.4441, Val Loss: 1.3007, Accuracy: 0.8314, Precision: 0.8451, Recall: 0.8314, F1 Score: 0.8282\n",
      "Validation loss decreased (1.313575 --> 1.300716).  Saving model ...\n"
     ]
    },
    {
     "name": "stderr",
     "output_type": "stream",
     "text": [
      "Training Epoch 92/100: 100%|██████████| 65/65 [3:52:43<00:00, 214.82s/batch]   \n",
      "Validation Epoch 92/100: 100%|██████████| 9/9 [07:52<00:00, 52.48s/batch]\n"
     ]
    },
    {
     "name": "stdout",
     "output_type": "stream",
     "text": [
      "Epoch 92/100, Train Loss: 1.4383, Val Loss: 1.2889, Accuracy: 0.8324, Precision: 0.8462, Recall: 0.8324, F1 Score: 0.8292\n",
      "Validation loss decreased (1.300716 --> 1.288929).  Saving model ...\n"
     ]
    },
    {
     "name": "stderr",
     "output_type": "stream",
     "text": [
      "Training Epoch 93/100: 100%|██████████| 65/65 [59:58<00:00, 55.36s/batch]\n",
      "Validation Epoch 93/100: 100%|██████████| 9/9 [07:45<00:00, 51.69s/batch]\n"
     ]
    },
    {
     "name": "stdout",
     "output_type": "stream",
     "text": [
      "Epoch 93/100, Train Loss: 1.4378, Val Loss: 1.2773, Accuracy: 0.8328, Precision: 0.8472, Recall: 0.8328, F1 Score: 0.8297\n",
      "Validation loss decreased (1.288929 --> 1.277256).  Saving model ...\n"
     ]
    },
    {
     "name": "stderr",
     "output_type": "stream",
     "text": [
      "Training Epoch 94/100: 100%|██████████| 65/65 [1:01:00<00:00, 56.31s/batch]\n",
      "Validation Epoch 94/100: 100%|██████████| 9/9 [07:34<00:00, 50.54s/batch]\n"
     ]
    },
    {
     "name": "stdout",
     "output_type": "stream",
     "text": [
      "Epoch 94/100, Train Loss: 1.4218, Val Loss: 1.2654, Accuracy: 0.8338, Precision: 0.8475, Recall: 0.8338, F1 Score: 0.8308\n",
      "Validation loss decreased (1.277256 --> 1.265395).  Saving model ...\n"
     ]
    },
    {
     "name": "stderr",
     "output_type": "stream",
     "text": [
      "Training Epoch 95/100: 100%|██████████| 65/65 [1:00:11<00:00, 55.57s/batch]\n",
      "Validation Epoch 95/100: 100%|██████████| 9/9 [07:59<00:00, 53.27s/batch]\n"
     ]
    },
    {
     "name": "stdout",
     "output_type": "stream",
     "text": [
      "Epoch 95/100, Train Loss: 1.4032, Val Loss: 1.2539, Accuracy: 0.8324, Precision: 0.8465, Recall: 0.8324, F1 Score: 0.8294\n",
      "Validation loss decreased (1.265395 --> 1.253867).  Saving model ...\n"
     ]
    },
    {
     "name": "stderr",
     "output_type": "stream",
     "text": [
      "Training Epoch 96/100: 100%|██████████| 65/65 [1:01:58<00:00, 57.21s/batch]\n",
      "Validation Epoch 96/100: 100%|██████████| 9/9 [07:43<00:00, 51.48s/batch]\n"
     ]
    },
    {
     "name": "stdout",
     "output_type": "stream",
     "text": [
      "Epoch 96/100, Train Loss: 1.3938, Val Loss: 1.2431, Accuracy: 0.8333, Precision: 0.8475, Recall: 0.8333, F1 Score: 0.8305\n",
      "Validation loss decreased (1.253867 --> 1.243073).  Saving model ...\n"
     ]
    },
    {
     "name": "stderr",
     "output_type": "stream",
     "text": [
      "Training Epoch 97/100: 100%|██████████| 65/65 [1:00:23<00:00, 55.74s/batch]\n",
      "Validation Epoch 97/100: 100%|██████████| 9/9 [07:05<00:00, 47.29s/batch]\n"
     ]
    },
    {
     "name": "stdout",
     "output_type": "stream",
     "text": [
      "Epoch 97/100, Train Loss: 1.3875, Val Loss: 1.2319, Accuracy: 0.8348, Precision: 0.8483, Recall: 0.8348, F1 Score: 0.8318\n",
      "Validation loss decreased (1.243073 --> 1.231949).  Saving model ...\n"
     ]
    },
    {
     "name": "stderr",
     "output_type": "stream",
     "text": [
      "Training Epoch 98/100: 100%|██████████| 65/65 [1:00:06<00:00, 55.49s/batch]\n",
      "Validation Epoch 98/100: 100%|██████████| 9/9 [07:03<00:00, 47.03s/batch]\n"
     ]
    },
    {
     "name": "stdout",
     "output_type": "stream",
     "text": [
      "Epoch 98/100, Train Loss: 1.3846, Val Loss: 1.2214, Accuracy: 0.8338, Precision: 0.8473, Recall: 0.8338, F1 Score: 0.8308\n",
      "Validation loss decreased (1.231949 --> 1.221374).  Saving model ...\n"
     ]
    },
    {
     "name": "stderr",
     "output_type": "stream",
     "text": [
      "Training Epoch 99/100: 100%|██████████| 65/65 [1:00:19<00:00, 55.68s/batch]\n",
      "Validation Epoch 99/100: 100%|██████████| 9/9 [06:50<00:00, 45.58s/batch]\n"
     ]
    },
    {
     "name": "stdout",
     "output_type": "stream",
     "text": [
      "Epoch 99/100, Train Loss: 1.3713, Val Loss: 1.2113, Accuracy: 0.8362, Precision: 0.8495, Recall: 0.8362, F1 Score: 0.8335\n",
      "Validation loss decreased (1.221374 --> 1.211253).  Saving model ...\n"
     ]
    },
    {
     "name": "stderr",
     "output_type": "stream",
     "text": [
      "Training Epoch 100/100: 100%|██████████| 65/65 [1:01:06<00:00, 56.41s/batch]\n",
      "Validation Epoch 100/100: 100%|██████████| 9/9 [06:57<00:00, 46.34s/batch]\n"
     ]
    },
    {
     "name": "stdout",
     "output_type": "stream",
     "text": [
      "Epoch 100/100, Train Loss: 1.3579, Val Loss: 1.2010, Accuracy: 0.8348, Precision: 0.8482, Recall: 0.8348, F1 Score: 0.8321\n",
      "Validation loss decreased (1.211253 --> 1.200960).  Saving model ...\n"
     ]
    },
    {
     "name": "stderr",
     "output_type": "stream",
     "text": [
      "Testing: 100%|██████████| 9/9 [07:57<00:00, 53.08s/batch]"
     ]
    },
    {
     "name": "stdout",
     "output_type": "stream",
     "text": [
      "Test Loss: 1.2665, Accuracy: 0.8343, Precision: 0.8507, Recall: 0.8343, F1 Score: 0.8298\n"
     ]
    },
    {
     "name": "stderr",
     "output_type": "stream",
     "text": [
      "\n"
     ]
    }
   ],
   "source": [
    "# User-specified model\n",
    "#6861 36.8s\n",
    "model_name = \"swin_base_patch4_window7_224\"  # Replace this with your desired model name\n",
    "do_transfer_learning(model_name=model_name)\n"
   ]
  },
  {
   "cell_type": "code",
   "execution_count": 7,
   "metadata": {},
   "outputs": [
    {
     "name": "stdout",
     "output_type": "stream",
     "text": [
      "Train dataset size: 16464\n",
      "Validation dataset size: 2058\n",
      "Test dataset size: 2058\n",
      "MPS device found.\n",
      "Created folder: results/transferlearning/stanford_dog/swin-small-patch4-window7-224\n",
      "Folder already exists: checkpoints/transferlearning/stanford_dog\n"
     ]
    },
    {
     "name": "stderr",
     "output_type": "stream",
     "text": [
      "Training Epoch 1/100: 100%|██████████| 65/65 [05:40<00:00,  5.24s/batch]\n",
      "Validation Epoch 1/100: 100%|██████████| 9/9 [00:41<00:00,  4.65s/batch]\n"
     ]
    },
    {
     "name": "stdout",
     "output_type": "stream",
     "text": [
      "Epoch 1/100, Train Loss: 4.7682, Val Loss: 4.7293, Accuracy: 0.0238, Precision: 0.0182, Recall: 0.0238, F1 Score: 0.0080\n",
      "Validation loss decreased (inf --> 4.729255).  Saving model ...\n"
     ]
    },
    {
     "name": "stderr",
     "output_type": "stream",
     "text": [
      "Training Epoch 2/100: 100%|██████████| 65/65 [05:41<00:00,  5.25s/batch]\n",
      "Validation Epoch 2/100: 100%|██████████| 9/9 [00:42<00:00,  4.67s/batch]\n"
     ]
    },
    {
     "name": "stdout",
     "output_type": "stream",
     "text": [
      "Epoch 2/100, Train Loss: 4.6983, Val Loss: 4.6634, Accuracy: 0.0442, Precision: 0.0411, Recall: 0.0442, F1 Score: 0.0216\n",
      "Validation loss decreased (4.729255 --> 4.663440).  Saving model ...\n"
     ]
    },
    {
     "name": "stderr",
     "output_type": "stream",
     "text": [
      "Training Epoch 3/100: 100%|██████████| 65/65 [05:40<00:00,  5.24s/batch]\n",
      "Validation Epoch 3/100: 100%|██████████| 9/9 [00:41<00:00,  4.67s/batch]\n"
     ]
    },
    {
     "name": "stdout",
     "output_type": "stream",
     "text": [
      "Epoch 3/100, Train Loss: 4.6303, Val Loss: 4.5990, Accuracy: 0.0914, Precision: 0.1640, Recall: 0.0914, F1 Score: 0.0765\n",
      "Validation loss decreased (4.663440 --> 4.599039).  Saving model ...\n"
     ]
    },
    {
     "name": "stderr",
     "output_type": "stream",
     "text": [
      "Training Epoch 4/100: 100%|██████████| 65/65 [05:40<00:00,  5.23s/batch]\n",
      "Validation Epoch 4/100: 100%|██████████| 9/9 [00:41<00:00,  4.65s/batch]\n"
     ]
    },
    {
     "name": "stdout",
     "output_type": "stream",
     "text": [
      "Epoch 4/100, Train Loss: 4.5668, Val Loss: 4.5365, Accuracy: 0.1720, Precision: 0.2750, Recall: 0.1720, F1 Score: 0.1643\n",
      "Validation loss decreased (4.599039 --> 4.536461).  Saving model ...\n"
     ]
    },
    {
     "name": "stderr",
     "output_type": "stream",
     "text": [
      "Training Epoch 5/100: 100%|██████████| 65/65 [05:42<00:00,  5.27s/batch]\n",
      "Validation Epoch 5/100: 100%|██████████| 9/9 [00:41<00:00,  4.64s/batch]\n"
     ]
    },
    {
     "name": "stdout",
     "output_type": "stream",
     "text": [
      "Epoch 5/100, Train Loss: 4.5029, Val Loss: 4.4748, Accuracy: 0.2566, Precision: 0.3914, Recall: 0.2566, F1 Score: 0.2513\n",
      "Validation loss decreased (4.536461 --> 4.474818).  Saving model ...\n"
     ]
    },
    {
     "name": "stderr",
     "output_type": "stream",
     "text": [
      "Training Epoch 6/100: 100%|██████████| 65/65 [05:39<00:00,  5.23s/batch]\n",
      "Validation Epoch 6/100: 100%|██████████| 9/9 [00:41<00:00,  4.60s/batch]\n"
     ]
    },
    {
     "name": "stdout",
     "output_type": "stream",
     "text": [
      "Epoch 6/100, Train Loss: 4.4418, Val Loss: 4.4138, Accuracy: 0.3149, Precision: 0.4725, Recall: 0.3149, F1 Score: 0.3120\n",
      "Validation loss decreased (4.474818 --> 4.413750).  Saving model ...\n"
     ]
    },
    {
     "name": "stderr",
     "output_type": "stream",
     "text": [
      "Training Epoch 7/100: 100%|██████████| 65/65 [05:38<00:00,  5.22s/batch]\n",
      "Validation Epoch 7/100: 100%|██████████| 9/9 [00:41<00:00,  4.62s/batch]\n"
     ]
    },
    {
     "name": "stdout",
     "output_type": "stream",
     "text": [
      "Epoch 7/100, Train Loss: 4.3812, Val Loss: 4.3530, Accuracy: 0.3975, Precision: 0.5220, Recall: 0.3975, F1 Score: 0.3863\n",
      "Validation loss decreased (4.413750 --> 4.353039).  Saving model ...\n"
     ]
    },
    {
     "name": "stderr",
     "output_type": "stream",
     "text": [
      "Training Epoch 8/100: 100%|██████████| 65/65 [05:38<00:00,  5.21s/batch]\n",
      "Validation Epoch 8/100: 100%|██████████| 9/9 [00:41<00:00,  4.64s/batch]\n"
     ]
    },
    {
     "name": "stdout",
     "output_type": "stream",
     "text": [
      "Epoch 8/100, Train Loss: 4.3171, Val Loss: 4.2922, Accuracy: 0.4670, Precision: 0.5790, Recall: 0.4670, F1 Score: 0.4407\n",
      "Validation loss decreased (4.353039 --> 4.292228).  Saving model ...\n"
     ]
    },
    {
     "name": "stderr",
     "output_type": "stream",
     "text": [
      "Training Epoch 9/100: 100%|██████████| 65/65 [05:39<00:00,  5.23s/batch]\n",
      "Validation Epoch 9/100: 100%|██████████| 9/9 [00:41<00:00,  4.62s/batch]\n"
     ]
    },
    {
     "name": "stdout",
     "output_type": "stream",
     "text": [
      "Epoch 9/100, Train Loss: 4.2593, Val Loss: 4.2320, Accuracy: 0.5233, Precision: 0.6293, Recall: 0.5233, F1 Score: 0.4904\n",
      "Validation loss decreased (4.292228 --> 4.232048).  Saving model ...\n"
     ]
    },
    {
     "name": "stderr",
     "output_type": "stream",
     "text": [
      "Training Epoch 10/100: 100%|██████████| 65/65 [05:39<00:00,  5.22s/batch]\n",
      "Validation Epoch 10/100: 100%|██████████| 9/9 [00:41<00:00,  4.63s/batch]\n"
     ]
    },
    {
     "name": "stdout",
     "output_type": "stream",
     "text": [
      "Epoch 10/100, Train Loss: 4.1970, Val Loss: 4.1719, Accuracy: 0.5729, Precision: 0.6774, Recall: 0.5729, F1 Score: 0.5439\n",
      "Validation loss decreased (4.232048 --> 4.171926).  Saving model ...\n"
     ]
    },
    {
     "name": "stderr",
     "output_type": "stream",
     "text": [
      "Training Epoch 11/100: 100%|██████████| 65/65 [05:39<00:00,  5.23s/batch]\n",
      "Validation Epoch 11/100: 100%|██████████| 9/9 [00:41<00:00,  4.65s/batch]\n"
     ]
    },
    {
     "name": "stdout",
     "output_type": "stream",
     "text": [
      "Epoch 11/100, Train Loss: 4.1363, Val Loss: 4.1129, Accuracy: 0.6045, Precision: 0.7208, Recall: 0.6045, F1 Score: 0.5800\n",
      "Validation loss decreased (4.171926 --> 4.112855).  Saving model ...\n"
     ]
    },
    {
     "name": "stderr",
     "output_type": "stream",
     "text": [
      "Training Epoch 12/100: 100%|██████████| 65/65 [05:38<00:00,  5.21s/batch]\n",
      "Validation Epoch 12/100: 100%|██████████| 9/9 [00:41<00:00,  4.62s/batch]\n"
     ]
    },
    {
     "name": "stdout",
     "output_type": "stream",
     "text": [
      "Epoch 12/100, Train Loss: 4.0813, Val Loss: 4.0540, Accuracy: 0.6550, Precision: 0.7337, Recall: 0.6550, F1 Score: 0.6292\n",
      "Validation loss decreased (4.112855 --> 4.054047).  Saving model ...\n"
     ]
    },
    {
     "name": "stderr",
     "output_type": "stream",
     "text": [
      "Training Epoch 13/100: 100%|██████████| 65/65 [05:39<00:00,  5.22s/batch]\n",
      "Validation Epoch 13/100: 100%|██████████| 9/9 [00:41<00:00,  4.62s/batch]\n"
     ]
    },
    {
     "name": "stdout",
     "output_type": "stream",
     "text": [
      "Epoch 13/100, Train Loss: 4.0189, Val Loss: 3.9949, Accuracy: 0.6822, Precision: 0.7438, Recall: 0.6822, F1 Score: 0.6566\n",
      "Validation loss decreased (4.054047 --> 3.994878).  Saving model ...\n"
     ]
    },
    {
     "name": "stderr",
     "output_type": "stream",
     "text": [
      "Training Epoch 14/100: 100%|██████████| 65/65 [05:40<00:00,  5.23s/batch]\n",
      "Validation Epoch 14/100: 100%|██████████| 9/9 [00:41<00:00,  4.63s/batch]\n"
     ]
    },
    {
     "name": "stdout",
     "output_type": "stream",
     "text": [
      "Epoch 14/100, Train Loss: 3.9564, Val Loss: 3.9373, Accuracy: 0.7119, Precision: 0.7583, Recall: 0.7119, F1 Score: 0.6867\n",
      "Validation loss decreased (3.994878 --> 3.937273).  Saving model ...\n"
     ]
    },
    {
     "name": "stderr",
     "output_type": "stream",
     "text": [
      "Training Epoch 15/100: 100%|██████████| 65/65 [05:39<00:00,  5.23s/batch]\n",
      "Validation Epoch 15/100: 100%|██████████| 9/9 [00:41<00:00,  4.63s/batch]\n"
     ]
    },
    {
     "name": "stdout",
     "output_type": "stream",
     "text": [
      "Epoch 15/100, Train Loss: 3.9041, Val Loss: 3.8802, Accuracy: 0.7269, Precision: 0.7578, Recall: 0.7269, F1 Score: 0.7017\n",
      "Validation loss decreased (3.937273 --> 3.880213).  Saving model ...\n"
     ]
    },
    {
     "name": "stderr",
     "output_type": "stream",
     "text": [
      "Training Epoch 16/100: 100%|██████████| 65/65 [05:41<00:00,  5.25s/batch]\n",
      "Validation Epoch 16/100: 100%|██████████| 9/9 [00:41<00:00,  4.63s/batch]\n"
     ]
    },
    {
     "name": "stdout",
     "output_type": "stream",
     "text": [
      "Epoch 16/100, Train Loss: 3.8488, Val Loss: 3.8227, Accuracy: 0.7396, Precision: 0.7646, Recall: 0.7396, F1 Score: 0.7159\n",
      "Validation loss decreased (3.880213 --> 3.822653).  Saving model ...\n"
     ]
    },
    {
     "name": "stderr",
     "output_type": "stream",
     "text": [
      "Training Epoch 17/100: 100%|██████████| 65/65 [05:39<00:00,  5.22s/batch]\n",
      "Validation Epoch 17/100: 100%|██████████| 9/9 [00:41<00:00,  4.62s/batch]\n"
     ]
    },
    {
     "name": "stdout",
     "output_type": "stream",
     "text": [
      "Epoch 17/100, Train Loss: 3.7903, Val Loss: 3.7664, Accuracy: 0.7536, Precision: 0.7725, Recall: 0.7536, F1 Score: 0.7303\n",
      "Validation loss decreased (3.822653 --> 3.766360).  Saving model ...\n"
     ]
    },
    {
     "name": "stderr",
     "output_type": "stream",
     "text": [
      "Training Epoch 18/100: 100%|██████████| 65/65 [05:50<00:00,  5.40s/batch]\n",
      "Validation Epoch 18/100: 100%|██████████| 9/9 [00:42<00:00,  4.77s/batch]\n"
     ]
    },
    {
     "name": "stdout",
     "output_type": "stream",
     "text": [
      "Epoch 18/100, Train Loss: 3.7292, Val Loss: 3.7099, Accuracy: 0.7697, Precision: 0.7808, Recall: 0.7697, F1 Score: 0.7459\n",
      "Validation loss decreased (3.766360 --> 3.709859).  Saving model ...\n"
     ]
    },
    {
     "name": "stderr",
     "output_type": "stream",
     "text": [
      "Training Epoch 19/100: 100%|██████████| 65/65 [05:48<00:00,  5.37s/batch]\n",
      "Validation Epoch 19/100: 100%|██████████| 9/9 [00:42<00:00,  4.77s/batch]\n"
     ]
    },
    {
     "name": "stdout",
     "output_type": "stream",
     "text": [
      "Epoch 19/100, Train Loss: 3.6789, Val Loss: 3.6547, Accuracy: 0.7760, Precision: 0.7861, Recall: 0.7760, F1 Score: 0.7536\n",
      "Validation loss decreased (3.709859 --> 3.654665).  Saving model ...\n"
     ]
    },
    {
     "name": "stderr",
     "output_type": "stream",
     "text": [
      "Training Epoch 20/100: 100%|██████████| 65/65 [05:44<00:00,  5.30s/batch]\n",
      "Validation Epoch 20/100: 100%|██████████| 9/9 [00:43<00:00,  4.80s/batch]\n"
     ]
    },
    {
     "name": "stdout",
     "output_type": "stream",
     "text": [
      "Epoch 20/100, Train Loss: 3.6236, Val Loss: 3.5992, Accuracy: 0.7857, Precision: 0.7869, Recall: 0.7857, F1 Score: 0.7636\n",
      "Validation loss decreased (3.654665 --> 3.599203).  Saving model ...\n"
     ]
    },
    {
     "name": "stderr",
     "output_type": "stream",
     "text": [
      "Training Epoch 21/100: 100%|██████████| 65/65 [05:44<00:00,  5.30s/batch]\n",
      "Validation Epoch 21/100: 100%|██████████| 9/9 [00:41<00:00,  4.66s/batch]\n"
     ]
    },
    {
     "name": "stdout",
     "output_type": "stream",
     "text": [
      "Epoch 21/100, Train Loss: 3.5630, Val Loss: 3.5449, Accuracy: 0.7901, Precision: 0.7952, Recall: 0.7901, F1 Score: 0.7680\n",
      "Validation loss decreased (3.599203 --> 3.544897).  Saving model ...\n"
     ]
    },
    {
     "name": "stderr",
     "output_type": "stream",
     "text": [
      "Training Epoch 22/100: 100%|██████████| 65/65 [05:40<00:00,  5.24s/batch]\n",
      "Validation Epoch 22/100: 100%|██████████| 9/9 [00:41<00:00,  4.64s/batch]\n"
     ]
    },
    {
     "name": "stdout",
     "output_type": "stream",
     "text": [
      "Epoch 22/100, Train Loss: 3.5122, Val Loss: 3.4909, Accuracy: 0.7920, Precision: 0.8079, Recall: 0.7920, F1 Score: 0.7714\n",
      "Validation loss decreased (3.544897 --> 3.490873).  Saving model ...\n"
     ]
    },
    {
     "name": "stderr",
     "output_type": "stream",
     "text": [
      "Training Epoch 23/100: 100%|██████████| 65/65 [05:43<00:00,  5.28s/batch]\n",
      "Validation Epoch 23/100: 100%|██████████| 9/9 [00:43<00:00,  4.79s/batch]\n"
     ]
    },
    {
     "name": "stdout",
     "output_type": "stream",
     "text": [
      "Epoch 23/100, Train Loss: 3.4574, Val Loss: 3.4365, Accuracy: 0.7945, Precision: 0.8133, Recall: 0.7945, F1 Score: 0.7738\n",
      "Validation loss decreased (3.490873 --> 3.436522).  Saving model ...\n"
     ]
    },
    {
     "name": "stderr",
     "output_type": "stream",
     "text": [
      "Training Epoch 24/100: 100%|██████████| 65/65 [05:50<00:00,  5.39s/batch]\n",
      "Validation Epoch 24/100: 100%|██████████| 9/9 [00:42<00:00,  4.77s/batch]\n"
     ]
    },
    {
     "name": "stdout",
     "output_type": "stream",
     "text": [
      "Epoch 24/100, Train Loss: 3.4040, Val Loss: 3.3834, Accuracy: 0.8022, Precision: 0.8186, Recall: 0.8022, F1 Score: 0.7807\n",
      "Validation loss decreased (3.436522 --> 3.383412).  Saving model ...\n"
     ]
    },
    {
     "name": "stderr",
     "output_type": "stream",
     "text": [
      "Training Epoch 25/100: 100%|██████████| 65/65 [05:43<00:00,  5.29s/batch]\n",
      "Validation Epoch 25/100: 100%|██████████| 9/9 [00:43<00:00,  4.83s/batch]\n"
     ]
    },
    {
     "name": "stdout",
     "output_type": "stream",
     "text": [
      "Epoch 25/100, Train Loss: 3.3500, Val Loss: 3.3311, Accuracy: 0.8056, Precision: 0.8199, Recall: 0.8056, F1 Score: 0.7853\n",
      "Validation loss decreased (3.383412 --> 3.331148).  Saving model ...\n"
     ]
    },
    {
     "name": "stderr",
     "output_type": "stream",
     "text": [
      "Training Epoch 26/100: 100%|██████████| 65/65 [05:44<00:00,  5.31s/batch]\n",
      "Validation Epoch 26/100: 100%|██████████| 9/9 [00:41<00:00,  4.66s/batch]\n"
     ]
    },
    {
     "name": "stdout",
     "output_type": "stream",
     "text": [
      "Epoch 26/100, Train Loss: 3.2960, Val Loss: 3.2784, Accuracy: 0.8110, Precision: 0.8246, Recall: 0.8110, F1 Score: 0.7907\n",
      "Validation loss decreased (3.331148 --> 3.278443).  Saving model ...\n"
     ]
    },
    {
     "name": "stderr",
     "output_type": "stream",
     "text": [
      "Training Epoch 27/100: 100%|██████████| 65/65 [05:56<00:00,  5.49s/batch]\n",
      "Validation Epoch 27/100: 100%|██████████| 9/9 [00:43<00:00,  4.78s/batch]\n"
     ]
    },
    {
     "name": "stdout",
     "output_type": "stream",
     "text": [
      "Epoch 27/100, Train Loss: 3.2526, Val Loss: 3.2269, Accuracy: 0.8129, Precision: 0.8236, Recall: 0.8129, F1 Score: 0.7922\n",
      "Validation loss decreased (3.278443 --> 3.226928).  Saving model ...\n"
     ]
    },
    {
     "name": "stderr",
     "output_type": "stream",
     "text": [
      "Training Epoch 28/100: 100%|██████████| 65/65 [05:57<00:00,  5.50s/batch]\n",
      "Validation Epoch 28/100: 100%|██████████| 9/9 [00:43<00:00,  4.80s/batch]\n"
     ]
    },
    {
     "name": "stdout",
     "output_type": "stream",
     "text": [
      "Epoch 28/100, Train Loss: 3.1938, Val Loss: 3.1760, Accuracy: 0.8158, Precision: 0.8263, Recall: 0.8158, F1 Score: 0.7975\n",
      "Validation loss decreased (3.226928 --> 3.176047).  Saving model ...\n"
     ]
    },
    {
     "name": "stderr",
     "output_type": "stream",
     "text": [
      "Training Epoch 29/100: 100%|██████████| 65/65 [35:44<00:00, 32.99s/batch] \n",
      "Validation Epoch 29/100: 100%|██████████| 9/9 [00:47<00:00,  5.23s/batch]\n"
     ]
    },
    {
     "name": "stdout",
     "output_type": "stream",
     "text": [
      "Epoch 29/100, Train Loss: 3.1489, Val Loss: 3.1252, Accuracy: 0.8207, Precision: 0.8306, Recall: 0.8207, F1 Score: 0.8027\n",
      "Validation loss decreased (3.176047 --> 3.125212).  Saving model ...\n"
     ]
    },
    {
     "name": "stderr",
     "output_type": "stream",
     "text": [
      "Training Epoch 30/100: 100%|██████████| 65/65 [06:31<00:00,  6.03s/batch]\n",
      "Validation Epoch 30/100: 100%|██████████| 9/9 [00:49<00:00,  5.52s/batch]\n"
     ]
    },
    {
     "name": "stdout",
     "output_type": "stream",
     "text": [
      "Epoch 30/100, Train Loss: 3.0992, Val Loss: 3.0763, Accuracy: 0.8217, Precision: 0.8306, Recall: 0.8217, F1 Score: 0.8033\n",
      "Validation loss decreased (3.125212 --> 3.076322).  Saving model ...\n"
     ]
    },
    {
     "name": "stderr",
     "output_type": "stream",
     "text": [
      "Training Epoch 31/100: 100%|██████████| 65/65 [06:17<00:00,  5.81s/batch]\n",
      "Validation Epoch 31/100: 100%|██████████| 9/9 [00:48<00:00,  5.36s/batch]\n"
     ]
    },
    {
     "name": "stdout",
     "output_type": "stream",
     "text": [
      "Epoch 31/100, Train Loss: 3.0505, Val Loss: 3.0269, Accuracy: 0.8241, Precision: 0.8336, Recall: 0.8241, F1 Score: 0.8068\n",
      "Validation loss decreased (3.076322 --> 3.026947).  Saving model ...\n"
     ]
    },
    {
     "name": "stderr",
     "output_type": "stream",
     "text": [
      "Training Epoch 32/100: 100%|██████████| 65/65 [06:17<00:00,  5.82s/batch]\n",
      "Validation Epoch 32/100: 100%|██████████| 9/9 [00:44<00:00,  4.89s/batch]\n"
     ]
    },
    {
     "name": "stdout",
     "output_type": "stream",
     "text": [
      "Epoch 32/100, Train Loss: 3.0044, Val Loss: 2.9785, Accuracy: 0.8260, Precision: 0.8347, Recall: 0.8260, F1 Score: 0.8092\n",
      "Validation loss decreased (3.026947 --> 2.978482).  Saving model ...\n"
     ]
    },
    {
     "name": "stderr",
     "output_type": "stream",
     "text": [
      "Training Epoch 33/100: 100%|██████████| 65/65 [06:07<00:00,  5.66s/batch]\n",
      "Validation Epoch 33/100: 100%|██████████| 9/9 [00:49<00:00,  5.48s/batch]\n"
     ]
    },
    {
     "name": "stdout",
     "output_type": "stream",
     "text": [
      "Epoch 33/100, Train Loss: 2.9535, Val Loss: 2.9307, Accuracy: 0.8290, Precision: 0.8366, Recall: 0.8290, F1 Score: 0.8125\n",
      "Validation loss decreased (2.978482 --> 2.930727).  Saving model ...\n"
     ]
    },
    {
     "name": "stderr",
     "output_type": "stream",
     "text": [
      "Training Epoch 34/100: 100%|██████████| 65/65 [06:19<00:00,  5.83s/batch]\n",
      "Validation Epoch 34/100: 100%|██████████| 9/9 [00:43<00:00,  4.79s/batch]\n"
     ]
    },
    {
     "name": "stdout",
     "output_type": "stream",
     "text": [
      "Epoch 34/100, Train Loss: 2.9038, Val Loss: 2.8839, Accuracy: 0.8304, Precision: 0.8377, Recall: 0.8304, F1 Score: 0.8135\n",
      "Validation loss decreased (2.930727 --> 2.883851).  Saving model ...\n"
     ]
    },
    {
     "name": "stderr",
     "output_type": "stream",
     "text": [
      "Training Epoch 35/100: 100%|██████████| 65/65 [06:07<00:00,  5.66s/batch]\n",
      "Validation Epoch 35/100: 100%|██████████| 9/9 [00:50<00:00,  5.57s/batch]\n"
     ]
    },
    {
     "name": "stdout",
     "output_type": "stream",
     "text": [
      "Epoch 35/100, Train Loss: 2.8544, Val Loss: 2.8371, Accuracy: 0.8348, Precision: 0.8457, Recall: 0.8348, F1 Score: 0.8198\n",
      "Validation loss decreased (2.883851 --> 2.837065).  Saving model ...\n"
     ]
    },
    {
     "name": "stderr",
     "output_type": "stream",
     "text": [
      "Training Epoch 36/100: 100%|██████████| 65/65 [06:01<00:00,  5.57s/batch]\n",
      "Validation Epoch 36/100: 100%|██████████| 9/9 [00:44<00:00,  4.98s/batch]\n"
     ]
    },
    {
     "name": "stdout",
     "output_type": "stream",
     "text": [
      "Epoch 36/100, Train Loss: 2.8274, Val Loss: 2.7915, Accuracy: 0.8358, Precision: 0.8480, Recall: 0.8358, F1 Score: 0.8211\n",
      "Validation loss decreased (2.837065 --> 2.791481).  Saving model ...\n"
     ]
    },
    {
     "name": "stderr",
     "output_type": "stream",
     "text": [
      "Training Epoch 37/100: 100%|██████████| 65/65 [06:03<00:00,  5.59s/batch]\n",
      "Validation Epoch 37/100: 100%|██████████| 9/9 [00:44<00:00,  4.97s/batch]\n"
     ]
    },
    {
     "name": "stdout",
     "output_type": "stream",
     "text": [
      "Epoch 37/100, Train Loss: 2.7766, Val Loss: 2.7465, Accuracy: 0.8401, Precision: 0.8515, Recall: 0.8401, F1 Score: 0.8264\n",
      "Validation loss decreased (2.791481 --> 2.746512).  Saving model ...\n"
     ]
    },
    {
     "name": "stderr",
     "output_type": "stream",
     "text": [
      "Training Epoch 38/100: 100%|██████████| 65/65 [05:57<00:00,  5.51s/batch]\n",
      "Validation Epoch 38/100: 100%|██████████| 9/9 [00:52<00:00,  5.79s/batch]\n"
     ]
    },
    {
     "name": "stdout",
     "output_type": "stream",
     "text": [
      "Epoch 38/100, Train Loss: 2.7294, Val Loss: 2.7013, Accuracy: 0.8440, Precision: 0.8552, Recall: 0.8440, F1 Score: 0.8306\n",
      "Validation loss decreased (2.746512 --> 2.701311).  Saving model ...\n"
     ]
    },
    {
     "name": "stderr",
     "output_type": "stream",
     "text": [
      "Training Epoch 39/100: 100%|██████████| 65/65 [06:01<00:00,  5.57s/batch]\n",
      "Validation Epoch 39/100: 100%|██████████| 9/9 [00:46<00:00,  5.16s/batch]\n"
     ]
    },
    {
     "name": "stdout",
     "output_type": "stream",
     "text": [
      "Epoch 39/100, Train Loss: 2.6882, Val Loss: 2.6584, Accuracy: 0.8469, Precision: 0.8578, Recall: 0.8469, F1 Score: 0.8341\n",
      "Validation loss decreased (2.701311 --> 2.658407).  Saving model ...\n"
     ]
    },
    {
     "name": "stderr",
     "output_type": "stream",
     "text": [
      "Training Epoch 40/100: 100%|██████████| 65/65 [06:12<00:00,  5.73s/batch]\n",
      "Validation Epoch 40/100: 100%|██████████| 9/9 [00:43<00:00,  4.86s/batch]\n"
     ]
    },
    {
     "name": "stdout",
     "output_type": "stream",
     "text": [
      "Epoch 40/100, Train Loss: 2.6429, Val Loss: 2.6154, Accuracy: 0.8445, Precision: 0.8545, Recall: 0.8445, F1 Score: 0.8316\n",
      "Validation loss decreased (2.658407 --> 2.615365).  Saving model ...\n"
     ]
    },
    {
     "name": "stderr",
     "output_type": "stream",
     "text": [
      "Training Epoch 41/100: 100%|██████████| 65/65 [06:17<00:00,  5.81s/batch]\n",
      "Validation Epoch 41/100: 100%|██████████| 9/9 [00:47<00:00,  5.23s/batch]\n"
     ]
    },
    {
     "name": "stdout",
     "output_type": "stream",
     "text": [
      "Epoch 41/100, Train Loss: 2.5979, Val Loss: 2.5724, Accuracy: 0.8484, Precision: 0.8575, Recall: 0.8484, F1 Score: 0.8360\n",
      "Validation loss decreased (2.615365 --> 2.572361).  Saving model ...\n"
     ]
    },
    {
     "name": "stderr",
     "output_type": "stream",
     "text": [
      "Training Epoch 42/100: 100%|██████████| 65/65 [06:28<00:00,  5.98s/batch]\n",
      "Validation Epoch 42/100: 100%|██████████| 9/9 [00:50<00:00,  5.65s/batch]\n"
     ]
    },
    {
     "name": "stdout",
     "output_type": "stream",
     "text": [
      "Epoch 42/100, Train Loss: 2.5606, Val Loss: 2.5307, Accuracy: 0.8503, Precision: 0.8584, Recall: 0.8503, F1 Score: 0.8378\n",
      "Validation loss decreased (2.572361 --> 2.530689).  Saving model ...\n"
     ]
    },
    {
     "name": "stderr",
     "output_type": "stream",
     "text": [
      "Training Epoch 43/100: 100%|██████████| 65/65 [06:03<00:00,  5.59s/batch]\n",
      "Validation Epoch 43/100: 100%|██████████| 9/9 [00:43<00:00,  4.88s/batch]\n"
     ]
    },
    {
     "name": "stdout",
     "output_type": "stream",
     "text": [
      "Epoch 43/100, Train Loss: 2.5174, Val Loss: 2.4898, Accuracy: 0.8508, Precision: 0.8599, Recall: 0.8508, F1 Score: 0.8386\n",
      "Validation loss decreased (2.530689 --> 2.489757).  Saving model ...\n"
     ]
    },
    {
     "name": "stderr",
     "output_type": "stream",
     "text": [
      "Training Epoch 44/100: 100%|██████████| 65/65 [06:02<00:00,  5.57s/batch]\n",
      "Validation Epoch 44/100: 100%|██████████| 9/9 [00:44<00:00,  4.90s/batch]\n"
     ]
    },
    {
     "name": "stdout",
     "output_type": "stream",
     "text": [
      "Epoch 44/100, Train Loss: 2.4795, Val Loss: 2.4492, Accuracy: 0.8508, Precision: 0.8598, Recall: 0.8508, F1 Score: 0.8386\n",
      "Validation loss decreased (2.489757 --> 2.449190).  Saving model ...\n"
     ]
    },
    {
     "name": "stderr",
     "output_type": "stream",
     "text": [
      "Training Epoch 45/100: 100%|██████████| 65/65 [06:16<00:00,  5.80s/batch]\n",
      "Validation Epoch 45/100: 100%|██████████| 9/9 [00:45<00:00,  5.07s/batch]\n"
     ]
    },
    {
     "name": "stdout",
     "output_type": "stream",
     "text": [
      "Epoch 45/100, Train Loss: 2.4385, Val Loss: 2.4096, Accuracy: 0.8523, Precision: 0.8605, Recall: 0.8523, F1 Score: 0.8401\n",
      "Validation loss decreased (2.449190 --> 2.409647).  Saving model ...\n"
     ]
    },
    {
     "name": "stderr",
     "output_type": "stream",
     "text": [
      "Training Epoch 46/100: 100%|██████████| 65/65 [06:17<00:00,  5.81s/batch]\n",
      "Validation Epoch 46/100: 100%|██████████| 9/9 [00:47<00:00,  5.27s/batch]\n"
     ]
    },
    {
     "name": "stdout",
     "output_type": "stream",
     "text": [
      "Epoch 46/100, Train Loss: 2.4002, Val Loss: 2.3712, Accuracy: 0.8528, Precision: 0.8605, Recall: 0.8528, F1 Score: 0.8409\n",
      "Validation loss decreased (2.409647 --> 2.371156).  Saving model ...\n"
     ]
    },
    {
     "name": "stderr",
     "output_type": "stream",
     "text": [
      "Training Epoch 47/100: 100%|██████████| 65/65 [06:28<00:00,  5.98s/batch]\n",
      "Validation Epoch 47/100: 100%|██████████| 9/9 [00:46<00:00,  5.14s/batch]\n"
     ]
    },
    {
     "name": "stdout",
     "output_type": "stream",
     "text": [
      "Epoch 47/100, Train Loss: 2.3639, Val Loss: 2.3331, Accuracy: 0.8537, Precision: 0.8611, Recall: 0.8537, F1 Score: 0.8423\n",
      "Validation loss decreased (2.371156 --> 2.333073).  Saving model ...\n"
     ]
    },
    {
     "name": "stderr",
     "output_type": "stream",
     "text": [
      "Training Epoch 48/100: 100%|██████████| 65/65 [06:12<00:00,  5.73s/batch]\n",
      "Validation Epoch 48/100: 100%|██████████| 9/9 [00:48<00:00,  5.41s/batch]\n"
     ]
    },
    {
     "name": "stdout",
     "output_type": "stream",
     "text": [
      "Epoch 48/100, Train Loss: 2.3344, Val Loss: 2.2952, Accuracy: 0.8562, Precision: 0.8634, Recall: 0.8562, F1 Score: 0.8446\n",
      "Validation loss decreased (2.333073 --> 2.295222).  Saving model ...\n"
     ]
    },
    {
     "name": "stderr",
     "output_type": "stream",
     "text": [
      "Training Epoch 49/100: 100%|██████████| 65/65 [06:18<00:00,  5.82s/batch]\n",
      "Validation Epoch 49/100: 100%|██████████| 9/9 [00:50<00:00,  5.59s/batch]\n"
     ]
    },
    {
     "name": "stdout",
     "output_type": "stream",
     "text": [
      "Epoch 49/100, Train Loss: 2.2930, Val Loss: 2.2585, Accuracy: 0.8571, Precision: 0.8633, Recall: 0.8571, F1 Score: 0.8457\n",
      "Validation loss decreased (2.295222 --> 2.258509).  Saving model ...\n"
     ]
    },
    {
     "name": "stderr",
     "output_type": "stream",
     "text": [
      "Training Epoch 50/100: 100%|██████████| 65/65 [06:02<00:00,  5.57s/batch]\n",
      "Validation Epoch 50/100: 100%|██████████| 9/9 [00:47<00:00,  5.22s/batch]\n"
     ]
    },
    {
     "name": "stdout",
     "output_type": "stream",
     "text": [
      "Epoch 50/100, Train Loss: 2.2632, Val Loss: 2.2226, Accuracy: 0.8567, Precision: 0.8630, Recall: 0.8567, F1 Score: 0.8454\n",
      "Validation loss decreased (2.258509 --> 2.222619).  Saving model ...\n"
     ]
    },
    {
     "name": "stderr",
     "output_type": "stream",
     "text": [
      "Training Epoch 51/100: 100%|██████████| 65/65 [07:06<00:00,  6.56s/batch]\n",
      "Validation Epoch 51/100: 100%|██████████| 9/9 [00:43<00:00,  4.88s/batch]\n"
     ]
    },
    {
     "name": "stdout",
     "output_type": "stream",
     "text": [
      "Epoch 51/100, Train Loss: 2.2246, Val Loss: 2.1873, Accuracy: 0.8581, Precision: 0.8642, Recall: 0.8581, F1 Score: 0.8464\n",
      "Validation loss decreased (2.222619 --> 2.187261).  Saving model ...\n"
     ]
    },
    {
     "name": "stderr",
     "output_type": "stream",
     "text": [
      "Training Epoch 52/100: 100%|██████████| 65/65 [05:52<00:00,  5.43s/batch]\n",
      "Validation Epoch 52/100: 100%|██████████| 9/9 [00:43<00:00,  4.83s/batch]\n"
     ]
    },
    {
     "name": "stdout",
     "output_type": "stream",
     "text": [
      "Epoch 52/100, Train Loss: 2.1944, Val Loss: 2.1533, Accuracy: 0.8591, Precision: 0.8638, Recall: 0.8591, F1 Score: 0.8478\n",
      "Validation loss decreased (2.187261 --> 2.153348).  Saving model ...\n"
     ]
    },
    {
     "name": "stderr",
     "output_type": "stream",
     "text": [
      "Training Epoch 53/100: 100%|██████████| 65/65 [05:54<00:00,  5.45s/batch]\n",
      "Validation Epoch 53/100: 100%|██████████| 9/9 [00:43<00:00,  4.83s/batch]\n"
     ]
    },
    {
     "name": "stdout",
     "output_type": "stream",
     "text": [
      "Epoch 53/100, Train Loss: 2.1679, Val Loss: 2.1191, Accuracy: 0.8601, Precision: 0.8648, Recall: 0.8601, F1 Score: 0.8491\n",
      "Validation loss decreased (2.153348 --> 2.119067).  Saving model ...\n"
     ]
    },
    {
     "name": "stderr",
     "output_type": "stream",
     "text": [
      "Training Epoch 54/100: 100%|██████████| 65/65 [05:51<00:00,  5.41s/batch]\n",
      "Validation Epoch 54/100: 100%|██████████| 9/9 [00:43<00:00,  4.80s/batch]\n"
     ]
    },
    {
     "name": "stdout",
     "output_type": "stream",
     "text": [
      "Epoch 54/100, Train Loss: 2.1315, Val Loss: 2.0859, Accuracy: 0.8610, Precision: 0.8658, Recall: 0.8610, F1 Score: 0.8503\n",
      "Validation loss decreased (2.119067 --> 2.085943).  Saving model ...\n"
     ]
    },
    {
     "name": "stderr",
     "output_type": "stream",
     "text": [
      "Training Epoch 55/100: 100%|██████████| 65/65 [05:51<00:00,  5.41s/batch]\n",
      "Validation Epoch 55/100: 100%|██████████| 9/9 [00:43<00:00,  4.78s/batch]\n"
     ]
    },
    {
     "name": "stdout",
     "output_type": "stream",
     "text": [
      "Epoch 55/100, Train Loss: 2.0924, Val Loss: 2.0531, Accuracy: 0.8615, Precision: 0.8654, Recall: 0.8615, F1 Score: 0.8507\n",
      "Validation loss decreased (2.085943 --> 2.053139).  Saving model ...\n"
     ]
    },
    {
     "name": "stderr",
     "output_type": "stream",
     "text": [
      "Training Epoch 56/100: 100%|██████████| 65/65 [05:53<00:00,  5.44s/batch]\n",
      "Validation Epoch 56/100: 100%|██████████| 9/9 [00:43<00:00,  4.79s/batch]\n"
     ]
    },
    {
     "name": "stdout",
     "output_type": "stream",
     "text": [
      "Epoch 56/100, Train Loss: 2.0583, Val Loss: 2.0215, Accuracy: 0.8635, Precision: 0.8673, Recall: 0.8635, F1 Score: 0.8527\n",
      "Validation loss decreased (2.053139 --> 2.021524).  Saving model ...\n"
     ]
    },
    {
     "name": "stderr",
     "output_type": "stream",
     "text": [
      "Training Epoch 57/100: 100%|██████████| 65/65 [05:50<00:00,  5.39s/batch]\n",
      "Validation Epoch 57/100: 100%|██████████| 9/9 [00:43<00:00,  4.84s/batch]\n"
     ]
    },
    {
     "name": "stdout",
     "output_type": "stream",
     "text": [
      "Epoch 57/100, Train Loss: 2.0298, Val Loss: 1.9893, Accuracy: 0.8630, Precision: 0.8657, Recall: 0.8630, F1 Score: 0.8520\n",
      "Validation loss decreased (2.021524 --> 1.989346).  Saving model ...\n"
     ]
    },
    {
     "name": "stderr",
     "output_type": "stream",
     "text": [
      "Training Epoch 58/100: 100%|██████████| 65/65 [05:52<00:00,  5.42s/batch]\n",
      "Validation Epoch 58/100: 100%|██████████| 9/9 [00:42<00:00,  4.76s/batch]\n"
     ]
    },
    {
     "name": "stdout",
     "output_type": "stream",
     "text": [
      "Epoch 58/100, Train Loss: 2.0148, Val Loss: 1.9591, Accuracy: 0.8654, Precision: 0.8675, Recall: 0.8654, F1 Score: 0.8549\n",
      "Validation loss decreased (1.989346 --> 1.959129).  Saving model ...\n"
     ]
    },
    {
     "name": "stderr",
     "output_type": "stream",
     "text": [
      "Training Epoch 59/100: 100%|██████████| 65/65 [05:55<00:00,  5.47s/batch]\n",
      "Validation Epoch 59/100: 100%|██████████| 9/9 [00:42<00:00,  4.77s/batch]\n"
     ]
    },
    {
     "name": "stdout",
     "output_type": "stream",
     "text": [
      "Epoch 59/100, Train Loss: 1.9810, Val Loss: 1.9299, Accuracy: 0.8644, Precision: 0.8662, Recall: 0.8644, F1 Score: 0.8538\n",
      "Validation loss decreased (1.959129 --> 1.929884).  Saving model ...\n"
     ]
    },
    {
     "name": "stderr",
     "output_type": "stream",
     "text": [
      "Training Epoch 60/100: 100%|██████████| 65/65 [06:03<00:00,  5.59s/batch]\n",
      "Validation Epoch 60/100: 100%|██████████| 9/9 [00:45<00:00,  5.00s/batch]\n"
     ]
    },
    {
     "name": "stdout",
     "output_type": "stream",
     "text": [
      "Epoch 60/100, Train Loss: 1.9423, Val Loss: 1.9001, Accuracy: 0.8644, Precision: 0.8666, Recall: 0.8644, F1 Score: 0.8539\n",
      "Validation loss decreased (1.929884 --> 1.900051).  Saving model ...\n"
     ]
    },
    {
     "name": "stderr",
     "output_type": "stream",
     "text": [
      "Training Epoch 61/100: 100%|██████████| 65/65 [05:54<00:00,  5.46s/batch]\n",
      "Validation Epoch 61/100: 100%|██████████| 9/9 [00:42<00:00,  4.71s/batch]\n"
     ]
    },
    {
     "name": "stdout",
     "output_type": "stream",
     "text": [
      "Epoch 61/100, Train Loss: 1.9268, Val Loss: 1.8712, Accuracy: 0.8659, Precision: 0.8682, Recall: 0.8659, F1 Score: 0.8550\n",
      "Validation loss decreased (1.900051 --> 1.871163).  Saving model ...\n"
     ]
    },
    {
     "name": "stderr",
     "output_type": "stream",
     "text": [
      "Training Epoch 62/100: 100%|██████████| 65/65 [05:54<00:00,  5.45s/batch]\n",
      "Validation Epoch 62/100: 100%|██████████| 9/9 [00:43<00:00,  4.88s/batch]\n"
     ]
    },
    {
     "name": "stdout",
     "output_type": "stream",
     "text": [
      "Epoch 62/100, Train Loss: 1.9132, Val Loss: 1.8426, Accuracy: 0.8644, Precision: 0.8664, Recall: 0.8644, F1 Score: 0.8536\n",
      "Validation loss decreased (1.871163 --> 1.842611).  Saving model ...\n"
     ]
    },
    {
     "name": "stderr",
     "output_type": "stream",
     "text": [
      "Training Epoch 63/100: 100%|██████████| 65/65 [05:50<00:00,  5.39s/batch]\n",
      "Validation Epoch 63/100: 100%|██████████| 9/9 [00:42<00:00,  4.77s/batch]\n"
     ]
    },
    {
     "name": "stdout",
     "output_type": "stream",
     "text": [
      "Epoch 63/100, Train Loss: 1.8714, Val Loss: 1.8156, Accuracy: 0.8673, Precision: 0.8691, Recall: 0.8673, F1 Score: 0.8572\n",
      "Validation loss decreased (1.842611 --> 1.815613).  Saving model ...\n"
     ]
    },
    {
     "name": "stderr",
     "output_type": "stream",
     "text": [
      "Training Epoch 64/100: 100%|██████████| 65/65 [05:50<00:00,  5.39s/batch]\n",
      "Validation Epoch 64/100: 100%|██████████| 9/9 [00:42<00:00,  4.69s/batch]\n"
     ]
    },
    {
     "name": "stdout",
     "output_type": "stream",
     "text": [
      "Epoch 64/100, Train Loss: 1.8404, Val Loss: 1.7888, Accuracy: 0.8678, Precision: 0.8696, Recall: 0.8678, F1 Score: 0.8575\n",
      "Validation loss decreased (1.815613 --> 1.788767).  Saving model ...\n"
     ]
    },
    {
     "name": "stderr",
     "output_type": "stream",
     "text": [
      "Training Epoch 65/100: 100%|██████████| 65/65 [05:59<00:00,  5.54s/batch]\n",
      "Validation Epoch 65/100: 100%|██████████| 9/9 [00:42<00:00,  4.69s/batch]\n"
     ]
    },
    {
     "name": "stdout",
     "output_type": "stream",
     "text": [
      "Epoch 65/100, Train Loss: 1.8153, Val Loss: 1.7619, Accuracy: 0.8678, Precision: 0.8696, Recall: 0.8678, F1 Score: 0.8574\n",
      "Validation loss decreased (1.788767 --> 1.761872).  Saving model ...\n"
     ]
    },
    {
     "name": "stderr",
     "output_type": "stream",
     "text": [
      "Training Epoch 66/100: 100%|██████████| 65/65 [05:47<00:00,  5.35s/batch]\n",
      "Validation Epoch 66/100: 100%|██████████| 9/9 [00:41<00:00,  4.66s/batch]\n"
     ]
    },
    {
     "name": "stdout",
     "output_type": "stream",
     "text": [
      "Epoch 66/100, Train Loss: 1.8046, Val Loss: 1.7366, Accuracy: 0.8683, Precision: 0.8694, Recall: 0.8683, F1 Score: 0.8583\n",
      "Validation loss decreased (1.761872 --> 1.736636).  Saving model ...\n"
     ]
    },
    {
     "name": "stderr",
     "output_type": "stream",
     "text": [
      "Training Epoch 67/100: 100%|██████████| 65/65 [06:04<00:00,  5.61s/batch]\n",
      "Validation Epoch 67/100: 100%|██████████| 9/9 [00:42<00:00,  4.72s/batch]\n"
     ]
    },
    {
     "name": "stdout",
     "output_type": "stream",
     "text": [
      "Epoch 67/100, Train Loss: 1.7738, Val Loss: 1.7116, Accuracy: 0.8688, Precision: 0.8682, Recall: 0.8688, F1 Score: 0.8594\n",
      "Validation loss decreased (1.736636 --> 1.711559).  Saving model ...\n"
     ]
    },
    {
     "name": "stderr",
     "output_type": "stream",
     "text": [
      "Training Epoch 68/100: 100%|██████████| 65/65 [05:45<00:00,  5.32s/batch]\n",
      "Validation Epoch 68/100: 100%|██████████| 9/9 [00:45<00:00,  5.09s/batch]\n"
     ]
    },
    {
     "name": "stdout",
     "output_type": "stream",
     "text": [
      "Epoch 68/100, Train Loss: 1.7574, Val Loss: 1.6862, Accuracy: 0.8707, Precision: 0.8708, Recall: 0.8707, F1 Score: 0.8613\n",
      "Validation loss decreased (1.711559 --> 1.686209).  Saving model ...\n"
     ]
    },
    {
     "name": "stderr",
     "output_type": "stream",
     "text": [
      "Training Epoch 69/100: 100%|██████████| 65/65 [06:11<00:00,  5.71s/batch]\n",
      "Validation Epoch 69/100: 100%|██████████| 9/9 [00:41<00:00,  4.63s/batch]\n"
     ]
    },
    {
     "name": "stdout",
     "output_type": "stream",
     "text": [
      "Epoch 69/100, Train Loss: 1.7245, Val Loss: 1.6619, Accuracy: 0.8703, Precision: 0.8704, Recall: 0.8703, F1 Score: 0.8608\n",
      "Validation loss decreased (1.686209 --> 1.661949).  Saving model ...\n"
     ]
    },
    {
     "name": "stderr",
     "output_type": "stream",
     "text": [
      "Training Epoch 70/100: 100%|██████████| 65/65 [05:45<00:00,  5.32s/batch]\n",
      "Validation Epoch 70/100: 100%|██████████| 9/9 [00:43<00:00,  4.78s/batch]\n"
     ]
    },
    {
     "name": "stdout",
     "output_type": "stream",
     "text": [
      "Epoch 70/100, Train Loss: 1.7117, Val Loss: 1.6387, Accuracy: 0.8698, Precision: 0.8701, Recall: 0.8698, F1 Score: 0.8603\n",
      "Validation loss decreased (1.661949 --> 1.638664).  Saving model ...\n"
     ]
    },
    {
     "name": "stderr",
     "output_type": "stream",
     "text": [
      "Training Epoch 71/100: 100%|██████████| 65/65 [06:10<00:00,  5.70s/batch]\n",
      "Validation Epoch 71/100: 100%|██████████| 9/9 [00:42<00:00,  4.73s/batch]\n"
     ]
    },
    {
     "name": "stdout",
     "output_type": "stream",
     "text": [
      "Epoch 71/100, Train Loss: 1.6913, Val Loss: 1.6158, Accuracy: 0.8703, Precision: 0.8701, Recall: 0.8703, F1 Score: 0.8610\n",
      "Validation loss decreased (1.638664 --> 1.615787).  Saving model ...\n"
     ]
    },
    {
     "name": "stderr",
     "output_type": "stream",
     "text": [
      "Training Epoch 72/100: 100%|██████████| 65/65 [05:59<00:00,  5.54s/batch]\n",
      "Validation Epoch 72/100: 100%|██████████| 9/9 [00:42<00:00,  4.77s/batch]\n"
     ]
    },
    {
     "name": "stdout",
     "output_type": "stream",
     "text": [
      "Epoch 72/100, Train Loss: 1.6654, Val Loss: 1.5931, Accuracy: 0.8698, Precision: 0.8669, Recall: 0.8698, F1 Score: 0.8606\n",
      "Validation loss decreased (1.615787 --> 1.593125).  Saving model ...\n"
     ]
    },
    {
     "name": "stderr",
     "output_type": "stream",
     "text": [
      "Training Epoch 73/100: 100%|██████████| 65/65 [45:09<00:00, 41.68s/batch]   \n",
      "Validation Epoch 73/100: 100%|██████████| 9/9 [00:42<00:00,  4.76s/batch]\n"
     ]
    },
    {
     "name": "stdout",
     "output_type": "stream",
     "text": [
      "Epoch 73/100, Train Loss: 1.6305, Val Loss: 1.5708, Accuracy: 0.8703, Precision: 0.8674, Recall: 0.8703, F1 Score: 0.8612\n",
      "Validation loss decreased (1.593125 --> 1.570790).  Saving model ...\n"
     ]
    },
    {
     "name": "stderr",
     "output_type": "stream",
     "text": [
      "Training Epoch 74/100: 100%|██████████| 65/65 [05:43<00:00,  5.29s/batch]\n",
      "Validation Epoch 74/100: 100%|██████████| 9/9 [00:42<00:00,  4.68s/batch]\n"
     ]
    },
    {
     "name": "stdout",
     "output_type": "stream",
     "text": [
      "Epoch 74/100, Train Loss: 1.6182, Val Loss: 1.5492, Accuracy: 0.8727, Precision: 0.8709, Recall: 0.8727, F1 Score: 0.8632\n",
      "Validation loss decreased (1.570790 --> 1.549216).  Saving model ...\n"
     ]
    },
    {
     "name": "stderr",
     "output_type": "stream",
     "text": [
      "Training Epoch 75/100: 100%|██████████| 65/65 [05:42<00:00,  5.27s/batch]\n",
      "Validation Epoch 75/100: 100%|██████████| 9/9 [00:42<00:00,  4.67s/batch]\n"
     ]
    },
    {
     "name": "stdout",
     "output_type": "stream",
     "text": [
      "Epoch 75/100, Train Loss: 1.6015, Val Loss: 1.5276, Accuracy: 0.8727, Precision: 0.8714, Recall: 0.8727, F1 Score: 0.8633\n",
      "Validation loss decreased (1.549216 --> 1.527621).  Saving model ...\n"
     ]
    },
    {
     "name": "stderr",
     "output_type": "stream",
     "text": [
      "Training Epoch 76/100: 100%|██████████| 65/65 [05:43<00:00,  5.29s/batch]\n",
      "Validation Epoch 76/100: 100%|██████████| 9/9 [00:42<00:00,  4.71s/batch]\n"
     ]
    },
    {
     "name": "stdout",
     "output_type": "stream",
     "text": [
      "Epoch 76/100, Train Loss: 1.5896, Val Loss: 1.5068, Accuracy: 0.8732, Precision: 0.8710, Recall: 0.8732, F1 Score: 0.8638\n",
      "Validation loss decreased (1.527621 --> 1.506834).  Saving model ...\n"
     ]
    },
    {
     "name": "stderr",
     "output_type": "stream",
     "text": [
      "Training Epoch 77/100: 100%|██████████| 65/65 [05:44<00:00,  5.30s/batch]\n",
      "Validation Epoch 77/100: 100%|██████████| 9/9 [00:42<00:00,  4.67s/batch]\n"
     ]
    },
    {
     "name": "stdout",
     "output_type": "stream",
     "text": [
      "Epoch 77/100, Train Loss: 1.5654, Val Loss: 1.4870, Accuracy: 0.8732, Precision: 0.8687, Recall: 0.8732, F1 Score: 0.8636\n",
      "Validation loss decreased (1.506834 --> 1.486984).  Saving model ...\n"
     ]
    },
    {
     "name": "stderr",
     "output_type": "stream",
     "text": [
      "Training Epoch 78/100: 100%|██████████| 65/65 [05:43<00:00,  5.28s/batch]\n",
      "Validation Epoch 78/100: 100%|██████████| 9/9 [00:42<00:00,  4.69s/batch]\n"
     ]
    },
    {
     "name": "stdout",
     "output_type": "stream",
     "text": [
      "Epoch 78/100, Train Loss: 1.5419, Val Loss: 1.4668, Accuracy: 0.8751, Precision: 0.8727, Recall: 0.8751, F1 Score: 0.8658\n",
      "Validation loss decreased (1.486984 --> 1.466787).  Saving model ...\n"
     ]
    },
    {
     "name": "stderr",
     "output_type": "stream",
     "text": [
      "Training Epoch 79/100: 100%|██████████| 65/65 [05:43<00:00,  5.29s/batch]\n",
      "Validation Epoch 79/100: 100%|██████████| 9/9 [00:42<00:00,  4.68s/batch]\n"
     ]
    },
    {
     "name": "stdout",
     "output_type": "stream",
     "text": [
      "Epoch 79/100, Train Loss: 1.5212, Val Loss: 1.4479, Accuracy: 0.8771, Precision: 0.8748, Recall: 0.8771, F1 Score: 0.8676\n",
      "Validation loss decreased (1.466787 --> 1.447864).  Saving model ...\n"
     ]
    },
    {
     "name": "stderr",
     "output_type": "stream",
     "text": [
      "Training Epoch 80/100: 100%|██████████| 65/65 [05:44<00:00,  5.31s/batch]\n",
      "Validation Epoch 80/100: 100%|██████████| 9/9 [00:42<00:00,  4.69s/batch]\n"
     ]
    },
    {
     "name": "stdout",
     "output_type": "stream",
     "text": [
      "Epoch 80/100, Train Loss: 1.4984, Val Loss: 1.4285, Accuracy: 0.8746, Precision: 0.8719, Recall: 0.8746, F1 Score: 0.8653\n",
      "Validation loss decreased (1.447864 --> 1.428536).  Saving model ...\n"
     ]
    },
    {
     "name": "stderr",
     "output_type": "stream",
     "text": [
      "Training Epoch 81/100: 100%|██████████| 65/65 [05:43<00:00,  5.29s/batch]\n",
      "Validation Epoch 81/100: 100%|██████████| 9/9 [00:42<00:00,  4.67s/batch]\n"
     ]
    },
    {
     "name": "stdout",
     "output_type": "stream",
     "text": [
      "Epoch 81/100, Train Loss: 1.4982, Val Loss: 1.4097, Accuracy: 0.8756, Precision: 0.8732, Recall: 0.8756, F1 Score: 0.8663\n",
      "Validation loss decreased (1.428536 --> 1.409697).  Saving model ...\n"
     ]
    },
    {
     "name": "stderr",
     "output_type": "stream",
     "text": [
      "Training Epoch 82/100: 100%|██████████| 65/65 [05:43<00:00,  5.29s/batch]\n",
      "Validation Epoch 82/100: 100%|██████████| 9/9 [00:42<00:00,  4.68s/batch]\n"
     ]
    },
    {
     "name": "stdout",
     "output_type": "stream",
     "text": [
      "Epoch 82/100, Train Loss: 1.4770, Val Loss: 1.3915, Accuracy: 0.8771, Precision: 0.8728, Recall: 0.8771, F1 Score: 0.8680\n",
      "Validation loss decreased (1.409697 --> 1.391512).  Saving model ...\n"
     ]
    },
    {
     "name": "stderr",
     "output_type": "stream",
     "text": [
      "Training Epoch 83/100: 100%|██████████| 65/65 [05:43<00:00,  5.29s/batch]\n",
      "Validation Epoch 83/100: 100%|██████████| 9/9 [00:42<00:00,  4.72s/batch]\n"
     ]
    },
    {
     "name": "stdout",
     "output_type": "stream",
     "text": [
      "Epoch 83/100, Train Loss: 1.4497, Val Loss: 1.3740, Accuracy: 0.8756, Precision: 0.8716, Recall: 0.8756, F1 Score: 0.8664\n",
      "Validation loss decreased (1.391512 --> 1.373995).  Saving model ...\n"
     ]
    },
    {
     "name": "stderr",
     "output_type": "stream",
     "text": [
      "Training Epoch 84/100: 100%|██████████| 65/65 [05:45<00:00,  5.32s/batch]\n",
      "Validation Epoch 84/100: 100%|██████████| 9/9 [00:43<00:00,  4.80s/batch]\n"
     ]
    },
    {
     "name": "stdout",
     "output_type": "stream",
     "text": [
      "Epoch 84/100, Train Loss: 1.4454, Val Loss: 1.3573, Accuracy: 0.8780, Precision: 0.8740, Recall: 0.8780, F1 Score: 0.8693\n",
      "Validation loss decreased (1.373995 --> 1.357290).  Saving model ...\n"
     ]
    },
    {
     "name": "stderr",
     "output_type": "stream",
     "text": [
      "Training Epoch 85/100: 100%|██████████| 65/65 [05:43<00:00,  5.28s/batch]\n",
      "Validation Epoch 85/100: 100%|██████████| 9/9 [00:42<00:00,  4.73s/batch]\n"
     ]
    },
    {
     "name": "stdout",
     "output_type": "stream",
     "text": [
      "Epoch 85/100, Train Loss: 1.4331, Val Loss: 1.3404, Accuracy: 0.8756, Precision: 0.8709, Recall: 0.8756, F1 Score: 0.8667\n",
      "Validation loss decreased (1.357290 --> 1.340427).  Saving model ...\n"
     ]
    },
    {
     "name": "stderr",
     "output_type": "stream",
     "text": [
      "Training Epoch 86/100: 100%|██████████| 65/65 [05:42<00:00,  5.27s/batch]\n",
      "Validation Epoch 86/100: 100%|██████████| 9/9 [00:42<00:00,  4.68s/batch]\n"
     ]
    },
    {
     "name": "stdout",
     "output_type": "stream",
     "text": [
      "Epoch 86/100, Train Loss: 1.4204, Val Loss: 1.3236, Accuracy: 0.8776, Precision: 0.8730, Recall: 0.8776, F1 Score: 0.8686\n",
      "Validation loss decreased (1.340427 --> 1.323626).  Saving model ...\n"
     ]
    },
    {
     "name": "stderr",
     "output_type": "stream",
     "text": [
      "Training Epoch 87/100: 100%|██████████| 65/65 [05:43<00:00,  5.29s/batch]\n",
      "Validation Epoch 87/100: 100%|██████████| 9/9 [00:42<00:00,  4.71s/batch]\n"
     ]
    },
    {
     "name": "stdout",
     "output_type": "stream",
     "text": [
      "Epoch 87/100, Train Loss: 1.3998, Val Loss: 1.3079, Accuracy: 0.8790, Precision: 0.8836, Recall: 0.8790, F1 Score: 0.8709\n",
      "Validation loss decreased (1.323626 --> 1.307869).  Saving model ...\n"
     ]
    },
    {
     "name": "stderr",
     "output_type": "stream",
     "text": [
      "Training Epoch 88/100: 100%|██████████| 65/65 [05:44<00:00,  5.29s/batch]\n",
      "Validation Epoch 88/100: 100%|██████████| 9/9 [00:42<00:00,  4.67s/batch]\n"
     ]
    },
    {
     "name": "stdout",
     "output_type": "stream",
     "text": [
      "Epoch 88/100, Train Loss: 1.3900, Val Loss: 1.2924, Accuracy: 0.8800, Precision: 0.8846, Recall: 0.8800, F1 Score: 0.8722\n",
      "Validation loss decreased (1.307869 --> 1.292353).  Saving model ...\n"
     ]
    },
    {
     "name": "stderr",
     "output_type": "stream",
     "text": [
      "Training Epoch 89/100: 100%|██████████| 65/65 [05:42<00:00,  5.28s/batch]\n",
      "Validation Epoch 89/100: 100%|██████████| 9/9 [00:42<00:00,  4.67s/batch]\n"
     ]
    },
    {
     "name": "stdout",
     "output_type": "stream",
     "text": [
      "Epoch 89/100, Train Loss: 1.3775, Val Loss: 1.2767, Accuracy: 0.8795, Precision: 0.8837, Recall: 0.8795, F1 Score: 0.8713\n",
      "Validation loss decreased (1.292353 --> 1.276663).  Saving model ...\n"
     ]
    },
    {
     "name": "stderr",
     "output_type": "stream",
     "text": [
      "Training Epoch 90/100: 100%|██████████| 65/65 [05:45<00:00,  5.31s/batch]\n",
      "Validation Epoch 90/100: 100%|██████████| 9/9 [00:42<00:00,  4.74s/batch]\n"
     ]
    },
    {
     "name": "stdout",
     "output_type": "stream",
     "text": [
      "Epoch 90/100, Train Loss: 1.3531, Val Loss: 1.2620, Accuracy: 0.8805, Precision: 0.8842, Recall: 0.8805, F1 Score: 0.8726\n",
      "Validation loss decreased (1.276663 --> 1.261968).  Saving model ...\n"
     ]
    },
    {
     "name": "stderr",
     "output_type": "stream",
     "text": [
      "Training Epoch 91/100: 100%|██████████| 65/65 [05:46<00:00,  5.33s/batch]\n",
      "Validation Epoch 91/100: 100%|██████████| 9/9 [00:41<00:00,  4.63s/batch]\n"
     ]
    },
    {
     "name": "stdout",
     "output_type": "stream",
     "text": [
      "Epoch 91/100, Train Loss: 1.3393, Val Loss: 1.2471, Accuracy: 0.8805, Precision: 0.8844, Recall: 0.8805, F1 Score: 0.8729\n",
      "Validation loss decreased (1.261968 --> 1.247087).  Saving model ...\n"
     ]
    },
    {
     "name": "stderr",
     "output_type": "stream",
     "text": [
      "Training Epoch 92/100: 100%|██████████| 65/65 [05:40<00:00,  5.23s/batch]\n",
      "Validation Epoch 92/100: 100%|██████████| 9/9 [00:42<00:00,  4.68s/batch]\n"
     ]
    },
    {
     "name": "stdout",
     "output_type": "stream",
     "text": [
      "Epoch 92/100, Train Loss: 1.3420, Val Loss: 1.2328, Accuracy: 0.8810, Precision: 0.8851, Recall: 0.8810, F1 Score: 0.8737\n",
      "Validation loss decreased (1.247087 --> 1.232801).  Saving model ...\n"
     ]
    },
    {
     "name": "stderr",
     "output_type": "stream",
     "text": [
      "Training Epoch 93/100: 100%|██████████| 65/65 [05:47<00:00,  5.35s/batch]\n",
      "Validation Epoch 93/100: 100%|██████████| 9/9 [00:44<00:00,  4.97s/batch]\n"
     ]
    },
    {
     "name": "stdout",
     "output_type": "stream",
     "text": [
      "Epoch 93/100, Train Loss: 1.3066, Val Loss: 1.2185, Accuracy: 0.8819, Precision: 0.8860, Recall: 0.8819, F1 Score: 0.8748\n",
      "Validation loss decreased (1.232801 --> 1.218489).  Saving model ...\n"
     ]
    },
    {
     "name": "stderr",
     "output_type": "stream",
     "text": [
      "Training Epoch 94/100: 100%|██████████| 65/65 [06:16<00:00,  5.80s/batch]\n",
      "Validation Epoch 94/100: 100%|██████████| 9/9 [00:42<00:00,  4.70s/batch]\n"
     ]
    },
    {
     "name": "stdout",
     "output_type": "stream",
     "text": [
      "Epoch 94/100, Train Loss: 1.3117, Val Loss: 1.2050, Accuracy: 0.8824, Precision: 0.8871, Recall: 0.8824, F1 Score: 0.8750\n",
      "Validation loss decreased (1.218489 --> 1.205030).  Saving model ...\n"
     ]
    },
    {
     "name": "stderr",
     "output_type": "stream",
     "text": [
      "Training Epoch 95/100: 100%|██████████| 65/65 [06:50<00:00,  6.31s/batch]\n",
      "Validation Epoch 95/100: 100%|██████████| 9/9 [00:43<00:00,  4.80s/batch]\n"
     ]
    },
    {
     "name": "stdout",
     "output_type": "stream",
     "text": [
      "Epoch 95/100, Train Loss: 1.2983, Val Loss: 1.1917, Accuracy: 0.8829, Precision: 0.8868, Recall: 0.8829, F1 Score: 0.8758\n",
      "Validation loss decreased (1.205030 --> 1.191710).  Saving model ...\n"
     ]
    },
    {
     "name": "stderr",
     "output_type": "stream",
     "text": [
      "Training Epoch 96/100: 100%|██████████| 65/65 [06:53<00:00,  6.36s/batch]\n",
      "Validation Epoch 96/100: 100%|██████████| 9/9 [00:45<00:00,  5.05s/batch]\n"
     ]
    },
    {
     "name": "stdout",
     "output_type": "stream",
     "text": [
      "Epoch 96/100, Train Loss: 1.2914, Val Loss: 1.1782, Accuracy: 0.8829, Precision: 0.8866, Recall: 0.8829, F1 Score: 0.8758\n",
      "Validation loss decreased (1.191710 --> 1.178236).  Saving model ...\n"
     ]
    },
    {
     "name": "stderr",
     "output_type": "stream",
     "text": [
      "Training Epoch 97/100: 100%|██████████| 65/65 [06:13<00:00,  5.75s/batch]\n",
      "Validation Epoch 97/100: 100%|██████████| 9/9 [00:43<00:00,  4.80s/batch]\n"
     ]
    },
    {
     "name": "stdout",
     "output_type": "stream",
     "text": [
      "Epoch 97/100, Train Loss: 1.2732, Val Loss: 1.1648, Accuracy: 0.8844, Precision: 0.8884, Recall: 0.8844, F1 Score: 0.8775\n",
      "Validation loss decreased (1.178236 --> 1.164842).  Saving model ...\n"
     ]
    },
    {
     "name": "stderr",
     "output_type": "stream",
     "text": [
      "Training Epoch 98/100: 100%|██████████| 65/65 [06:17<00:00,  5.81s/batch]\n",
      "Validation Epoch 98/100: 100%|██████████| 9/9 [00:43<00:00,  4.82s/batch]\n"
     ]
    },
    {
     "name": "stdout",
     "output_type": "stream",
     "text": [
      "Epoch 98/100, Train Loss: 1.2600, Val Loss: 1.1519, Accuracy: 0.8834, Precision: 0.8870, Recall: 0.8834, F1 Score: 0.8760\n",
      "Validation loss decreased (1.164842 --> 1.151938).  Saving model ...\n"
     ]
    },
    {
     "name": "stderr",
     "output_type": "stream",
     "text": [
      "Training Epoch 99/100: 100%|██████████| 65/65 [05:57<00:00,  5.50s/batch]\n",
      "Validation Epoch 99/100: 100%|██████████| 9/9 [00:44<00:00,  4.96s/batch]\n"
     ]
    },
    {
     "name": "stdout",
     "output_type": "stream",
     "text": [
      "Epoch 99/100, Train Loss: 1.2524, Val Loss: 1.1396, Accuracy: 0.8844, Precision: 0.8881, Recall: 0.8844, F1 Score: 0.8777\n",
      "Validation loss decreased (1.151938 --> 1.139579).  Saving model ...\n"
     ]
    },
    {
     "name": "stderr",
     "output_type": "stream",
     "text": [
      "Training Epoch 100/100: 100%|██████████| 65/65 [06:31<00:00,  6.03s/batch]\n",
      "Validation Epoch 100/100: 100%|██████████| 9/9 [00:42<00:00,  4.75s/batch]\n"
     ]
    },
    {
     "name": "stdout",
     "output_type": "stream",
     "text": [
      "Epoch 100/100, Train Loss: 1.2302, Val Loss: 1.1277, Accuracy: 0.8858, Precision: 0.8897, Recall: 0.8858, F1 Score: 0.8791\n",
      "Validation loss decreased (1.139579 --> 1.127740).  Saving model ...\n"
     ]
    },
    {
     "name": "stderr",
     "output_type": "stream",
     "text": [
      "Testing: 100%|██████████| 9/9 [00:41<00:00,  4.65s/batch]"
     ]
    },
    {
     "name": "stdout",
     "output_type": "stream",
     "text": [
      "Test Loss: 1.1559, Accuracy: 0.8848, Precision: 0.8932, Recall: 0.8848, F1 Score: 0.8814\n"
     ]
    },
    {
     "name": "stderr",
     "output_type": "stream",
     "text": [
      "\n"
     ]
    }
   ],
   "source": [
    "# User-specified model\n",
    "# 736m 30.7s\n",
    "model_name = \"swin_small_patch4_window7_224\"  # Replace this with your desired model name\n",
    "do_transfer_learning(model_name=model_name)\n"
   ]
  },
  {
   "cell_type": "code",
   "execution_count": 8,
   "metadata": {},
   "outputs": [
    {
     "name": "stdout",
     "output_type": "stream",
     "text": [
      "Train dataset size: 16464\n",
      "Validation dataset size: 2058\n",
      "Test dataset size: 2058\n",
      "MPS device found.\n",
      "Folder already exists: results/transferlearning/stanford_dog/swin-tiny-patch4-window7-224\n",
      "Folder already exists: checkpoints/transferlearning/stanford_dog\n"
     ]
    },
    {
     "name": "stderr",
     "output_type": "stream",
     "text": [
      "Training Epoch 1/100: 100%|██████████| 65/65 [03:49<00:00,  3.53s/batch]\n",
      "Validation Epoch 1/100: 100%|██████████| 9/9 [00:27<00:00,  3.10s/batch]\n"
     ]
    },
    {
     "name": "stdout",
     "output_type": "stream",
     "text": [
      "Epoch 1/100, Train Loss: 4.8078, Val Loss: 4.7591, Accuracy: 0.0155, Precision: 0.0072, Recall: 0.0155, F1 Score: 0.0074\n",
      "Validation loss decreased (inf --> 4.759059).  Saving model ...\n"
     ]
    },
    {
     "name": "stderr",
     "output_type": "stream",
     "text": [
      "Training Epoch 2/100: 100%|██████████| 65/65 [03:57<00:00,  3.65s/batch]\n",
      "Validation Epoch 2/100: 100%|██████████| 9/9 [00:32<00:00,  3.59s/batch]\n"
     ]
    },
    {
     "name": "stdout",
     "output_type": "stream",
     "text": [
      "Epoch 2/100, Train Loss: 4.7403, Val Loss: 4.6955, Accuracy: 0.0204, Precision: 0.0198, Recall: 0.0204, F1 Score: 0.0150\n",
      "Validation loss decreased (4.759059 --> 4.695478).  Saving model ...\n"
     ]
    },
    {
     "name": "stderr",
     "output_type": "stream",
     "text": [
      "Training Epoch 3/100: 100%|██████████| 65/65 [03:58<00:00,  3.67s/batch]\n",
      "Validation Epoch 3/100: 100%|██████████| 9/9 [00:28<00:00,  3.12s/batch]\n"
     ]
    },
    {
     "name": "stdout",
     "output_type": "stream",
     "text": [
      "Epoch 3/100, Train Loss: 4.6779, Val Loss: 4.6371, Accuracy: 0.0505, Precision: 0.0623, Recall: 0.0505, F1 Score: 0.0391\n",
      "Validation loss decreased (4.695478 --> 4.637091).  Saving model ...\n"
     ]
    },
    {
     "name": "stderr",
     "output_type": "stream",
     "text": [
      "Training Epoch 4/100: 100%|██████████| 65/65 [04:06<00:00,  3.79s/batch]\n",
      "Validation Epoch 4/100: 100%|██████████| 9/9 [00:29<00:00,  3.27s/batch]\n"
     ]
    },
    {
     "name": "stdout",
     "output_type": "stream",
     "text": [
      "Epoch 4/100, Train Loss: 4.6187, Val Loss: 4.5802, Accuracy: 0.0889, Precision: 0.1078, Recall: 0.0889, F1 Score: 0.0696\n",
      "Validation loss decreased (4.637091 --> 4.580225).  Saving model ...\n"
     ]
    },
    {
     "name": "stderr",
     "output_type": "stream",
     "text": [
      "Training Epoch 5/100: 100%|██████████| 65/65 [04:15<00:00,  3.92s/batch]\n",
      "Validation Epoch 5/100: 100%|██████████| 9/9 [00:31<00:00,  3.49s/batch]\n"
     ]
    },
    {
     "name": "stdout",
     "output_type": "stream",
     "text": [
      "Epoch 5/100, Train Loss: 4.5615, Val Loss: 4.5254, Accuracy: 0.1467, Precision: 0.1421, Recall: 0.1467, F1 Score: 0.1163\n",
      "Validation loss decreased (4.580225 --> 4.525421).  Saving model ...\n"
     ]
    },
    {
     "name": "stderr",
     "output_type": "stream",
     "text": [
      "Training Epoch 6/100: 100%|██████████| 65/65 [03:56<00:00,  3.63s/batch]\n",
      "Validation Epoch 6/100: 100%|██████████| 9/9 [00:28<00:00,  3.18s/batch]\n"
     ]
    },
    {
     "name": "stdout",
     "output_type": "stream",
     "text": [
      "Epoch 6/100, Train Loss: 4.5041, Val Loss: 4.4706, Accuracy: 0.1827, Precision: 0.1813, Recall: 0.1827, F1 Score: 0.1474\n",
      "Validation loss decreased (4.525421 --> 4.470618).  Saving model ...\n"
     ]
    },
    {
     "name": "stderr",
     "output_type": "stream",
     "text": [
      "Training Epoch 7/100: 100%|██████████| 65/65 [04:16<00:00,  3.95s/batch]\n",
      "Validation Epoch 7/100: 100%|██████████| 9/9 [00:30<00:00,  3.36s/batch]\n"
     ]
    },
    {
     "name": "stdout",
     "output_type": "stream",
     "text": [
      "Epoch 7/100, Train Loss: 4.4508, Val Loss: 4.4165, Accuracy: 0.2143, Precision: 0.2107, Recall: 0.2143, F1 Score: 0.1740\n",
      "Validation loss decreased (4.470618 --> 4.416499).  Saving model ...\n"
     ]
    },
    {
     "name": "stderr",
     "output_type": "stream",
     "text": [
      "Training Epoch 8/100: 100%|██████████| 65/65 [04:02<00:00,  3.72s/batch]\n",
      "Validation Epoch 8/100: 100%|██████████| 9/9 [00:27<00:00,  3.08s/batch]\n"
     ]
    },
    {
     "name": "stdout",
     "output_type": "stream",
     "text": [
      "Epoch 8/100, Train Loss: 4.3986, Val Loss: 4.3637, Accuracy: 0.2532, Precision: 0.2886, Recall: 0.2532, F1 Score: 0.2095\n",
      "Validation loss decreased (4.416499 --> 4.363651).  Saving model ...\n"
     ]
    },
    {
     "name": "stderr",
     "output_type": "stream",
     "text": [
      "Training Epoch 9/100: 100%|██████████| 65/65 [03:46<00:00,  3.49s/batch]\n",
      "Validation Epoch 9/100: 100%|██████████| 9/9 [00:28<00:00,  3.13s/batch]\n"
     ]
    },
    {
     "name": "stdout",
     "output_type": "stream",
     "text": [
      "Epoch 9/100, Train Loss: 4.3453, Val Loss: 4.3109, Accuracy: 0.2838, Precision: 0.3227, Recall: 0.2838, F1 Score: 0.2353\n",
      "Validation loss decreased (4.363651 --> 4.310875).  Saving model ...\n"
     ]
    },
    {
     "name": "stderr",
     "output_type": "stream",
     "text": [
      "Training Epoch 10/100: 100%|██████████| 65/65 [03:43<00:00,  3.44s/batch]\n",
      "Validation Epoch 10/100: 100%|██████████| 9/9 [00:28<00:00,  3.16s/batch]\n"
     ]
    },
    {
     "name": "stdout",
     "output_type": "stream",
     "text": [
      "Epoch 10/100, Train Loss: 4.2941, Val Loss: 4.2594, Accuracy: 0.3095, Precision: 0.3662, Recall: 0.3095, F1 Score: 0.2632\n",
      "Validation loss decreased (4.310875 --> 4.259363).  Saving model ...\n"
     ]
    },
    {
     "name": "stderr",
     "output_type": "stream",
     "text": [
      "Training Epoch 11/100: 100%|██████████| 65/65 [03:44<00:00,  3.45s/batch]\n",
      "Validation Epoch 11/100: 100%|██████████| 9/9 [00:28<00:00,  3.17s/batch]\n"
     ]
    },
    {
     "name": "stdout",
     "output_type": "stream",
     "text": [
      "Epoch 11/100, Train Loss: 4.2456, Val Loss: 4.2081, Accuracy: 0.3401, Precision: 0.3907, Recall: 0.3401, F1 Score: 0.2923\n",
      "Validation loss decreased (4.259363 --> 4.208130).  Saving model ...\n"
     ]
    },
    {
     "name": "stderr",
     "output_type": "stream",
     "text": [
      "Training Epoch 12/100: 100%|██████████| 65/65 [03:44<00:00,  3.46s/batch]\n",
      "Validation Epoch 12/100: 100%|██████████| 9/9 [00:27<00:00,  3.05s/batch]\n"
     ]
    },
    {
     "name": "stdout",
     "output_type": "stream",
     "text": [
      "Epoch 12/100, Train Loss: 4.1947, Val Loss: 4.1572, Accuracy: 0.3567, Precision: 0.3998, Recall: 0.3567, F1 Score: 0.3092\n",
      "Validation loss decreased (4.208130 --> 4.157184).  Saving model ...\n"
     ]
    },
    {
     "name": "stderr",
     "output_type": "stream",
     "text": [
      "Training Epoch 13/100: 100%|██████████| 65/65 [03:41<00:00,  3.41s/batch]\n",
      "Validation Epoch 13/100: 100%|██████████| 9/9 [00:28<00:00,  3.14s/batch]\n"
     ]
    },
    {
     "name": "stdout",
     "output_type": "stream",
     "text": [
      "Epoch 13/100, Train Loss: 4.1416, Val Loss: 4.1074, Accuracy: 0.3829, Precision: 0.4193, Recall: 0.3829, F1 Score: 0.3333\n",
      "Validation loss decreased (4.157184 --> 4.107356).  Saving model ...\n"
     ]
    },
    {
     "name": "stderr",
     "output_type": "stream",
     "text": [
      "Training Epoch 14/100: 100%|██████████| 65/65 [03:46<00:00,  3.48s/batch]\n",
      "Validation Epoch 14/100: 100%|██████████| 9/9 [00:28<00:00,  3.17s/batch]\n"
     ]
    },
    {
     "name": "stdout",
     "output_type": "stream",
     "text": [
      "Epoch 14/100, Train Loss: 4.0899, Val Loss: 4.0581, Accuracy: 0.3989, Precision: 0.4326, Recall: 0.3989, F1 Score: 0.3494\n",
      "Validation loss decreased (4.107356 --> 4.058131).  Saving model ...\n"
     ]
    },
    {
     "name": "stderr",
     "output_type": "stream",
     "text": [
      "Training Epoch 15/100: 100%|██████████| 65/65 [03:42<00:00,  3.42s/batch]\n",
      "Validation Epoch 15/100: 100%|██████████| 9/9 [00:28<00:00,  3.13s/batch]\n"
     ]
    },
    {
     "name": "stdout",
     "output_type": "stream",
     "text": [
      "Epoch 15/100, Train Loss: 4.0463, Val Loss: 4.0087, Accuracy: 0.4140, Precision: 0.4430, Recall: 0.4140, F1 Score: 0.3597\n",
      "Validation loss decreased (4.058131 --> 4.008652).  Saving model ...\n"
     ]
    },
    {
     "name": "stderr",
     "output_type": "stream",
     "text": [
      "Training Epoch 16/100: 100%|██████████| 65/65 [03:46<00:00,  3.49s/batch]\n",
      "Validation Epoch 16/100: 100%|██████████| 9/9 [00:28<00:00,  3.17s/batch]\n"
     ]
    },
    {
     "name": "stdout",
     "output_type": "stream",
     "text": [
      "Epoch 16/100, Train Loss: 3.9962, Val Loss: 3.9602, Accuracy: 0.4300, Precision: 0.4641, Recall: 0.4300, F1 Score: 0.3775\n",
      "Validation loss decreased (4.008652 --> 3.960223).  Saving model ...\n"
     ]
    },
    {
     "name": "stderr",
     "output_type": "stream",
     "text": [
      "Training Epoch 17/100: 100%|██████████| 65/65 [03:50<00:00,  3.55s/batch]\n",
      "Validation Epoch 17/100: 100%|██████████| 9/9 [00:28<00:00,  3.13s/batch]\n"
     ]
    },
    {
     "name": "stdout",
     "output_type": "stream",
     "text": [
      "Epoch 17/100, Train Loss: 3.9497, Val Loss: 3.9137, Accuracy: 0.4441, Precision: 0.4776, Recall: 0.4441, F1 Score: 0.3908\n",
      "Validation loss decreased (3.960223 --> 3.913743).  Saving model ...\n"
     ]
    },
    {
     "name": "stderr",
     "output_type": "stream",
     "text": [
      "Training Epoch 18/100: 100%|██████████| 65/65 [03:40<00:00,  3.40s/batch]\n",
      "Validation Epoch 18/100: 100%|██████████| 9/9 [00:27<00:00,  3.03s/batch]\n"
     ]
    },
    {
     "name": "stdout",
     "output_type": "stream",
     "text": [
      "Epoch 18/100, Train Loss: 3.9058, Val Loss: 3.8668, Accuracy: 0.4538, Precision: 0.4836, Recall: 0.4538, F1 Score: 0.4003\n",
      "Validation loss decreased (3.913743 --> 3.866760).  Saving model ...\n"
     ]
    },
    {
     "name": "stderr",
     "output_type": "stream",
     "text": [
      "Training Epoch 19/100: 100%|██████████| 65/65 [03:45<00:00,  3.47s/batch]\n",
      "Validation Epoch 19/100: 100%|██████████| 9/9 [00:27<00:00,  3.08s/batch]\n"
     ]
    },
    {
     "name": "stdout",
     "output_type": "stream",
     "text": [
      "Epoch 19/100, Train Loss: 3.8550, Val Loss: 3.8207, Accuracy: 0.4606, Precision: 0.4866, Recall: 0.4606, F1 Score: 0.4087\n",
      "Validation loss decreased (3.866760 --> 3.820733).  Saving model ...\n"
     ]
    },
    {
     "name": "stderr",
     "output_type": "stream",
     "text": [
      "Training Epoch 20/100: 100%|██████████| 65/65 [03:47<00:00,  3.50s/batch]\n",
      "Validation Epoch 20/100: 100%|██████████| 9/9 [00:27<00:00,  3.06s/batch]\n"
     ]
    },
    {
     "name": "stdout",
     "output_type": "stream",
     "text": [
      "Epoch 20/100, Train Loss: 3.8125, Val Loss: 3.7749, Accuracy: 0.4704, Precision: 0.5094, Recall: 0.4704, F1 Score: 0.4198\n",
      "Validation loss decreased (3.820733 --> 3.774862).  Saving model ...\n"
     ]
    },
    {
     "name": "stderr",
     "output_type": "stream",
     "text": [
      "Training Epoch 21/100: 100%|██████████| 65/65 [03:47<00:00,  3.49s/batch]\n",
      "Validation Epoch 21/100: 100%|██████████| 9/9 [00:28<00:00,  3.14s/batch]\n"
     ]
    },
    {
     "name": "stdout",
     "output_type": "stream",
     "text": [
      "Epoch 21/100, Train Loss: 3.7691, Val Loss: 3.7296, Accuracy: 0.4820, Precision: 0.5120, Recall: 0.4820, F1 Score: 0.4334\n",
      "Validation loss decreased (3.774862 --> 3.729574).  Saving model ...\n"
     ]
    },
    {
     "name": "stderr",
     "output_type": "stream",
     "text": [
      "Training Epoch 22/100: 100%|██████████| 65/65 [03:45<00:00,  3.47s/batch]\n",
      "Validation Epoch 22/100: 100%|██████████| 9/9 [00:28<00:00,  3.13s/batch]\n"
     ]
    },
    {
     "name": "stdout",
     "output_type": "stream",
     "text": [
      "Epoch 22/100, Train Loss: 3.7200, Val Loss: 3.6851, Accuracy: 0.4922, Precision: 0.5292, Recall: 0.4922, F1 Score: 0.4458\n",
      "Validation loss decreased (3.729574 --> 3.685105).  Saving model ...\n"
     ]
    },
    {
     "name": "stderr",
     "output_type": "stream",
     "text": [
      "Training Epoch 23/100: 100%|██████████| 65/65 [03:47<00:00,  3.50s/batch]\n",
      "Validation Epoch 23/100: 100%|██████████| 9/9 [00:28<00:00,  3.14s/batch]\n"
     ]
    },
    {
     "name": "stdout",
     "output_type": "stream",
     "text": [
      "Epoch 23/100, Train Loss: 3.6822, Val Loss: 3.6424, Accuracy: 0.4985, Precision: 0.5324, Recall: 0.4985, F1 Score: 0.4517\n",
      "Validation loss decreased (3.685105 --> 3.642383).  Saving model ...\n"
     ]
    },
    {
     "name": "stderr",
     "output_type": "stream",
     "text": [
      "Training Epoch 24/100: 100%|██████████| 65/65 [03:45<00:00,  3.47s/batch]\n",
      "Validation Epoch 24/100: 100%|██████████| 9/9 [00:27<00:00,  3.03s/batch]\n"
     ]
    },
    {
     "name": "stdout",
     "output_type": "stream",
     "text": [
      "Epoch 24/100, Train Loss: 3.6331, Val Loss: 3.5991, Accuracy: 0.5058, Precision: 0.5453, Recall: 0.5058, F1 Score: 0.4591\n",
      "Validation loss decreased (3.642383 --> 3.599064).  Saving model ...\n"
     ]
    },
    {
     "name": "stderr",
     "output_type": "stream",
     "text": [
      "Training Epoch 25/100: 100%|██████████| 65/65 [03:46<00:00,  3.48s/batch]\n",
      "Validation Epoch 25/100: 100%|██████████| 9/9 [00:28<00:00,  3.13s/batch]\n"
     ]
    },
    {
     "name": "stdout",
     "output_type": "stream",
     "text": [
      "Epoch 25/100, Train Loss: 3.6004, Val Loss: 3.5574, Accuracy: 0.5180, Precision: 0.5522, Recall: 0.5180, F1 Score: 0.4756\n",
      "Validation loss decreased (3.599064 --> 3.557388).  Saving model ...\n"
     ]
    },
    {
     "name": "stderr",
     "output_type": "stream",
     "text": [
      "Training Epoch 26/100: 100%|██████████| 65/65 [03:45<00:00,  3.46s/batch]\n",
      "Validation Epoch 26/100: 100%|██████████| 9/9 [00:27<00:00,  3.10s/batch]\n"
     ]
    },
    {
     "name": "stdout",
     "output_type": "stream",
     "text": [
      "Epoch 26/100, Train Loss: 3.5510, Val Loss: 3.5155, Accuracy: 0.5243, Precision: 0.5687, Recall: 0.5243, F1 Score: 0.4811\n",
      "Validation loss decreased (3.557388 --> 3.515509).  Saving model ...\n"
     ]
    },
    {
     "name": "stderr",
     "output_type": "stream",
     "text": [
      "Training Epoch 27/100: 100%|██████████| 65/65 [03:48<00:00,  3.51s/batch]\n",
      "Validation Epoch 27/100: 100%|██████████| 9/9 [00:28<00:00,  3.17s/batch]\n"
     ]
    },
    {
     "name": "stdout",
     "output_type": "stream",
     "text": [
      "Epoch 27/100, Train Loss: 3.5215, Val Loss: 3.4738, Accuracy: 0.5335, Precision: 0.5755, Recall: 0.5335, F1 Score: 0.4925\n",
      "Validation loss decreased (3.515509 --> 3.473827).  Saving model ...\n"
     ]
    },
    {
     "name": "stderr",
     "output_type": "stream",
     "text": [
      "Training Epoch 28/100: 100%|██████████| 65/65 [03:46<00:00,  3.49s/batch]\n",
      "Validation Epoch 28/100: 100%|██████████| 9/9 [00:27<00:00,  3.11s/batch]\n"
     ]
    },
    {
     "name": "stdout",
     "output_type": "stream",
     "text": [
      "Epoch 28/100, Train Loss: 3.4765, Val Loss: 3.4338, Accuracy: 0.5423, Precision: 0.5782, Recall: 0.5423, F1 Score: 0.5011\n",
      "Validation loss decreased (3.473827 --> 3.433801).  Saving model ...\n"
     ]
    },
    {
     "name": "stderr",
     "output_type": "stream",
     "text": [
      "Training Epoch 29/100: 100%|██████████| 65/65 [03:47<00:00,  3.50s/batch]\n",
      "Validation Epoch 29/100: 100%|██████████| 9/9 [00:28<00:00,  3.14s/batch]\n"
     ]
    },
    {
     "name": "stdout",
     "output_type": "stream",
     "text": [
      "Epoch 29/100, Train Loss: 3.4346, Val Loss: 3.3943, Accuracy: 0.5457, Precision: 0.5944, Recall: 0.5457, F1 Score: 0.5046\n",
      "Validation loss decreased (3.433801 --> 3.394303).  Saving model ...\n"
     ]
    },
    {
     "name": "stderr",
     "output_type": "stream",
     "text": [
      "Training Epoch 30/100: 100%|██████████| 65/65 [04:08<00:00,  3.83s/batch]\n",
      "Validation Epoch 30/100: 100%|██████████| 9/9 [00:33<00:00,  3.69s/batch]\n"
     ]
    },
    {
     "name": "stdout",
     "output_type": "stream",
     "text": [
      "Epoch 30/100, Train Loss: 3.3955, Val Loss: 3.3549, Accuracy: 0.5559, Precision: 0.6119, Recall: 0.5559, F1 Score: 0.5172\n",
      "Validation loss decreased (3.394303 --> 3.354943).  Saving model ...\n"
     ]
    },
    {
     "name": "stderr",
     "output_type": "stream",
     "text": [
      "Training Epoch 31/100: 100%|██████████| 65/65 [03:57<00:00,  3.65s/batch]\n",
      "Validation Epoch 31/100: 100%|██████████| 9/9 [00:28<00:00,  3.22s/batch]\n"
     ]
    },
    {
     "name": "stdout",
     "output_type": "stream",
     "text": [
      "Epoch 31/100, Train Loss: 3.3601, Val Loss: 3.3169, Accuracy: 0.5544, Precision: 0.5925, Recall: 0.5544, F1 Score: 0.5142\n",
      "Validation loss decreased (3.354943 --> 3.316910).  Saving model ...\n"
     ]
    },
    {
     "name": "stderr",
     "output_type": "stream",
     "text": [
      "Training Epoch 32/100: 100%|██████████| 65/65 [04:21<00:00,  4.02s/batch]\n",
      "Validation Epoch 32/100: 100%|██████████| 9/9 [00:29<00:00,  3.22s/batch]\n"
     ]
    },
    {
     "name": "stdout",
     "output_type": "stream",
     "text": [
      "Epoch 32/100, Train Loss: 3.3168, Val Loss: 3.2781, Accuracy: 0.5607, Precision: 0.6157, Recall: 0.5607, F1 Score: 0.5236\n",
      "Validation loss decreased (3.316910 --> 3.278129).  Saving model ...\n"
     ]
    },
    {
     "name": "stderr",
     "output_type": "stream",
     "text": [
      "Training Epoch 33/100: 100%|██████████| 65/65 [04:06<00:00,  3.80s/batch]\n",
      "Validation Epoch 33/100: 100%|██████████| 9/9 [00:29<00:00,  3.29s/batch]\n"
     ]
    },
    {
     "name": "stdout",
     "output_type": "stream",
     "text": [
      "Epoch 33/100, Train Loss: 3.2869, Val Loss: 3.2414, Accuracy: 0.5593, Precision: 0.6055, Recall: 0.5593, F1 Score: 0.5231\n",
      "Validation loss decreased (3.278129 --> 3.241356).  Saving model ...\n"
     ]
    },
    {
     "name": "stderr",
     "output_type": "stream",
     "text": [
      "Training Epoch 34/100: 100%|██████████| 65/65 [04:08<00:00,  3.83s/batch]\n",
      "Validation Epoch 34/100: 100%|██████████| 9/9 [00:28<00:00,  3.13s/batch]\n"
     ]
    },
    {
     "name": "stdout",
     "output_type": "stream",
     "text": [
      "Epoch 34/100, Train Loss: 3.2488, Val Loss: 3.2050, Accuracy: 0.5680, Precision: 0.6142, Recall: 0.5680, F1 Score: 0.5320\n",
      "Validation loss decreased (3.241356 --> 3.205012).  Saving model ...\n"
     ]
    },
    {
     "name": "stderr",
     "output_type": "stream",
     "text": [
      "Training Epoch 35/100: 100%|██████████| 65/65 [04:04<00:00,  3.76s/batch]\n",
      "Validation Epoch 35/100: 100%|██████████| 9/9 [00:29<00:00,  3.23s/batch]\n"
     ]
    },
    {
     "name": "stdout",
     "output_type": "stream",
     "text": [
      "Epoch 35/100, Train Loss: 3.2131, Val Loss: 3.1688, Accuracy: 0.5709, Precision: 0.6172, Recall: 0.5709, F1 Score: 0.5360\n",
      "Validation loss decreased (3.205012 --> 3.168760).  Saving model ...\n"
     ]
    },
    {
     "name": "stderr",
     "output_type": "stream",
     "text": [
      "Training Epoch 36/100: 100%|██████████| 65/65 [04:05<00:00,  3.77s/batch]\n",
      "Validation Epoch 36/100: 100%|██████████| 9/9 [00:31<00:00,  3.45s/batch]\n"
     ]
    },
    {
     "name": "stdout",
     "output_type": "stream",
     "text": [
      "Epoch 36/100, Train Loss: 3.1727, Val Loss: 3.1340, Accuracy: 0.5792, Precision: 0.6203, Recall: 0.5792, F1 Score: 0.5462\n",
      "Validation loss decreased (3.168760 --> 3.134004).  Saving model ...\n"
     ]
    },
    {
     "name": "stderr",
     "output_type": "stream",
     "text": [
      "Training Epoch 37/100: 100%|██████████| 65/65 [03:51<00:00,  3.56s/batch]\n",
      "Validation Epoch 37/100: 100%|██████████| 9/9 [00:28<00:00,  3.14s/batch]\n"
     ]
    },
    {
     "name": "stdout",
     "output_type": "stream",
     "text": [
      "Epoch 37/100, Train Loss: 3.1454, Val Loss: 3.0997, Accuracy: 0.5841, Precision: 0.6251, Recall: 0.5841, F1 Score: 0.5502\n",
      "Validation loss decreased (3.134004 --> 3.099658).  Saving model ...\n"
     ]
    },
    {
     "name": "stderr",
     "output_type": "stream",
     "text": [
      "Training Epoch 38/100: 100%|██████████| 65/65 [03:36<00:00,  3.33s/batch]\n",
      "Validation Epoch 38/100: 100%|██████████| 9/9 [00:26<00:00,  2.96s/batch]\n"
     ]
    },
    {
     "name": "stdout",
     "output_type": "stream",
     "text": [
      "Epoch 38/100, Train Loss: 3.1045, Val Loss: 3.0656, Accuracy: 0.5845, Precision: 0.6247, Recall: 0.5845, F1 Score: 0.5504\n",
      "Validation loss decreased (3.099658 --> 3.065590).  Saving model ...\n"
     ]
    },
    {
     "name": "stderr",
     "output_type": "stream",
     "text": [
      "Training Epoch 39/100: 100%|██████████| 65/65 [03:36<00:00,  3.34s/batch]\n",
      "Validation Epoch 39/100: 100%|██████████| 9/9 [00:27<00:00,  3.07s/batch]\n"
     ]
    },
    {
     "name": "stdout",
     "output_type": "stream",
     "text": [
      "Epoch 39/100, Train Loss: 3.0754, Val Loss: 3.0315, Accuracy: 0.5909, Precision: 0.6247, Recall: 0.5909, F1 Score: 0.5585\n",
      "Validation loss decreased (3.065590 --> 3.031485).  Saving model ...\n"
     ]
    },
    {
     "name": "stderr",
     "output_type": "stream",
     "text": [
      "Training Epoch 40/100: 100%|██████████| 65/65 [03:51<00:00,  3.56s/batch]\n",
      "Validation Epoch 40/100: 100%|██████████| 9/9 [00:32<00:00,  3.57s/batch]\n"
     ]
    },
    {
     "name": "stdout",
     "output_type": "stream",
     "text": [
      "Epoch 40/100, Train Loss: 3.0529, Val Loss: 2.9984, Accuracy: 0.5938, Precision: 0.6370, Recall: 0.5938, F1 Score: 0.5632\n",
      "Validation loss decreased (3.031485 --> 2.998411).  Saving model ...\n"
     ]
    },
    {
     "name": "stderr",
     "output_type": "stream",
     "text": [
      "Training Epoch 41/100: 100%|██████████| 65/65 [04:03<00:00,  3.74s/batch]\n",
      "Validation Epoch 41/100: 100%|██████████| 9/9 [00:26<00:00,  2.98s/batch]\n"
     ]
    },
    {
     "name": "stdout",
     "output_type": "stream",
     "text": [
      "Epoch 41/100, Train Loss: 3.0156, Val Loss: 2.9666, Accuracy: 0.6040, Precision: 0.6428, Recall: 0.6040, F1 Score: 0.5758\n",
      "Validation loss decreased (2.998411 --> 2.966618).  Saving model ...\n"
     ]
    },
    {
     "name": "stderr",
     "output_type": "stream",
     "text": [
      "Training Epoch 42/100: 100%|██████████| 65/65 [03:54<00:00,  3.61s/batch]\n",
      "Validation Epoch 42/100: 100%|██████████| 9/9 [00:27<00:00,  3.01s/batch]\n"
     ]
    },
    {
     "name": "stdout",
     "output_type": "stream",
     "text": [
      "Epoch 42/100, Train Loss: 2.9893, Val Loss: 2.9352, Accuracy: 0.6069, Precision: 0.6399, Recall: 0.6069, F1 Score: 0.5770\n",
      "Validation loss decreased (2.966618 --> 2.935205).  Saving model ...\n"
     ]
    },
    {
     "name": "stderr",
     "output_type": "stream",
     "text": [
      "Training Epoch 43/100: 100%|██████████| 65/65 [03:35<00:00,  3.31s/batch]\n",
      "Validation Epoch 43/100: 100%|██████████| 9/9 [00:26<00:00,  2.93s/batch]\n"
     ]
    },
    {
     "name": "stdout",
     "output_type": "stream",
     "text": [
      "Epoch 43/100, Train Loss: 2.9538, Val Loss: 2.9031, Accuracy: 0.6122, Precision: 0.6553, Recall: 0.6122, F1 Score: 0.5833\n",
      "Validation loss decreased (2.935205 --> 2.903056).  Saving model ...\n"
     ]
    },
    {
     "name": "stderr",
     "output_type": "stream",
     "text": [
      "Training Epoch 44/100: 100%|██████████| 65/65 [03:33<00:00,  3.28s/batch]\n",
      "Validation Epoch 44/100: 100%|██████████| 9/9 [00:26<00:00,  2.93s/batch]\n"
     ]
    },
    {
     "name": "stdout",
     "output_type": "stream",
     "text": [
      "Epoch 44/100, Train Loss: 2.9194, Val Loss: 2.8726, Accuracy: 0.6147, Precision: 0.6560, Recall: 0.6147, F1 Score: 0.5868\n",
      "Validation loss decreased (2.903056 --> 2.872581).  Saving model ...\n"
     ]
    },
    {
     "name": "stderr",
     "output_type": "stream",
     "text": [
      "Training Epoch 45/100: 100%|██████████| 65/65 [03:35<00:00,  3.32s/batch]\n",
      "Validation Epoch 45/100: 100%|██████████| 9/9 [00:26<00:00,  3.00s/batch]\n"
     ]
    },
    {
     "name": "stdout",
     "output_type": "stream",
     "text": [
      "Epoch 45/100, Train Loss: 2.9001, Val Loss: 2.8430, Accuracy: 0.6195, Precision: 0.6564, Recall: 0.6195, F1 Score: 0.5917\n",
      "Validation loss decreased (2.872581 --> 2.842957).  Saving model ...\n"
     ]
    },
    {
     "name": "stderr",
     "output_type": "stream",
     "text": [
      "Training Epoch 46/100: 100%|██████████| 65/65 [03:40<00:00,  3.39s/batch]\n",
      "Validation Epoch 46/100: 100%|██████████| 9/9 [00:27<00:00,  3.09s/batch]\n"
     ]
    },
    {
     "name": "stdout",
     "output_type": "stream",
     "text": [
      "Epoch 46/100, Train Loss: 2.8729, Val Loss: 2.8137, Accuracy: 0.6244, Precision: 0.6602, Recall: 0.6244, F1 Score: 0.5967\n",
      "Validation loss decreased (2.842957 --> 2.813696).  Saving model ...\n"
     ]
    },
    {
     "name": "stderr",
     "output_type": "stream",
     "text": [
      "Training Epoch 47/100: 100%|██████████| 65/65 [03:41<00:00,  3.41s/batch]\n",
      "Validation Epoch 47/100: 100%|██████████| 9/9 [00:27<00:00,  3.05s/batch]\n"
     ]
    },
    {
     "name": "stdout",
     "output_type": "stream",
     "text": [
      "Epoch 47/100, Train Loss: 2.8390, Val Loss: 2.7849, Accuracy: 0.6302, Precision: 0.6666, Recall: 0.6302, F1 Score: 0.6028\n",
      "Validation loss decreased (2.813696 --> 2.784874).  Saving model ...\n"
     ]
    },
    {
     "name": "stderr",
     "output_type": "stream",
     "text": [
      "Training Epoch 48/100: 100%|██████████| 65/65 [03:41<00:00,  3.40s/batch]\n",
      "Validation Epoch 48/100: 100%|██████████| 9/9 [00:28<00:00,  3.17s/batch]\n"
     ]
    },
    {
     "name": "stdout",
     "output_type": "stream",
     "text": [
      "Epoch 48/100, Train Loss: 2.8040, Val Loss: 2.7561, Accuracy: 0.6322, Precision: 0.6711, Recall: 0.6322, F1 Score: 0.6063\n",
      "Validation loss decreased (2.784874 --> 2.756100).  Saving model ...\n"
     ]
    },
    {
     "name": "stderr",
     "output_type": "stream",
     "text": [
      "Training Epoch 49/100: 100%|██████████| 65/65 [03:46<00:00,  3.48s/batch]\n",
      "Validation Epoch 49/100: 100%|██████████| 9/9 [00:29<00:00,  3.24s/batch]\n"
     ]
    },
    {
     "name": "stdout",
     "output_type": "stream",
     "text": [
      "Epoch 49/100, Train Loss: 2.7881, Val Loss: 2.7287, Accuracy: 0.6312, Precision: 0.6722, Recall: 0.6312, F1 Score: 0.6051\n",
      "Validation loss decreased (2.756100 --> 2.728683).  Saving model ...\n"
     ]
    },
    {
     "name": "stderr",
     "output_type": "stream",
     "text": [
      "Training Epoch 50/100: 100%|██████████| 65/65 [03:44<00:00,  3.46s/batch]\n",
      "Validation Epoch 50/100: 100%|██████████| 9/9 [00:26<00:00,  2.99s/batch]\n"
     ]
    },
    {
     "name": "stdout",
     "output_type": "stream",
     "text": [
      "Epoch 50/100, Train Loss: 2.7611, Val Loss: 2.7020, Accuracy: 0.6346, Precision: 0.6718, Recall: 0.6346, F1 Score: 0.6096\n",
      "Validation loss decreased (2.728683 --> 2.702006).  Saving model ...\n"
     ]
    },
    {
     "name": "stderr",
     "output_type": "stream",
     "text": [
      "Training Epoch 51/100: 100%|██████████| 65/65 [03:45<00:00,  3.47s/batch]\n",
      "Validation Epoch 51/100: 100%|██████████| 9/9 [00:27<00:00,  3.09s/batch]\n"
     ]
    },
    {
     "name": "stdout",
     "output_type": "stream",
     "text": [
      "Epoch 51/100, Train Loss: 2.7434, Val Loss: 2.6746, Accuracy: 0.6351, Precision: 0.6732, Recall: 0.6351, F1 Score: 0.6098\n",
      "Validation loss decreased (2.702006 --> 2.674576).  Saving model ...\n"
     ]
    },
    {
     "name": "stderr",
     "output_type": "stream",
     "text": [
      "Training Epoch 52/100: 100%|██████████| 65/65 [03:46<00:00,  3.49s/batch]\n",
      "Validation Epoch 52/100: 100%|██████████| 9/9 [00:28<00:00,  3.20s/batch]\n"
     ]
    },
    {
     "name": "stdout",
     "output_type": "stream",
     "text": [
      "Epoch 52/100, Train Loss: 2.7150, Val Loss: 2.6490, Accuracy: 0.6399, Precision: 0.6742, Recall: 0.6399, F1 Score: 0.6157\n",
      "Validation loss decreased (2.674576 --> 2.649013).  Saving model ...\n"
     ]
    },
    {
     "name": "stderr",
     "output_type": "stream",
     "text": [
      "Training Epoch 53/100: 100%|██████████| 65/65 [03:42<00:00,  3.43s/batch]\n",
      "Validation Epoch 53/100: 100%|██████████| 9/9 [00:27<00:00,  3.01s/batch]\n"
     ]
    },
    {
     "name": "stdout",
     "output_type": "stream",
     "text": [
      "Epoch 53/100, Train Loss: 2.6793, Val Loss: 2.6234, Accuracy: 0.6472, Precision: 0.6855, Recall: 0.6472, F1 Score: 0.6246\n",
      "Validation loss decreased (2.649013 --> 2.623403).  Saving model ...\n"
     ]
    },
    {
     "name": "stderr",
     "output_type": "stream",
     "text": [
      "Training Epoch 54/100: 100%|██████████| 65/65 [03:44<00:00,  3.45s/batch]\n",
      "Validation Epoch 54/100: 100%|██████████| 9/9 [00:28<00:00,  3.19s/batch]\n"
     ]
    },
    {
     "name": "stdout",
     "output_type": "stream",
     "text": [
      "Epoch 54/100, Train Loss: 2.6563, Val Loss: 2.5972, Accuracy: 0.6458, Precision: 0.6780, Recall: 0.6458, F1 Score: 0.6233\n",
      "Validation loss decreased (2.623403 --> 2.597196).  Saving model ...\n"
     ]
    },
    {
     "name": "stderr",
     "output_type": "stream",
     "text": [
      "Training Epoch 55/100: 100%|██████████| 65/65 [03:47<00:00,  3.50s/batch]\n",
      "Validation Epoch 55/100: 100%|██████████| 9/9 [00:29<00:00,  3.25s/batch]\n"
     ]
    },
    {
     "name": "stdout",
     "output_type": "stream",
     "text": [
      "Epoch 55/100, Train Loss: 2.6378, Val Loss: 2.5728, Accuracy: 0.6506, Precision: 0.6789, Recall: 0.6506, F1 Score: 0.6295\n",
      "Validation loss decreased (2.597196 --> 2.572848).  Saving model ...\n"
     ]
    },
    {
     "name": "stderr",
     "output_type": "stream",
     "text": [
      "Training Epoch 56/100: 100%|██████████| 65/65 [03:45<00:00,  3.47s/batch]\n",
      "Validation Epoch 56/100: 100%|██████████| 9/9 [00:28<00:00,  3.11s/batch]\n"
     ]
    },
    {
     "name": "stdout",
     "output_type": "stream",
     "text": [
      "Epoch 56/100, Train Loss: 2.6109, Val Loss: 2.5487, Accuracy: 0.6535, Precision: 0.6804, Recall: 0.6535, F1 Score: 0.6323\n",
      "Validation loss decreased (2.572848 --> 2.548688).  Saving model ...\n"
     ]
    },
    {
     "name": "stderr",
     "output_type": "stream",
     "text": [
      "Training Epoch 57/100: 100%|██████████| 65/65 [03:46<00:00,  3.48s/batch]\n",
      "Validation Epoch 57/100: 100%|██████████| 9/9 [00:28<00:00,  3.11s/batch]\n"
     ]
    },
    {
     "name": "stdout",
     "output_type": "stream",
     "text": [
      "Epoch 57/100, Train Loss: 2.5894, Val Loss: 2.5244, Accuracy: 0.6579, Precision: 0.6858, Recall: 0.6579, F1 Score: 0.6367\n",
      "Validation loss decreased (2.548688 --> 2.524366).  Saving model ...\n"
     ]
    },
    {
     "name": "stderr",
     "output_type": "stream",
     "text": [
      "Training Epoch 58/100: 100%|██████████| 65/65 [03:50<00:00,  3.54s/batch]\n",
      "Validation Epoch 58/100: 100%|██████████| 9/9 [00:28<00:00,  3.18s/batch]\n"
     ]
    },
    {
     "name": "stdout",
     "output_type": "stream",
     "text": [
      "Epoch 58/100, Train Loss: 2.5712, Val Loss: 2.5018, Accuracy: 0.6594, Precision: 0.6882, Recall: 0.6594, F1 Score: 0.6388\n",
      "Validation loss decreased (2.524366 --> 2.501774).  Saving model ...\n"
     ]
    },
    {
     "name": "stderr",
     "output_type": "stream",
     "text": [
      "Training Epoch 59/100: 100%|██████████| 65/65 [03:46<00:00,  3.48s/batch]\n",
      "Validation Epoch 59/100: 100%|██████████| 9/9 [00:27<00:00,  3.05s/batch]\n"
     ]
    },
    {
     "name": "stdout",
     "output_type": "stream",
     "text": [
      "Epoch 59/100, Train Loss: 2.5445, Val Loss: 2.4788, Accuracy: 0.6623, Precision: 0.6911, Recall: 0.6623, F1 Score: 0.6422\n",
      "Validation loss decreased (2.501774 --> 2.478768).  Saving model ...\n"
     ]
    },
    {
     "name": "stderr",
     "output_type": "stream",
     "text": [
      "Training Epoch 60/100: 100%|██████████| 65/65 [03:42<00:00,  3.43s/batch]\n",
      "Validation Epoch 60/100: 100%|██████████| 9/9 [00:28<00:00,  3.13s/batch]\n"
     ]
    },
    {
     "name": "stdout",
     "output_type": "stream",
     "text": [
      "Epoch 60/100, Train Loss: 2.5296, Val Loss: 2.4568, Accuracy: 0.6667, Precision: 0.6960, Recall: 0.6667, F1 Score: 0.6481\n",
      "Validation loss decreased (2.478768 --> 2.456845).  Saving model ...\n"
     ]
    },
    {
     "name": "stderr",
     "output_type": "stream",
     "text": [
      "Training Epoch 61/100: 100%|██████████| 65/65 [03:47<00:00,  3.50s/batch]\n",
      "Validation Epoch 61/100: 100%|██████████| 9/9 [00:28<00:00,  3.16s/batch]\n"
     ]
    },
    {
     "name": "stdout",
     "output_type": "stream",
     "text": [
      "Epoch 61/100, Train Loss: 2.5124, Val Loss: 2.4337, Accuracy: 0.6686, Precision: 0.6889, Recall: 0.6686, F1 Score: 0.6481\n",
      "Validation loss decreased (2.456845 --> 2.433738).  Saving model ...\n"
     ]
    },
    {
     "name": "stderr",
     "output_type": "stream",
     "text": [
      "Training Epoch 62/100: 100%|██████████| 65/65 [03:46<00:00,  3.48s/batch]\n",
      "Validation Epoch 62/100: 100%|██████████| 9/9 [00:28<00:00,  3.22s/batch]\n"
     ]
    },
    {
     "name": "stdout",
     "output_type": "stream",
     "text": [
      "Epoch 62/100, Train Loss: 2.4737, Val Loss: 2.4122, Accuracy: 0.6686, Precision: 0.6902, Recall: 0.6686, F1 Score: 0.6490\n",
      "Validation loss decreased (2.433738 --> 2.412160).  Saving model ...\n"
     ]
    },
    {
     "name": "stderr",
     "output_type": "stream",
     "text": [
      "Training Epoch 63/100: 100%|██████████| 65/65 [03:45<00:00,  3.47s/batch]\n",
      "Validation Epoch 63/100: 100%|██████████| 9/9 [00:29<00:00,  3.23s/batch]\n"
     ]
    },
    {
     "name": "stdout",
     "output_type": "stream",
     "text": [
      "Epoch 63/100, Train Loss: 2.4611, Val Loss: 2.3906, Accuracy: 0.6730, Precision: 0.6934, Recall: 0.6730, F1 Score: 0.6526\n",
      "Validation loss decreased (2.412160 --> 2.390553).  Saving model ...\n"
     ]
    },
    {
     "name": "stderr",
     "output_type": "stream",
     "text": [
      "Training Epoch 64/100: 100%|██████████| 65/65 [03:50<00:00,  3.54s/batch]\n",
      "Validation Epoch 64/100: 100%|██████████| 9/9 [00:28<00:00,  3.22s/batch]\n"
     ]
    },
    {
     "name": "stdout",
     "output_type": "stream",
     "text": [
      "Epoch 64/100, Train Loss: 2.4420, Val Loss: 2.3697, Accuracy: 0.6778, Precision: 0.7012, Recall: 0.6778, F1 Score: 0.6590\n",
      "Validation loss decreased (2.390553 --> 2.369669).  Saving model ...\n"
     ]
    },
    {
     "name": "stderr",
     "output_type": "stream",
     "text": [
      "Training Epoch 65/100: 100%|██████████| 65/65 [03:52<00:00,  3.57s/batch]\n",
      "Validation Epoch 65/100: 100%|██████████| 9/9 [00:28<00:00,  3.18s/batch]\n"
     ]
    },
    {
     "name": "stdout",
     "output_type": "stream",
     "text": [
      "Epoch 65/100, Train Loss: 2.4220, Val Loss: 2.3492, Accuracy: 0.6774, Precision: 0.6938, Recall: 0.6774, F1 Score: 0.6575\n",
      "Validation loss decreased (2.369669 --> 2.349191).  Saving model ...\n"
     ]
    },
    {
     "name": "stderr",
     "output_type": "stream",
     "text": [
      "Training Epoch 66/100: 100%|██████████| 65/65 [03:47<00:00,  3.51s/batch]\n",
      "Validation Epoch 66/100: 100%|██████████| 9/9 [00:27<00:00,  3.05s/batch]\n"
     ]
    },
    {
     "name": "stdout",
     "output_type": "stream",
     "text": [
      "Epoch 66/100, Train Loss: 2.4010, Val Loss: 2.3295, Accuracy: 0.6827, Precision: 0.7029, Recall: 0.6827, F1 Score: 0.6637\n",
      "Validation loss decreased (2.349191 --> 2.329498).  Saving model ...\n"
     ]
    },
    {
     "name": "stderr",
     "output_type": "stream",
     "text": [
      "Training Epoch 67/100: 100%|██████████| 65/65 [03:45<00:00,  3.48s/batch]\n",
      "Validation Epoch 67/100: 100%|██████████| 9/9 [00:28<00:00,  3.16s/batch]\n"
     ]
    },
    {
     "name": "stdout",
     "output_type": "stream",
     "text": [
      "Epoch 67/100, Train Loss: 2.3757, Val Loss: 2.3092, Accuracy: 0.6817, Precision: 0.7003, Recall: 0.6817, F1 Score: 0.6621\n",
      "Validation loss decreased (2.329498 --> 2.309186).  Saving model ...\n"
     ]
    },
    {
     "name": "stderr",
     "output_type": "stream",
     "text": [
      "Training Epoch 68/100: 100%|██████████| 65/65 [03:53<00:00,  3.60s/batch]\n",
      "Validation Epoch 68/100: 100%|██████████| 9/9 [00:27<00:00,  3.09s/batch]\n"
     ]
    },
    {
     "name": "stdout",
     "output_type": "stream",
     "text": [
      "Epoch 68/100, Train Loss: 2.3693, Val Loss: 2.2899, Accuracy: 0.6832, Precision: 0.7024, Recall: 0.6832, F1 Score: 0.6651\n",
      "Validation loss decreased (2.309186 --> 2.289931).  Saving model ...\n"
     ]
    },
    {
     "name": "stderr",
     "output_type": "stream",
     "text": [
      "Training Epoch 69/100: 100%|██████████| 65/65 [03:51<00:00,  3.56s/batch]\n",
      "Validation Epoch 69/100: 100%|██████████| 9/9 [00:28<00:00,  3.15s/batch]\n"
     ]
    },
    {
     "name": "stdout",
     "output_type": "stream",
     "text": [
      "Epoch 69/100, Train Loss: 2.3524, Val Loss: 2.2707, Accuracy: 0.6851, Precision: 0.7011, Recall: 0.6851, F1 Score: 0.6658\n",
      "Validation loss decreased (2.289931 --> 2.270664).  Saving model ...\n"
     ]
    },
    {
     "name": "stderr",
     "output_type": "stream",
     "text": [
      "Training Epoch 70/100: 100%|██████████| 65/65 [03:53<00:00,  3.59s/batch]\n",
      "Validation Epoch 70/100: 100%|██████████| 9/9 [00:28<00:00,  3.12s/batch]\n"
     ]
    },
    {
     "name": "stdout",
     "output_type": "stream",
     "text": [
      "Epoch 70/100, Train Loss: 2.3304, Val Loss: 2.2523, Accuracy: 0.6890, Precision: 0.7072, Recall: 0.6890, F1 Score: 0.6709\n",
      "Validation loss decreased (2.270664 --> 2.252300).  Saving model ...\n"
     ]
    },
    {
     "name": "stderr",
     "output_type": "stream",
     "text": [
      "Training Epoch 71/100: 100%|██████████| 65/65 [03:56<00:00,  3.64s/batch]\n",
      "Validation Epoch 71/100: 100%|██████████| 9/9 [00:28<00:00,  3.19s/batch]\n"
     ]
    },
    {
     "name": "stdout",
     "output_type": "stream",
     "text": [
      "Epoch 71/100, Train Loss: 2.3133, Val Loss: 2.2341, Accuracy: 0.6905, Precision: 0.7076, Recall: 0.6905, F1 Score: 0.6728\n",
      "Validation loss decreased (2.252300 --> 2.234133).  Saving model ...\n"
     ]
    },
    {
     "name": "stderr",
     "output_type": "stream",
     "text": [
      "Training Epoch 72/100: 100%|██████████| 65/65 [03:57<00:00,  3.65s/batch]\n",
      "Validation Epoch 72/100: 100%|██████████| 9/9 [00:28<00:00,  3.11s/batch]\n"
     ]
    },
    {
     "name": "stdout",
     "output_type": "stream",
     "text": [
      "Epoch 72/100, Train Loss: 2.2970, Val Loss: 2.2159, Accuracy: 0.6910, Precision: 0.7091, Recall: 0.6910, F1 Score: 0.6740\n",
      "Validation loss decreased (2.234133 --> 2.215855).  Saving model ...\n"
     ]
    },
    {
     "name": "stderr",
     "output_type": "stream",
     "text": [
      "Training Epoch 73/100: 100%|██████████| 65/65 [03:48<00:00,  3.52s/batch]\n",
      "Validation Epoch 73/100: 100%|██████████| 9/9 [00:28<00:00,  3.13s/batch]\n"
     ]
    },
    {
     "name": "stdout",
     "output_type": "stream",
     "text": [
      "Epoch 73/100, Train Loss: 2.2874, Val Loss: 2.1987, Accuracy: 0.6929, Precision: 0.7077, Recall: 0.6929, F1 Score: 0.6758\n",
      "Validation loss decreased (2.215855 --> 2.198682).  Saving model ...\n"
     ]
    },
    {
     "name": "stderr",
     "output_type": "stream",
     "text": [
      "Training Epoch 74/100: 100%|██████████| 65/65 [03:49<00:00,  3.53s/batch]\n",
      "Validation Epoch 74/100: 100%|██████████| 9/9 [00:29<00:00,  3.25s/batch]\n"
     ]
    },
    {
     "name": "stdout",
     "output_type": "stream",
     "text": [
      "Epoch 74/100, Train Loss: 2.2544, Val Loss: 2.1809, Accuracy: 0.6939, Precision: 0.7101, Recall: 0.6939, F1 Score: 0.6770\n",
      "Validation loss decreased (2.198682 --> 2.180870).  Saving model ...\n"
     ]
    },
    {
     "name": "stderr",
     "output_type": "stream",
     "text": [
      "Training Epoch 75/100: 100%|██████████| 65/65 [03:43<00:00,  3.44s/batch]\n",
      "Validation Epoch 75/100: 100%|██████████| 9/9 [00:27<00:00,  3.11s/batch]\n"
     ]
    },
    {
     "name": "stdout",
     "output_type": "stream",
     "text": [
      "Epoch 75/100, Train Loss: 2.2358, Val Loss: 2.1643, Accuracy: 0.6963, Precision: 0.7140, Recall: 0.6963, F1 Score: 0.6804\n",
      "Validation loss decreased (2.180870 --> 2.164336).  Saving model ...\n"
     ]
    },
    {
     "name": "stderr",
     "output_type": "stream",
     "text": [
      "Training Epoch 76/100: 100%|██████████| 65/65 [03:48<00:00,  3.51s/batch]\n",
      "Validation Epoch 76/100: 100%|██████████| 9/9 [00:28<00:00,  3.12s/batch]\n"
     ]
    },
    {
     "name": "stdout",
     "output_type": "stream",
     "text": [
      "Epoch 76/100, Train Loss: 2.2337, Val Loss: 2.1469, Accuracy: 0.6987, Precision: 0.7148, Recall: 0.6987, F1 Score: 0.6827\n",
      "Validation loss decreased (2.164336 --> 2.146875).  Saving model ...\n"
     ]
    },
    {
     "name": "stderr",
     "output_type": "stream",
     "text": [
      "Training Epoch 77/100: 100%|██████████| 65/65 [03:47<00:00,  3.50s/batch]\n",
      "Validation Epoch 77/100: 100%|██████████| 9/9 [00:27<00:00,  3.03s/batch]\n"
     ]
    },
    {
     "name": "stdout",
     "output_type": "stream",
     "text": [
      "Epoch 77/100, Train Loss: 2.2167, Val Loss: 2.1312, Accuracy: 0.6958, Precision: 0.7120, Recall: 0.6958, F1 Score: 0.6788\n",
      "Validation loss decreased (2.146875 --> 2.131179).  Saving model ...\n"
     ]
    },
    {
     "name": "stderr",
     "output_type": "stream",
     "text": [
      "Training Epoch 78/100: 100%|██████████| 65/65 [03:44<00:00,  3.45s/batch]\n",
      "Validation Epoch 78/100: 100%|██████████| 9/9 [00:27<00:00,  3.03s/batch]\n"
     ]
    },
    {
     "name": "stdout",
     "output_type": "stream",
     "text": [
      "Epoch 78/100, Train Loss: 2.1909, Val Loss: 2.1145, Accuracy: 0.6973, Precision: 0.7124, Recall: 0.6973, F1 Score: 0.6804\n",
      "Validation loss decreased (2.131179 --> 2.114548).  Saving model ...\n"
     ]
    },
    {
     "name": "stderr",
     "output_type": "stream",
     "text": [
      "Training Epoch 79/100: 100%|██████████| 65/65 [03:37<00:00,  3.35s/batch]\n",
      "Validation Epoch 79/100: 100%|██████████| 9/9 [00:27<00:00,  3.02s/batch]\n"
     ]
    },
    {
     "name": "stdout",
     "output_type": "stream",
     "text": [
      "Epoch 79/100, Train Loss: 2.1833, Val Loss: 2.0995, Accuracy: 0.7007, Precision: 0.7159, Recall: 0.7007, F1 Score: 0.6843\n",
      "Validation loss decreased (2.114548 --> 2.099478).  Saving model ...\n"
     ]
    },
    {
     "name": "stderr",
     "output_type": "stream",
     "text": [
      "Training Epoch 80/100: 100%|██████████| 65/65 [03:38<00:00,  3.36s/batch]\n",
      "Validation Epoch 80/100: 100%|██████████| 9/9 [00:26<00:00,  2.99s/batch]\n"
     ]
    },
    {
     "name": "stdout",
     "output_type": "stream",
     "text": [
      "Epoch 80/100, Train Loss: 2.1818, Val Loss: 2.0843, Accuracy: 0.7031, Precision: 0.7198, Recall: 0.7031, F1 Score: 0.6882\n",
      "Validation loss decreased (2.099478 --> 2.084347).  Saving model ...\n"
     ]
    },
    {
     "name": "stderr",
     "output_type": "stream",
     "text": [
      "Training Epoch 81/100: 100%|██████████| 65/65 [03:39<00:00,  3.38s/batch]\n",
      "Validation Epoch 81/100: 100%|██████████| 9/9 [00:26<00:00,  2.99s/batch]\n"
     ]
    },
    {
     "name": "stdout",
     "output_type": "stream",
     "text": [
      "Epoch 81/100, Train Loss: 2.1485, Val Loss: 2.0688, Accuracy: 0.7017, Precision: 0.7166, Recall: 0.7017, F1 Score: 0.6863\n",
      "Validation loss decreased (2.084347 --> 2.068781).  Saving model ...\n"
     ]
    },
    {
     "name": "stderr",
     "output_type": "stream",
     "text": [
      "Training Epoch 82/100: 100%|██████████| 65/65 [03:38<00:00,  3.37s/batch]\n",
      "Validation Epoch 82/100: 100%|██████████| 9/9 [00:27<00:00,  3.01s/batch]\n"
     ]
    },
    {
     "name": "stdout",
     "output_type": "stream",
     "text": [
      "Epoch 82/100, Train Loss: 2.1345, Val Loss: 2.0537, Accuracy: 0.7021, Precision: 0.7152, Recall: 0.7021, F1 Score: 0.6866\n",
      "Validation loss decreased (2.068781 --> 2.053701).  Saving model ...\n"
     ]
    },
    {
     "name": "stderr",
     "output_type": "stream",
     "text": [
      "Training Epoch 83/100: 100%|██████████| 65/65 [03:40<00:00,  3.39s/batch]\n",
      "Validation Epoch 83/100: 100%|██████████| 9/9 [00:27<00:00,  3.04s/batch]\n"
     ]
    },
    {
     "name": "stdout",
     "output_type": "stream",
     "text": [
      "Epoch 83/100, Train Loss: 2.1324, Val Loss: 2.0384, Accuracy: 0.7041, Precision: 0.7171, Recall: 0.7041, F1 Score: 0.6889\n",
      "Validation loss decreased (2.053701 --> 2.038401).  Saving model ...\n"
     ]
    },
    {
     "name": "stderr",
     "output_type": "stream",
     "text": [
      "Training Epoch 84/100: 100%|██████████| 65/65 [03:39<00:00,  3.38s/batch]\n",
      "Validation Epoch 84/100: 100%|██████████| 9/9 [00:27<00:00,  3.02s/batch]\n"
     ]
    },
    {
     "name": "stdout",
     "output_type": "stream",
     "text": [
      "Epoch 84/100, Train Loss: 2.0912, Val Loss: 2.0238, Accuracy: 0.7046, Precision: 0.7164, Recall: 0.7046, F1 Score: 0.6891\n",
      "Validation loss decreased (2.038401 --> 2.023796).  Saving model ...\n"
     ]
    },
    {
     "name": "stderr",
     "output_type": "stream",
     "text": [
      "Training Epoch 85/100: 100%|██████████| 65/65 [03:40<00:00,  3.39s/batch]\n",
      "Validation Epoch 85/100: 100%|██████████| 9/9 [00:27<00:00,  3.05s/batch]\n"
     ]
    },
    {
     "name": "stdout",
     "output_type": "stream",
     "text": [
      "Epoch 85/100, Train Loss: 2.0918, Val Loss: 2.0092, Accuracy: 0.7089, Precision: 0.7207, Recall: 0.7089, F1 Score: 0.6937\n",
      "Validation loss decreased (2.023796 --> 2.009175).  Saving model ...\n"
     ]
    },
    {
     "name": "stderr",
     "output_type": "stream",
     "text": [
      "Training Epoch 86/100: 100%|██████████| 65/65 [03:39<00:00,  3.38s/batch]\n",
      "Validation Epoch 86/100: 100%|██████████| 9/9 [00:27<00:00,  3.02s/batch]\n"
     ]
    },
    {
     "name": "stdout",
     "output_type": "stream",
     "text": [
      "Epoch 86/100, Train Loss: 2.0659, Val Loss: 1.9951, Accuracy: 0.7089, Precision: 0.7232, Recall: 0.7089, F1 Score: 0.6939\n",
      "Validation loss decreased (2.009175 --> 1.995085).  Saving model ...\n"
     ]
    },
    {
     "name": "stderr",
     "output_type": "stream",
     "text": [
      "Training Epoch 87/100: 100%|██████████| 65/65 [03:43<00:00,  3.44s/batch]\n",
      "Validation Epoch 87/100: 100%|██████████| 9/9 [00:27<00:00,  3.08s/batch]\n"
     ]
    },
    {
     "name": "stdout",
     "output_type": "stream",
     "text": [
      "Epoch 87/100, Train Loss: 2.0482, Val Loss: 1.9813, Accuracy: 0.7119, Precision: 0.7217, Recall: 0.7119, F1 Score: 0.6965\n",
      "Validation loss decreased (1.995085 --> 1.981348).  Saving model ...\n"
     ]
    },
    {
     "name": "stderr",
     "output_type": "stream",
     "text": [
      "Training Epoch 88/100: 100%|██████████| 65/65 [03:40<00:00,  3.39s/batch]\n",
      "Validation Epoch 88/100: 100%|██████████| 9/9 [00:27<00:00,  3.01s/batch]\n"
     ]
    },
    {
     "name": "stdout",
     "output_type": "stream",
     "text": [
      "Epoch 88/100, Train Loss: 2.0533, Val Loss: 1.9678, Accuracy: 0.7114, Precision: 0.7237, Recall: 0.7114, F1 Score: 0.6968\n",
      "Validation loss decreased (1.981348 --> 1.967846).  Saving model ...\n"
     ]
    },
    {
     "name": "stderr",
     "output_type": "stream",
     "text": [
      "Training Epoch 89/100: 100%|██████████| 65/65 [03:42<00:00,  3.42s/batch]\n",
      "Validation Epoch 89/100: 100%|██████████| 9/9 [00:27<00:00,  3.02s/batch]\n"
     ]
    },
    {
     "name": "stdout",
     "output_type": "stream",
     "text": [
      "Epoch 89/100, Train Loss: 2.0335, Val Loss: 1.9542, Accuracy: 0.7128, Precision: 0.7248, Recall: 0.7128, F1 Score: 0.6987\n",
      "Validation loss decreased (1.967846 --> 1.954202).  Saving model ...\n"
     ]
    },
    {
     "name": "stderr",
     "output_type": "stream",
     "text": [
      "Training Epoch 90/100: 100%|██████████| 65/65 [03:45<00:00,  3.48s/batch]\n",
      "Validation Epoch 90/100: 100%|██████████| 9/9 [00:27<00:00,  3.04s/batch]\n"
     ]
    },
    {
     "name": "stdout",
     "output_type": "stream",
     "text": [
      "Epoch 90/100, Train Loss: 2.0267, Val Loss: 1.9422, Accuracy: 0.7148, Precision: 0.7286, Recall: 0.7148, F1 Score: 0.7018\n",
      "Validation loss decreased (1.954202 --> 1.942165).  Saving model ...\n"
     ]
    },
    {
     "name": "stderr",
     "output_type": "stream",
     "text": [
      "Training Epoch 91/100: 100%|██████████| 65/65 [03:44<00:00,  3.46s/batch]\n",
      "Validation Epoch 91/100: 100%|██████████| 9/9 [00:28<00:00,  3.17s/batch]\n"
     ]
    },
    {
     "name": "stdout",
     "output_type": "stream",
     "text": [
      "Epoch 91/100, Train Loss: 2.0076, Val Loss: 1.9289, Accuracy: 0.7157, Precision: 0.7294, Recall: 0.7157, F1 Score: 0.7033\n",
      "Validation loss decreased (1.942165 --> 1.928864).  Saving model ...\n"
     ]
    },
    {
     "name": "stderr",
     "output_type": "stream",
     "text": [
      "Training Epoch 92/100: 100%|██████████| 65/65 [03:48<00:00,  3.51s/batch]\n",
      "Validation Epoch 92/100: 100%|██████████| 9/9 [00:28<00:00,  3.13s/batch]\n"
     ]
    },
    {
     "name": "stdout",
     "output_type": "stream",
     "text": [
      "Epoch 92/100, Train Loss: 2.0126, Val Loss: 1.9167, Accuracy: 0.7153, Precision: 0.7272, Recall: 0.7153, F1 Score: 0.7021\n",
      "Validation loss decreased (1.928864 --> 1.916660).  Saving model ...\n"
     ]
    },
    {
     "name": "stderr",
     "output_type": "stream",
     "text": [
      "Training Epoch 93/100: 100%|██████████| 65/65 [03:45<00:00,  3.47s/batch]\n",
      "Validation Epoch 93/100: 100%|██████████| 9/9 [00:27<00:00,  3.09s/batch]\n"
     ]
    },
    {
     "name": "stdout",
     "output_type": "stream",
     "text": [
      "Epoch 93/100, Train Loss: 1.9801, Val Loss: 1.9043, Accuracy: 0.7157, Precision: 0.7282, Recall: 0.7157, F1 Score: 0.7033\n",
      "Validation loss decreased (1.916660 --> 1.904298).  Saving model ...\n"
     ]
    },
    {
     "name": "stderr",
     "output_type": "stream",
     "text": [
      "Training Epoch 94/100: 100%|██████████| 65/65 [03:48<00:00,  3.52s/batch]\n",
      "Validation Epoch 94/100: 100%|██████████| 9/9 [00:28<00:00,  3.17s/batch]\n"
     ]
    },
    {
     "name": "stdout",
     "output_type": "stream",
     "text": [
      "Epoch 94/100, Train Loss: 1.9850, Val Loss: 1.8920, Accuracy: 0.7162, Precision: 0.7314, Recall: 0.7162, F1 Score: 0.7044\n",
      "Validation loss decreased (1.904298 --> 1.891970).  Saving model ...\n"
     ]
    },
    {
     "name": "stderr",
     "output_type": "stream",
     "text": [
      "Training Epoch 95/100: 100%|██████████| 65/65 [03:47<00:00,  3.49s/batch]\n",
      "Validation Epoch 95/100: 100%|██████████| 9/9 [00:28<00:00,  3.15s/batch]\n"
     ]
    },
    {
     "name": "stdout",
     "output_type": "stream",
     "text": [
      "Epoch 95/100, Train Loss: 1.9513, Val Loss: 1.8796, Accuracy: 0.7201, Precision: 0.7348, Recall: 0.7201, F1 Score: 0.7095\n",
      "Validation loss decreased (1.891970 --> 1.879576).  Saving model ...\n"
     ]
    },
    {
     "name": "stderr",
     "output_type": "stream",
     "text": [
      "Training Epoch 96/100: 100%|██████████| 65/65 [03:40<00:00,  3.39s/batch]\n",
      "Validation Epoch 96/100: 100%|██████████| 9/9 [00:27<00:00,  3.04s/batch]\n"
     ]
    },
    {
     "name": "stdout",
     "output_type": "stream",
     "text": [
      "Epoch 96/100, Train Loss: 1.9513, Val Loss: 1.8672, Accuracy: 0.7196, Precision: 0.7335, Recall: 0.7196, F1 Score: 0.7088\n",
      "Validation loss decreased (1.879576 --> 1.867231).  Saving model ...\n"
     ]
    },
    {
     "name": "stderr",
     "output_type": "stream",
     "text": [
      "Training Epoch 97/100: 100%|██████████| 65/65 [03:47<00:00,  3.49s/batch]\n",
      "Validation Epoch 97/100: 100%|██████████| 9/9 [00:29<00:00,  3.22s/batch]\n"
     ]
    },
    {
     "name": "stdout",
     "output_type": "stream",
     "text": [
      "Epoch 97/100, Train Loss: 1.9566, Val Loss: 1.8553, Accuracy: 0.7191, Precision: 0.7322, Recall: 0.7191, F1 Score: 0.7076\n",
      "Validation loss decreased (1.867231 --> 1.855285).  Saving model ...\n"
     ]
    },
    {
     "name": "stderr",
     "output_type": "stream",
     "text": [
      "Training Epoch 98/100: 100%|██████████| 65/65 [03:46<00:00,  3.49s/batch]\n",
      "Validation Epoch 98/100: 100%|██████████| 9/9 [00:27<00:00,  3.10s/batch]\n"
     ]
    },
    {
     "name": "stdout",
     "output_type": "stream",
     "text": [
      "Epoch 98/100, Train Loss: 1.9388, Val Loss: 1.8449, Accuracy: 0.7221, Precision: 0.7366, Recall: 0.7221, F1 Score: 0.7111\n",
      "Validation loss decreased (1.855285 --> 1.844908).  Saving model ...\n"
     ]
    },
    {
     "name": "stderr",
     "output_type": "stream",
     "text": [
      "Training Epoch 99/100: 100%|██████████| 65/65 [03:45<00:00,  3.47s/batch]\n",
      "Validation Epoch 99/100: 100%|██████████| 9/9 [00:28<00:00,  3.17s/batch]\n"
     ]
    },
    {
     "name": "stdout",
     "output_type": "stream",
     "text": [
      "Epoch 99/100, Train Loss: 1.9221, Val Loss: 1.8332, Accuracy: 0.7216, Precision: 0.7356, Recall: 0.7216, F1 Score: 0.7109\n",
      "Validation loss decreased (1.844908 --> 1.833241).  Saving model ...\n"
     ]
    },
    {
     "name": "stderr",
     "output_type": "stream",
     "text": [
      "Training Epoch 100/100: 100%|██████████| 65/65 [03:46<00:00,  3.48s/batch]\n",
      "Validation Epoch 100/100: 100%|██████████| 9/9 [00:28<00:00,  3.14s/batch]\n"
     ]
    },
    {
     "name": "stdout",
     "output_type": "stream",
     "text": [
      "Epoch 100/100, Train Loss: 1.9186, Val Loss: 1.8224, Accuracy: 0.7206, Precision: 0.7322, Recall: 0.7206, F1 Score: 0.7095\n",
      "Validation loss decreased (1.833241 --> 1.822419).  Saving model ...\n"
     ]
    },
    {
     "name": "stderr",
     "output_type": "stream",
     "text": [
      "Testing: 100%|██████████| 9/9 [00:27<00:00,  3.06s/batch]\n"
     ]
    },
    {
     "name": "stdout",
     "output_type": "stream",
     "text": [
      "Test Loss: 1.8990, Accuracy: 0.7225, Precision: 0.7468, Recall: 0.7225, F1 Score: 0.7111\n"
     ]
    }
   ],
   "source": [
    "# User-specified model\n",
    "#428m 31.7s\n",
    "model_name = \"swin_tiny_patch4_window7_224\"  # Replace this with your desired model name\n",
    "do_transfer_learning(model_name=model_name)\n"
   ]
  },
  {
   "cell_type": "code",
   "execution_count": null,
   "metadata": {},
   "outputs": [],
   "source": []
  }
 ],
 "metadata": {
  "kernelspec": {
   "display_name": "finegrainedclassifcation",
   "language": "python",
   "name": "python3"
  },
  "language_info": {
   "codemirror_mode": {
    "name": "ipython",
    "version": 3
   },
   "file_extension": ".py",
   "mimetype": "text/x-python",
   "name": "python",
   "nbconvert_exporter": "python",
   "pygments_lexer": "ipython3",
   "version": "3.1.-1"
  }
 },
 "nbformat": 4,
 "nbformat_minor": 2
}
